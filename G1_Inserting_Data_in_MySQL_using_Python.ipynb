{
  "nbformat": 4,
  "nbformat_minor": 0,
  "metadata": {
    "kernelspec": {
      "display_name": "Python 3",
      "language": "python",
      "name": "python3"
    },
    "language_info": {
      "codemirror_mode": {
        "name": "ipython",
        "version": 3
      },
      "file_extension": ".py",
      "mimetype": "text/x-python",
      "name": "python",
      "nbconvert_exporter": "python",
      "pygments_lexer": "ipython3",
      "version": "3.6.8"
    },
    "colab": {
      "name": "G1-Inserting_Data_in_MySQL_using_Python.ipynb",
      "provenance": [],
      "include_colab_link": true
    }
  },
  "cells": [
    {
      "cell_type": "markdown",
      "metadata": {
        "id": "view-in-github",
        "colab_type": "text"
      },
      "source": [
        "<a href=\"https://colab.research.google.com/github/nhwhite212/DealingwithDataSpring2021/blob/master/G1_Inserting_Data_in_MySQL_using_Python.ipynb\" target=\"_parent\"><img src=\"https://colab.research.google.com/assets/colab-badge.svg\" alt=\"Open In Colab\"/></a>"
      ]
    },
    {
      "cell_type": "markdown",
      "metadata": {
        "id": "6WNK7XG8eUyR"
      },
      "source": [
        "## Inserting data in MySQL using Python\n",
        "\n",
        "First let's start with a basic piece of code that fetches the data that we want to insert in the database. For our example, we will get the data about the Citibike stations, using the correspoding API call provided by the Citibike website:"
      ]
    },
    {
      "cell_type": "code",
      "metadata": {
        "id": "_pdC2hDOeUyT"
      },
      "source": [
        "import requests"
      ],
      "execution_count": null,
      "outputs": []
    },
    {
      "cell_type": "code",
      "metadata": {
        "id": "rfFGmqWGeUyU"
      },
      "source": [
        "# Let's get the most recent data from the Citibike API\n",
        "url = 'http://www.citibikenyc.com/stations/json'\n",
        "results = requests.get(url).json() \n",
        "print(results)"
      ],
      "execution_count": null,
      "outputs": []
    },
    {
      "cell_type": "code",
      "metadata": {
        "id": "eF5wz1LJeUyV"
      },
      "source": [
        "# We only need a subset of the data in the JSON returned by the Citibike API, so we keep only we need\n",
        "print(results.keys())\n",
        "print()\n",
        "data = results[\"stationBeanList\"]\n",
        "print(data[0:3])"
      ],
      "execution_count": null,
      "outputs": []
    },
    {
      "cell_type": "code",
      "metadata": {
        "id": "NrhEOsEleUyV"
      },
      "source": [
        "len(data)"
      ],
      "execution_count": null,
      "outputs": []
    },
    {
      "cell_type": "markdown",
      "metadata": {
        "id": "k4vaX_wYeUyW"
      },
      "source": [
        "Now we will connect to our MySQL server. We will use the MySQLdb library of Python.\n",
        "\n",
        "If you do not have the library, you need to install it by typing in the shell:\n",
        "\n",
        "`sudo apt-get install python-mysqldb`\n"
      ]
    },
    {
      "cell_type": "code",
      "metadata": {
        "id": "bqLT-6OEejsY"
      },
      "source": [
        "!sudo apt-get install -y python-dev libmysqlclient-dev && sudo pip install mysqlclient"
      ],
      "execution_count": null,
      "outputs": []
    },
    {
      "cell_type": "code",
      "metadata": {
        "id": "wihCqgWJeUyX"
      },
      "source": [
        "import MySQLdb as mdb\n",
        "\n",
        "#con = mdb.connect(host = 'localhost', \n",
        "#                  user = 'root', \n",
        "#                  passwd = 'dwdstudent2015', \n",
        "#                  charset='utf8', use_unicode=True);\n",
        "\n",
        "\n",
        "con = mdb.connect(host = 'bigdata.stern.nyu.edu', \n",
        "                  user = 'DealingS21',                  \n",
        "                  passwd = 'DealingS21!!', \n",
        "                  charset='utf8', use_unicode=True);"
      ],
      "execution_count": null,
      "outputs": []
    },
    {
      "cell_type": "markdown",
      "metadata": {
        "id": "KghHbe2zeUyX"
      },
      "source": [
        "Once we have connected successfully, we need to create our database:"
      ]
    },
    {
      "cell_type": "code",
      "metadata": {
        "id": "t_wHS40LeUyX"
      },
      "source": [
        "# Query to create a database\n",
        "db_name = 'citibike_mysql_test'\n",
        "# Need to drop database since the not exists option doesn't sem to work\n",
        "db_drop =\"drop database {db} \".format(db=db_name)\n",
        "cursor=con.cursor()\n",
        "cursor.execute(db_drop)\n",
        "cursor.close()"
      ],
      "execution_count": null,
      "outputs": []
    },
    {
      "cell_type": "code",
      "metadata": {
        "id": "k2f-nv-yeUyY"
      },
      "source": [
        "create_db_query = \"CREATE DATABASE IF NOT EXISTS {db} DEFAULT CHARACTER SET 'utf8'\".format(db=db_name)\n",
        "\n",
        "# Create a database\n",
        "cursor = con.cursor()\n",
        "cursor.execute(create_db_query)\n",
        "cursor.close()"
      ],
      "execution_count": null,
      "outputs": []
    },
    {
      "cell_type": "markdown",
      "metadata": {
        "id": "wSOViV_7eUyZ"
      },
      "source": [
        "Then we create the table where we will store our data. For our example, we will just import three fields in the database: station_id, station_name, and number_of_docks"
      ]
    },
    {
      "cell_type": "code",
      "metadata": {
        "id": "X0I1M6j5eUyb"
      },
      "source": [
        "cursor = con.cursor()\n",
        "table_name = 'Docks'\n",
        "# Create a table\n",
        "# Drop it if it exists\n",
        "#create_drop_docks=''' drop table {db}.{table}'''.format(db=db_name,table=table_name)\n",
        "#cursor.execute(create_drop_docks)\n",
        "\n",
        "# The {db} and {table} are placeholders for the parameters in the format(....) statement\n",
        "create_table_query = '''CREATE TABLE IF NOT EXISTS {db}.{table} \n",
        "                                (station_id int, \n",
        "                                station_name varchar(250), \n",
        "                                number_of_docks int,\n",
        "                                available_docks int,\n",
        "                                date datetime,\n",
        "                                PRIMARY KEY(station_id, date)\n",
        "                                )'''.format(db=db_name, table=table_name)\n",
        "cursor.execute(create_table_query)\n",
        "cursor.close()"
      ],
      "execution_count": null,
      "outputs": []
    },
    {
      "cell_type": "markdown",
      "metadata": {
        "id": "BAaarcvIeUyb"
      },
      "source": [
        "Finally, we import the data into our table, using the INSERT command. "
      ]
    },
    {
      "cell_type": "code",
      "metadata": {
        "id": "vQbhJPakeUyb"
      },
      "source": [
        "from datetime import date, datetime, timedelta\n",
        "\n",
        "\n",
        "query_template = '''INSERT INTO {db}.{table}(station_id, \n",
        "                                            station_name, \n",
        "                                            number_of_docks, \n",
        "                                            available_docks, \n",
        "                                            date) \n",
        "                    VALUES (%s, %s, %s, %s, %s)'''.format(db=db_name, table=table_name)\n",
        "cursor = con.cursor()\n",
        "\n",
        "# THIS IS PROHIBITED\n",
        "# query = \"INSERT INTO citibike.Docks(station_id, station_name, number_of_docks) VALUES (\"+entry[\"id\"]+\", \"+entry[\"stationName\"]+\", \"+entry[\"totalDocks\"]+\")\"\n",
        "for entry in data:\n",
        "    dockid = entry[\"id\"]\n",
        "    addr = entry[\"stationName\"]\n",
        "    docks = entry[\"totalDocks\"]\n",
        "    available = entry[\"availableDocks\"]\n",
        "    # date =  datetime.now()\n",
        "    # lastcommunicationtime is a string of \n",
        "    # the form \"2016-02-09 10:16:49 AM\"\n",
        "    # See https://docs.python.org/2/library/datetime.html#strftime-and-strptime-behavior\n",
        "    # to see the documentation on how to parse \n",
        "    date = datetime.strptime(entry[\"lastCommunicationTime\"], \n",
        "                             '%Y-%m-%d %I:%M:%S %p')\n",
        "    print(\"Inserting station\", dockid, \"at\", addr)\n",
        "    query_parameters = (dockid, addr, docks, available, date)\n",
        "    cursor.execute(query_template, query_parameters)\n",
        "# commit the changes\n",
        "\n",
        "con.commit()\n",
        "cursor.close()"
      ],
      "execution_count": null,
      "outputs": []
    },
    {
      "cell_type": "code",
      "metadata": {
        "scrolled": false,
        "id": "2HZrfk8jeUyc"
      },
      "source": [
        "cur = con.cursor(mdb.cursors.DictCursor)\n",
        "cur.execute(\"SELECT * FROM {db}.{table}\".format(db=db_name, table=table_name))\n",
        "print(cur.execute)\n",
        "rows = cur.fetchall()\n",
        "cur.close()"
      ],
      "execution_count": null,
      "outputs": []
    },
    {
      "cell_type": "code",
      "metadata": {
        "id": "E-90W1IIeUyd"
      },
      "source": [
        "for row in rows:\n",
        "    print(\"Station ID:\", row[\"station_id\"])\n",
        "    print(\"Station Name:\", row[\"station_name\"])\n",
        "    print(\"Number of Docks:\", row[\"number_of_docks\"])\n",
        "    print(\"Available Docks:\", row[\"available_docks\"])\n",
        "    print(\"Last Communication:\", row[\"date\"])\n",
        "    print(\"=============================================\")\n",
        "    \n"
      ],
      "execution_count": null,
      "outputs": []
    },
    {
      "cell_type": "code",
      "metadata": {
        "id": "Xa43SqTneUyd"
      },
      "source": [
        ""
      ],
      "execution_count": null,
      "outputs": []
    },
    {
      "cell_type": "markdown",
      "metadata": {
        "id": "eN3yzOTgeUyd"
      },
      "source": [
        "We can, of course, transform the results back into a DataFrame (see below) or we can use the data directly from the rows object (which is a tuple, containing one dictionary object for each line of the results)."
      ]
    },
    {
      "cell_type": "code",
      "metadata": {
        "id": "zmJU7aDBeUyd"
      },
      "source": [
        "import pandas as pd\n",
        "cur = con.cursor(mdb.cursors.DictCursor)\n",
        "cur.execute(\"SELECT * FROM {db}.{table}\".format(db=db_name, table=table_name))\n",
        "rows = cur.fetchall()\n",
        "cur.close()"
      ],
      "execution_count": null,
      "outputs": []
    },
    {
      "cell_type": "code",
      "metadata": {
        "id": "snkJE_YGeUyd"
      },
      "source": [
        "df_from_sql = pd.DataFrame(list(rows))\n",
        "df_from_sql"
      ],
      "execution_count": null,
      "outputs": []
    },
    {
      "cell_type": "code",
      "metadata": {
        "id": "6k5ryZtEeUye"
      },
      "source": [
        "# We can then compute functions directly on the dataframe\n",
        "sum(df_from_sql[\"number_of_docks\"])"
      ],
      "execution_count": null,
      "outputs": []
    },
    {
      "cell_type": "code",
      "metadata": {
        "id": "dUXtbcz0eUye"
      },
      "source": [
        "# We can then compute functions directly on the dataframe\n",
        "sum(df_from_sql[\"available_docks\"])"
      ],
      "execution_count": null,
      "outputs": []
    },
    {
      "cell_type": "code",
      "metadata": {
        "id": "-E2uDZL3eUye"
      },
      "source": [
        "# And we can also create \n",
        "df_from_sql[\"bikes_docked\"] = df_from_sql[\"number_of_docks\"] - df_from_sql[\"available_docks\"]"
      ],
      "execution_count": null,
      "outputs": []
    },
    {
      "cell_type": "code",
      "metadata": {
        "id": "reabA6yoeUye"
      },
      "source": [
        "sum(df_from_sql['bikes_docked'])"
      ],
      "execution_count": null,
      "outputs": []
    },
    {
      "cell_type": "markdown",
      "metadata": {
        "id": "zTyHIsrFeUyg"
      },
      "source": [
        "Finally, let's clean up and close our database connection."
      ]
    },
    {
      "cell_type": "code",
      "metadata": {
        "id": "_iN7TPsJeUyg"
      },
      "source": [
        "drop_db_query = \"DROP DATABASE {db} \".format(db=db_name)\n",
        "\n",
        "# Drop a database\n",
        "cursor = con.cursor()\n",
        "cursor.execute(drop_db_query)\n",
        "cursor.close()\n"
      ],
      "execution_count": null,
      "outputs": []
    },
    {
      "cell_type": "code",
      "metadata": {
        "id": "ts7Y-rgYeUyg"
      },
      "source": [
        "con.close()\n",
        "\n"
      ],
      "execution_count": null,
      "outputs": []
    },
    {
      "cell_type": "markdown",
      "metadata": {
        "id": "EoC6cKIBflOY"
      },
      "source": [
        "#### As you can see, it is relatively straightforward to move data to and from a relational database in python."
      ]
    },
    {
      "cell_type": "code",
      "metadata": {
        "id": "bKzgMAlCfvzV"
      },
      "source": [
        ""
      ],
      "execution_count": null,
      "outputs": []
    }
  ]
}