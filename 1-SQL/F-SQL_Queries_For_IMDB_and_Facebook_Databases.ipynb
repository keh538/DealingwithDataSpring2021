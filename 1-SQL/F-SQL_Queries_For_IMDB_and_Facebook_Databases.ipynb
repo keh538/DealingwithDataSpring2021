{
  "nbformat": 4,
  "nbformat_minor": 0,
  "metadata": {
    "kernelspec": {
      "display_name": "Python 3",
      "language": "python",
      "name": "python3"
    },
    "language_info": {
      "codemirror_mode": {
        "name": "ipython",
        "version": 3
      },
      "file_extension": ".py",
      "mimetype": "text/x-python",
      "name": "python",
      "nbconvert_exporter": "python",
      "pygments_lexer": "ipython3",
      "version": "3.6.8"
    },
    "colab": {
      "name": "F-SQL_Queries_For_IMDB_and_Facebook_Databases-checkpoint.ipynb",
      "provenance": []
    }
  },
  "cells": [
    {
      "cell_type": "markdown",
      "metadata": {
        "id": "kZLDbS9QvLQZ"
      },
      "source": [
        "## SQL Queries\n",
        "\n",
        "To be able to execute SQL queries from within a Jupyter notebook, we will use the `sql_magic` extension (https://github.com/pivotal/sql_magic)\n",
        "\n",
        "    sudo pip3 install -U sql_magic"
      ]
    },
    {
      "cell_type": "code",
      "metadata": {
        "colab": {
          "base_uri": "https://localhost:8080/"
        },
        "id": "SuisppUrvLQa",
        "outputId": "1e53c35f-09c9-4289-fe56-6903dca38646"
      },
      "source": [
        "pip install -U sql_magic\n"
      ],
      "execution_count": 1,
      "outputs": [
        {
          "output_type": "stream",
          "text": [
            "Collecting sql_magic\n",
            "  Downloading https://files.pythonhosted.org/packages/a6/a7/ccdc67278de3f34db5d484f9b6c59ad9a536beda4a5acad5ecb3b0932246/sql_magic-0.0.4-py3-none-any.whl\n",
            "Requirement already satisfied, skipping upgrade: ipython in /usr/local/lib/python3.7/dist-packages (from sql_magic) (5.5.0)\n",
            "Requirement already satisfied, skipping upgrade: jupyter in /usr/local/lib/python3.7/dist-packages (from sql_magic) (1.0.0)\n",
            "Collecting findspark\n",
            "  Downloading https://files.pythonhosted.org/packages/fc/2d/2e39f9a023479ea798eed4351cd66f163ce61e00c717e03c37109f00c0f2/findspark-1.4.2-py2.py3-none-any.whl\n",
            "Requirement already satisfied, skipping upgrade: sqlparse in /usr/local/lib/python3.7/dist-packages (from sql_magic) (0.4.1)\n",
            "Requirement already satisfied, skipping upgrade: traitlets in /usr/local/lib/python3.7/dist-packages (from sql_magic) (5.0.5)\n",
            "Requirement already satisfied, skipping upgrade: pandas in /usr/local/lib/python3.7/dist-packages (from sql_magic) (1.1.5)\n",
            "Requirement already satisfied, skipping upgrade: pickleshare in /usr/local/lib/python3.7/dist-packages (from ipython->sql_magic) (0.7.5)\n",
            "Requirement already satisfied, skipping upgrade: pygments in /usr/local/lib/python3.7/dist-packages (from ipython->sql_magic) (2.6.1)\n",
            "Requirement already satisfied, skipping upgrade: pexpect; sys_platform != \"win32\" in /usr/local/lib/python3.7/dist-packages (from ipython->sql_magic) (4.8.0)\n",
            "Requirement already satisfied, skipping upgrade: decorator in /usr/local/lib/python3.7/dist-packages (from ipython->sql_magic) (4.4.2)\n",
            "Requirement already satisfied, skipping upgrade: prompt-toolkit<2.0.0,>=1.0.4 in /usr/local/lib/python3.7/dist-packages (from ipython->sql_magic) (1.0.18)\n",
            "Requirement already satisfied, skipping upgrade: setuptools>=18.5 in /usr/local/lib/python3.7/dist-packages (from ipython->sql_magic) (54.0.0)\n",
            "Requirement already satisfied, skipping upgrade: simplegeneric>0.8 in /usr/local/lib/python3.7/dist-packages (from ipython->sql_magic) (0.8.1)\n",
            "Requirement already satisfied, skipping upgrade: qtconsole in /usr/local/lib/python3.7/dist-packages (from jupyter->sql_magic) (5.0.2)\n",
            "Requirement already satisfied, skipping upgrade: jupyter-console in /usr/local/lib/python3.7/dist-packages (from jupyter->sql_magic) (5.2.0)\n",
            "Requirement already satisfied, skipping upgrade: notebook in /usr/local/lib/python3.7/dist-packages (from jupyter->sql_magic) (5.3.1)\n",
            "Requirement already satisfied, skipping upgrade: nbconvert in /usr/local/lib/python3.7/dist-packages (from jupyter->sql_magic) (5.6.1)\n",
            "Requirement already satisfied, skipping upgrade: ipywidgets in /usr/local/lib/python3.7/dist-packages (from jupyter->sql_magic) (7.6.3)\n",
            "Requirement already satisfied, skipping upgrade: ipykernel in /usr/local/lib/python3.7/dist-packages (from jupyter->sql_magic) (4.10.1)\n",
            "Requirement already satisfied, skipping upgrade: ipython-genutils in /usr/local/lib/python3.7/dist-packages (from traitlets->sql_magic) (0.2.0)\n",
            "Requirement already satisfied, skipping upgrade: python-dateutil>=2.7.3 in /usr/local/lib/python3.7/dist-packages (from pandas->sql_magic) (2.8.1)\n",
            "Requirement already satisfied, skipping upgrade: numpy>=1.15.4 in /usr/local/lib/python3.7/dist-packages (from pandas->sql_magic) (1.19.5)\n",
            "Requirement already satisfied, skipping upgrade: pytz>=2017.2 in /usr/local/lib/python3.7/dist-packages (from pandas->sql_magic) (2018.9)\n",
            "Requirement already satisfied, skipping upgrade: ptyprocess>=0.5 in /usr/local/lib/python3.7/dist-packages (from pexpect; sys_platform != \"win32\"->ipython->sql_magic) (0.7.0)\n",
            "Requirement already satisfied, skipping upgrade: wcwidth in /usr/local/lib/python3.7/dist-packages (from prompt-toolkit<2.0.0,>=1.0.4->ipython->sql_magic) (0.2.5)\n",
            "Requirement already satisfied, skipping upgrade: six>=1.9.0 in /usr/local/lib/python3.7/dist-packages (from prompt-toolkit<2.0.0,>=1.0.4->ipython->sql_magic) (1.15.0)\n",
            "Requirement already satisfied, skipping upgrade: jupyter-core in /usr/local/lib/python3.7/dist-packages (from qtconsole->jupyter->sql_magic) (4.7.1)\n",
            "Requirement already satisfied, skipping upgrade: pyzmq>=17.1 in /usr/local/lib/python3.7/dist-packages (from qtconsole->jupyter->sql_magic) (22.0.3)\n",
            "Requirement already satisfied, skipping upgrade: qtpy in /usr/local/lib/python3.7/dist-packages (from qtconsole->jupyter->sql_magic) (1.9.0)\n",
            "Requirement already satisfied, skipping upgrade: jupyter-client>=4.1 in /usr/local/lib/python3.7/dist-packages (from qtconsole->jupyter->sql_magic) (5.3.5)\n",
            "Requirement already satisfied, skipping upgrade: nbformat in /usr/local/lib/python3.7/dist-packages (from notebook->jupyter->sql_magic) (5.1.2)\n",
            "Requirement already satisfied, skipping upgrade: tornado>=4 in /usr/local/lib/python3.7/dist-packages (from notebook->jupyter->sql_magic) (5.1.1)\n",
            "Requirement already satisfied, skipping upgrade: Send2Trash in /usr/local/lib/python3.7/dist-packages (from notebook->jupyter->sql_magic) (1.5.0)\n",
            "Requirement already satisfied, skipping upgrade: jinja2 in /usr/local/lib/python3.7/dist-packages (from notebook->jupyter->sql_magic) (2.11.3)\n",
            "Requirement already satisfied, skipping upgrade: terminado>=0.8.1 in /usr/local/lib/python3.7/dist-packages (from notebook->jupyter->sql_magic) (0.9.2)\n",
            "Requirement already satisfied, skipping upgrade: mistune<2,>=0.8.1 in /usr/local/lib/python3.7/dist-packages (from nbconvert->jupyter->sql_magic) (0.8.4)\n",
            "Requirement already satisfied, skipping upgrade: testpath in /usr/local/lib/python3.7/dist-packages (from nbconvert->jupyter->sql_magic) (0.4.4)\n",
            "Requirement already satisfied, skipping upgrade: bleach in /usr/local/lib/python3.7/dist-packages (from nbconvert->jupyter->sql_magic) (3.3.0)\n",
            "Requirement already satisfied, skipping upgrade: defusedxml in /usr/local/lib/python3.7/dist-packages (from nbconvert->jupyter->sql_magic) (0.6.0)\n",
            "Requirement already satisfied, skipping upgrade: pandocfilters>=1.4.1 in /usr/local/lib/python3.7/dist-packages (from nbconvert->jupyter->sql_magic) (1.4.3)\n",
            "Requirement already satisfied, skipping upgrade: entrypoints>=0.2.2 in /usr/local/lib/python3.7/dist-packages (from nbconvert->jupyter->sql_magic) (0.3)\n",
            "Requirement already satisfied, skipping upgrade: jupyterlab-widgets>=1.0.0; python_version >= \"3.6\" in /usr/local/lib/python3.7/dist-packages (from ipywidgets->jupyter->sql_magic) (1.0.0)\n",
            "Requirement already satisfied, skipping upgrade: widgetsnbextension~=3.5.0 in /usr/local/lib/python3.7/dist-packages (from ipywidgets->jupyter->sql_magic) (3.5.1)\n",
            "Requirement already satisfied, skipping upgrade: jsonschema!=2.5.0,>=2.4 in /usr/local/lib/python3.7/dist-packages (from nbformat->notebook->jupyter->sql_magic) (2.6.0)\n",
            "Requirement already satisfied, skipping upgrade: MarkupSafe>=0.23 in /usr/local/lib/python3.7/dist-packages (from jinja2->notebook->jupyter->sql_magic) (1.1.1)\n",
            "Requirement already satisfied, skipping upgrade: packaging in /usr/local/lib/python3.7/dist-packages (from bleach->nbconvert->jupyter->sql_magic) (20.9)\n",
            "Requirement already satisfied, skipping upgrade: webencodings in /usr/local/lib/python3.7/dist-packages (from bleach->nbconvert->jupyter->sql_magic) (0.5.1)\n",
            "Requirement already satisfied, skipping upgrade: pyparsing>=2.0.2 in /usr/local/lib/python3.7/dist-packages (from packaging->bleach->nbconvert->jupyter->sql_magic) (2.4.7)\n",
            "Installing collected packages: findspark, sql-magic\n",
            "Successfully installed findspark-1.4.2 sql-magic-0.0.4\n"
          ],
          "name": "stdout"
        }
      ]
    },
    {
      "cell_type": "code",
      "metadata": {
        "id": "TAmpqb3TxEhp",
        "colab": {
          "base_uri": "https://localhost:8080/"
        },
        "outputId": "d17c72f5-6ee3-432b-f8f7-212ba1ba266a"
      },
      "source": [
        "pip install mysqlclient"
      ],
      "execution_count": 3,
      "outputs": [
        {
          "output_type": "stream",
          "text": [
            "Requirement already satisfied: mysqlclient in /usr/local/lib/python3.7/dist-packages (2.0.3)\n"
          ],
          "name": "stdout"
        }
      ]
    },
    {
      "cell_type": "code",
      "metadata": {
        "id": "P6CnZKnovLQc"
      },
      "source": [
        "from sqlalchemy import create_engine"
      ],
      "execution_count": 4,
      "outputs": []
    },
    {
      "cell_type": "code",
      "metadata": {
        "id": "d7HdrmBivLQd"
      },
      "source": [
        "conn_string = 'mysql://{user}:{password}@{host}/?charset=utf8'.format(\n",
        "    host = 'db.ipeirotis.org', \n",
        "    user = 'student',\n",
        "    password = 'dwdstudent2015',\n",
        "    encoding = 'utf-8')\n",
        "engine = create_engine(conn_string)"
      ],
      "execution_count": 5,
      "outputs": []
    },
    {
      "cell_type": "code",
      "metadata": {
        "colab": {
          "base_uri": "https://localhost:8080/",
          "height": 74
        },
        "id": "A7ZHv-iivLQd",
        "outputId": "545ef6e8-c98d-4d6d-d59f-7f19ea77f63c"
      },
      "source": [
        "%reload_ext sql_magic"
      ],
      "execution_count": 6,
      "outputs": [
        {
          "output_type": "stream",
          "text": [
            "/usr/local/lib/python3.7/dist-packages/psycopg2/__init__.py:144: UserWarning: The psycopg2 wheel package will be renamed from release 2.8; in order to keep installing from binary please use \"pip install psycopg2-binary\" instead. For details see: <http://initd.org/psycopg/docs/install.html#binary-install-from-pypi>.\n",
            "  \"\"\")\n"
          ],
          "name": "stderr"
        },
        {
          "output_type": "display_data",
          "data": {
            "application/javascript": [
              "\n",
              "    require(['notebook/js/codecell'], function(codecell) {\n",
              "      // https://github.com/jupyter/notebook/issues/2453\n",
              "      codecell.CodeCell.options_default.highlight_modes['magic_text/x-sql'] = {'reg':[/^%read_sql/, /.*=\\s*%read_sql/,\n",
              "                                                                                      /^%%read_sql/]};\n",
              "      Jupyter.notebook.events.one('kernel_ready.Kernel', function(){\n",
              "          console.log('BBBBB');\n",
              "          Jupyter.notebook.get_cells().map(function(cell){\n",
              "              if (cell.cell_type == 'code'){ cell.auto_highlight(); } }) ;\n",
              "      });\n",
              "    });\n",
              "    "
            ]
          },
          "metadata": {
            "tags": []
          }
        }
      ]
    },
    {
      "cell_type": "code",
      "metadata": {
        "id": "Jh3OX2PrvLQe"
      },
      "source": [
        "%config SQL.conn_name = 'engine'"
      ],
      "execution_count": 7,
      "outputs": []
    },
    {
      "cell_type": "code",
      "metadata": {
        "colab": {
          "base_uri": "https://localhost:8080/",
          "height": 381
        },
        "id": "fexQ5YCgvLQe",
        "outputId": "28f6c11f-e7a3-480c-ba3d-30c3cf7f9b25"
      },
      "source": [
        "%%read_sql\n",
        "show databases"
      ],
      "execution_count": 8,
      "outputs": [
        {
          "output_type": "stream",
          "text": [
            "Query started at 12:37:19 AM UTC; Query executed in 0.03 m"
          ],
          "name": "stdout"
        },
        {
          "output_type": "execute_result",
          "data": {
            "text/html": [
              "<div>\n",
              "<style scoped>\n",
              "    .dataframe tbody tr th:only-of-type {\n",
              "        vertical-align: middle;\n",
              "    }\n",
              "\n",
              "    .dataframe tbody tr th {\n",
              "        vertical-align: top;\n",
              "    }\n",
              "\n",
              "    .dataframe thead th {\n",
              "        text-align: right;\n",
              "    }\n",
              "</style>\n",
              "<table border=\"1\" class=\"dataframe\">\n",
              "  <thead>\n",
              "    <tr style=\"text-align: right;\">\n",
              "      <th></th>\n",
              "      <th>Database</th>\n",
              "    </tr>\n",
              "  </thead>\n",
              "  <tbody>\n",
              "    <tr>\n",
              "      <th>0</th>\n",
              "      <td>information_schema</td>\n",
              "    </tr>\n",
              "    <tr>\n",
              "      <th>1</th>\n",
              "      <td>bike_sharing</td>\n",
              "    </tr>\n",
              "    <tr>\n",
              "      <th>2</th>\n",
              "      <td>citibike</td>\n",
              "    </tr>\n",
              "    <tr>\n",
              "      <th>3</th>\n",
              "      <td>citibike_fall2017</td>\n",
              "    </tr>\n",
              "    <tr>\n",
              "      <th>4</th>\n",
              "      <td>facebook</td>\n",
              "    </tr>\n",
              "    <tr>\n",
              "      <th>5</th>\n",
              "      <td>imdb</td>\n",
              "    </tr>\n",
              "    <tr>\n",
              "      <th>6</th>\n",
              "      <td>music</td>\n",
              "    </tr>\n",
              "    <tr>\n",
              "      <th>7</th>\n",
              "      <td>nypd_complaints</td>\n",
              "    </tr>\n",
              "    <tr>\n",
              "      <th>8</th>\n",
              "      <td>public</td>\n",
              "    </tr>\n",
              "    <tr>\n",
              "      <th>9</th>\n",
              "      <td>restaurants</td>\n",
              "    </tr>\n",
              "  </tbody>\n",
              "</table>\n",
              "</div>"
            ],
            "text/plain": [
              "             Database\n",
              "0  information_schema\n",
              "1        bike_sharing\n",
              "2            citibike\n",
              "3   citibike_fall2017\n",
              "4            facebook\n",
              "5                imdb\n",
              "6               music\n",
              "7     nypd_complaints\n",
              "8              public\n",
              "9         restaurants"
            ]
          },
          "metadata": {
            "tags": []
          },
          "execution_count": 8
        }
      ]
    },
    {
      "cell_type": "code",
      "metadata": {
        "colab": {
          "base_uri": "https://localhost:8080/"
        },
        "id": "N5bZvGOuvLQf",
        "outputId": "a3204aef-f0e3-4876-e873-94d0d2a77a49"
      },
      "source": [
        "%%read_sql\n",
        "use imdb"
      ],
      "execution_count": 9,
      "outputs": [
        {
          "output_type": "stream",
          "text": [
            "Query started at 12:37:25 AM UTC; Query executed in 0.01 m"
          ],
          "name": "stdout"
        },
        {
          "output_type": "execute_result",
          "data": {
            "text/plain": [
              "<sql_magic.exceptions.EmptyResult at 0x7f545b952b50>"
            ]
          },
          "metadata": {
            "tags": []
          },
          "execution_count": 9
        }
      ]
    },
    {
      "cell_type": "code",
      "metadata": {
        "colab": {
          "base_uri": "https://localhost:8080/",
          "height": 287
        },
        "id": "MAWFXC-nvLQg",
        "outputId": "a9440fcb-f1f2-4eea-e1e7-02a4dcd02308"
      },
      "source": [
        "%%read_sql\n",
        "show tables"
      ],
      "execution_count": 10,
      "outputs": [
        {
          "output_type": "stream",
          "text": [
            "Query started at 12:37:29 AM UTC; Query executed in 0.01 m"
          ],
          "name": "stdout"
        },
        {
          "output_type": "execute_result",
          "data": {
            "text/html": [
              "<div>\n",
              "<style scoped>\n",
              "    .dataframe tbody tr th:only-of-type {\n",
              "        vertical-align: middle;\n",
              "    }\n",
              "\n",
              "    .dataframe tbody tr th {\n",
              "        vertical-align: top;\n",
              "    }\n",
              "\n",
              "    .dataframe thead th {\n",
              "        text-align: right;\n",
              "    }\n",
              "</style>\n",
              "<table border=\"1\" class=\"dataframe\">\n",
              "  <thead>\n",
              "    <tr style=\"text-align: right;\">\n",
              "      <th></th>\n",
              "      <th>Tables_in_imdb</th>\n",
              "    </tr>\n",
              "  </thead>\n",
              "  <tbody>\n",
              "    <tr>\n",
              "      <th>0</th>\n",
              "      <td>actors</td>\n",
              "    </tr>\n",
              "    <tr>\n",
              "      <th>1</th>\n",
              "      <td>directors</td>\n",
              "    </tr>\n",
              "    <tr>\n",
              "      <th>2</th>\n",
              "      <td>directors_genres</td>\n",
              "    </tr>\n",
              "    <tr>\n",
              "      <th>3</th>\n",
              "      <td>movies</td>\n",
              "    </tr>\n",
              "    <tr>\n",
              "      <th>4</th>\n",
              "      <td>movies_directors</td>\n",
              "    </tr>\n",
              "    <tr>\n",
              "      <th>5</th>\n",
              "      <td>movies_genres</td>\n",
              "    </tr>\n",
              "    <tr>\n",
              "      <th>6</th>\n",
              "      <td>roles</td>\n",
              "    </tr>\n",
              "  </tbody>\n",
              "</table>\n",
              "</div>"
            ],
            "text/plain": [
              "     Tables_in_imdb\n",
              "0            actors\n",
              "1         directors\n",
              "2  directors_genres\n",
              "3            movies\n",
              "4  movies_directors\n",
              "5     movies_genres\n",
              "6             roles"
            ]
          },
          "metadata": {
            "tags": []
          },
          "execution_count": 10
        }
      ]
    },
    {
      "cell_type": "code",
      "metadata": {
        "colab": {
          "base_uri": "https://localhost:8080/",
          "height": 193
        },
        "id": "oNaZQkcwvLQg",
        "outputId": "465d2a46-8176-4713-9c96-520e9505546c"
      },
      "source": [
        "%%read_sql\n",
        "describe actors"
      ],
      "execution_count": 11,
      "outputs": [
        {
          "output_type": "stream",
          "text": [
            "Query started at 12:37:31 AM UTC; Query executed in 0.01 m"
          ],
          "name": "stdout"
        },
        {
          "output_type": "execute_result",
          "data": {
            "text/html": [
              "<div>\n",
              "<style scoped>\n",
              "    .dataframe tbody tr th:only-of-type {\n",
              "        vertical-align: middle;\n",
              "    }\n",
              "\n",
              "    .dataframe tbody tr th {\n",
              "        vertical-align: top;\n",
              "    }\n",
              "\n",
              "    .dataframe thead th {\n",
              "        text-align: right;\n",
              "    }\n",
              "</style>\n",
              "<table border=\"1\" class=\"dataframe\">\n",
              "  <thead>\n",
              "    <tr style=\"text-align: right;\">\n",
              "      <th></th>\n",
              "      <th>Field</th>\n",
              "      <th>Type</th>\n",
              "      <th>Null</th>\n",
              "      <th>Key</th>\n",
              "      <th>Default</th>\n",
              "      <th>Extra</th>\n",
              "    </tr>\n",
              "  </thead>\n",
              "  <tbody>\n",
              "    <tr>\n",
              "      <th>0</th>\n",
              "      <td>id</td>\n",
              "      <td>int(11)</td>\n",
              "      <td>NO</td>\n",
              "      <td>PRI</td>\n",
              "      <td>0</td>\n",
              "      <td></td>\n",
              "    </tr>\n",
              "    <tr>\n",
              "      <th>1</th>\n",
              "      <td>first_name</td>\n",
              "      <td>varchar(100)</td>\n",
              "      <td>YES</td>\n",
              "      <td>MUL</td>\n",
              "      <td>None</td>\n",
              "      <td></td>\n",
              "    </tr>\n",
              "    <tr>\n",
              "      <th>2</th>\n",
              "      <td>last_name</td>\n",
              "      <td>varchar(100)</td>\n",
              "      <td>YES</td>\n",
              "      <td>MUL</td>\n",
              "      <td>None</td>\n",
              "      <td></td>\n",
              "    </tr>\n",
              "    <tr>\n",
              "      <th>3</th>\n",
              "      <td>gender</td>\n",
              "      <td>char(1)</td>\n",
              "      <td>YES</td>\n",
              "      <td></td>\n",
              "      <td>None</td>\n",
              "      <td></td>\n",
              "    </tr>\n",
              "  </tbody>\n",
              "</table>\n",
              "</div>"
            ],
            "text/plain": [
              "        Field          Type Null  Key Default Extra\n",
              "0          id       int(11)   NO  PRI       0      \n",
              "1  first_name  varchar(100)  YES  MUL    None      \n",
              "2   last_name  varchar(100)  YES  MUL    None      \n",
              "3      gender       char(1)  YES         None      "
            ]
          },
          "metadata": {
            "tags": []
          },
          "execution_count": 11
        }
      ]
    },
    {
      "cell_type": "code",
      "metadata": {
        "colab": {
          "base_uri": "https://localhost:8080/",
          "height": 162
        },
        "id": "1p0raqv6vLQh",
        "outputId": "fd407147-4f74-44f4-bebd-961f87c6e1bd"
      },
      "source": [
        "%%read_sql\n",
        "describe roles"
      ],
      "execution_count": 12,
      "outputs": [
        {
          "output_type": "stream",
          "text": [
            "Query started at 12:37:33 AM UTC; Query executed in 0.01 m"
          ],
          "name": "stdout"
        },
        {
          "output_type": "execute_result",
          "data": {
            "text/html": [
              "<div>\n",
              "<style scoped>\n",
              "    .dataframe tbody tr th:only-of-type {\n",
              "        vertical-align: middle;\n",
              "    }\n",
              "\n",
              "    .dataframe tbody tr th {\n",
              "        vertical-align: top;\n",
              "    }\n",
              "\n",
              "    .dataframe thead th {\n",
              "        text-align: right;\n",
              "    }\n",
              "</style>\n",
              "<table border=\"1\" class=\"dataframe\">\n",
              "  <thead>\n",
              "    <tr style=\"text-align: right;\">\n",
              "      <th></th>\n",
              "      <th>Field</th>\n",
              "      <th>Type</th>\n",
              "      <th>Null</th>\n",
              "      <th>Key</th>\n",
              "      <th>Default</th>\n",
              "      <th>Extra</th>\n",
              "    </tr>\n",
              "  </thead>\n",
              "  <tbody>\n",
              "    <tr>\n",
              "      <th>0</th>\n",
              "      <td>actor_id</td>\n",
              "      <td>int(11)</td>\n",
              "      <td>YES</td>\n",
              "      <td>MUL</td>\n",
              "      <td>None</td>\n",
              "      <td></td>\n",
              "    </tr>\n",
              "    <tr>\n",
              "      <th>1</th>\n",
              "      <td>movie_id</td>\n",
              "      <td>int(11)</td>\n",
              "      <td>YES</td>\n",
              "      <td>MUL</td>\n",
              "      <td>None</td>\n",
              "      <td></td>\n",
              "    </tr>\n",
              "    <tr>\n",
              "      <th>2</th>\n",
              "      <td>role</td>\n",
              "      <td>varchar(100)</td>\n",
              "      <td>YES</td>\n",
              "      <td>MUL</td>\n",
              "      <td>None</td>\n",
              "      <td></td>\n",
              "    </tr>\n",
              "  </tbody>\n",
              "</table>\n",
              "</div>"
            ],
            "text/plain": [
              "      Field          Type Null  Key Default Extra\n",
              "0  actor_id       int(11)  YES  MUL    None      \n",
              "1  movie_id       int(11)  YES  MUL    None      \n",
              "2      role  varchar(100)  YES  MUL    None      "
            ]
          },
          "metadata": {
            "tags": []
          },
          "execution_count": 12
        }
      ]
    },
    {
      "cell_type": "markdown",
      "metadata": {
        "id": "fBFuNeb4vLQj"
      },
      "source": [
        "### SELECT Queries (IMDB database)"
      ]
    },
    {
      "cell_type": "code",
      "metadata": {
        "id": "BBaXzapqvLQj"
      },
      "source": [
        ""
      ],
      "execution_count": 12,
      "outputs": []
    },
    {
      "cell_type": "code",
      "metadata": {
        "colab": {
          "base_uri": "https://localhost:8080/"
        },
        "id": "YjW2We6zvLQj",
        "outputId": "4b293950-658b-4b6a-a120-620ee6592730"
      },
      "source": [
        "%%read_sql\n",
        "USE imdb"
      ],
      "execution_count": 13,
      "outputs": [
        {
          "output_type": "stream",
          "text": [
            "Query started at 12:37:40 AM UTC; Query executed in 0.01 m"
          ],
          "name": "stdout"
        },
        {
          "output_type": "execute_result",
          "data": {
            "text/plain": [
              "<sql_magic.exceptions.EmptyResult at 0x7f545b952a90>"
            ]
          },
          "metadata": {
            "tags": []
          },
          "execution_count": 13
        }
      ]
    },
    {
      "cell_type": "markdown",
      "metadata": {
        "id": "pwDv_V5ivLQj"
      },
      "source": [
        "#### Find all movie titles with id less than 100."
      ]
    },
    {
      "cell_type": "code",
      "metadata": {
        "scrolled": true,
        "colab": {
          "base_uri": "https://localhost:8080/",
          "height": 442
        },
        "id": "nNWeS71PvLQj",
        "outputId": "d915d9ba-bbea-48b4-d48d-b46f991b147f"
      },
      "source": [
        "%%read_sql\n",
        "SELECT * \n",
        "FROM movies \n",
        "WHERE id<100"
      ],
      "execution_count": 14,
      "outputs": [
        {
          "output_type": "stream",
          "text": [
            "Query started at 12:37:51 AM UTC; Query executed in 0.01 m"
          ],
          "name": "stdout"
        },
        {
          "output_type": "execute_result",
          "data": {
            "text/html": [
              "<div>\n",
              "<style scoped>\n",
              "    .dataframe tbody tr th:only-of-type {\n",
              "        vertical-align: middle;\n",
              "    }\n",
              "\n",
              "    .dataframe tbody tr th {\n",
              "        vertical-align: top;\n",
              "    }\n",
              "\n",
              "    .dataframe thead th {\n",
              "        text-align: right;\n",
              "    }\n",
              "</style>\n",
              "<table border=\"1\" class=\"dataframe\">\n",
              "  <thead>\n",
              "    <tr style=\"text-align: right;\">\n",
              "      <th></th>\n",
              "      <th>id</th>\n",
              "      <th>name</th>\n",
              "      <th>year</th>\n",
              "      <th>rank</th>\n",
              "    </tr>\n",
              "  </thead>\n",
              "  <tbody>\n",
              "    <tr>\n",
              "      <th>0</th>\n",
              "      <td>0</td>\n",
              "      <td>#28</td>\n",
              "      <td>2002</td>\n",
              "      <td>NaN</td>\n",
              "    </tr>\n",
              "    <tr>\n",
              "      <th>1</th>\n",
              "      <td>1</td>\n",
              "      <td>#7 Train: An Immigrant Journey, The</td>\n",
              "      <td>2000</td>\n",
              "      <td>NaN</td>\n",
              "    </tr>\n",
              "    <tr>\n",
              "      <th>2</th>\n",
              "      <td>2</td>\n",
              "      <td>$</td>\n",
              "      <td>1971</td>\n",
              "      <td>6.4</td>\n",
              "    </tr>\n",
              "    <tr>\n",
              "      <th>3</th>\n",
              "      <td>3</td>\n",
              "      <td>$1,000 Reward</td>\n",
              "      <td>1913</td>\n",
              "      <td>NaN</td>\n",
              "    </tr>\n",
              "    <tr>\n",
              "      <th>4</th>\n",
              "      <td>4</td>\n",
              "      <td>$1,000 Reward</td>\n",
              "      <td>1915</td>\n",
              "      <td>NaN</td>\n",
              "    </tr>\n",
              "    <tr>\n",
              "      <th>...</th>\n",
              "      <td>...</td>\n",
              "      <td>...</td>\n",
              "      <td>...</td>\n",
              "      <td>...</td>\n",
              "    </tr>\n",
              "    <tr>\n",
              "      <th>91</th>\n",
              "      <td>95</td>\n",
              "      <td>'Cross the Mexican Line</td>\n",
              "      <td>1914</td>\n",
              "      <td>NaN</td>\n",
              "    </tr>\n",
              "    <tr>\n",
              "      <th>92</th>\n",
              "      <td>96</td>\n",
              "      <td>'Den vide verden's billedbog nr. 1</td>\n",
              "      <td>1938</td>\n",
              "      <td>NaN</td>\n",
              "    </tr>\n",
              "    <tr>\n",
              "      <th>93</th>\n",
              "      <td>97</td>\n",
              "      <td>'Deutschland' Leaving New York at Full Speed (...</td>\n",
              "      <td>1902</td>\n",
              "      <td>NaN</td>\n",
              "    </tr>\n",
              "    <tr>\n",
              "      <th>94</th>\n",
              "      <td>98</td>\n",
              "      <td>'Diamond S' Ranch, The</td>\n",
              "      <td>1912</td>\n",
              "      <td>NaN</td>\n",
              "    </tr>\n",
              "    <tr>\n",
              "      <th>95</th>\n",
              "      <td>99</td>\n",
              "      <td>'Dikke Bertha' op doortocht in Brussel</td>\n",
              "      <td>1919</td>\n",
              "      <td>NaN</td>\n",
              "    </tr>\n",
              "  </tbody>\n",
              "</table>\n",
              "<p>96 rows × 4 columns</p>\n",
              "</div>"
            ],
            "text/plain": [
              "    id                                               name  year  rank\n",
              "0    0                                                #28  2002   NaN\n",
              "1    1                #7 Train: An Immigrant Journey, The  2000   NaN\n",
              "2    2                                                  $  1971   6.4\n",
              "3    3                                      $1,000 Reward  1913   NaN\n",
              "4    4                                      $1,000 Reward  1915   NaN\n",
              "..  ..                                                ...   ...   ...\n",
              "91  95                            'Cross the Mexican Line  1914   NaN\n",
              "92  96                 'Den vide verden's billedbog nr. 1  1938   NaN\n",
              "93  97  'Deutschland' Leaving New York at Full Speed (...  1902   NaN\n",
              "94  98                             'Diamond S' Ranch, The  1912   NaN\n",
              "95  99             'Dikke Bertha' op doortocht in Brussel  1919   NaN\n",
              "\n",
              "[96 rows x 4 columns]"
            ]
          },
          "metadata": {
            "tags": []
          },
          "execution_count": 14
        }
      ]
    },
    {
      "cell_type": "markdown",
      "metadata": {
        "id": "PvXf5x8ivLQk"
      },
      "source": [
        "#### Find all information about movies that were released before 1895 (excl)"
      ]
    },
    {
      "cell_type": "code",
      "metadata": {
        "colab": {
          "base_uri": "https://localhost:8080/",
          "height": 442
        },
        "id": "LpjQFdgFvLQk",
        "outputId": "bfa0d830-2cbc-4337-86de-ed239ee0c4cc"
      },
      "source": [
        "%%read_sql\n",
        "SELECT *\n",
        "FROM movies \n",
        "WHERE year<1895"
      ],
      "execution_count": 15,
      "outputs": [
        {
          "output_type": "stream",
          "text": [
            "Query started at 12:38:10 AM UTC; Query executed in 0.01 m"
          ],
          "name": "stdout"
        },
        {
          "output_type": "execute_result",
          "data": {
            "text/html": [
              "<div>\n",
              "<style scoped>\n",
              "    .dataframe tbody tr th:only-of-type {\n",
              "        vertical-align: middle;\n",
              "    }\n",
              "\n",
              "    .dataframe tbody tr th {\n",
              "        vertical-align: top;\n",
              "    }\n",
              "\n",
              "    .dataframe thead th {\n",
              "        text-align: right;\n",
              "    }\n",
              "</style>\n",
              "<table border=\"1\" class=\"dataframe\">\n",
              "  <thead>\n",
              "    <tr style=\"text-align: right;\">\n",
              "      <th></th>\n",
              "      <th>id</th>\n",
              "      <th>name</th>\n",
              "      <th>year</th>\n",
              "      <th>rank</th>\n",
              "    </tr>\n",
              "  </thead>\n",
              "  <tbody>\n",
              "    <tr>\n",
              "      <th>0</th>\n",
              "      <td>13261</td>\n",
              "      <td>Amateur Gymnast, No. 2</td>\n",
              "      <td>1894</td>\n",
              "      <td>NaN</td>\n",
              "    </tr>\n",
              "    <tr>\n",
              "      <th>1</th>\n",
              "      <td>17623</td>\n",
              "      <td>Annabelle Butterfly Dance</td>\n",
              "      <td>1894</td>\n",
              "      <td>5.3</td>\n",
              "    </tr>\n",
              "    <tr>\n",
              "      <th>2</th>\n",
              "      <td>17627</td>\n",
              "      <td>Annabelle Serpentine Dance</td>\n",
              "      <td>1894</td>\n",
              "      <td>6.1</td>\n",
              "    </tr>\n",
              "    <tr>\n",
              "      <th>3</th>\n",
              "      <td>17628</td>\n",
              "      <td>Annabelle Sun Dance</td>\n",
              "      <td>1894</td>\n",
              "      <td>NaN</td>\n",
              "    </tr>\n",
              "    <tr>\n",
              "      <th>4</th>\n",
              "      <td>17770</td>\n",
              "      <td>Annie Oakley</td>\n",
              "      <td>1894</td>\n",
              "      <td>4.9</td>\n",
              "    </tr>\n",
              "    <tr>\n",
              "      <th>...</th>\n",
              "      <td>...</td>\n",
              "      <td>...</td>\n",
              "      <td>...</td>\n",
              "      <td>...</td>\n",
              "    </tr>\n",
              "    <tr>\n",
              "      <th>76</th>\n",
              "      <td>363640</td>\n",
              "      <td>Whirlwind Gun Spinning</td>\n",
              "      <td>1894</td>\n",
              "      <td>NaN</td>\n",
              "    </tr>\n",
              "    <tr>\n",
              "      <th>77</th>\n",
              "      <td>364791</td>\n",
              "      <td>Widder, The</td>\n",
              "      <td>1894</td>\n",
              "      <td>NaN</td>\n",
              "    </tr>\n",
              "    <tr>\n",
              "      <th>78</th>\n",
              "      <td>368839</td>\n",
              "      <td>Wrestling</td>\n",
              "      <td>1892</td>\n",
              "      <td>2.0</td>\n",
              "    </tr>\n",
              "    <tr>\n",
              "      <th>79</th>\n",
              "      <td>368852</td>\n",
              "      <td>Wrestling Dog, The</td>\n",
              "      <td>1894</td>\n",
              "      <td>NaN</td>\n",
              "    </tr>\n",
              "    <tr>\n",
              "      <th>80</th>\n",
              "      <td>368854</td>\n",
              "      <td>Wrestling Match</td>\n",
              "      <td>1894</td>\n",
              "      <td>NaN</td>\n",
              "    </tr>\n",
              "  </tbody>\n",
              "</table>\n",
              "<p>81 rows × 4 columns</p>\n",
              "</div>"
            ],
            "text/plain": [
              "        id                        name  year  rank\n",
              "0    13261      Amateur Gymnast, No. 2  1894   NaN\n",
              "1    17623   Annabelle Butterfly Dance  1894   5.3\n",
              "2    17627  Annabelle Serpentine Dance  1894   6.1\n",
              "3    17628         Annabelle Sun Dance  1894   NaN\n",
              "4    17770                Annie Oakley  1894   4.9\n",
              "..     ...                         ...   ...   ...\n",
              "76  363640      Whirlwind Gun Spinning  1894   NaN\n",
              "77  364791                 Widder, The  1894   NaN\n",
              "78  368839                   Wrestling  1892   2.0\n",
              "79  368852          Wrestling Dog, The  1894   NaN\n",
              "80  368854             Wrestling Match  1894   NaN\n",
              "\n",
              "[81 rows x 4 columns]"
            ]
          },
          "metadata": {
            "tags": []
          },
          "execution_count": 15
        }
      ]
    },
    {
      "cell_type": "markdown",
      "metadata": {
        "id": "uDrMP9pavLQl"
      },
      "source": [
        "#### Find all information about movies that were released before 1895 and after 2006 (inclusive)"
      ]
    },
    {
      "cell_type": "code",
      "metadata": {
        "id": "eQlX5hoyvLQl",
        "colab": {
          "base_uri": "https://localhost:8080/",
          "height": 442
        },
        "outputId": "42548a86-5d7c-4074-9240-5195c02faf32"
      },
      "source": [
        "%%read_sql\n",
        "SELECT *\n",
        "FROM movies \n",
        "WHERE year<=1895 OR year>=2006"
      ],
      "execution_count": 16,
      "outputs": [
        {
          "output_type": "stream",
          "text": [
            "Query started at 12:38:15 AM UTC; Query executed in 0.01 m"
          ],
          "name": "stdout"
        },
        {
          "output_type": "execute_result",
          "data": {
            "text/html": [
              "<div>\n",
              "<style scoped>\n",
              "    .dataframe tbody tr th:only-of-type {\n",
              "        vertical-align: middle;\n",
              "    }\n",
              "\n",
              "    .dataframe tbody tr th {\n",
              "        vertical-align: top;\n",
              "    }\n",
              "\n",
              "    .dataframe thead th {\n",
              "        text-align: right;\n",
              "    }\n",
              "</style>\n",
              "<table border=\"1\" class=\"dataframe\">\n",
              "  <thead>\n",
              "    <tr style=\"text-align: right;\">\n",
              "      <th></th>\n",
              "      <th>id</th>\n",
              "      <th>name</th>\n",
              "      <th>year</th>\n",
              "      <th>rank</th>\n",
              "    </tr>\n",
              "  </thead>\n",
              "  <tbody>\n",
              "    <tr>\n",
              "      <th>0</th>\n",
              "      <td>899</td>\n",
              "      <td>10th &amp; Wolf</td>\n",
              "      <td>2006</td>\n",
              "      <td>NaN</td>\n",
              "    </tr>\n",
              "    <tr>\n",
              "      <th>1</th>\n",
              "      <td>1799</td>\n",
              "      <td>2176</td>\n",
              "      <td>2006</td>\n",
              "      <td>NaN</td>\n",
              "    </tr>\n",
              "    <tr>\n",
              "      <th>2</th>\n",
              "      <td>2238</td>\n",
              "      <td>300</td>\n",
              "      <td>2006</td>\n",
              "      <td>NaN</td>\n",
              "    </tr>\n",
              "    <tr>\n",
              "      <th>3</th>\n",
              "      <td>9086</td>\n",
              "      <td>Airborn</td>\n",
              "      <td>2006</td>\n",
              "      <td>NaN</td>\n",
              "    </tr>\n",
              "    <tr>\n",
              "      <th>4</th>\n",
              "      <td>9495</td>\n",
              "      <td>Akrobatisches Potpourri</td>\n",
              "      <td>1895</td>\n",
              "      <td>5.2</td>\n",
              "    </tr>\n",
              "    <tr>\n",
              "      <th>...</th>\n",
              "      <td>...</td>\n",
              "      <td>...</td>\n",
              "      <td>...</td>\n",
              "      <td>...</td>\n",
              "    </tr>\n",
              "    <tr>\n",
              "      <th>351</th>\n",
              "      <td>369459</td>\n",
              "      <td>X-Men 3</td>\n",
              "      <td>2006</td>\n",
              "      <td>NaN</td>\n",
              "    </tr>\n",
              "    <tr>\n",
              "      <th>352</th>\n",
              "      <td>372568</td>\n",
              "      <td>Young Griffo v. Battling Charles Barnett</td>\n",
              "      <td>1895</td>\n",
              "      <td>NaN</td>\n",
              "    </tr>\n",
              "    <tr>\n",
              "      <th>353</th>\n",
              "      <td>374889</td>\n",
              "      <td>Zhmurki</td>\n",
              "      <td>2006</td>\n",
              "      <td>NaN</td>\n",
              "    </tr>\n",
              "    <tr>\n",
              "      <th>354</th>\n",
              "      <td>400649</td>\n",
              "      <td>\"Pacific War, The\"</td>\n",
              "      <td>2006</td>\n",
              "      <td>NaN</td>\n",
              "    </tr>\n",
              "    <tr>\n",
              "      <th>355</th>\n",
              "      <td>409052</td>\n",
              "      <td>\"Turin 2006: XX Olympic Winter Games\"</td>\n",
              "      <td>2006</td>\n",
              "      <td>NaN</td>\n",
              "    </tr>\n",
              "  </tbody>\n",
              "</table>\n",
              "<p>356 rows × 4 columns</p>\n",
              "</div>"
            ],
            "text/plain": [
              "         id                                      name  year  rank\n",
              "0       899                               10th & Wolf  2006   NaN\n",
              "1      1799                                      2176  2006   NaN\n",
              "2      2238                                       300  2006   NaN\n",
              "3      9086                                   Airborn  2006   NaN\n",
              "4      9495                   Akrobatisches Potpourri  1895   5.2\n",
              "..      ...                                       ...   ...   ...\n",
              "351  369459                                   X-Men 3  2006   NaN\n",
              "352  372568  Young Griffo v. Battling Charles Barnett  1895   NaN\n",
              "353  374889                                   Zhmurki  2006   NaN\n",
              "354  400649                        \"Pacific War, The\"  2006   NaN\n",
              "355  409052     \"Turin 2006: XX Olympic Winter Games\"  2006   NaN\n",
              "\n",
              "[356 rows x 4 columns]"
            ]
          },
          "metadata": {
            "tags": []
          },
          "execution_count": 16
        }
      ]
    },
    {
      "cell_type": "markdown",
      "metadata": {
        "id": "AuOTb32IvLQl"
      },
      "source": [
        "#### Find all information about movies released between 1895 and 1898 (excl)"
      ]
    },
    {
      "cell_type": "code",
      "metadata": {
        "id": "nMeMUpH-vLQl",
        "colab": {
          "base_uri": "https://localhost:8080/",
          "height": 442
        },
        "outputId": "ebdc78c4-716f-4f35-f80f-9a06d78bd01b"
      },
      "source": [
        "%%read_sql\n",
        "SELECT *\n",
        "FROM movies \n",
        "WHERE year>1895 AND year<1898"
      ],
      "execution_count": 17,
      "outputs": [
        {
          "output_type": "stream",
          "text": [
            "Query started at 12:38:21 AM UTC; Query executed in 0.01 m"
          ],
          "name": "stdout"
        },
        {
          "output_type": "execute_result",
          "data": {
            "text/html": [
              "<div>\n",
              "<style scoped>\n",
              "    .dataframe tbody tr th:only-of-type {\n",
              "        vertical-align: middle;\n",
              "    }\n",
              "\n",
              "    .dataframe tbody tr th {\n",
              "        vertical-align: top;\n",
              "    }\n",
              "\n",
              "    .dataframe thead th {\n",
              "        text-align: right;\n",
              "    }\n",
              "</style>\n",
              "<table border=\"1\" class=\"dataframe\">\n",
              "  <thead>\n",
              "    <tr style=\"text-align: right;\">\n",
              "      <th></th>\n",
              "      <th>id</th>\n",
              "      <th>name</th>\n",
              "      <th>year</th>\n",
              "      <th>rank</th>\n",
              "    </tr>\n",
              "  </thead>\n",
              "  <tbody>\n",
              "    <tr>\n",
              "      <th>0</th>\n",
              "      <td>56</td>\n",
              "      <td>'Amphitrite', The</td>\n",
              "      <td>1897</td>\n",
              "      <td>NaN</td>\n",
              "    </tr>\n",
              "    <tr>\n",
              "      <th>1</th>\n",
              "      <td>70</td>\n",
              "      <td>'Brennus', Le</td>\n",
              "      <td>1897</td>\n",
              "      <td>NaN</td>\n",
              "    </tr>\n",
              "    <tr>\n",
              "      <th>2</th>\n",
              "      <td>247</td>\n",
              "      <td>'Standard' Picture Animated, A</td>\n",
              "      <td>1897</td>\n",
              "      <td>NaN</td>\n",
              "    </tr>\n",
              "    <tr>\n",
              "      <th>3</th>\n",
              "      <td>1076</td>\n",
              "      <td>13th Infantry, U.S. Army Marching Through Sall...</td>\n",
              "      <td>1897</td>\n",
              "      <td>NaN</td>\n",
              "    </tr>\n",
              "    <tr>\n",
              "      <th>4</th>\n",
              "      <td>1077</td>\n",
              "      <td>13th Infantry, U.S. Army, in Heavy Marching Or...</td>\n",
              "      <td>1897</td>\n",
              "      <td>NaN</td>\n",
              "    </tr>\n",
              "    <tr>\n",
              "      <th>...</th>\n",
              "      <td>...</td>\n",
              "      <td>...</td>\n",
              "      <td>...</td>\n",
              "      <td>...</td>\n",
              "    </tr>\n",
              "    <tr>\n",
              "      <th>1093</th>\n",
              "      <td>372727</td>\n",
              "      <td>Young Rivals, The</td>\n",
              "      <td>1897</td>\n",
              "      <td>NaN</td>\n",
              "    </tr>\n",
              "    <tr>\n",
              "      <th>1094</th>\n",
              "      <td>375815</td>\n",
              "      <td>Zoo van Antwerpen, De</td>\n",
              "      <td>1897</td>\n",
              "      <td>NaN</td>\n",
              "    </tr>\n",
              "    <tr>\n",
              "      <th>1095</th>\n",
              "      <td>376589</td>\n",
              "      <td>Z Pereira na Romaria de Santo Tirso, O</td>\n",
              "      <td>1896</td>\n",
              "      <td>NaN</td>\n",
              "    </tr>\n",
              "    <tr>\n",
              "      <th>1096</th>\n",
              "      <td>377666</td>\n",
              "      <td>cole des gendres, L'</td>\n",
              "      <td>1897</td>\n",
              "      <td>NaN</td>\n",
              "    </tr>\n",
              "    <tr>\n",
              "      <th>1097</th>\n",
              "      <td>377845</td>\n",
              "      <td>pisodes de guerre</td>\n",
              "      <td>1897</td>\n",
              "      <td>NaN</td>\n",
              "    </tr>\n",
              "  </tbody>\n",
              "</table>\n",
              "<p>1098 rows × 4 columns</p>\n",
              "</div>"
            ],
            "text/plain": [
              "          id                                               name  year  rank\n",
              "0         56                                  'Amphitrite', The  1897   NaN\n",
              "1         70                                      'Brennus', Le  1897   NaN\n",
              "2        247                     'Standard' Picture Animated, A  1897   NaN\n",
              "3       1076  13th Infantry, U.S. Army Marching Through Sall...  1897   NaN\n",
              "4       1077  13th Infantry, U.S. Army, in Heavy Marching Or...  1897   NaN\n",
              "...      ...                                                ...   ...   ...\n",
              "1093  372727                                  Young Rivals, The  1897   NaN\n",
              "1094  375815                              Zoo van Antwerpen, De  1897   NaN\n",
              "1095  376589             Z Pereira na Romaria de Santo Tirso, O  1896   NaN\n",
              "1096  377666                               cole des gendres, L'  1897   NaN\n",
              "1097  377845                                  pisodes de guerre  1897   NaN\n",
              "\n",
              "[1098 rows x 4 columns]"
            ]
          },
          "metadata": {
            "tags": []
          },
          "execution_count": 17
        }
      ]
    },
    {
      "cell_type": "markdown",
      "metadata": {
        "id": "gp9pMWq3vLQm"
      },
      "source": [
        "#### Find all information about *actresses* who are have first name Skyler"
      ]
    },
    {
      "cell_type": "code",
      "metadata": {
        "id": "eYzvuHRmvLQm",
        "colab": {
          "base_uri": "https://localhost:8080/",
          "height": 256
        },
        "outputId": "0ac4f116-37fb-4f6d-dfb7-e19dd29285f7"
      },
      "source": [
        "%%read_sql\n",
        "SELECT *\n",
        "FROM actors\n",
        "WHERE first_name = 'Skyler' AND gender = 'F';"
      ],
      "execution_count": 18,
      "outputs": [
        {
          "output_type": "stream",
          "text": [
            "Query started at 12:38:26 AM UTC; Query executed in 0.01 m"
          ],
          "name": "stdout"
        },
        {
          "output_type": "execute_result",
          "data": {
            "text/html": [
              "<div>\n",
              "<style scoped>\n",
              "    .dataframe tbody tr th:only-of-type {\n",
              "        vertical-align: middle;\n",
              "    }\n",
              "\n",
              "    .dataframe tbody tr th {\n",
              "        vertical-align: top;\n",
              "    }\n",
              "\n",
              "    .dataframe thead th {\n",
              "        text-align: right;\n",
              "    }\n",
              "</style>\n",
              "<table border=\"1\" class=\"dataframe\">\n",
              "  <thead>\n",
              "    <tr style=\"text-align: right;\">\n",
              "      <th></th>\n",
              "      <th>id</th>\n",
              "      <th>first_name</th>\n",
              "      <th>last_name</th>\n",
              "      <th>gender</th>\n",
              "    </tr>\n",
              "  </thead>\n",
              "  <tbody>\n",
              "    <tr>\n",
              "      <th>0</th>\n",
              "      <td>556133</td>\n",
              "      <td>Skyler</td>\n",
              "      <td>Blankenship</td>\n",
              "      <td>F</td>\n",
              "    </tr>\n",
              "    <tr>\n",
              "      <th>1</th>\n",
              "      <td>570689</td>\n",
              "      <td>Skyler</td>\n",
              "      <td>Campbell</td>\n",
              "      <td>F</td>\n",
              "    </tr>\n",
              "    <tr>\n",
              "      <th>2</th>\n",
              "      <td>595403</td>\n",
              "      <td>Skyler</td>\n",
              "      <td>Day</td>\n",
              "      <td>F</td>\n",
              "    </tr>\n",
              "    <tr>\n",
              "      <th>3</th>\n",
              "      <td>773680</td>\n",
              "      <td>Skyler</td>\n",
              "      <td>Rose</td>\n",
              "      <td>F</td>\n",
              "    </tr>\n",
              "    <tr>\n",
              "      <th>4</th>\n",
              "      <td>776752</td>\n",
              "      <td>Skyler</td>\n",
              "      <td>Russell</td>\n",
              "      <td>F</td>\n",
              "    </tr>\n",
              "    <tr>\n",
              "      <th>5</th>\n",
              "      <td>789243</td>\n",
              "      <td>Skyler</td>\n",
              "      <td>Shaye</td>\n",
              "      <td>F</td>\n",
              "    </tr>\n",
              "  </tbody>\n",
              "</table>\n",
              "</div>"
            ],
            "text/plain": [
              "       id first_name    last_name gender\n",
              "0  556133     Skyler  Blankenship      F\n",
              "1  570689     Skyler     Campbell      F\n",
              "2  595403     Skyler          Day      F\n",
              "3  773680     Skyler         Rose      F\n",
              "4  776752     Skyler      Russell      F\n",
              "5  789243     Skyler        Shaye      F"
            ]
          },
          "metadata": {
            "tags": []
          },
          "execution_count": 18
        }
      ]
    },
    {
      "cell_type": "code",
      "metadata": {
        "id": "xjtKmHAEvLQm",
        "colab": {
          "base_uri": "https://localhost:8080/",
          "height": 442
        },
        "outputId": "8c96ff84-6afd-4a74-9b6c-49d43d95a825"
      },
      "source": [
        "%%read_sql\n",
        "select director_id,count(*) as number_of_movies from movies_directors group by director_id having number_of_movies >100;\n"
      ],
      "execution_count": 19,
      "outputs": [
        {
          "output_type": "stream",
          "text": [
            "Query started at 12:38:28 AM UTC; Query executed in 0.01 m"
          ],
          "name": "stdout"
        },
        {
          "output_type": "execute_result",
          "data": {
            "text/html": [
              "<div>\n",
              "<style scoped>\n",
              "    .dataframe tbody tr th:only-of-type {\n",
              "        vertical-align: middle;\n",
              "    }\n",
              "\n",
              "    .dataframe tbody tr th {\n",
              "        vertical-align: top;\n",
              "    }\n",
              "\n",
              "    .dataframe thead th {\n",
              "        text-align: right;\n",
              "    }\n",
              "</style>\n",
              "<table border=\"1\" class=\"dataframe\">\n",
              "  <thead>\n",
              "    <tr style=\"text-align: right;\">\n",
              "      <th></th>\n",
              "      <th>director_id</th>\n",
              "      <th>number_of_movies</th>\n",
              "    </tr>\n",
              "  </thead>\n",
              "  <tbody>\n",
              "    <tr>\n",
              "      <th>0</th>\n",
              "      <td>1958</td>\n",
              "      <td>360</td>\n",
              "    </tr>\n",
              "    <tr>\n",
              "      <th>1</th>\n",
              "      <td>2624</td>\n",
              "      <td>111</td>\n",
              "    </tr>\n",
              "    <tr>\n",
              "      <th>2</th>\n",
              "      <td>2643</td>\n",
              "      <td>135</td>\n",
              "    </tr>\n",
              "    <tr>\n",
              "      <th>3</th>\n",
              "      <td>3507</td>\n",
              "      <td>142</td>\n",
              "    </tr>\n",
              "    <tr>\n",
              "      <th>4</th>\n",
              "      <td>3822</td>\n",
              "      <td>108</td>\n",
              "    </tr>\n",
              "    <tr>\n",
              "      <th>...</th>\n",
              "      <td>...</td>\n",
              "      <td>...</td>\n",
              "    </tr>\n",
              "    <tr>\n",
              "      <th>183</th>\n",
              "      <td>85858</td>\n",
              "      <td>119</td>\n",
              "    </tr>\n",
              "    <tr>\n",
              "      <th>184</th>\n",
              "      <td>85886</td>\n",
              "      <td>141</td>\n",
              "    </tr>\n",
              "    <tr>\n",
              "      <th>185</th>\n",
              "      <td>86170</td>\n",
              "      <td>173</td>\n",
              "    </tr>\n",
              "    <tr>\n",
              "      <th>186</th>\n",
              "      <td>86511</td>\n",
              "      <td>101</td>\n",
              "    </tr>\n",
              "    <tr>\n",
              "      <th>187</th>\n",
              "      <td>87330</td>\n",
              "      <td>101</td>\n",
              "    </tr>\n",
              "  </tbody>\n",
              "</table>\n",
              "<p>188 rows × 2 columns</p>\n",
              "</div>"
            ],
            "text/plain": [
              "     director_id  number_of_movies\n",
              "0           1958               360\n",
              "1           2624               111\n",
              "2           2643               135\n",
              "3           3507               142\n",
              "4           3822               108\n",
              "..           ...               ...\n",
              "183        85858               119\n",
              "184        85886               141\n",
              "185        86170               173\n",
              "186        86511               101\n",
              "187        87330               101\n",
              "\n",
              "[188 rows x 2 columns]"
            ]
          },
          "metadata": {
            "tags": []
          },
          "execution_count": 19
        }
      ]
    },
    {
      "cell_type": "markdown",
      "metadata": {
        "id": "ACaLgcSvvLQm"
      },
      "source": [
        "#### Find the director ID of Steven Spielberg"
      ]
    },
    {
      "cell_type": "code",
      "metadata": {
        "id": "Ozd0CCh7vLQm",
        "colab": {
          "base_uri": "https://localhost:8080/",
          "height": 99
        },
        "outputId": "c1db96a1-e2aa-49fe-a5d0-33b9da412538"
      },
      "source": [
        "%%read_sql\n",
        "SELECT id\n",
        "FROM directors\n",
        "WHERE first_name = 'Steven' AND last_name = 'Spielberg';"
      ],
      "execution_count": 20,
      "outputs": [
        {
          "output_type": "stream",
          "text": [
            "Query started at 12:38:32 AM UTC; Query executed in 0.01 m"
          ],
          "name": "stdout"
        },
        {
          "output_type": "execute_result",
          "data": {
            "text/html": [
              "<div>\n",
              "<style scoped>\n",
              "    .dataframe tbody tr th:only-of-type {\n",
              "        vertical-align: middle;\n",
              "    }\n",
              "\n",
              "    .dataframe tbody tr th {\n",
              "        vertical-align: top;\n",
              "    }\n",
              "\n",
              "    .dataframe thead th {\n",
              "        text-align: right;\n",
              "    }\n",
              "</style>\n",
              "<table border=\"1\" class=\"dataframe\">\n",
              "  <thead>\n",
              "    <tr style=\"text-align: right;\">\n",
              "      <th></th>\n",
              "      <th>id</th>\n",
              "    </tr>\n",
              "  </thead>\n",
              "  <tbody>\n",
              "    <tr>\n",
              "      <th>0</th>\n",
              "      <td>75380</td>\n",
              "    </tr>\n",
              "  </tbody>\n",
              "</table>\n",
              "</div>"
            ],
            "text/plain": [
              "      id\n",
              "0  75380"
            ]
          },
          "metadata": {
            "tags": []
          },
          "execution_count": 20
        }
      ]
    },
    {
      "cell_type": "markdown",
      "metadata": {
        "id": "vAxTDbUpvLQn"
      },
      "source": [
        "#### Find the director IDs and the first and last names of directors with the last name Spielberg and Hitchcock"
      ]
    },
    {
      "cell_type": "code",
      "metadata": {
        "id": "2NPf1Sl5vLQn",
        "colab": {
          "base_uri": "https://localhost:8080/",
          "height": 256
        },
        "outputId": "ba903451-b2e7-4e5e-cda2-128a210e78a6"
      },
      "source": [
        "%%read_sql\n",
        "SELECT id, first_name, last_name\n",
        "FROM directors\n",
        "WHERE last_name = 'Spielberg' OR last_name = 'Hitchcock';"
      ],
      "execution_count": 21,
      "outputs": [
        {
          "output_type": "stream",
          "text": [
            "Query started at 12:38:36 AM UTC; Query executed in 0.01 m"
          ],
          "name": "stdout"
        },
        {
          "output_type": "execute_result",
          "data": {
            "text/html": [
              "<div>\n",
              "<style scoped>\n",
              "    .dataframe tbody tr th:only-of-type {\n",
              "        vertical-align: middle;\n",
              "    }\n",
              "\n",
              "    .dataframe tbody tr th {\n",
              "        vertical-align: top;\n",
              "    }\n",
              "\n",
              "    .dataframe thead th {\n",
              "        text-align: right;\n",
              "    }\n",
              "</style>\n",
              "<table border=\"1\" class=\"dataframe\">\n",
              "  <thead>\n",
              "    <tr style=\"text-align: right;\">\n",
              "      <th></th>\n",
              "      <th>id</th>\n",
              "      <th>first_name</th>\n",
              "      <th>last_name</th>\n",
              "    </tr>\n",
              "  </thead>\n",
              "  <tbody>\n",
              "    <tr>\n",
              "      <th>0</th>\n",
              "      <td>34658</td>\n",
              "      <td>Alfred (I)</td>\n",
              "      <td>Hitchcock</td>\n",
              "    </tr>\n",
              "    <tr>\n",
              "      <th>1</th>\n",
              "      <td>34659</td>\n",
              "      <td>Bill (II)</td>\n",
              "      <td>Hitchcock</td>\n",
              "    </tr>\n",
              "    <tr>\n",
              "      <th>2</th>\n",
              "      <td>34660</td>\n",
              "      <td>Charles Webster</td>\n",
              "      <td>Hitchcock</td>\n",
              "    </tr>\n",
              "    <tr>\n",
              "      <th>3</th>\n",
              "      <td>34661</td>\n",
              "      <td>Peter</td>\n",
              "      <td>Hitchcock</td>\n",
              "    </tr>\n",
              "    <tr>\n",
              "      <th>4</th>\n",
              "      <td>34662</td>\n",
              "      <td>Victress</td>\n",
              "      <td>Hitchcock</td>\n",
              "    </tr>\n",
              "    <tr>\n",
              "      <th>5</th>\n",
              "      <td>75380</td>\n",
              "      <td>Steven</td>\n",
              "      <td>Spielberg</td>\n",
              "    </tr>\n",
              "  </tbody>\n",
              "</table>\n",
              "</div>"
            ],
            "text/plain": [
              "      id       first_name  last_name\n",
              "0  34658       Alfred (I)  Hitchcock\n",
              "1  34659        Bill (II)  Hitchcock\n",
              "2  34660  Charles Webster  Hitchcock\n",
              "3  34661            Peter  Hitchcock\n",
              "4  34662         Victress  Hitchcock\n",
              "5  75380           Steven  Spielberg"
            ]
          },
          "metadata": {
            "tags": []
          },
          "execution_count": 21
        }
      ]
    },
    {
      "cell_type": "markdown",
      "metadata": {
        "id": "tGlNX4sOvLQo"
      },
      "source": [
        "#### Find all genres of films and the corresponding probabilities for the director ID that corresponds to Steven Spielberg. Sort the results by probability."
      ]
    },
    {
      "cell_type": "code",
      "metadata": {
        "id": "jVNuaDxzvLQo",
        "colab": {
          "base_uri": "https://localhost:8080/",
          "height": 570
        },
        "outputId": "58040cad-e7af-4fb3-bee3-a574ecd30bb3"
      },
      "source": [
        "%%read_sql\n",
        "SELECT genre, prob\n",
        "FROM directors_genres\n",
        "WHERE director_id = '75380' # the id of Spielberg FROM above\n",
        "ORDER BY prob DESC"
      ],
      "execution_count": 22,
      "outputs": [
        {
          "output_type": "stream",
          "text": [
            "Query started at 12:38:48 AM UTC; Query executed in 0.01 m"
          ],
          "name": "stdout"
        },
        {
          "output_type": "execute_result",
          "data": {
            "text/html": [
              "<div>\n",
              "<style scoped>\n",
              "    .dataframe tbody tr th:only-of-type {\n",
              "        vertical-align: middle;\n",
              "    }\n",
              "\n",
              "    .dataframe tbody tr th {\n",
              "        vertical-align: top;\n",
              "    }\n",
              "\n",
              "    .dataframe thead th {\n",
              "        text-align: right;\n",
              "    }\n",
              "</style>\n",
              "<table border=\"1\" class=\"dataframe\">\n",
              "  <thead>\n",
              "    <tr style=\"text-align: right;\">\n",
              "      <th></th>\n",
              "      <th>genre</th>\n",
              "      <th>prob</th>\n",
              "    </tr>\n",
              "  </thead>\n",
              "  <tbody>\n",
              "    <tr>\n",
              "      <th>0</th>\n",
              "      <td>Drama</td>\n",
              "      <td>0.435897</td>\n",
              "    </tr>\n",
              "    <tr>\n",
              "      <th>1</th>\n",
              "      <td>Thriller</td>\n",
              "      <td>0.282051</td>\n",
              "    </tr>\n",
              "    <tr>\n",
              "      <th>2</th>\n",
              "      <td>Adventure</td>\n",
              "      <td>0.282051</td>\n",
              "    </tr>\n",
              "    <tr>\n",
              "      <th>3</th>\n",
              "      <td>Sci-Fi</td>\n",
              "      <td>0.256410</td>\n",
              "    </tr>\n",
              "    <tr>\n",
              "      <th>4</th>\n",
              "      <td>Action</td>\n",
              "      <td>0.230769</td>\n",
              "    </tr>\n",
              "    <tr>\n",
              "      <th>5</th>\n",
              "      <td>Horror</td>\n",
              "      <td>0.179487</td>\n",
              "    </tr>\n",
              "    <tr>\n",
              "      <th>6</th>\n",
              "      <td>Short</td>\n",
              "      <td>0.128205</td>\n",
              "    </tr>\n",
              "    <tr>\n",
              "      <th>7</th>\n",
              "      <td>Fantasy</td>\n",
              "      <td>0.102564</td>\n",
              "    </tr>\n",
              "    <tr>\n",
              "      <th>8</th>\n",
              "      <td>War</td>\n",
              "      <td>0.102564</td>\n",
              "    </tr>\n",
              "    <tr>\n",
              "      <th>9</th>\n",
              "      <td>Crime</td>\n",
              "      <td>0.102564</td>\n",
              "    </tr>\n",
              "    <tr>\n",
              "      <th>10</th>\n",
              "      <td>Comedy</td>\n",
              "      <td>0.076923</td>\n",
              "    </tr>\n",
              "    <tr>\n",
              "      <th>11</th>\n",
              "      <td>Family</td>\n",
              "      <td>0.076923</td>\n",
              "    </tr>\n",
              "    <tr>\n",
              "      <th>12</th>\n",
              "      <td>Mystery</td>\n",
              "      <td>0.051282</td>\n",
              "    </tr>\n",
              "    <tr>\n",
              "      <th>13</th>\n",
              "      <td>Romance</td>\n",
              "      <td>0.051282</td>\n",
              "    </tr>\n",
              "    <tr>\n",
              "      <th>14</th>\n",
              "      <td>Western</td>\n",
              "      <td>0.025641</td>\n",
              "    </tr>\n",
              "    <tr>\n",
              "      <th>15</th>\n",
              "      <td>Documentary</td>\n",
              "      <td>0.025641</td>\n",
              "    </tr>\n",
              "  </tbody>\n",
              "</table>\n",
              "</div>"
            ],
            "text/plain": [
              "          genre      prob\n",
              "0         Drama  0.435897\n",
              "1      Thriller  0.282051\n",
              "2     Adventure  0.282051\n",
              "3        Sci-Fi  0.256410\n",
              "4        Action  0.230769\n",
              "5        Horror  0.179487\n",
              "6         Short  0.128205\n",
              "7       Fantasy  0.102564\n",
              "8           War  0.102564\n",
              "9         Crime  0.102564\n",
              "10       Comedy  0.076923\n",
              "11       Family  0.076923\n",
              "12      Mystery  0.051282\n",
              "13      Romance  0.051282\n",
              "14      Western  0.025641\n",
              "15  Documentary  0.025641"
            ]
          },
          "metadata": {
            "tags": []
          },
          "execution_count": 22
        }
      ]
    },
    {
      "cell_type": "markdown",
      "metadata": {
        "id": "clOP1qF6vLQo"
      },
      "source": [
        "#### Find the id of the movie Schindler's List."
      ]
    },
    {
      "cell_type": "code",
      "metadata": {
        "id": "QymafZtRvLQo",
        "colab": {
          "base_uri": "https://localhost:8080/",
          "height": 99
        },
        "outputId": "9a02a02b-ca35-4a12-a4bf-a6b3c143698c"
      },
      "source": [
        "%%read_sql\n",
        "SELECT *\n",
        "FROM movies\n",
        "WHERE name = \"Schindler's List\""
      ],
      "execution_count": 23,
      "outputs": [
        {
          "output_type": "stream",
          "text": [
            "Query started at 12:39:25 AM UTC; Query executed in 0.01 m"
          ],
          "name": "stdout"
        },
        {
          "output_type": "execute_result",
          "data": {
            "text/html": [
              "<div>\n",
              "<style scoped>\n",
              "    .dataframe tbody tr th:only-of-type {\n",
              "        vertical-align: middle;\n",
              "    }\n",
              "\n",
              "    .dataframe tbody tr th {\n",
              "        vertical-align: top;\n",
              "    }\n",
              "\n",
              "    .dataframe thead th {\n",
              "        text-align: right;\n",
              "    }\n",
              "</style>\n",
              "<table border=\"1\" class=\"dataframe\">\n",
              "  <thead>\n",
              "    <tr style=\"text-align: right;\">\n",
              "      <th></th>\n",
              "      <th>id</th>\n",
              "      <th>name</th>\n",
              "      <th>year</th>\n",
              "      <th>rank</th>\n",
              "    </tr>\n",
              "  </thead>\n",
              "  <tbody>\n",
              "    <tr>\n",
              "      <th>0</th>\n",
              "      <td>290070</td>\n",
              "      <td>Schindler's List</td>\n",
              "      <td>1993</td>\n",
              "      <td>8.8</td>\n",
              "    </tr>\n",
              "  </tbody>\n",
              "</table>\n",
              "</div>"
            ],
            "text/plain": [
              "       id              name  year  rank\n",
              "0  290070  Schindler's List  1993   8.8"
            ]
          },
          "metadata": {
            "tags": []
          },
          "execution_count": 23
        }
      ]
    },
    {
      "cell_type": "markdown",
      "metadata": {
        "id": "0xAFjxLAvLQp"
      },
      "source": [
        "#### List all the roles for the movie with id 290070. Sort them alphabetically"
      ]
    },
    {
      "cell_type": "code",
      "metadata": {
        "id": "F3MNWb18vLQp",
        "colab": {
          "base_uri": "https://localhost:8080/",
          "height": 442
        },
        "outputId": "5a129220-871f-4159-8f8f-3e1be71a720e"
      },
      "source": [
        "%%read_sql\n",
        "SELECT *\n",
        "FROM roles\n",
        "WHERE movie_id = '290070' order by role"
      ],
      "execution_count": 25,
      "outputs": [
        {
          "output_type": "stream",
          "text": [
            "Query started at 12:40:04 AM UTC; Query executed in 0.01 m"
          ],
          "name": "stdout"
        },
        {
          "output_type": "execute_result",
          "data": {
            "text/html": [
              "<div>\n",
              "<style scoped>\n",
              "    .dataframe tbody tr th:only-of-type {\n",
              "        vertical-align: middle;\n",
              "    }\n",
              "\n",
              "    .dataframe tbody tr th {\n",
              "        vertical-align: top;\n",
              "    }\n",
              "\n",
              "    .dataframe thead th {\n",
              "        text-align: right;\n",
              "    }\n",
              "</style>\n",
              "<table border=\"1\" class=\"dataframe\">\n",
              "  <thead>\n",
              "    <tr style=\"text-align: right;\">\n",
              "      <th></th>\n",
              "      <th>actor_id</th>\n",
              "      <th>movie_id</th>\n",
              "      <th>role</th>\n",
              "    </tr>\n",
              "  </thead>\n",
              "  <tbody>\n",
              "    <tr>\n",
              "      <th>0</th>\n",
              "      <td>589844</td>\n",
              "      <td>290070</td>\n",
              "      <td>None</td>\n",
              "    </tr>\n",
              "    <tr>\n",
              "      <th>1</th>\n",
              "      <td>505804</td>\n",
              "      <td>290070</td>\n",
              "      <td>Albert Hujar</td>\n",
              "    </tr>\n",
              "    <tr>\n",
              "      <th>2</th>\n",
              "      <td>150137</td>\n",
              "      <td>290070</td>\n",
              "      <td>Amon Goeth</td>\n",
              "    </tr>\n",
              "    <tr>\n",
              "      <th>3</th>\n",
              "      <td>14688</td>\n",
              "      <td>290070</td>\n",
              "      <td>Auschwitz guard</td>\n",
              "    </tr>\n",
              "    <tr>\n",
              "      <th>4</th>\n",
              "      <td>66350</td>\n",
              "      <td>290070</td>\n",
              "      <td>Auschwitz guard</td>\n",
              "    </tr>\n",
              "    <tr>\n",
              "      <th>...</th>\n",
              "      <td>...</td>\n",
              "      <td>...</td>\n",
              "      <td>...</td>\n",
              "    </tr>\n",
              "    <tr>\n",
              "      <th>141</th>\n",
              "      <td>430016</td>\n",
              "      <td>290070</td>\n",
              "      <td>Waffen SS man</td>\n",
              "    </tr>\n",
              "    <tr>\n",
              "      <th>142</th>\n",
              "      <td>271245</td>\n",
              "      <td>290070</td>\n",
              "      <td>Waffen SS officer</td>\n",
              "    </tr>\n",
              "    <tr>\n",
              "      <th>143</th>\n",
              "      <td>383090</td>\n",
              "      <td>290070</td>\n",
              "      <td>Waiter</td>\n",
              "    </tr>\n",
              "    <tr>\n",
              "      <th>144</th>\n",
              "      <td>276576</td>\n",
              "      <td>290070</td>\n",
              "      <td>Wilek Chilowicz</td>\n",
              "    </tr>\n",
              "    <tr>\n",
              "      <th>145</th>\n",
              "      <td>344532</td>\n",
              "      <td>290070</td>\n",
              "      <td>Wilhelm Kunde</td>\n",
              "    </tr>\n",
              "  </tbody>\n",
              "</table>\n",
              "<p>146 rows × 3 columns</p>\n",
              "</div>"
            ],
            "text/plain": [
              "     actor_id  movie_id               role\n",
              "0      589844    290070               None\n",
              "1      505804    290070       Albert Hujar\n",
              "2      150137    290070         Amon Goeth\n",
              "3       14688    290070    Auschwitz guard\n",
              "4       66350    290070    Auschwitz guard\n",
              "..        ...       ...                ...\n",
              "141    430016    290070      Waffen SS man\n",
              "142    271245    290070  Waffen SS officer\n",
              "143    383090    290070             Waiter\n",
              "144    276576    290070    Wilek Chilowicz\n",
              "145    344532    290070      Wilhelm Kunde\n",
              "\n",
              "[146 rows x 3 columns]"
            ]
          },
          "metadata": {
            "tags": []
          },
          "execution_count": 25
        }
      ]
    },
    {
      "cell_type": "markdown",
      "metadata": {
        "id": "-PMcchqyvLQp"
      },
      "source": [
        "### SELECT Queries (Facebook database)"
      ]
    },
    {
      "cell_type": "code",
      "metadata": {
        "id": "2kpXTjXtvLQp",
        "colab": {
          "base_uri": "https://localhost:8080/"
        },
        "outputId": "d14f2da1-3160-4236-8ba4-5ff201f260a9"
      },
      "source": [
        "%%read_sql\n",
        "USE facebook"
      ],
      "execution_count": 26,
      "outputs": [
        {
          "output_type": "stream",
          "text": [
            "Query started at 12:40:30 AM UTC; Query executed in 0.01 m"
          ],
          "name": "stdout"
        },
        {
          "output_type": "execute_result",
          "data": {
            "text/plain": [
              "<sql_magic.exceptions.EmptyResult at 0x7f54571b68d0>"
            ]
          },
          "metadata": {
            "tags": []
          },
          "execution_count": 26
        }
      ]
    },
    {
      "cell_type": "markdown",
      "metadata": {
        "id": "_rcUiGNwvLQp"
      },
      "source": [
        "#### Find all names of students FROM the Profiles table"
      ]
    },
    {
      "cell_type": "code",
      "metadata": {
        "id": "ZOdpYMfRvLQq",
        "colab": {
          "base_uri": "https://localhost:8080/",
          "height": 442
        },
        "outputId": "9f5ad941-f6da-493d-de27-b5d8bf8e78e0"
      },
      "source": [
        "%%read_sql\n",
        "SELECT name\n",
        "FROM Profiles"
      ],
      "execution_count": 27,
      "outputs": [
        {
          "output_type": "stream",
          "text": [
            "Query started at 12:40:37 AM UTC; Query executed in 0.01 m"
          ],
          "name": "stdout"
        },
        {
          "output_type": "execute_result",
          "data": {
            "text/html": [
              "<div>\n",
              "<style scoped>\n",
              "    .dataframe tbody tr th:only-of-type {\n",
              "        vertical-align: middle;\n",
              "    }\n",
              "\n",
              "    .dataframe tbody tr th {\n",
              "        vertical-align: top;\n",
              "    }\n",
              "\n",
              "    .dataframe thead th {\n",
              "        text-align: right;\n",
              "    }\n",
              "</style>\n",
              "<table border=\"1\" class=\"dataframe\">\n",
              "  <thead>\n",
              "    <tr style=\"text-align: right;\">\n",
              "      <th></th>\n",
              "      <th>name</th>\n",
              "    </tr>\n",
              "  </thead>\n",
              "  <tbody>\n",
              "    <tr>\n",
              "      <th>0</th>\n",
              "      <td>The Creator</td>\n",
              "    </tr>\n",
              "    <tr>\n",
              "      <th>1</th>\n",
              "      <td>Brian Whitton</td>\n",
              "    </tr>\n",
              "    <tr>\n",
              "      <th>2</th>\n",
              "      <td>Anita Nagwani</td>\n",
              "    </tr>\n",
              "    <tr>\n",
              "      <th>3</th>\n",
              "      <td>Sunny Kim</td>\n",
              "    </tr>\n",
              "    <tr>\n",
              "      <th>4</th>\n",
              "      <td>Ariel Podwal</td>\n",
              "    </tr>\n",
              "    <tr>\n",
              "      <th>...</th>\n",
              "      <td>...</td>\n",
              "    </tr>\n",
              "    <tr>\n",
              "      <th>25779</th>\n",
              "      <td>Jen Slovin</td>\n",
              "    </tr>\n",
              "    <tr>\n",
              "      <th>25780</th>\n",
              "      <td>Kumi Dikengil</td>\n",
              "    </tr>\n",
              "    <tr>\n",
              "      <th>25781</th>\n",
              "      <td>Sky Gaven</td>\n",
              "    </tr>\n",
              "    <tr>\n",
              "      <th>25782</th>\n",
              "      <td>Eli Brown</td>\n",
              "    </tr>\n",
              "    <tr>\n",
              "      <th>25783</th>\n",
              "      <td>Tunga Mbia</td>\n",
              "    </tr>\n",
              "  </tbody>\n",
              "</table>\n",
              "<p>25784 rows × 1 columns</p>\n",
              "</div>"
            ],
            "text/plain": [
              "                name\n",
              "0        The Creator\n",
              "1      Brian Whitton\n",
              "2      Anita Nagwani\n",
              "3          Sunny Kim\n",
              "4       Ariel Podwal\n",
              "...              ...\n",
              "25779     Jen Slovin\n",
              "25780  Kumi Dikengil\n",
              "25781      Sky Gaven\n",
              "25782      Eli Brown\n",
              "25783     Tunga Mbia\n",
              "\n",
              "[25784 rows x 1 columns]"
            ]
          },
          "metadata": {
            "tags": []
          },
          "execution_count": 27
        }
      ]
    },
    {
      "cell_type": "markdown",
      "metadata": {
        "id": "eHK-1g7dvLQq"
      },
      "source": [
        "#### Get the names and sex of all liberal students"
      ]
    },
    {
      "cell_type": "code",
      "metadata": {
        "id": "f7lAII9gvLQr",
        "colab": {
          "base_uri": "https://localhost:8080/",
          "height": 442
        },
        "outputId": "3e168db3-b2f7-47e8-dcb4-837e93dba68d"
      },
      "source": [
        "%%read_sql\n",
        "SELECT name, sex\n",
        "FROM Profiles\n",
        "WHERE PoliticalViews ='Liberal'"
      ],
      "execution_count": 28,
      "outputs": [
        {
          "output_type": "stream",
          "text": [
            "Query started at 12:40:45 AM UTC; Query executed in 0.01 m"
          ],
          "name": "stdout"
        },
        {
          "output_type": "execute_result",
          "data": {
            "text/html": [
              "<div>\n",
              "<style scoped>\n",
              "    .dataframe tbody tr th:only-of-type {\n",
              "        vertical-align: middle;\n",
              "    }\n",
              "\n",
              "    .dataframe tbody tr th {\n",
              "        vertical-align: top;\n",
              "    }\n",
              "\n",
              "    .dataframe thead th {\n",
              "        text-align: right;\n",
              "    }\n",
              "</style>\n",
              "<table border=\"1\" class=\"dataframe\">\n",
              "  <thead>\n",
              "    <tr style=\"text-align: right;\">\n",
              "      <th></th>\n",
              "      <th>name</th>\n",
              "      <th>sex</th>\n",
              "    </tr>\n",
              "  </thead>\n",
              "  <tbody>\n",
              "    <tr>\n",
              "      <th>0</th>\n",
              "      <td>Stephanie Lai</td>\n",
              "      <td>Female</td>\n",
              "    </tr>\n",
              "    <tr>\n",
              "      <th>1</th>\n",
              "      <td>Josh Fern</td>\n",
              "      <td>Male</td>\n",
              "    </tr>\n",
              "    <tr>\n",
              "      <th>2</th>\n",
              "      <td>Blaine Davis</td>\n",
              "      <td>Male</td>\n",
              "    </tr>\n",
              "    <tr>\n",
              "      <th>3</th>\n",
              "      <td>Sacha Kenton</td>\n",
              "      <td>Female</td>\n",
              "    </tr>\n",
              "    <tr>\n",
              "      <th>4</th>\n",
              "      <td>Kelly Quann</td>\n",
              "      <td>Female</td>\n",
              "    </tr>\n",
              "    <tr>\n",
              "      <th>...</th>\n",
              "      <td>...</td>\n",
              "      <td>...</td>\n",
              "    </tr>\n",
              "    <tr>\n",
              "      <th>6456</th>\n",
              "      <td>Maggie Winterfeldt</td>\n",
              "      <td>None</td>\n",
              "    </tr>\n",
              "    <tr>\n",
              "      <th>6457</th>\n",
              "      <td>Sonia Avila</td>\n",
              "      <td>None</td>\n",
              "    </tr>\n",
              "    <tr>\n",
              "      <th>6458</th>\n",
              "      <td>Kat Redniss</td>\n",
              "      <td>Female</td>\n",
              "    </tr>\n",
              "    <tr>\n",
              "      <th>6459</th>\n",
              "      <td>Haby Barry</td>\n",
              "      <td>Female</td>\n",
              "    </tr>\n",
              "    <tr>\n",
              "      <th>6460</th>\n",
              "      <td>Tu-Lien Nguyen</td>\n",
              "      <td>Female</td>\n",
              "    </tr>\n",
              "  </tbody>\n",
              "</table>\n",
              "<p>6461 rows × 2 columns</p>\n",
              "</div>"
            ],
            "text/plain": [
              "                    name     sex\n",
              "0          Stephanie Lai  Female\n",
              "1              Josh Fern    Male\n",
              "2           Blaine Davis    Male\n",
              "3           Sacha Kenton  Female\n",
              "4            Kelly Quann  Female\n",
              "...                  ...     ...\n",
              "6456  Maggie Winterfeldt    None\n",
              "6457         Sonia Avila    None\n",
              "6458         Kat Redniss  Female\n",
              "6459          Haby Barry  Female\n",
              "6460      Tu-Lien Nguyen  Female\n",
              "\n",
              "[6461 rows x 2 columns]"
            ]
          },
          "metadata": {
            "tags": []
          },
          "execution_count": 28
        }
      ]
    },
    {
      "cell_type": "markdown",
      "metadata": {
        "id": "FMsBPnP5vLQr"
      },
      "source": [
        "#### Get the High Schools of the students in the database"
      ]
    },
    {
      "cell_type": "code",
      "metadata": {
        "id": "Wf9j2b7DvLQr",
        "colab": {
          "base_uri": "https://localhost:8080/",
          "height": 442
        },
        "outputId": "c0ba0186-17be-4b71-e11e-70e02d33813a"
      },
      "source": [
        "%%read_sql\n",
        "SELECT HighSchool\n",
        "FROM Profiles"
      ],
      "execution_count": 29,
      "outputs": [
        {
          "output_type": "stream",
          "text": [
            "Query started at 12:40:52 AM UTC; Query executed in 0.01 m"
          ],
          "name": "stdout"
        },
        {
          "output_type": "execute_result",
          "data": {
            "text/html": [
              "<div>\n",
              "<style scoped>\n",
              "    .dataframe tbody tr th:only-of-type {\n",
              "        vertical-align: middle;\n",
              "    }\n",
              "\n",
              "    .dataframe tbody tr th {\n",
              "        vertical-align: top;\n",
              "    }\n",
              "\n",
              "    .dataframe thead th {\n",
              "        text-align: right;\n",
              "    }\n",
              "</style>\n",
              "<table border=\"1\" class=\"dataframe\">\n",
              "  <thead>\n",
              "    <tr style=\"text-align: right;\">\n",
              "      <th></th>\n",
              "      <th>HighSchool</th>\n",
              "    </tr>\n",
              "  </thead>\n",
              "  <tbody>\n",
              "    <tr>\n",
              "      <th>0</th>\n",
              "      <td>None</td>\n",
              "    </tr>\n",
              "    <tr>\n",
              "      <th>1</th>\n",
              "      <td>George W.Hewlett High School</td>\n",
              "    </tr>\n",
              "    <tr>\n",
              "      <th>2</th>\n",
              "      <td>Ward Melville Senior High School '02</td>\n",
              "    </tr>\n",
              "    <tr>\n",
              "      <th>3</th>\n",
              "      <td>West Windsor Plainsboro High School South '03</td>\n",
              "    </tr>\n",
              "    <tr>\n",
              "      <th>4</th>\n",
              "      <td>Harrison High School '03</td>\n",
              "    </tr>\n",
              "    <tr>\n",
              "      <th>...</th>\n",
              "      <td>...</td>\n",
              "    </tr>\n",
              "    <tr>\n",
              "      <th>25779</th>\n",
              "      <td>Worcester Academy '04</td>\n",
              "    </tr>\n",
              "    <tr>\n",
              "      <th>25780</th>\n",
              "      <td>None</td>\n",
              "    </tr>\n",
              "    <tr>\n",
              "      <th>25781</th>\n",
              "      <td>None</td>\n",
              "    </tr>\n",
              "    <tr>\n",
              "      <th>25782</th>\n",
              "      <td>None</td>\n",
              "    </tr>\n",
              "    <tr>\n",
              "      <th>25783</th>\n",
              "      <td>None</td>\n",
              "    </tr>\n",
              "  </tbody>\n",
              "</table>\n",
              "<p>25784 rows × 1 columns</p>\n",
              "</div>"
            ],
            "text/plain": [
              "                                          HighSchool\n",
              "0                                               None\n",
              "1                       George W.Hewlett High School\n",
              "2               Ward Melville Senior High School '02\n",
              "3      West Windsor Plainsboro High School South '03\n",
              "4                           Harrison High School '03\n",
              "...                                              ...\n",
              "25779                          Worcester Academy '04\n",
              "25780                                           None\n",
              "25781                                           None\n",
              "25782                                           None\n",
              "25783                                           None\n",
              "\n",
              "[25784 rows x 1 columns]"
            ]
          },
          "metadata": {
            "tags": []
          },
          "execution_count": 29
        }
      ]
    },
    {
      "cell_type": "markdown",
      "metadata": {
        "id": "wc25pUijvLQr"
      },
      "source": [
        "#### Find all the possible political views, eliminating duplicate entries"
      ]
    },
    {
      "cell_type": "code",
      "metadata": {
        "id": "iP8083m4vLQr",
        "colab": {
          "base_uri": "https://localhost:8080/",
          "height": 350
        },
        "outputId": "76f973e6-ce7e-4b5f-f449-dd5ce324cd1c"
      },
      "source": [
        "%%read_sql\n",
        "SELECT DISTINCT PoliticalViews\n",
        "FROM Profiles"
      ],
      "execution_count": 30,
      "outputs": [
        {
          "output_type": "stream",
          "text": [
            "Query started at 12:40:57 AM UTC; Query executed in 0.01 m"
          ],
          "name": "stdout"
        },
        {
          "output_type": "execute_result",
          "data": {
            "text/html": [
              "<div>\n",
              "<style scoped>\n",
              "    .dataframe tbody tr th:only-of-type {\n",
              "        vertical-align: middle;\n",
              "    }\n",
              "\n",
              "    .dataframe tbody tr th {\n",
              "        vertical-align: top;\n",
              "    }\n",
              "\n",
              "    .dataframe thead th {\n",
              "        text-align: right;\n",
              "    }\n",
              "</style>\n",
              "<table border=\"1\" class=\"dataframe\">\n",
              "  <thead>\n",
              "    <tr style=\"text-align: right;\">\n",
              "      <th></th>\n",
              "      <th>PoliticalViews</th>\n",
              "    </tr>\n",
              "  </thead>\n",
              "  <tbody>\n",
              "    <tr>\n",
              "      <th>0</th>\n",
              "      <td>None</td>\n",
              "    </tr>\n",
              "    <tr>\n",
              "      <th>1</th>\n",
              "      <td>Libertarian</td>\n",
              "    </tr>\n",
              "    <tr>\n",
              "      <th>2</th>\n",
              "      <td>Conservative</td>\n",
              "    </tr>\n",
              "    <tr>\n",
              "      <th>3</th>\n",
              "      <td>Liberal</td>\n",
              "    </tr>\n",
              "    <tr>\n",
              "      <th>4</th>\n",
              "      <td>Apathetic</td>\n",
              "    </tr>\n",
              "    <tr>\n",
              "      <th>5</th>\n",
              "      <td>Moderate</td>\n",
              "    </tr>\n",
              "    <tr>\n",
              "      <th>6</th>\n",
              "      <td>Very Liberal</td>\n",
              "    </tr>\n",
              "    <tr>\n",
              "      <th>7</th>\n",
              "      <td>Very Conservative</td>\n",
              "    </tr>\n",
              "    <tr>\n",
              "      <th>8</th>\n",
              "      <td>Other</td>\n",
              "    </tr>\n",
              "  </tbody>\n",
              "</table>\n",
              "</div>"
            ],
            "text/plain": [
              "      PoliticalViews\n",
              "0               None\n",
              "1        Libertarian\n",
              "2       Conservative\n",
              "3            Liberal\n",
              "4          Apathetic\n",
              "5           Moderate\n",
              "6       Very Liberal\n",
              "7  Very Conservative\n",
              "8              Other"
            ]
          },
          "metadata": {
            "tags": []
          },
          "execution_count": 30
        }
      ]
    },
    {
      "cell_type": "markdown",
      "metadata": {
        "id": "r7DyZOLwvLQr"
      },
      "source": [
        "#### Find all possible relationship statuses"
      ]
    },
    {
      "cell_type": "code",
      "metadata": {
        "id": "3_gAXDKbvLQr",
        "colab": {
          "base_uri": "https://localhost:8080/",
          "height": 256
        },
        "outputId": "3e9514a8-0e5c-491e-ad10-9f5b4b6add05"
      },
      "source": [
        "%%read_sql\n",
        "SELECT DISTINCT Status\n",
        "FROM Relationship"
      ],
      "execution_count": 31,
      "outputs": [
        {
          "output_type": "stream",
          "text": [
            "Query started at 12:41:03 AM UTC; Query executed in 0.01 m"
          ],
          "name": "stdout"
        },
        {
          "output_type": "execute_result",
          "data": {
            "text/html": [
              "<div>\n",
              "<style scoped>\n",
              "    .dataframe tbody tr th:only-of-type {\n",
              "        vertical-align: middle;\n",
              "    }\n",
              "\n",
              "    .dataframe tbody tr th {\n",
              "        vertical-align: top;\n",
              "    }\n",
              "\n",
              "    .dataframe thead th {\n",
              "        text-align: right;\n",
              "    }\n",
              "</style>\n",
              "<table border=\"1\" class=\"dataframe\">\n",
              "  <thead>\n",
              "    <tr style=\"text-align: right;\">\n",
              "      <th></th>\n",
              "      <th>Status</th>\n",
              "    </tr>\n",
              "  </thead>\n",
              "  <tbody>\n",
              "    <tr>\n",
              "      <th>0</th>\n",
              "      <td>Single</td>\n",
              "    </tr>\n",
              "    <tr>\n",
              "      <th>1</th>\n",
              "      <td>In a Relationship</td>\n",
              "    </tr>\n",
              "    <tr>\n",
              "      <th>2</th>\n",
              "      <td>Married</td>\n",
              "    </tr>\n",
              "    <tr>\n",
              "      <th>3</th>\n",
              "      <td>In an Open Relationship</td>\n",
              "    </tr>\n",
              "    <tr>\n",
              "      <th>4</th>\n",
              "      <td>It's complicated</td>\n",
              "    </tr>\n",
              "    <tr>\n",
              "      <th>5</th>\n",
              "      <td>Engaged</td>\n",
              "    </tr>\n",
              "  </tbody>\n",
              "</table>\n",
              "</div>"
            ],
            "text/plain": [
              "                    Status\n",
              "0                   Single\n",
              "1        In a Relationship\n",
              "2                  Married\n",
              "3  In an Open Relationship\n",
              "4         It's complicated\n",
              "5                  Engaged"
            ]
          },
          "metadata": {
            "tags": []
          },
          "execution_count": 31
        }
      ]
    },
    {
      "cell_type": "markdown",
      "metadata": {
        "id": "vAlENk9UvLQr"
      },
      "source": [
        "#### Find all possible values for the “status” attribute in Profiles "
      ]
    },
    {
      "cell_type": "code",
      "metadata": {
        "id": "0YsX1TJyvLQs",
        "colab": {
          "base_uri": "https://localhost:8080/",
          "height": 287
        },
        "outputId": "d5c894a8-d53e-4e06-ab6c-9b2dc777da04"
      },
      "source": [
        "%%read_sql\n",
        "SELECT DISTINCT Status\n",
        "FROM Profiles"
      ],
      "execution_count": 32,
      "outputs": [
        {
          "output_type": "stream",
          "text": [
            "Query started at 12:41:07 AM UTC; Query executed in 0.01 m"
          ],
          "name": "stdout"
        },
        {
          "output_type": "execute_result",
          "data": {
            "text/html": [
              "<div>\n",
              "<style scoped>\n",
              "    .dataframe tbody tr th:only-of-type {\n",
              "        vertical-align: middle;\n",
              "    }\n",
              "\n",
              "    .dataframe tbody tr th {\n",
              "        vertical-align: top;\n",
              "    }\n",
              "\n",
              "    .dataframe thead th {\n",
              "        text-align: right;\n",
              "    }\n",
              "</style>\n",
              "<table border=\"1\" class=\"dataframe\">\n",
              "  <thead>\n",
              "    <tr style=\"text-align: right;\">\n",
              "      <th></th>\n",
              "      <th>Status</th>\n",
              "    </tr>\n",
              "  </thead>\n",
              "  <tbody>\n",
              "    <tr>\n",
              "      <th>0</th>\n",
              "      <td>Undergrad</td>\n",
              "    </tr>\n",
              "    <tr>\n",
              "      <th>1</th>\n",
              "      <td>Alumnus/Alumna</td>\n",
              "    </tr>\n",
              "    <tr>\n",
              "      <th>2</th>\n",
              "      <td>Faculty</td>\n",
              "    </tr>\n",
              "    <tr>\n",
              "      <th>3</th>\n",
              "      <td>Grad Student</td>\n",
              "    </tr>\n",
              "    <tr>\n",
              "      <th>4</th>\n",
              "      <td>None</td>\n",
              "    </tr>\n",
              "    <tr>\n",
              "      <th>5</th>\n",
              "      <td>Staff</td>\n",
              "    </tr>\n",
              "    <tr>\n",
              "      <th>6</th>\n",
              "      <td>Summer Student</td>\n",
              "    </tr>\n",
              "  </tbody>\n",
              "</table>\n",
              "</div>"
            ],
            "text/plain": [
              "           Status\n",
              "0       Undergrad\n",
              "1  Alumnus/Alumna\n",
              "2         Faculty\n",
              "3    Grad Student\n",
              "4            None\n",
              "5           Staff\n",
              "6  Summer Student"
            ]
          },
          "metadata": {
            "tags": []
          },
          "execution_count": 32
        }
      ]
    },
    {
      "cell_type": "markdown",
      "metadata": {
        "id": "Cpu91gepvLQs"
      },
      "source": [
        "#### Find all possible values for the “Residence” attribute in Profiles, eliminating duplicates"
      ]
    },
    {
      "cell_type": "code",
      "metadata": {
        "id": "lne9sDJjvLQt",
        "colab": {
          "base_uri": "https://localhost:8080/",
          "height": 442
        },
        "outputId": "81f4c529-c486-46a8-86a8-18de331f3757"
      },
      "source": [
        "%%read_sql\n",
        "SELECT DISTINCT Residence\n",
        "FROM Profiles"
      ],
      "execution_count": 33,
      "outputs": [
        {
          "output_type": "stream",
          "text": [
            "Query started at 12:41:11 AM UTC; Query executed in 0.01 m"
          ],
          "name": "stdout"
        },
        {
          "output_type": "execute_result",
          "data": {
            "text/html": [
              "<div>\n",
              "<style scoped>\n",
              "    .dataframe tbody tr th:only-of-type {\n",
              "        vertical-align: middle;\n",
              "    }\n",
              "\n",
              "    .dataframe tbody tr th {\n",
              "        vertical-align: top;\n",
              "    }\n",
              "\n",
              "    .dataframe thead th {\n",
              "        text-align: right;\n",
              "    }\n",
              "</style>\n",
              "<table border=\"1\" class=\"dataframe\">\n",
              "  <thead>\n",
              "    <tr style=\"text-align: right;\">\n",
              "      <th></th>\n",
              "      <th>Residence</th>\n",
              "    </tr>\n",
              "  </thead>\n",
              "  <tbody>\n",
              "    <tr>\n",
              "      <th>0</th>\n",
              "      <td>None</td>\n",
              "    </tr>\n",
              "    <tr>\n",
              "      <th>1</th>\n",
              "      <td>Thirteenth Street 5AN</td>\n",
              "    </tr>\n",
              "    <tr>\n",
              "      <th>2</th>\n",
              "      <td>Palladium 524D</td>\n",
              "    </tr>\n",
              "    <tr>\n",
              "      <th>3</th>\n",
              "      <td>Carlyle Court</td>\n",
              "    </tr>\n",
              "    <tr>\n",
              "      <th>4</th>\n",
              "      <td>Palladium 524F</td>\n",
              "    </tr>\n",
              "    <tr>\n",
              "      <th>...</th>\n",
              "      <td>...</td>\n",
              "    </tr>\n",
              "    <tr>\n",
              "      <th>5084</th>\n",
              "      <td>Cliff Street 17F</td>\n",
              "    </tr>\n",
              "    <tr>\n",
              "      <th>5085</th>\n",
              "      <td>Lafayette Street 1203B</td>\n",
              "    </tr>\n",
              "    <tr>\n",
              "      <th>5086</th>\n",
              "      <td>Weinstein Hall 423</td>\n",
              "    </tr>\n",
              "    <tr>\n",
              "      <th>5087</th>\n",
              "      <td>Broome Street 706A</td>\n",
              "    </tr>\n",
              "    <tr>\n",
              "      <th>5088</th>\n",
              "      <td>Lafayette Street 1502A</td>\n",
              "    </tr>\n",
              "  </tbody>\n",
              "</table>\n",
              "<p>5089 rows × 1 columns</p>\n",
              "</div>"
            ],
            "text/plain": [
              "                   Residence\n",
              "0                       None\n",
              "1      Thirteenth Street 5AN\n",
              "2             Palladium 524D\n",
              "3             Carlyle Court \n",
              "4             Palladium 524F\n",
              "...                      ...\n",
              "5084        Cliff Street 17F\n",
              "5085  Lafayette Street 1203B\n",
              "5086      Weinstein Hall 423\n",
              "5087      Broome Street 706A\n",
              "5088  Lafayette Street 1502A\n",
              "\n",
              "[5089 rows x 1 columns]"
            ]
          },
          "metadata": {
            "tags": []
          },
          "execution_count": 33
        }
      ]
    },
    {
      "cell_type": "markdown",
      "metadata": {
        "id": "-1DSitVpvLQt"
      },
      "source": [
        "#### Find all students living in Palladium"
      ]
    },
    {
      "cell_type": "code",
      "metadata": {
        "id": "8_6Cb1N9vLQu",
        "colab": {
          "base_uri": "https://localhost:8080/",
          "height": 442
        },
        "outputId": "753d1ecc-01cb-4710-c985-bf6441d4b0c6"
      },
      "source": [
        "%%read_sql\n",
        "SELECT Name, Residence\n",
        "FROM Profiles\n",
        "WHERE Residence LIKE 'Palladium%%'"
      ],
      "execution_count": 34,
      "outputs": [
        {
          "output_type": "stream",
          "text": [
            "Query started at 12:41:15 AM UTC; Query executed in 0.01 m"
          ],
          "name": "stdout"
        },
        {
          "output_type": "execute_result",
          "data": {
            "text/html": [
              "<div>\n",
              "<style scoped>\n",
              "    .dataframe tbody tr th:only-of-type {\n",
              "        vertical-align: middle;\n",
              "    }\n",
              "\n",
              "    .dataframe tbody tr th {\n",
              "        vertical-align: top;\n",
              "    }\n",
              "\n",
              "    .dataframe thead th {\n",
              "        text-align: right;\n",
              "    }\n",
              "</style>\n",
              "<table border=\"1\" class=\"dataframe\">\n",
              "  <thead>\n",
              "    <tr style=\"text-align: right;\">\n",
              "      <th></th>\n",
              "      <th>Name</th>\n",
              "      <th>Residence</th>\n",
              "    </tr>\n",
              "  </thead>\n",
              "  <tbody>\n",
              "    <tr>\n",
              "      <th>0</th>\n",
              "      <td>Ariel Podwal</td>\n",
              "      <td>Palladium 524D</td>\n",
              "    </tr>\n",
              "    <tr>\n",
              "      <th>1</th>\n",
              "      <td>Josh Fern</td>\n",
              "      <td>Palladium 524F</td>\n",
              "    </tr>\n",
              "    <tr>\n",
              "      <th>2</th>\n",
              "      <td>Santosh Sateesh</td>\n",
              "      <td>Palladium 603</td>\n",
              "    </tr>\n",
              "    <tr>\n",
              "      <th>3</th>\n",
              "      <td>Holly Hamilton</td>\n",
              "      <td>Palladium</td>\n",
              "    </tr>\n",
              "    <tr>\n",
              "      <th>4</th>\n",
              "      <td>Yuriy Prilutskiy</td>\n",
              "      <td>Palladium 1114</td>\n",
              "    </tr>\n",
              "    <tr>\n",
              "      <th>...</th>\n",
              "      <td>...</td>\n",
              "      <td>...</td>\n",
              "    </tr>\n",
              "    <tr>\n",
              "      <th>776</th>\n",
              "      <td>David Laubach</td>\n",
              "      <td>Palladium</td>\n",
              "    </tr>\n",
              "    <tr>\n",
              "      <th>777</th>\n",
              "      <td>Michael Chang</td>\n",
              "      <td>Palladium 2302</td>\n",
              "    </tr>\n",
              "    <tr>\n",
              "      <th>778</th>\n",
              "      <td>Hiro Fukuda</td>\n",
              "      <td>Palladium</td>\n",
              "    </tr>\n",
              "    <tr>\n",
              "      <th>779</th>\n",
              "      <td>Elizabeth Demas</td>\n",
              "      <td>Palladium 827B</td>\n",
              "    </tr>\n",
              "    <tr>\n",
              "      <th>780</th>\n",
              "      <td>Nicole Rosen</td>\n",
              "      <td>Palladium</td>\n",
              "    </tr>\n",
              "  </tbody>\n",
              "</table>\n",
              "<p>781 rows × 2 columns</p>\n",
              "</div>"
            ],
            "text/plain": [
              "                 Name       Residence\n",
              "0        Ariel Podwal  Palladium 524D\n",
              "1           Josh Fern  Palladium 524F\n",
              "2     Santosh Sateesh   Palladium 603\n",
              "3      Holly Hamilton      Palladium \n",
              "4    Yuriy Prilutskiy  Palladium 1114\n",
              "..                ...             ...\n",
              "776     David Laubach      Palladium \n",
              "777     Michael Chang  Palladium 2302\n",
              "778       Hiro Fukuda      Palladium \n",
              "779   Elizabeth Demas  Palladium 827B\n",
              "780      Nicole Rosen      Palladium \n",
              "\n",
              "[781 rows x 2 columns]"
            ]
          },
          "metadata": {
            "tags": []
          },
          "execution_count": 34
        }
      ]
    },
    {
      "cell_type": "markdown",
      "metadata": {
        "id": "4ghM9qdUvLQv"
      },
      "source": [
        "#### Find all students who attended Stuyvesant"
      ]
    },
    {
      "cell_type": "code",
      "metadata": {
        "id": "iWRq7MatvLQv",
        "colab": {
          "base_uri": "https://localhost:8080/",
          "height": 792
        },
        "outputId": "84fec9e2-b859-4819-be07-180564855e96"
      },
      "source": [
        "%%read_sql\n",
        "SELECT *\n",
        "FROM Profiles\n",
        "WHERE HighSchool LIKE 'Stuyvesant%%'"
      ],
      "execution_count": 35,
      "outputs": [
        {
          "output_type": "stream",
          "text": [
            "Query started at 12:41:20 AM UTC; Query executed in 0.01 m"
          ],
          "name": "stdout"
        },
        {
          "output_type": "execute_result",
          "data": {
            "text/html": [
              "<div>\n",
              "<style scoped>\n",
              "    .dataframe tbody tr th:only-of-type {\n",
              "        vertical-align: middle;\n",
              "    }\n",
              "\n",
              "    .dataframe tbody tr th {\n",
              "        vertical-align: top;\n",
              "    }\n",
              "\n",
              "    .dataframe thead th {\n",
              "        text-align: right;\n",
              "    }\n",
              "</style>\n",
              "<table border=\"1\" class=\"dataframe\">\n",
              "  <thead>\n",
              "    <tr style=\"text-align: right;\">\n",
              "      <th></th>\n",
              "      <th>ProfileID</th>\n",
              "      <th>Name</th>\n",
              "      <th>MemberSince</th>\n",
              "      <th>LastUpdate</th>\n",
              "      <th>School</th>\n",
              "      <th>Status</th>\n",
              "      <th>Sex</th>\n",
              "      <th>Birthday</th>\n",
              "      <th>AIM</th>\n",
              "      <th>Website</th>\n",
              "      <th>PoliticalViews</th>\n",
              "      <th>Geography</th>\n",
              "      <th>HighSchool</th>\n",
              "      <th>HomeTown</th>\n",
              "      <th>HomeState</th>\n",
              "      <th>Residence</th>\n",
              "      <th>CurrentAddress</th>\n",
              "      <th>CurrentTown</th>\n",
              "      <th>CurrentState</th>\n",
              "    </tr>\n",
              "  </thead>\n",
              "  <tbody>\n",
              "    <tr>\n",
              "      <th>0</th>\n",
              "      <td>800073</td>\n",
              "      <td>Jueyu Wang</td>\n",
              "      <td>2004-03-23</td>\n",
              "      <td>2006-01-08</td>\n",
              "      <td>NYU '07</td>\n",
              "      <td>Undergrad</td>\n",
              "      <td>Female</td>\n",
              "      <td>1985-06-02</td>\n",
              "      <td>myheadwuzbumped</td>\n",
              "      <td>None</td>\n",
              "      <td>Moderate</td>\n",
              "      <td>None</td>\n",
              "      <td>Stuyvesant High School '03</td>\n",
              "      <td>Brooklyn, NY</td>\n",
              "      <td>None</td>\n",
              "      <td>None</td>\n",
              "      <td>None</td>\n",
              "      <td>None</td>\n",
              "      <td>None</td>\n",
              "    </tr>\n",
              "    <tr>\n",
              "      <th>1</th>\n",
              "      <td>800077</td>\n",
              "      <td>Sean Brandt</td>\n",
              "      <td>2004-03-23</td>\n",
              "      <td>2005-09-23</td>\n",
              "      <td>NYU '07</td>\n",
              "      <td>Undergrad</td>\n",
              "      <td>Male</td>\n",
              "      <td>1985-07-17</td>\n",
              "      <td>yo soy el dorko</td>\n",
              "      <td>http://livejournal.com/~seanpictures</td>\n",
              "      <td>Liberal</td>\n",
              "      <td>None</td>\n",
              "      <td>Stuyvesant High School '03</td>\n",
              "      <td>Staten Island, NY</td>\n",
              "      <td>None</td>\n",
              "      <td>None</td>\n",
              "      <td>105 Lincoln Rd., Apt. 3J Brooklyn, NY</td>\n",
              "      <td>None</td>\n",
              "      <td>None</td>\n",
              "    </tr>\n",
              "    <tr>\n",
              "      <th>2</th>\n",
              "      <td>800083</td>\n",
              "      <td>George Liu</td>\n",
              "      <td>2004-03-23</td>\n",
              "      <td>2005-12-30</td>\n",
              "      <td>NYU '07</td>\n",
              "      <td>Undergrad</td>\n",
              "      <td>Male</td>\n",
              "      <td>1985-11-11</td>\n",
              "      <td>MEGAmorphG</td>\n",
              "      <td>None</td>\n",
              "      <td>Apathetic</td>\n",
              "      <td>None</td>\n",
              "      <td>Stuyvesant High School '03</td>\n",
              "      <td>New York, NY</td>\n",
              "      <td>None</td>\n",
              "      <td>None</td>\n",
              "      <td>None</td>\n",
              "      <td>None</td>\n",
              "      <td>None</td>\n",
              "    </tr>\n",
              "    <tr>\n",
              "      <th>3</th>\n",
              "      <td>800092</td>\n",
              "      <td>Hong Li</td>\n",
              "      <td>2004-03-23</td>\n",
              "      <td>2006-01-08</td>\n",
              "      <td>NYU '07</td>\n",
              "      <td>Undergrad</td>\n",
              "      <td>Female</td>\n",
              "      <td>1985-12-28</td>\n",
              "      <td>lilhacp1228</td>\n",
              "      <td>None</td>\n",
              "      <td>Liberal</td>\n",
              "      <td>None</td>\n",
              "      <td>Stuyvesant High School '03</td>\n",
              "      <td>Whitestone, NY</td>\n",
              "      <td>None</td>\n",
              "      <td>None</td>\n",
              "      <td>195 E. 4th St New York, NY 10009</td>\n",
              "      <td>None</td>\n",
              "      <td>None</td>\n",
              "    </tr>\n",
              "    <tr>\n",
              "      <th>4</th>\n",
              "      <td>800356</td>\n",
              "      <td>Peter Naas</td>\n",
              "      <td>2004-03-26</td>\n",
              "      <td>2006-01-17</td>\n",
              "      <td>NYU</td>\n",
              "      <td>Undergrad</td>\n",
              "      <td>None</td>\n",
              "      <td>1985-09-01</td>\n",
              "      <td>silent4042</td>\n",
              "      <td>http://en.wikipedia.org/wiki/Eddie_Slovi...</td>\n",
              "      <td>None</td>\n",
              "      <td>None</td>\n",
              "      <td>Stuyvesant High School '03</td>\n",
              "      <td>Cop Killer Queens</td>\n",
              "      <td>None</td>\n",
              "      <td>Carlyle Court C310CA</td>\n",
              "      <td>None</td>\n",
              "      <td>None</td>\n",
              "      <td>None</td>\n",
              "    </tr>\n",
              "    <tr>\n",
              "      <th>...</th>\n",
              "      <td>...</td>\n",
              "      <td>...</td>\n",
              "      <td>...</td>\n",
              "      <td>...</td>\n",
              "      <td>...</td>\n",
              "      <td>...</td>\n",
              "      <td>...</td>\n",
              "      <td>...</td>\n",
              "      <td>...</td>\n",
              "      <td>...</td>\n",
              "      <td>...</td>\n",
              "      <td>...</td>\n",
              "      <td>...</td>\n",
              "      <td>...</td>\n",
              "      <td>...</td>\n",
              "      <td>...</td>\n",
              "      <td>...</td>\n",
              "      <td>...</td>\n",
              "      <td>...</td>\n",
              "    </tr>\n",
              "    <tr>\n",
              "      <th>232</th>\n",
              "      <td>831501</td>\n",
              "      <td>Eliza Chan</td>\n",
              "      <td>2005-10-18</td>\n",
              "      <td>2005-11-02</td>\n",
              "      <td>NYU '09</td>\n",
              "      <td>Undergrad</td>\n",
              "      <td>Female</td>\n",
              "      <td>1987-11-05</td>\n",
              "      <td>BlackSerene</td>\n",
              "      <td>None</td>\n",
              "      <td>None</td>\n",
              "      <td>None</td>\n",
              "      <td>Stuyvesant High School '05</td>\n",
              "      <td>Brooklyn, NY 11229</td>\n",
              "      <td>None</td>\n",
              "      <td>None</td>\n",
              "      <td>None</td>\n",
              "      <td>Brooklyn, NY 11229</td>\n",
              "      <td>None</td>\n",
              "    </tr>\n",
              "    <tr>\n",
              "      <th>233</th>\n",
              "      <td>831928</td>\n",
              "      <td>Jeff Strabone</td>\n",
              "      <td>2005-10-30</td>\n",
              "      <td>2006-01-12</td>\n",
              "      <td>NYU</td>\n",
              "      <td>Undergrad</td>\n",
              "      <td>None</td>\n",
              "      <td>NaT</td>\n",
              "      <td>None</td>\n",
              "      <td>http://www.lavasurfer.com/cereal-guide.h...</td>\n",
              "      <td>None</td>\n",
              "      <td>None</td>\n",
              "      <td>Stuyvesant High School</td>\n",
              "      <td>None</td>\n",
              "      <td>None</td>\n",
              "      <td>None</td>\n",
              "      <td>None</td>\n",
              "      <td>Brooklyn, NY</td>\n",
              "      <td>None</td>\n",
              "    </tr>\n",
              "    <tr>\n",
              "      <th>234</th>\n",
              "      <td>832061</td>\n",
              "      <td>Annie Chang</td>\n",
              "      <td>2005-11-03</td>\n",
              "      <td>2005-12-27</td>\n",
              "      <td>NYU</td>\n",
              "      <td>Undergrad</td>\n",
              "      <td>None</td>\n",
              "      <td>NaT</td>\n",
              "      <td>None</td>\n",
              "      <td>None</td>\n",
              "      <td>None</td>\n",
              "      <td>None</td>\n",
              "      <td>Stuyvesant High School '05</td>\n",
              "      <td>None</td>\n",
              "      <td>None</td>\n",
              "      <td>None</td>\n",
              "      <td>None</td>\n",
              "      <td>None</td>\n",
              "      <td>None</td>\n",
              "    </tr>\n",
              "    <tr>\n",
              "      <th>235</th>\n",
              "      <td>832913</td>\n",
              "      <td>Elijah Kim</td>\n",
              "      <td>2005-11-26</td>\n",
              "      <td>2005-11-28</td>\n",
              "      <td>NYU '08</td>\n",
              "      <td>Grad Student</td>\n",
              "      <td>Male</td>\n",
              "      <td>1982-06-07</td>\n",
              "      <td>qcelij</td>\n",
              "      <td>None</td>\n",
              "      <td>None</td>\n",
              "      <td>New York,  NY</td>\n",
              "      <td>Stuyvesant High School '00</td>\n",
              "      <td>Brooklyn, NY 11237</td>\n",
              "      <td>None</td>\n",
              "      <td>None</td>\n",
              "      <td>None</td>\n",
              "      <td>None</td>\n",
              "      <td>None</td>\n",
              "    </tr>\n",
              "    <tr>\n",
              "      <th>236</th>\n",
              "      <td>833781</td>\n",
              "      <td>Mike Sim</td>\n",
              "      <td>2005-12-17</td>\n",
              "      <td>2005-12-29</td>\n",
              "      <td>NYU '03</td>\n",
              "      <td>Alumnus/Alumna</td>\n",
              "      <td>Male</td>\n",
              "      <td>1981-06-10</td>\n",
              "      <td>None</td>\n",
              "      <td>None</td>\n",
              "      <td>None</td>\n",
              "      <td>New York,  NY</td>\n",
              "      <td>Stuyvesant High School '99</td>\n",
              "      <td>Brooklyn; Staten Island, NY</td>\n",
              "      <td>None</td>\n",
              "      <td>None</td>\n",
              "      <td>None</td>\n",
              "      <td>None</td>\n",
              "      <td>None</td>\n",
              "    </tr>\n",
              "  </tbody>\n",
              "</table>\n",
              "<p>237 rows × 19 columns</p>\n",
              "</div>"
            ],
            "text/plain": [
              "     ProfileID           Name  ...         CurrentTown CurrentState\n",
              "0       800073     Jueyu Wang  ...                None         None\n",
              "1       800077    Sean Brandt  ...                None         None\n",
              "2       800083     George Liu  ...                None         None\n",
              "3       800092        Hong Li  ...                None         None\n",
              "4       800356     Peter Naas  ...                None         None\n",
              "..         ...            ...  ...                 ...          ...\n",
              "232     831501     Eliza Chan  ...  Brooklyn, NY 11229         None\n",
              "233     831928  Jeff Strabone  ...       Brooklyn, NY          None\n",
              "234     832061    Annie Chang  ...                None         None\n",
              "235     832913     Elijah Kim  ...                None         None\n",
              "236     833781       Mike Sim  ...                None         None\n",
              "\n",
              "[237 rows x 19 columns]"
            ]
          },
          "metadata": {
            "tags": []
          },
          "execution_count": 35
        }
      ]
    },
    {
      "cell_type": "markdown",
      "metadata": {
        "id": "hnG_TxO1vLQv"
      },
      "source": [
        "#### Find all names that contain a digit"
      ]
    },
    {
      "cell_type": "code",
      "metadata": {
        "id": "6TBS1cPzvLQv",
        "colab": {
          "base_uri": "https://localhost:8080/",
          "height": 512
        },
        "outputId": "3bc20ca8-a4c3-4edb-ae88-8487784a6864"
      },
      "source": [
        "%%read_sql\n",
        "SELECT * \n",
        "FROM Profiles \n",
        "WHERE name REGEXP '[0-9]+'"
      ],
      "execution_count": 36,
      "outputs": [
        {
          "output_type": "stream",
          "text": [
            "Query started at 12:41:33 AM UTC; Query executed in 0.01 m"
          ],
          "name": "stdout"
        },
        {
          "output_type": "execute_result",
          "data": {
            "text/html": [
              "<div>\n",
              "<style scoped>\n",
              "    .dataframe tbody tr th:only-of-type {\n",
              "        vertical-align: middle;\n",
              "    }\n",
              "\n",
              "    .dataframe tbody tr th {\n",
              "        vertical-align: top;\n",
              "    }\n",
              "\n",
              "    .dataframe thead th {\n",
              "        text-align: right;\n",
              "    }\n",
              "</style>\n",
              "<table border=\"1\" class=\"dataframe\">\n",
              "  <thead>\n",
              "    <tr style=\"text-align: right;\">\n",
              "      <th></th>\n",
              "      <th>ProfileID</th>\n",
              "      <th>Name</th>\n",
              "      <th>MemberSince</th>\n",
              "      <th>LastUpdate</th>\n",
              "      <th>School</th>\n",
              "      <th>Status</th>\n",
              "      <th>Sex</th>\n",
              "      <th>Birthday</th>\n",
              "      <th>AIM</th>\n",
              "      <th>Website</th>\n",
              "      <th>PoliticalViews</th>\n",
              "      <th>Geography</th>\n",
              "      <th>HighSchool</th>\n",
              "      <th>HomeTown</th>\n",
              "      <th>HomeState</th>\n",
              "      <th>Residence</th>\n",
              "      <th>CurrentAddress</th>\n",
              "      <th>CurrentTown</th>\n",
              "      <th>CurrentState</th>\n",
              "    </tr>\n",
              "  </thead>\n",
              "  <tbody>\n",
              "    <tr>\n",
              "      <th>0</th>\n",
              "      <td>817012</td>\n",
              "      <td>Tbone 3000</td>\n",
              "      <td>2004-12-12</td>\n",
              "      <td>NaT</td>\n",
              "      <td>NYU</td>\n",
              "      <td>Undergrad</td>\n",
              "      <td>None</td>\n",
              "      <td>NaT</td>\n",
              "      <td>None</td>\n",
              "      <td>None</td>\n",
              "      <td>None</td>\n",
              "      <td>None</td>\n",
              "      <td>None</td>\n",
              "      <td>None</td>\n",
              "      <td>None</td>\n",
              "      <td>None</td>\n",
              "      <td>None</td>\n",
              "      <td>None</td>\n",
              "      <td>None</td>\n",
              "    </tr>\n",
              "    <tr>\n",
              "      <th>1</th>\n",
              "      <td>817574</td>\n",
              "      <td>K 5</td>\n",
              "      <td>2004-12-26</td>\n",
              "      <td>2005-09-28</td>\n",
              "      <td>NYU '07</td>\n",
              "      <td>Undergrad</td>\n",
              "      <td>Male</td>\n",
              "      <td>NaT</td>\n",
              "      <td>kjobby12xxx</td>\n",
              "      <td>http://www.K5ive.com</td>\n",
              "      <td>Other</td>\n",
              "      <td>None</td>\n",
              "      <td>Royal High '01</td>\n",
              "      <td>Simi Valley, CA 93065</td>\n",
              "      <td>None</td>\n",
              "      <td>None</td>\n",
              "      <td>None</td>\n",
              "      <td>None</td>\n",
              "      <td>NY</td>\n",
              "    </tr>\n",
              "    <tr>\n",
              "      <th>2</th>\n",
              "      <td>818366</td>\n",
              "      <td>Arielle 4u</td>\n",
              "      <td>2005-01-19</td>\n",
              "      <td>2006-01-15</td>\n",
              "      <td>NYU '07</td>\n",
              "      <td>Undergrad</td>\n",
              "      <td>Female</td>\n",
              "      <td>1986-10-24</td>\n",
              "      <td>sexoholic blue u</td>\n",
              "      <td>http://five.flash-gear.com/npuz/puz.php?...</td>\n",
              "      <td>Very Liberal</td>\n",
              "      <td>None</td>\n",
              "      <td>None</td>\n",
              "      <td>None</td>\n",
              "      <td>None</td>\n",
              "      <td>Twentysixth Street 14F1</td>\n",
              "      <td>None</td>\n",
              "      <td>None</td>\n",
              "      <td>None</td>\n",
              "    </tr>\n",
              "    <tr>\n",
              "      <th>3</th>\n",
              "      <td>819379</td>\n",
              "      <td>ML152</td>\n",
              "      <td>2005-02-14</td>\n",
              "      <td>2005-12-09</td>\n",
              "      <td>NYU '06</td>\n",
              "      <td>Grad Student</td>\n",
              "      <td>Male</td>\n",
              "      <td>1977-03-05</td>\n",
              "      <td>mattlobron</td>\n",
              "      <td>None</td>\n",
              "      <td>None</td>\n",
              "      <td>None</td>\n",
              "      <td>None</td>\n",
              "      <td>Long Valley, NJ 07853</td>\n",
              "      <td>None</td>\n",
              "      <td>None</td>\n",
              "      <td>None</td>\n",
              "      <td>NY, NY</td>\n",
              "      <td>None</td>\n",
              "    </tr>\n",
              "    <tr>\n",
              "      <th>4</th>\n",
              "      <td>819606</td>\n",
              "      <td>Panaflex 16</td>\n",
              "      <td>2005-02-21</td>\n",
              "      <td>2005-02-21</td>\n",
              "      <td>NYU</td>\n",
              "      <td>Alumnus/Alumna</td>\n",
              "      <td>None</td>\n",
              "      <td>NaT</td>\n",
              "      <td>None</td>\n",
              "      <td>http://www.panavision.com</td>\n",
              "      <td>None</td>\n",
              "      <td>None</td>\n",
              "      <td>None</td>\n",
              "      <td>None</td>\n",
              "      <td>None</td>\n",
              "      <td>None</td>\n",
              "      <td>None</td>\n",
              "      <td>None</td>\n",
              "      <td>None</td>\n",
              "    </tr>\n",
              "    <tr>\n",
              "      <th>5</th>\n",
              "      <td>821186</td>\n",
              "      <td>g nupe the hazel eyed 1</td>\n",
              "      <td>2005-04-04</td>\n",
              "      <td>2006-01-18</td>\n",
              "      <td>NYU '05</td>\n",
              "      <td>Faculty</td>\n",
              "      <td>Male</td>\n",
              "      <td>NaT</td>\n",
              "      <td>g NUPE the hAZEL EYED</td>\n",
              "      <td>None</td>\n",
              "      <td>Moderate</td>\n",
              "      <td>None</td>\n",
              "      <td>None</td>\n",
              "      <td>new york, NY 10037</td>\n",
              "      <td>None</td>\n",
              "      <td>None</td>\n",
              "      <td>None</td>\n",
              "      <td>None</td>\n",
              "      <td>None</td>\n",
              "    </tr>\n",
              "    <tr>\n",
              "      <th>6</th>\n",
              "      <td>823755</td>\n",
              "      <td>NYC Summer2005</td>\n",
              "      <td>2005-05-22</td>\n",
              "      <td>2006-01-18</td>\n",
              "      <td>NYU</td>\n",
              "      <td>Alumnus/Alumna</td>\n",
              "      <td>Male</td>\n",
              "      <td>NaT</td>\n",
              "      <td>mischa998</td>\n",
              "      <td>None</td>\n",
              "      <td>None</td>\n",
              "      <td>None</td>\n",
              "      <td>None</td>\n",
              "      <td>New York City, NY</td>\n",
              "      <td>None</td>\n",
              "      <td>None</td>\n",
              "      <td>None</td>\n",
              "      <td>NYC, NY 10012</td>\n",
              "      <td>None</td>\n",
              "    </tr>\n",
              "    <tr>\n",
              "      <th>7</th>\n",
              "      <td>827978</td>\n",
              "      <td>Ben 0viatt</td>\n",
              "      <td>2005-08-05</td>\n",
              "      <td>2006-01-13</td>\n",
              "      <td>NYU '09</td>\n",
              "      <td>Undergrad</td>\n",
              "      <td>Male</td>\n",
              "      <td>1986-08-17</td>\n",
              "      <td>TheCoolestMonkey</td>\n",
              "      <td>http://www.fotolog.net/bennigan/</td>\n",
              "      <td>Other</td>\n",
              "      <td>None</td>\n",
              "      <td>Lander Valley High School '04</td>\n",
              "      <td>Lander, WY 82520</td>\n",
              "      <td>None</td>\n",
              "      <td>Hayden Hall 1011A</td>\n",
              "      <td>None</td>\n",
              "      <td>None</td>\n",
              "      <td>None</td>\n",
              "    </tr>\n",
              "  </tbody>\n",
              "</table>\n",
              "</div>"
            ],
            "text/plain": [
              "   ProfileID                     Name  ...    CurrentTown CurrentState\n",
              "0     817012               Tbone 3000  ...           None         None\n",
              "1     817574                      K 5  ...           None           NY\n",
              "2     818366               Arielle 4u  ...           None         None\n",
              "3     819379                    ML152  ...        NY, NY          None\n",
              "4     819606              Panaflex 16  ...           None         None\n",
              "5     821186  g nupe the hazel eyed 1  ...           None         None\n",
              "6     823755           NYC Summer2005  ...  NYC, NY 10012         None\n",
              "7     827978               Ben 0viatt  ...           None         None\n",
              "\n",
              "[8 rows x 19 columns]"
            ]
          },
          "metadata": {
            "tags": []
          },
          "execution_count": 36
        }
      ]
    },
    {
      "cell_type": "markdown",
      "metadata": {
        "id": "KlhXUsC-vLQv"
      },
      "source": [
        "#### Find all students with a name that contains a non-letter character, other than \\- and \\."
      ]
    },
    {
      "cell_type": "code",
      "metadata": {
        "id": "yJoibKijvLQw",
        "colab": {
          "base_uri": "https://localhost:8080/",
          "height": 1000
        },
        "outputId": "dc4305fd-394d-4bfc-d5da-cb47f6c162a0"
      },
      "source": [
        "%%read_sql\n",
        "SELECT * \n",
        "FROM Profiles \n",
        "WHERE name NOT REGEXP '^[A-z \\-\\.]+$'"
      ],
      "execution_count": 37,
      "outputs": [
        {
          "output_type": "stream",
          "text": [
            "Query started at 12:41:42 AM UTC; Query executed in 0.01 m"
          ],
          "name": "stdout"
        },
        {
          "output_type": "execute_result",
          "data": {
            "text/html": [
              "<div>\n",
              "<style scoped>\n",
              "    .dataframe tbody tr th:only-of-type {\n",
              "        vertical-align: middle;\n",
              "    }\n",
              "\n",
              "    .dataframe tbody tr th {\n",
              "        vertical-align: top;\n",
              "    }\n",
              "\n",
              "    .dataframe thead th {\n",
              "        text-align: right;\n",
              "    }\n",
              "</style>\n",
              "<table border=\"1\" class=\"dataframe\">\n",
              "  <thead>\n",
              "    <tr style=\"text-align: right;\">\n",
              "      <th></th>\n",
              "      <th>ProfileID</th>\n",
              "      <th>Name</th>\n",
              "      <th>MemberSince</th>\n",
              "      <th>LastUpdate</th>\n",
              "      <th>School</th>\n",
              "      <th>Status</th>\n",
              "      <th>Sex</th>\n",
              "      <th>Birthday</th>\n",
              "      <th>AIM</th>\n",
              "      <th>Website</th>\n",
              "      <th>PoliticalViews</th>\n",
              "      <th>Geography</th>\n",
              "      <th>HighSchool</th>\n",
              "      <th>HomeTown</th>\n",
              "      <th>HomeState</th>\n",
              "      <th>Residence</th>\n",
              "      <th>CurrentAddress</th>\n",
              "      <th>CurrentTown</th>\n",
              "      <th>CurrentState</th>\n",
              "    </tr>\n",
              "  </thead>\n",
              "  <tbody>\n",
              "    <tr>\n",
              "      <th>0</th>\n",
              "      <td>800794</td>\n",
              "      <td>Shula Ponet β™¥</td>\n",
              "      <td>2004-04-01</td>\n",
              "      <td>2006-01-15</td>\n",
              "      <td>NYU '06</td>\n",
              "      <td>Undergrad</td>\n",
              "      <td>Female</td>\n",
              "      <td>1983-10-24</td>\n",
              "      <td>shuls1024</td>\n",
              "      <td>None</td>\n",
              "      <td>Liberal</td>\n",
              "      <td>None</td>\n",
              "      <td>Hamden Hall Country Day School '02</td>\n",
              "      <td>new haven, CT</td>\n",
              "      <td>None</td>\n",
              "      <td>Alumni Hall</td>\n",
              "      <td>None</td>\n",
              "      <td>None</td>\n",
              "      <td>None</td>\n",
              "    </tr>\n",
              "    <tr>\n",
              "      <th>1</th>\n",
              "      <td>802953</td>\n",
              "      <td>DontrΓ© L. Conerly</td>\n",
              "      <td>2004-04-20</td>\n",
              "      <td>2005-12-26</td>\n",
              "      <td>NYU '05</td>\n",
              "      <td>Alumnus/Alumna</td>\n",
              "      <td>Male</td>\n",
              "      <td>1983-02-07</td>\n",
              "      <td>majoliemoi</td>\n",
              "      <td>http://jadoremoi.easyjournal.com</td>\n",
              "      <td>Conservative</td>\n",
              "      <td>New York,  NY</td>\n",
              "      <td>Lawndale High School '01</td>\n",
              "      <td>New Orleans, LA 70126</td>\n",
              "      <td>None</td>\n",
              "      <td>None</td>\n",
              "      <td>None</td>\n",
              "      <td>None</td>\n",
              "      <td>None</td>\n",
              "    </tr>\n",
              "    <tr>\n",
              "      <th>2</th>\n",
              "      <td>803148</td>\n",
              "      <td>Rajiv/Jeeves Therealman</td>\n",
              "      <td>2004-04-21</td>\n",
              "      <td>2006-01-03</td>\n",
              "      <td>NYU '07</td>\n",
              "      <td>Undergrad</td>\n",
              "      <td>Male</td>\n",
              "      <td>1985-07-22</td>\n",
              "      <td>None</td>\n",
              "      <td>None</td>\n",
              "      <td>Moderate</td>\n",
              "      <td>None</td>\n",
              "      <td>Boonton High School '03</td>\n",
              "      <td>Boonton, NJ 07005</td>\n",
              "      <td>None</td>\n",
              "      <td>None</td>\n",
              "      <td>None</td>\n",
              "      <td>None</td>\n",
              "      <td>None</td>\n",
              "    </tr>\n",
              "    <tr>\n",
              "      <th>3</th>\n",
              "      <td>803169</td>\n",
              "      <td>David NegrΓ³n</td>\n",
              "      <td>2004-04-21</td>\n",
              "      <td>2005-10-29</td>\n",
              "      <td>NYU '07</td>\n",
              "      <td>Undergrad</td>\n",
              "      <td>Male</td>\n",
              "      <td>1984-09-21</td>\n",
              "      <td>dbneg921</td>\n",
              "      <td>None</td>\n",
              "      <td>Very Liberal</td>\n",
              "      <td>None</td>\n",
              "      <td>Guilford High School '03</td>\n",
              "      <td>Guilford, CT 06437</td>\n",
              "      <td>None</td>\n",
              "      <td>None</td>\n",
              "      <td>None</td>\n",
              "      <td>Brooklyn, NY 11222</td>\n",
              "      <td>None</td>\n",
              "    </tr>\n",
              "    <tr>\n",
              "      <th>4</th>\n",
              "      <td>803349</td>\n",
              "      <td>Christopher T|M Burns</td>\n",
              "      <td>2004-04-22</td>\n",
              "      <td>2006-01-04</td>\n",
              "      <td>NYU '04</td>\n",
              "      <td>Alumnus/Alumna</td>\n",
              "      <td>Male</td>\n",
              "      <td>NaT</td>\n",
              "      <td>None</td>\n",
              "      <td>http://www.sickabodsane.com</td>\n",
              "      <td>None</td>\n",
              "      <td>New York,  NY</td>\n",
              "      <td>The Pennington Prep School '00</td>\n",
              "      <td>None</td>\n",
              "      <td>None</td>\n",
              "      <td>None</td>\n",
              "      <td>None</td>\n",
              "      <td>None</td>\n",
              "      <td>None</td>\n",
              "    </tr>\n",
              "    <tr>\n",
              "      <th>5</th>\n",
              "      <td>803696</td>\n",
              "      <td>β™¥ Rachel Doyle β™¥</td>\n",
              "      <td>2004-04-25</td>\n",
              "      <td>2006-01-09</td>\n",
              "      <td>NYU '05</td>\n",
              "      <td>Alumnus/Alumna</td>\n",
              "      <td>Female</td>\n",
              "      <td>1984-04-27</td>\n",
              "      <td>o doyle ru1ez</td>\n",
              "      <td>http://myspace.com/ambrosiaswirl</td>\n",
              "      <td>Liberal</td>\n",
              "      <td>New York,  NY</td>\n",
              "      <td>Albert Einstein High School</td>\n",
              "      <td>District of Corruption</td>\n",
              "      <td>None</td>\n",
              "      <td>None</td>\n",
              "      <td>E. 5th &amp; Avenue B, Manhattan</td>\n",
              "      <td>None</td>\n",
              "      <td>None</td>\n",
              "    </tr>\n",
              "    <tr>\n",
              "      <th>6</th>\n",
              "      <td>804467</td>\n",
              "      <td>ChloΓ© Bakalar</td>\n",
              "      <td>2004-04-29</td>\n",
              "      <td>2006-01-09</td>\n",
              "      <td>NYU '06</td>\n",
              "      <td>Undergrad</td>\n",
              "      <td>Female</td>\n",
              "      <td>1985-03-14</td>\n",
              "      <td>skittlesCLO</td>\n",
              "      <td>None</td>\n",
              "      <td>Very Conservative</td>\n",
              "      <td>None</td>\n",
              "      <td>Pine Crest School '03</td>\n",
              "      <td>None</td>\n",
              "      <td>None</td>\n",
              "      <td>None</td>\n",
              "      <td>None</td>\n",
              "      <td>None</td>\n",
              "      <td>None</td>\n",
              "    </tr>\n",
              "    <tr>\n",
              "      <th>7</th>\n",
              "      <td>805463</td>\n",
              "      <td>TrinΓ© Alimena</td>\n",
              "      <td>2004-05-07</td>\n",
              "      <td>2006-01-16</td>\n",
              "      <td>NYU '07</td>\n",
              "      <td>Undergrad</td>\n",
              "      <td>Female</td>\n",
              "      <td>1985-06-16</td>\n",
              "      <td>Quarterrican16</td>\n",
              "      <td>None</td>\n",
              "      <td>Conservative</td>\n",
              "      <td>None</td>\n",
              "      <td>None</td>\n",
              "      <td>Stamford, CT 06905</td>\n",
              "      <td>None</td>\n",
              "      <td>Carlyle Court</td>\n",
              "      <td>None</td>\n",
              "      <td>None</td>\n",
              "      <td>None</td>\n",
              "    </tr>\n",
              "    <tr>\n",
              "      <th>8</th>\n",
              "      <td>806663</td>\n",
              "      <td>Jeremy Greene (δΊΊ)</td>\n",
              "      <td>2004-05-26</td>\n",
              "      <td>2006-01-16</td>\n",
              "      <td>NYU '07</td>\n",
              "      <td>Undergrad</td>\n",
              "      <td>Male</td>\n",
              "      <td>1984-11-26</td>\n",
              "      <td>Tirbz</td>\n",
              "      <td>None</td>\n",
              "      <td>Liberal</td>\n",
              "      <td>None</td>\n",
              "      <td>Winter Springs High School '03</td>\n",
              "      <td>New York, NY 10011</td>\n",
              "      <td>None</td>\n",
              "      <td>Thirteenth Street 3BS</td>\n",
              "      <td>47 W 13</td>\n",
              "      <td>None</td>\n",
              "      <td>None</td>\n",
              "    </tr>\n",
              "    <tr>\n",
              "      <th>9</th>\n",
              "      <td>807220</td>\n",
              "      <td>Margaux OpeΓ±a</td>\n",
              "      <td>2004-06-09</td>\n",
              "      <td>2005-10-23</td>\n",
              "      <td>NYU</td>\n",
              "      <td>Alumnus/Alumna</td>\n",
              "      <td>Female</td>\n",
              "      <td>1982-09-25</td>\n",
              "      <td>Roswelliscool</td>\n",
              "      <td>None</td>\n",
              "      <td>None</td>\n",
              "      <td>None</td>\n",
              "      <td>Convent of the Sacred Heart High School '00</td>\n",
              "      <td>San Francisco, CA</td>\n",
              "      <td>None</td>\n",
              "      <td>None</td>\n",
              "      <td>None</td>\n",
              "      <td>None</td>\n",
              "      <td>None</td>\n",
              "    </tr>\n",
              "    <tr>\n",
              "      <th>10</th>\n",
              "      <td>808815</td>\n",
              "      <td>β™¥ Inga Schlingmann β™¥</td>\n",
              "      <td>2004-07-25</td>\n",
              "      <td>2006-01-17</td>\n",
              "      <td>NYU</td>\n",
              "      <td>Undergrad</td>\n",
              "      <td>None</td>\n",
              "      <td>1986-06-25</td>\n",
              "      <td>None</td>\n",
              "      <td>None</td>\n",
              "      <td>None</td>\n",
              "      <td>None</td>\n",
              "      <td>Suffern Senior High School '04</td>\n",
              "      <td>None</td>\n",
              "      <td>None</td>\n",
              "      <td>None</td>\n",
              "      <td>None</td>\n",
              "      <td>None</td>\n",
              "      <td>None</td>\n",
              "    </tr>\n",
              "    <tr>\n",
              "      <th>11</th>\n",
              "      <td>809153</td>\n",
              "      <td>Paul M. NuΓ±ez</td>\n",
              "      <td>2004-08-02</td>\n",
              "      <td>2005-11-10</td>\n",
              "      <td>NYU '08</td>\n",
              "      <td>Undergrad</td>\n",
              "      <td>Male</td>\n",
              "      <td>1986-02-13</td>\n",
              "      <td>pmnb222</td>\n",
              "      <td>None</td>\n",
              "      <td>Conservative</td>\n",
              "      <td>None</td>\n",
              "      <td>Baldwin Senior High School '04</td>\n",
              "      <td>Lima, Peru</td>\n",
              "      <td>None</td>\n",
              "      <td>Water Street 404</td>\n",
              "      <td>None</td>\n",
              "      <td>None</td>\n",
              "      <td>None</td>\n",
              "    </tr>\n",
              "    <tr>\n",
              "      <th>12</th>\n",
              "      <td>809359</td>\n",
              "      <td>GΓ¤ΓΒ®Γ®Γ¨Β¶Γ¥ ΓƒrΓ―ΒΒ§</td>\n",
              "      <td>2004-08-07</td>\n",
              "      <td>2005-12-15</td>\n",
              "      <td>NYU '07</td>\n",
              "      <td>Undergrad</td>\n",
              "      <td>Female</td>\n",
              "      <td>NaT</td>\n",
              "      <td>Dee03Vuh</td>\n",
              "      <td>None</td>\n",
              "      <td>Conservative</td>\n",
              "      <td>None</td>\n",
              "      <td>Farmingdale Senior High School '03</td>\n",
              "      <td>None</td>\n",
              "      <td>NY</td>\n",
              "      <td>NYU at the Seaport</td>\n",
              "      <td>None</td>\n",
              "      <td>None</td>\n",
              "      <td>None</td>\n",
              "    </tr>\n",
              "    <tr>\n",
              "      <th>13</th>\n",
              "      <td>810447</td>\n",
              "      <td>Miss Huang β…</td>\n",
              "      <td>2004-08-26</td>\n",
              "      <td>2006-01-16</td>\n",
              "      <td>NYU '07</td>\n",
              "      <td>Undergrad</td>\n",
              "      <td>Female</td>\n",
              "      <td>NaT</td>\n",
              "      <td>Miss Seimi</td>\n",
              "      <td>None</td>\n",
              "      <td>None</td>\n",
              "      <td>None</td>\n",
              "      <td>RIS '03</td>\n",
              "      <td>None</td>\n",
              "      <td>None</td>\n",
              "      <td>None</td>\n",
              "      <td>None</td>\n",
              "      <td>None</td>\n",
              "      <td>None</td>\n",
              "    </tr>\n",
              "    <tr>\n",
              "      <th>14</th>\n",
              "      <td>810711</td>\n",
              "      <td>Nazia Malikβ™¥</td>\n",
              "      <td>2004-08-30</td>\n",
              "      <td>2006-01-15</td>\n",
              "      <td>NYU '07</td>\n",
              "      <td>Undergrad</td>\n",
              "      <td>Female</td>\n",
              "      <td>1986-02-21</td>\n",
              "      <td>xnazzzx</td>\n",
              "      <td>None</td>\n",
              "      <td>Very Liberal</td>\n",
              "      <td>None</td>\n",
              "      <td>North Brunswick Township High School</td>\n",
              "      <td>Los Angeles</td>\n",
              "      <td>None</td>\n",
              "      <td>None</td>\n",
              "      <td>None</td>\n",
              "      <td>None</td>\n",
              "      <td>None</td>\n",
              "    </tr>\n",
              "    <tr>\n",
              "      <th>15</th>\n",
              "      <td>810796</td>\n",
              "      <td>Stephanie F. LΓ³pez</td>\n",
              "      <td>2004-08-31</td>\n",
              "      <td>2005-11-23</td>\n",
              "      <td>NYU '08</td>\n",
              "      <td>Undergrad</td>\n",
              "      <td>Female</td>\n",
              "      <td>1986-10-18</td>\n",
              "      <td>flordeliz86</td>\n",
              "      <td>None</td>\n",
              "      <td>Liberal</td>\n",
              "      <td>None</td>\n",
              "      <td>Herbert H.Lehman High School '04</td>\n",
              "      <td>Bronx, NY 10459</td>\n",
              "      <td>None</td>\n",
              "      <td>None</td>\n",
              "      <td>None</td>\n",
              "      <td>None</td>\n",
              "      <td>None</td>\n",
              "    </tr>\n",
              "    <tr>\n",
              "      <th>16</th>\n",
              "      <td>812249</td>\n",
              "      <td>LΓ©a Guberina-Sulc</td>\n",
              "      <td>2004-09-21</td>\n",
              "      <td>2005-09-07</td>\n",
              "      <td>NYU '07</td>\n",
              "      <td>Undergrad</td>\n",
              "      <td>Female</td>\n",
              "      <td>1985-08-01</td>\n",
              "      <td>Metallicbarbie</td>\n",
              "      <td>None</td>\n",
              "      <td>Moderate</td>\n",
              "      <td>None</td>\n",
              "      <td>Lycee Francais De New York '03</td>\n",
              "      <td>New York, NY 10021</td>\n",
              "      <td>None</td>\n",
              "      <td>None</td>\n",
              "      <td>None</td>\n",
              "      <td>None</td>\n",
              "      <td>None</td>\n",
              "    </tr>\n",
              "    <tr>\n",
              "      <th>17</th>\n",
              "      <td>812902</td>\n",
              "      <td>Jones/Kate Cook</td>\n",
              "      <td>2004-10-01</td>\n",
              "      <td>2006-01-17</td>\n",
              "      <td>NYU '06</td>\n",
              "      <td>Undergrad</td>\n",
              "      <td>Female</td>\n",
              "      <td>1984-08-29</td>\n",
              "      <td>JimmysJones17</td>\n",
              "      <td>None</td>\n",
              "      <td>None</td>\n",
              "      <td>None</td>\n",
              "      <td>St. Francis High School '02</td>\n",
              "      <td>Los Altos, CA</td>\n",
              "      <td>None</td>\n",
              "      <td>None</td>\n",
              "      <td>None</td>\n",
              "      <td>None</td>\n",
              "      <td>None</td>\n",
              "    </tr>\n",
              "    <tr>\n",
              "      <th>18</th>\n",
              "      <td>813147</td>\n",
              "      <td>LFNY Alumni/a</td>\n",
              "      <td>2004-10-06</td>\n",
              "      <td>2005-10-25</td>\n",
              "      <td>NYU</td>\n",
              "      <td>Alumnus/Alumna</td>\n",
              "      <td>Male</td>\n",
              "      <td>1931-09-07</td>\n",
              "      <td>None</td>\n",
              "      <td>None</td>\n",
              "      <td>Moderate</td>\n",
              "      <td>New York,  NY</td>\n",
              "      <td>Lycee Francais De New York '00</td>\n",
              "      <td>New York City, NY 10021</td>\n",
              "      <td>None</td>\n",
              "      <td>Paris</td>\n",
              "      <td>None</td>\n",
              "      <td>None</td>\n",
              "      <td>None</td>\n",
              "    </tr>\n",
              "    <tr>\n",
              "      <th>19</th>\n",
              "      <td>814475</td>\n",
              "      <td>Ahmed Mirzaβ„Ά</td>\n",
              "      <td>2004-10-28</td>\n",
              "      <td>2005-12-20</td>\n",
              "      <td>NYU '07</td>\n",
              "      <td>Undergrad</td>\n",
              "      <td>Male</td>\n",
              "      <td>1985-03-16</td>\n",
              "      <td>avigalante</td>\n",
              "      <td>http://www.shaadi.com</td>\n",
              "      <td>Liberal</td>\n",
              "      <td>None</td>\n",
              "      <td>Sanford H.Calhoun High School '03</td>\n",
              "      <td>Merrick, NY 11566</td>\n",
              "      <td>None</td>\n",
              "      <td>Carlyle Court C23G</td>\n",
              "      <td>25 Union Square West, Apartment C2-3G New York...</td>\n",
              "      <td>None</td>\n",
              "      <td>None</td>\n",
              "    </tr>\n",
              "    <tr>\n",
              "      <th>20</th>\n",
              "      <td>816365</td>\n",
              "      <td>Tavia NyongΓΆΒ€Β™o</td>\n",
              "      <td>2004-12-01</td>\n",
              "      <td>NaT</td>\n",
              "      <td>NYU</td>\n",
              "      <td>Faculty</td>\n",
              "      <td>None</td>\n",
              "      <td>NaT</td>\n",
              "      <td>None</td>\n",
              "      <td>None</td>\n",
              "      <td>None</td>\n",
              "      <td>None</td>\n",
              "      <td>None</td>\n",
              "      <td>None</td>\n",
              "      <td>None</td>\n",
              "      <td>None</td>\n",
              "      <td>None</td>\n",
              "      <td>None</td>\n",
              "      <td>None</td>\n",
              "    </tr>\n",
              "    <tr>\n",
              "      <th>21</th>\n",
              "      <td>816689</td>\n",
              "      <td>Rayna Greenberg β™¥</td>\n",
              "      <td>2004-12-06</td>\n",
              "      <td>2005-12-02</td>\n",
              "      <td>NYU '06</td>\n",
              "      <td>Undergrad</td>\n",
              "      <td>Female</td>\n",
              "      <td>1983-10-17</td>\n",
              "      <td>None</td>\n",
              "      <td>None</td>\n",
              "      <td>None</td>\n",
              "      <td>None</td>\n",
              "      <td>Branksome Hall '02</td>\n",
              "      <td>Toronto, Ontario</td>\n",
              "      <td>None</td>\n",
              "      <td>Water Street 2313</td>\n",
              "      <td>None</td>\n",
              "      <td>None</td>\n",
              "      <td>None</td>\n",
              "    </tr>\n",
              "    <tr>\n",
              "      <th>22</th>\n",
              "      <td>817012</td>\n",
              "      <td>Tbone 3000</td>\n",
              "      <td>2004-12-12</td>\n",
              "      <td>NaT</td>\n",
              "      <td>NYU</td>\n",
              "      <td>Undergrad</td>\n",
              "      <td>None</td>\n",
              "      <td>NaT</td>\n",
              "      <td>None</td>\n",
              "      <td>None</td>\n",
              "      <td>None</td>\n",
              "      <td>None</td>\n",
              "      <td>None</td>\n",
              "      <td>None</td>\n",
              "      <td>None</td>\n",
              "      <td>None</td>\n",
              "      <td>None</td>\n",
              "      <td>None</td>\n",
              "      <td>None</td>\n",
              "    </tr>\n",
              "    <tr>\n",
              "      <th>23</th>\n",
              "      <td>817118</td>\n",
              "      <td>Angel Carlos PeΓ±a</td>\n",
              "      <td>2004-12-14</td>\n",
              "      <td>2006-01-10</td>\n",
              "      <td>NYU '08</td>\n",
              "      <td>Undergrad</td>\n",
              "      <td>Male</td>\n",
              "      <td>1986-08-12</td>\n",
              "      <td>DEADMANINC812</td>\n",
              "      <td>None</td>\n",
              "      <td>Moderate</td>\n",
              "      <td>None</td>\n",
              "      <td>Fordham Prep '04</td>\n",
              "      <td>The Bronx, NY</td>\n",
              "      <td>None</td>\n",
              "      <td>None</td>\n",
              "      <td>None</td>\n",
              "      <td>None</td>\n",
              "      <td>None</td>\n",
              "    </tr>\n",
              "    <tr>\n",
              "      <th>24</th>\n",
              "      <td>817574</td>\n",
              "      <td>K 5</td>\n",
              "      <td>2004-12-26</td>\n",
              "      <td>2005-09-28</td>\n",
              "      <td>NYU '07</td>\n",
              "      <td>Undergrad</td>\n",
              "      <td>Male</td>\n",
              "      <td>NaT</td>\n",
              "      <td>kjobby12xxx</td>\n",
              "      <td>http://www.K5ive.com</td>\n",
              "      <td>Other</td>\n",
              "      <td>None</td>\n",
              "      <td>Royal High '01</td>\n",
              "      <td>Simi Valley, CA 93065</td>\n",
              "      <td>None</td>\n",
              "      <td>None</td>\n",
              "      <td>None</td>\n",
              "      <td>None</td>\n",
              "      <td>NY</td>\n",
              "    </tr>\n",
              "    <tr>\n",
              "      <th>25</th>\n",
              "      <td>818366</td>\n",
              "      <td>Arielle 4u</td>\n",
              "      <td>2005-01-19</td>\n",
              "      <td>2006-01-15</td>\n",
              "      <td>NYU '07</td>\n",
              "      <td>Undergrad</td>\n",
              "      <td>Female</td>\n",
              "      <td>1986-10-24</td>\n",
              "      <td>sexoholic blue u</td>\n",
              "      <td>http://five.flash-gear.com/npuz/puz.php?...</td>\n",
              "      <td>Very Liberal</td>\n",
              "      <td>None</td>\n",
              "      <td>None</td>\n",
              "      <td>None</td>\n",
              "      <td>None</td>\n",
              "      <td>Twentysixth Street 14F1</td>\n",
              "      <td>None</td>\n",
              "      <td>None</td>\n",
              "      <td>None</td>\n",
              "    </tr>\n",
              "    <tr>\n",
              "      <th>26</th>\n",
              "      <td>818825</td>\n",
              "      <td>Meral KΓ¶lblinger</td>\n",
              "      <td>2005-01-30</td>\n",
              "      <td>2006-01-15</td>\n",
              "      <td>NYU '07</td>\n",
              "      <td>Undergrad</td>\n",
              "      <td>Female</td>\n",
              "      <td>1985-08-26</td>\n",
              "      <td>None</td>\n",
              "      <td>None</td>\n",
              "      <td>Liberal</td>\n",
              "      <td>None</td>\n",
              "      <td>American International School</td>\n",
              "      <td>Vienna, Austria, 3411</td>\n",
              "      <td>None</td>\n",
              "      <td>Greenwich Hotel</td>\n",
              "      <td>Hauptstrasse 75 Klosterneuburg/Weidling, N.Γ–....</td>\n",
              "      <td>None</td>\n",
              "      <td>None</td>\n",
              "    </tr>\n",
              "    <tr>\n",
              "      <th>27</th>\n",
              "      <td>818829</td>\n",
              "      <td>Joakim HΓ¶glind</td>\n",
              "      <td>2005-01-30</td>\n",
              "      <td>2005-10-01</td>\n",
              "      <td>NYU</td>\n",
              "      <td>Grad Student</td>\n",
              "      <td>Male</td>\n",
              "      <td>1979-11-13</td>\n",
              "      <td>None</td>\n",
              "      <td>None</td>\n",
              "      <td>Liberal</td>\n",
              "      <td>None</td>\n",
              "      <td>None</td>\n",
              "      <td>SWEDEN</td>\n",
              "      <td>None</td>\n",
              "      <td>None</td>\n",
              "      <td>None</td>\n",
              "      <td>GΓ¶teborg, SWEDEN</td>\n",
              "      <td>None</td>\n",
              "    </tr>\n",
              "    <tr>\n",
              "      <th>28</th>\n",
              "      <td>818841</td>\n",
              "      <td>Jay Rosen: DC birthright israel Coordinator</td>\n",
              "      <td>2005-01-31</td>\n",
              "      <td>2005-12-29</td>\n",
              "      <td>NYU</td>\n",
              "      <td>Alumnus/Alumna</td>\n",
              "      <td>Male</td>\n",
              "      <td>NaT</td>\n",
              "      <td>JRizzleATaglit</td>\n",
              "      <td>http://www.dcmetro.birthrightisrael.com</td>\n",
              "      <td>None</td>\n",
              "      <td>Washington,  DC</td>\n",
              "      <td>Charles E. Smith Jewish Day School '00</td>\n",
              "      <td>Washington, DC</td>\n",
              "      <td>None</td>\n",
              "      <td>None</td>\n",
              "      <td>None</td>\n",
              "      <td>None</td>\n",
              "      <td>None</td>\n",
              "    </tr>\n",
              "    <tr>\n",
              "      <th>29</th>\n",
              "      <td>819305</td>\n",
              "      <td>Mac/Knife</td>\n",
              "      <td>2005-02-12</td>\n",
              "      <td>2005-02-23</td>\n",
              "      <td>NYU</td>\n",
              "      <td>Undergrad</td>\n",
              "      <td>Male</td>\n",
              "      <td>NaT</td>\n",
              "      <td>hanesmcfearson</td>\n",
              "      <td>http://homepage.mac.com/ptsmith</td>\n",
              "      <td>Liberal</td>\n",
              "      <td>None</td>\n",
              "      <td>None</td>\n",
              "      <td>New York, NY 10014</td>\n",
              "      <td>None</td>\n",
              "      <td>None</td>\n",
              "      <td>None</td>\n",
              "      <td>None</td>\n",
              "      <td>None</td>\n",
              "    </tr>\n",
              "    <tr>\n",
              "      <th>30</th>\n",
              "      <td>819379</td>\n",
              "      <td>ML152</td>\n",
              "      <td>2005-02-14</td>\n",
              "      <td>2005-12-09</td>\n",
              "      <td>NYU '06</td>\n",
              "      <td>Grad Student</td>\n",
              "      <td>Male</td>\n",
              "      <td>1977-03-05</td>\n",
              "      <td>mattlobron</td>\n",
              "      <td>None</td>\n",
              "      <td>None</td>\n",
              "      <td>None</td>\n",
              "      <td>None</td>\n",
              "      <td>Long Valley, NJ 07853</td>\n",
              "      <td>None</td>\n",
              "      <td>None</td>\n",
              "      <td>None</td>\n",
              "      <td>NY, NY</td>\n",
              "      <td>None</td>\n",
              "    </tr>\n",
              "    <tr>\n",
              "      <th>31</th>\n",
              "      <td>819606</td>\n",
              "      <td>Panaflex 16</td>\n",
              "      <td>2005-02-21</td>\n",
              "      <td>2005-02-21</td>\n",
              "      <td>NYU</td>\n",
              "      <td>Alumnus/Alumna</td>\n",
              "      <td>None</td>\n",
              "      <td>NaT</td>\n",
              "      <td>None</td>\n",
              "      <td>http://www.panavision.com</td>\n",
              "      <td>None</td>\n",
              "      <td>None</td>\n",
              "      <td>None</td>\n",
              "      <td>None</td>\n",
              "      <td>None</td>\n",
              "      <td>None</td>\n",
              "      <td>None</td>\n",
              "      <td>None</td>\n",
              "      <td>None</td>\n",
              "    </tr>\n",
              "    <tr>\n",
              "      <th>32</th>\n",
              "      <td>819681</td>\n",
              "      <td>Osei Roach Bennβ„Ά</td>\n",
              "      <td>2005-02-23</td>\n",
              "      <td>2006-01-16</td>\n",
              "      <td>NYU '06</td>\n",
              "      <td>Undergrad</td>\n",
              "      <td>Male</td>\n",
              "      <td>1983-01-11</td>\n",
              "      <td>oseibenn</td>\n",
              "      <td>http://www.tkenyu.org</td>\n",
              "      <td>Conservative</td>\n",
              "      <td>None</td>\n",
              "      <td>Hillview College '01</td>\n",
              "      <td>None</td>\n",
              "      <td>None</td>\n",
              "      <td>Tau Kappa Epsilon TKE</td>\n",
              "      <td>None</td>\n",
              "      <td>None</td>\n",
              "      <td>None</td>\n",
              "    </tr>\n",
              "    <tr>\n",
              "      <th>33</th>\n",
              "      <td>819973</td>\n",
              "      <td>Elda CantΓΊ</td>\n",
              "      <td>2005-03-03</td>\n",
              "      <td>2005-07-21</td>\n",
              "      <td>NYU '05</td>\n",
              "      <td>Grad Student</td>\n",
              "      <td>Female</td>\n",
              "      <td>1979-03-23</td>\n",
              "      <td>None</td>\n",
              "      <td>None</td>\n",
              "      <td>None</td>\n",
              "      <td>New York,  NY</td>\n",
              "      <td>None</td>\n",
              "      <td>None</td>\n",
              "      <td>None</td>\n",
              "      <td>None</td>\n",
              "      <td>None</td>\n",
              "      <td>None</td>\n",
              "      <td>None</td>\n",
              "    </tr>\n",
              "    <tr>\n",
              "      <th>34</th>\n",
              "      <td>820434</td>\n",
              "      <td>Jamie Mooreβ™¥</td>\n",
              "      <td>2005-03-16</td>\n",
              "      <td>2005-05-29</td>\n",
              "      <td>NYU '06</td>\n",
              "      <td>Undergrad</td>\n",
              "      <td>Female</td>\n",
              "      <td>1984-09-08</td>\n",
              "      <td>malibuebarby</td>\n",
              "      <td>None</td>\n",
              "      <td>Conservative</td>\n",
              "      <td>None</td>\n",
              "      <td>None</td>\n",
              "      <td>None</td>\n",
              "      <td>None</td>\n",
              "      <td>None</td>\n",
              "      <td>None</td>\n",
              "      <td>None</td>\n",
              "      <td>None</td>\n",
              "    </tr>\n",
              "    <tr>\n",
              "      <th>35</th>\n",
              "      <td>820682</td>\n",
              "      <td>Ananda M. MalavΓ©</td>\n",
              "      <td>2005-03-24</td>\n",
              "      <td>2006-01-18</td>\n",
              "      <td>NYU '09</td>\n",
              "      <td>Undergrad</td>\n",
              "      <td>Female</td>\n",
              "      <td>1987-03-02</td>\n",
              "      <td>None</td>\n",
              "      <td>None</td>\n",
              "      <td>Very Liberal</td>\n",
              "      <td>None</td>\n",
              "      <td>St. John Villa Academy '05</td>\n",
              "      <td>Staten Island, NY</td>\n",
              "      <td>None</td>\n",
              "      <td>Hayden Hall</td>\n",
              "      <td>None</td>\n",
              "      <td>None</td>\n",
              "      <td>None</td>\n",
              "    </tr>\n",
              "    <tr>\n",
              "      <th>36</th>\n",
              "      <td>820721</td>\n",
              "      <td>Alfonsina Jimenez ~ AJ</td>\n",
              "      <td>2005-03-24</td>\n",
              "      <td>2005-12-16</td>\n",
              "      <td>NYU '08</td>\n",
              "      <td>Undergrad</td>\n",
              "      <td>Female</td>\n",
              "      <td>1986-09-28</td>\n",
              "      <td>None</td>\n",
              "      <td>None</td>\n",
              "      <td>Liberal</td>\n",
              "      <td>None</td>\n",
              "      <td>Fashion Industires High School '04</td>\n",
              "      <td>None</td>\n",
              "      <td>None</td>\n",
              "      <td>Alpha Sigma Tau AST</td>\n",
              "      <td>None</td>\n",
              "      <td>None</td>\n",
              "      <td>None</td>\n",
              "    </tr>\n",
              "    <tr>\n",
              "      <th>37</th>\n",
              "      <td>821176</td>\n",
              "      <td>Jean BernabΓ©</td>\n",
              "      <td>2005-04-04</td>\n",
              "      <td>2006-01-08</td>\n",
              "      <td>NYU '06</td>\n",
              "      <td>Undergrad</td>\n",
              "      <td>Male</td>\n",
              "      <td>1984-10-14</td>\n",
              "      <td>None</td>\n",
              "      <td>None</td>\n",
              "      <td>Other</td>\n",
              "      <td>None</td>\n",
              "      <td>Fordham Prep '02</td>\n",
              "      <td>Bronx, NY 10452</td>\n",
              "      <td>None</td>\n",
              "      <td>Phi Iota Alpha FIA ,DABRONX</td>\n",
              "      <td>None</td>\n",
              "      <td>None</td>\n",
              "      <td>None</td>\n",
              "    </tr>\n",
              "    <tr>\n",
              "      <th>38</th>\n",
              "      <td>821186</td>\n",
              "      <td>g nupe the hazel eyed 1</td>\n",
              "      <td>2005-04-04</td>\n",
              "      <td>2006-01-18</td>\n",
              "      <td>NYU '05</td>\n",
              "      <td>Faculty</td>\n",
              "      <td>Male</td>\n",
              "      <td>NaT</td>\n",
              "      <td>g NUPE the hAZEL EYED</td>\n",
              "      <td>None</td>\n",
              "      <td>Moderate</td>\n",
              "      <td>None</td>\n",
              "      <td>None</td>\n",
              "      <td>new york, NY 10037</td>\n",
              "      <td>None</td>\n",
              "      <td>None</td>\n",
              "      <td>None</td>\n",
              "      <td>None</td>\n",
              "      <td>None</td>\n",
              "    </tr>\n",
              "    <tr>\n",
              "      <th>39</th>\n",
              "      <td>822269</td>\n",
              "      <td>Kara AngΓ¨le Pressley</td>\n",
              "      <td>2005-04-28</td>\n",
              "      <td>2005-04-28</td>\n",
              "      <td>NYU</td>\n",
              "      <td>Grad Student</td>\n",
              "      <td>Female</td>\n",
              "      <td>1982-01-28</td>\n",
              "      <td>None</td>\n",
              "      <td>None</td>\n",
              "      <td>Other</td>\n",
              "      <td>None</td>\n",
              "      <td>None</td>\n",
              "      <td>None</td>\n",
              "      <td>None</td>\n",
              "      <td>None</td>\n",
              "      <td>None</td>\n",
              "      <td>None</td>\n",
              "      <td>None</td>\n",
              "    </tr>\n",
              "    <tr>\n",
              "      <th>40</th>\n",
              "      <td>823029</td>\n",
              "      <td>Cynthia PeΓ±a</td>\n",
              "      <td>2005-05-11</td>\n",
              "      <td>2006-01-13</td>\n",
              "      <td>NYU '07</td>\n",
              "      <td>Undergrad</td>\n",
              "      <td>Female</td>\n",
              "      <td>1985-07-23</td>\n",
              "      <td>sfc3nyc</td>\n",
              "      <td>None</td>\n",
              "      <td>Liberal</td>\n",
              "      <td>None</td>\n",
              "      <td>Desert Mountain High School '03</td>\n",
              "      <td>Born Walnut Creek,CA; grew up Scottsdale, AZ</td>\n",
              "      <td>None</td>\n",
              "      <td>Rubin Hall 905</td>\n",
              "      <td>None</td>\n",
              "      <td>None</td>\n",
              "      <td>None</td>\n",
              "    </tr>\n",
              "    <tr>\n",
              "      <th>41</th>\n",
              "      <td>823455</td>\n",
              "      <td>Mario PagΓ΅n</td>\n",
              "      <td>2005-05-17</td>\n",
              "      <td>2006-01-18</td>\n",
              "      <td>NYU '09</td>\n",
              "      <td>Undergrad</td>\n",
              "      <td>Male</td>\n",
              "      <td>1987-06-12</td>\n",
              "      <td>iwassocoolbefore</td>\n",
              "      <td>http://superpooper.deviantart.com</td>\n",
              "      <td>Very Liberal</td>\n",
              "      <td>None</td>\n",
              "      <td>Commonwealth High School '05</td>\n",
              "      <td>San Juan, PR</td>\n",
              "      <td>None</td>\n",
              "      <td>Third Avenue North TS502B</td>\n",
              "      <td>None</td>\n",
              "      <td>None</td>\n",
              "      <td>None</td>\n",
              "    </tr>\n",
              "    <tr>\n",
              "      <th>42</th>\n",
              "      <td>823755</td>\n",
              "      <td>NYC Summer2005</td>\n",
              "      <td>2005-05-22</td>\n",
              "      <td>2006-01-18</td>\n",
              "      <td>NYU</td>\n",
              "      <td>Alumnus/Alumna</td>\n",
              "      <td>Male</td>\n",
              "      <td>NaT</td>\n",
              "      <td>mischa998</td>\n",
              "      <td>None</td>\n",
              "      <td>None</td>\n",
              "      <td>None</td>\n",
              "      <td>None</td>\n",
              "      <td>New York City, NY</td>\n",
              "      <td>None</td>\n",
              "      <td>None</td>\n",
              "      <td>None</td>\n",
              "      <td>NYC, NY 10012</td>\n",
              "      <td>None</td>\n",
              "    </tr>\n",
              "    <tr>\n",
              "      <th>43</th>\n",
              "      <td>824519</td>\n",
              "      <td>Marie-HΓ©lΓ¨ne Rousseau</td>\n",
              "      <td>2005-06-04</td>\n",
              "      <td>2006-01-13</td>\n",
              "      <td>NYU '09</td>\n",
              "      <td>Undergrad</td>\n",
              "      <td>Female</td>\n",
              "      <td>1987-02-19</td>\n",
              "      <td>mhrousseau</td>\n",
              "      <td>None</td>\n",
              "      <td>Libertarian</td>\n",
              "      <td>None</td>\n",
              "      <td>Rabat American School '05</td>\n",
              "      <td>amman, tunis, cairo, dhaka, fairfax, rabat...</td>\n",
              "      <td>None</td>\n",
              "      <td>Florence COLLETTA11</td>\n",
              "      <td>None</td>\n",
              "      <td>Rabat, Morocco</td>\n",
              "      <td>None</td>\n",
              "    </tr>\n",
              "    <tr>\n",
              "      <th>44</th>\n",
              "      <td>826997</td>\n",
              "      <td>QingQing/Celeste Qiu</td>\n",
              "      <td>2005-07-17</td>\n",
              "      <td>2005-11-30</td>\n",
              "      <td>NYU '09</td>\n",
              "      <td>Undergrad</td>\n",
              "      <td>Female</td>\n",
              "      <td>NaT</td>\n",
              "      <td>None</td>\n",
              "      <td>http://spaces.msn.com/members/whatwewant</td>\n",
              "      <td>Apathetic</td>\n",
              "      <td>None</td>\n",
              "      <td>Gordonstoun</td>\n",
              "      <td>Beijing</td>\n",
              "      <td>None</td>\n",
              "      <td>Florence COLLETTA</td>\n",
              "      <td>None</td>\n",
              "      <td>None</td>\n",
              "      <td>None</td>\n",
              "    </tr>\n",
              "    <tr>\n",
              "      <th>45</th>\n",
              "      <td>827298</td>\n",
              "      <td>Fernando BaliΓ±o</td>\n",
              "      <td>2005-07-23</td>\n",
              "      <td>2006-01-16</td>\n",
              "      <td>NYU '09</td>\n",
              "      <td>Undergrad</td>\n",
              "      <td>Male</td>\n",
              "      <td>1987-02-03</td>\n",
              "      <td>fb69169</td>\n",
              "      <td>http://www.myspace.com/uruguayo</td>\n",
              "      <td>Liberal</td>\n",
              "      <td>None</td>\n",
              "      <td>Uruguayan American School '05</td>\n",
              "      <td>Montevideo, Uruguay, 11500</td>\n",
              "      <td>None</td>\n",
              "      <td>Weinstein Hall 513A</td>\n",
              "      <td>5-11 University Place New York, NY 10003</td>\n",
              "      <td>None</td>\n",
              "      <td>None</td>\n",
              "    </tr>\n",
              "    <tr>\n",
              "      <th>46</th>\n",
              "      <td>827776</td>\n",
              "      <td>Maria Manouselis β™¥</td>\n",
              "      <td>2005-08-01</td>\n",
              "      <td>2006-01-17</td>\n",
              "      <td>NYU '09</td>\n",
              "      <td>Undergrad</td>\n",
              "      <td>Female</td>\n",
              "      <td>1987-10-29</td>\n",
              "      <td>askk</td>\n",
              "      <td>None</td>\n",
              "      <td>Conservative</td>\n",
              "      <td>None</td>\n",
              "      <td>Byram Hills High School '05</td>\n",
              "      <td>armonk, NY 10504</td>\n",
              "      <td>None</td>\n",
              "      <td>Third Avenue North</td>\n",
              "      <td>None</td>\n",
              "      <td>nyc</td>\n",
              "      <td>None</td>\n",
              "    </tr>\n",
              "    <tr>\n",
              "      <th>47</th>\n",
              "      <td>827978</td>\n",
              "      <td>Ben 0viatt</td>\n",
              "      <td>2005-08-05</td>\n",
              "      <td>2006-01-13</td>\n",
              "      <td>NYU '09</td>\n",
              "      <td>Undergrad</td>\n",
              "      <td>Male</td>\n",
              "      <td>1986-08-17</td>\n",
              "      <td>TheCoolestMonkey</td>\n",
              "      <td>http://www.fotolog.net/bennigan/</td>\n",
              "      <td>Other</td>\n",
              "      <td>None</td>\n",
              "      <td>Lander Valley High School '04</td>\n",
              "      <td>Lander, WY 82520</td>\n",
              "      <td>None</td>\n",
              "      <td>Hayden Hall 1011A</td>\n",
              "      <td>None</td>\n",
              "      <td>None</td>\n",
              "      <td>None</td>\n",
              "    </tr>\n",
              "    <tr>\n",
              "      <th>48</th>\n",
              "      <td>829942</td>\n",
              "      <td>Dr. Ce$aR Ξ›ΞΞ¦</td>\n",
              "      <td>2005-04-17</td>\n",
              "      <td>2006-01-14</td>\n",
              "      <td>NYU '07</td>\n",
              "      <td>Grad Student</td>\n",
              "      <td>Male</td>\n",
              "      <td>1983-03-19</td>\n",
              "      <td>None</td>\n",
              "      <td>None</td>\n",
              "      <td>Moderate</td>\n",
              "      <td>New York,  NY</td>\n",
              "      <td>St. Francis Prep '01</td>\n",
              "      <td>Elmhurst, NY 11373</td>\n",
              "      <td>None</td>\n",
              "      <td>Washington Square Village</td>\n",
              "      <td>None</td>\n",
              "      <td>None</td>\n",
              "      <td>None</td>\n",
              "    </tr>\n",
              "    <tr>\n",
              "      <th>49</th>\n",
              "      <td>830030</td>\n",
              "      <td>Uni Code Ι™poΙ”Δ±Μ£un</td>\n",
              "      <td>2005-09-13</td>\n",
              "      <td>2005-09-14</td>\n",
              "      <td>NYU</td>\n",
              "      <td>Alumnus/Alumna</td>\n",
              "      <td>None</td>\n",
              "      <td>NaT</td>\n",
              "      <td>None</td>\n",
              "      <td>http://www.unicode.org</td>\n",
              "      <td>Other</td>\n",
              "      <td>None</td>\n",
              "      <td>None</td>\n",
              "      <td>Palo Alto, CA</td>\n",
              "      <td>None</td>\n",
              "      <td>None</td>\n",
              "      <td>None</td>\n",
              "      <td>None</td>\n",
              "      <td>None</td>\n",
              "    </tr>\n",
              "  </tbody>\n",
              "</table>\n",
              "</div>"
            ],
            "text/plain": [
              "    ProfileID  ... CurrentState\n",
              "0      800794  ...         None\n",
              "1      802953  ...         None\n",
              "2      803148  ...         None\n",
              "3      803169  ...         None\n",
              "4      803349  ...         None\n",
              "5      803696  ...         None\n",
              "6      804467  ...         None\n",
              "7      805463  ...         None\n",
              "8      806663  ...         None\n",
              "9      807220  ...         None\n",
              "10     808815  ...         None\n",
              "11     809153  ...         None\n",
              "12     809359  ...         None\n",
              "13     810447  ...         None\n",
              "14     810711  ...         None\n",
              "15     810796  ...         None\n",
              "16     812249  ...         None\n",
              "17     812902  ...         None\n",
              "18     813147  ...         None\n",
              "19     814475  ...         None\n",
              "20     816365  ...         None\n",
              "21     816689  ...         None\n",
              "22     817012  ...         None\n",
              "23     817118  ...         None\n",
              "24     817574  ...           NY\n",
              "25     818366  ...         None\n",
              "26     818825  ...         None\n",
              "27     818829  ...         None\n",
              "28     818841  ...         None\n",
              "29     819305  ...         None\n",
              "30     819379  ...         None\n",
              "31     819606  ...         None\n",
              "32     819681  ...         None\n",
              "33     819973  ...         None\n",
              "34     820434  ...         None\n",
              "35     820682  ...         None\n",
              "36     820721  ...         None\n",
              "37     821176  ...         None\n",
              "38     821186  ...         None\n",
              "39     822269  ...         None\n",
              "40     823029  ...         None\n",
              "41     823455  ...         None\n",
              "42     823755  ...         None\n",
              "43     824519  ...         None\n",
              "44     826997  ...         None\n",
              "45     827298  ...         None\n",
              "46     827776  ...         None\n",
              "47     827978  ...         None\n",
              "48     829942  ...         None\n",
              "49     830030  ...         None\n",
              "\n",
              "[50 rows x 19 columns]"
            ]
          },
          "metadata": {
            "tags": []
          },
          "execution_count": 37
        }
      ]
    },
    {
      "cell_type": "markdown",
      "metadata": {
        "id": "G8HYMk_KvLQx"
      },
      "source": [
        "### Aggregation Queries (IMDB Database)"
      ]
    },
    {
      "cell_type": "code",
      "metadata": {
        "id": "ur6rCV-NvLQx",
        "colab": {
          "base_uri": "https://localhost:8080/"
        },
        "outputId": "65eef6d9-4788-429e-99ed-7000c64a98ff"
      },
      "source": [
        "%%read_sql\n",
        "USE imdb;"
      ],
      "execution_count": 38,
      "outputs": [
        {
          "output_type": "stream",
          "text": [
            "Query started at 12:41:45 AM UTC; Query executed in 0.01 m"
          ],
          "name": "stdout"
        },
        {
          "output_type": "execute_result",
          "data": {
            "text/plain": [
              "<sql_magic.exceptions.EmptyResult at 0x7f5456f0e110>"
            ]
          },
          "metadata": {
            "tags": []
          },
          "execution_count": 38
        }
      ]
    },
    {
      "cell_type": "markdown",
      "metadata": {
        "id": "Mc8Ej1_svLQx"
      },
      "source": [
        "#### Number of movies for each director"
      ]
    },
    {
      "cell_type": "code",
      "metadata": {
        "id": "2G22YSJ5vLQx",
        "colab": {
          "base_uri": "https://localhost:8080/",
          "height": 442
        },
        "outputId": "35c2fa84-1dee-4ed9-b9f1-f0664a34e2a3"
      },
      "source": [
        "%%read_sql\n",
        "SELECT director_id, count(*) AS NumberOfMovies\n",
        "FROM movies_directors \n",
        "GROUP BY director_id\n",
        "LIMIT 100;"
      ],
      "execution_count": 39,
      "outputs": [
        {
          "output_type": "stream",
          "text": [
            "Query started at 12:41:48 AM UTC; Query executed in 0.01 m"
          ],
          "name": "stdout"
        },
        {
          "output_type": "execute_result",
          "data": {
            "text/html": [
              "<div>\n",
              "<style scoped>\n",
              "    .dataframe tbody tr th:only-of-type {\n",
              "        vertical-align: middle;\n",
              "    }\n",
              "\n",
              "    .dataframe tbody tr th {\n",
              "        vertical-align: top;\n",
              "    }\n",
              "\n",
              "    .dataframe thead th {\n",
              "        text-align: right;\n",
              "    }\n",
              "</style>\n",
              "<table border=\"1\" class=\"dataframe\">\n",
              "  <thead>\n",
              "    <tr style=\"text-align: right;\">\n",
              "      <th></th>\n",
              "      <th>director_id</th>\n",
              "      <th>NumberOfMovies</th>\n",
              "    </tr>\n",
              "  </thead>\n",
              "  <tbody>\n",
              "    <tr>\n",
              "      <th>0</th>\n",
              "      <td>1</td>\n",
              "      <td>1</td>\n",
              "    </tr>\n",
              "    <tr>\n",
              "      <th>1</th>\n",
              "      <td>2</td>\n",
              "      <td>1</td>\n",
              "    </tr>\n",
              "    <tr>\n",
              "      <th>2</th>\n",
              "      <td>3</td>\n",
              "      <td>2</td>\n",
              "    </tr>\n",
              "    <tr>\n",
              "      <th>3</th>\n",
              "      <td>4</td>\n",
              "      <td>1</td>\n",
              "    </tr>\n",
              "    <tr>\n",
              "      <th>4</th>\n",
              "      <td>5</td>\n",
              "      <td>1</td>\n",
              "    </tr>\n",
              "    <tr>\n",
              "      <th>...</th>\n",
              "      <td>...</td>\n",
              "      <td>...</td>\n",
              "    </tr>\n",
              "    <tr>\n",
              "      <th>95</th>\n",
              "      <td>96</td>\n",
              "      <td>1</td>\n",
              "    </tr>\n",
              "    <tr>\n",
              "      <th>96</th>\n",
              "      <td>97</td>\n",
              "      <td>5</td>\n",
              "    </tr>\n",
              "    <tr>\n",
              "      <th>97</th>\n",
              "      <td>98</td>\n",
              "      <td>2</td>\n",
              "    </tr>\n",
              "    <tr>\n",
              "      <th>98</th>\n",
              "      <td>99</td>\n",
              "      <td>4</td>\n",
              "    </tr>\n",
              "    <tr>\n",
              "      <th>99</th>\n",
              "      <td>100</td>\n",
              "      <td>2</td>\n",
              "    </tr>\n",
              "  </tbody>\n",
              "</table>\n",
              "<p>100 rows × 2 columns</p>\n",
              "</div>"
            ],
            "text/plain": [
              "    director_id  NumberOfMovies\n",
              "0             1               1\n",
              "1             2               1\n",
              "2             3               2\n",
              "3             4               1\n",
              "4             5               1\n",
              "..          ...             ...\n",
              "95           96               1\n",
              "96           97               5\n",
              "97           98               2\n",
              "98           99               4\n",
              "99          100               2\n",
              "\n",
              "[100 rows x 2 columns]"
            ]
          },
          "metadata": {
            "tags": []
          },
          "execution_count": 39
        }
      ]
    },
    {
      "cell_type": "markdown",
      "metadata": {
        "id": "hp4ageUJvLQy"
      },
      "source": [
        "#### Rank directors by the number of movies they directed"
      ]
    },
    {
      "cell_type": "code",
      "metadata": {
        "id": "6eZM0X_SvLQy",
        "colab": {
          "base_uri": "https://localhost:8080/",
          "height": 442
        },
        "outputId": "0e68e6fb-3b76-4761-cf51-e83186e5b1bf"
      },
      "source": [
        "%%read_sql\n",
        "SELECT director_id, count(*) AS NumberOfMovies\n",
        "FROM movies_directors \n",
        "GROUP BY director_id\n",
        "ORDER BY count(*) desc"
      ],
      "execution_count": 40,
      "outputs": [
        {
          "output_type": "stream",
          "text": [
            "Query started at 12:41:59 AM UTC; Query executed in 0.01 m"
          ],
          "name": "stdout"
        },
        {
          "output_type": "execute_result",
          "data": {
            "text/html": [
              "<div>\n",
              "<style scoped>\n",
              "    .dataframe tbody tr th:only-of-type {\n",
              "        vertical-align: middle;\n",
              "    }\n",
              "\n",
              "    .dataframe tbody tr th {\n",
              "        vertical-align: top;\n",
              "    }\n",
              "\n",
              "    .dataframe thead th {\n",
              "        text-align: right;\n",
              "    }\n",
              "</style>\n",
              "<table border=\"1\" class=\"dataframe\">\n",
              "  <thead>\n",
              "    <tr style=\"text-align: right;\">\n",
              "      <th></th>\n",
              "      <th>director_id</th>\n",
              "      <th>NumberOfMovies</th>\n",
              "    </tr>\n",
              "  </thead>\n",
              "  <tbody>\n",
              "    <tr>\n",
              "      <th>0</th>\n",
              "      <td>25116</td>\n",
              "      <td>619</td>\n",
              "    </tr>\n",
              "    <tr>\n",
              "      <th>1</th>\n",
              "      <td>56530</td>\n",
              "      <td>562</td>\n",
              "    </tr>\n",
              "    <tr>\n",
              "      <th>2</th>\n",
              "      <td>30570</td>\n",
              "      <td>536</td>\n",
              "    </tr>\n",
              "    <tr>\n",
              "      <th>3</th>\n",
              "      <td>9277</td>\n",
              "      <td>370</td>\n",
              "    </tr>\n",
              "    <tr>\n",
              "      <th>4</th>\n",
              "      <td>1958</td>\n",
              "      <td>360</td>\n",
              "    </tr>\n",
              "    <tr>\n",
              "      <th>...</th>\n",
              "      <td>...</td>\n",
              "      <td>...</td>\n",
              "    </tr>\n",
              "    <tr>\n",
              "      <th>88599</th>\n",
              "      <td>5131</td>\n",
              "      <td>1</td>\n",
              "    </tr>\n",
              "    <tr>\n",
              "      <th>88600</th>\n",
              "      <td>32333</td>\n",
              "      <td>1</td>\n",
              "    </tr>\n",
              "    <tr>\n",
              "      <th>88601</th>\n",
              "      <td>36440</td>\n",
              "      <td>1</td>\n",
              "    </tr>\n",
              "    <tr>\n",
              "      <th>88602</th>\n",
              "      <td>16416</td>\n",
              "      <td>1</td>\n",
              "    </tr>\n",
              "    <tr>\n",
              "      <th>88603</th>\n",
              "      <td>14044</td>\n",
              "      <td>1</td>\n",
              "    </tr>\n",
              "  </tbody>\n",
              "</table>\n",
              "<p>88604 rows × 2 columns</p>\n",
              "</div>"
            ],
            "text/plain": [
              "       director_id  NumberOfMovies\n",
              "0            25116             619\n",
              "1            56530             562\n",
              "2            30570             536\n",
              "3             9277             370\n",
              "4             1958             360\n",
              "...            ...             ...\n",
              "88599         5131               1\n",
              "88600        32333               1\n",
              "88601        36440               1\n",
              "88602        16416               1\n",
              "88603        14044               1\n",
              "\n",
              "[88604 rows x 2 columns]"
            ]
          },
          "metadata": {
            "tags": []
          },
          "execution_count": 40
        }
      ]
    },
    {
      "cell_type": "markdown",
      "metadata": {
        "id": "N7ydwGGsvLQy"
      },
      "source": [
        "#### Find the number of actors in each movie"
      ]
    },
    {
      "cell_type": "code",
      "metadata": {
        "id": "_jm0A_MKvLQy",
        "colab": {
          "base_uri": "https://localhost:8080/",
          "height": 442
        },
        "outputId": "8cca1aaf-c74b-4cbb-d632-d8b500b68187"
      },
      "source": [
        "%%read_sql\n",
        "SELECT movie_id, count(*) \n",
        "FROM roles \n",
        "GROUP BY movie_id"
      ],
      "execution_count": 41,
      "outputs": [
        {
          "output_type": "stream",
          "text": [
            "Query started at 12:42:25 AM UTC; Query executed in 0.04 m"
          ],
          "name": "stdout"
        },
        {
          "output_type": "execute_result",
          "data": {
            "text/html": [
              "<div>\n",
              "<style scoped>\n",
              "    .dataframe tbody tr th:only-of-type {\n",
              "        vertical-align: middle;\n",
              "    }\n",
              "\n",
              "    .dataframe tbody tr th {\n",
              "        vertical-align: top;\n",
              "    }\n",
              "\n",
              "    .dataframe thead th {\n",
              "        text-align: right;\n",
              "    }\n",
              "</style>\n",
              "<table border=\"1\" class=\"dataframe\">\n",
              "  <thead>\n",
              "    <tr style=\"text-align: right;\">\n",
              "      <th></th>\n",
              "      <th>movie_id</th>\n",
              "      <th>count(*)</th>\n",
              "    </tr>\n",
              "  </thead>\n",
              "  <tbody>\n",
              "    <tr>\n",
              "      <th>0</th>\n",
              "      <td>0</td>\n",
              "      <td>2</td>\n",
              "    </tr>\n",
              "    <tr>\n",
              "      <th>1</th>\n",
              "      <td>2</td>\n",
              "      <td>20</td>\n",
              "    </tr>\n",
              "    <tr>\n",
              "      <th>2</th>\n",
              "      <td>3</td>\n",
              "      <td>4</td>\n",
              "    </tr>\n",
              "    <tr>\n",
              "      <th>3</th>\n",
              "      <td>4</td>\n",
              "      <td>4</td>\n",
              "    </tr>\n",
              "    <tr>\n",
              "      <th>4</th>\n",
              "      <td>5</td>\n",
              "      <td>1</td>\n",
              "    </tr>\n",
              "    <tr>\n",
              "      <th>...</th>\n",
              "      <td>...</td>\n",
              "      <td>...</td>\n",
              "    </tr>\n",
              "    <tr>\n",
              "      <th>300247</th>\n",
              "      <td>412315</td>\n",
              "      <td>1</td>\n",
              "    </tr>\n",
              "    <tr>\n",
              "      <th>300248</th>\n",
              "      <td>412316</td>\n",
              "      <td>15</td>\n",
              "    </tr>\n",
              "    <tr>\n",
              "      <th>300249</th>\n",
              "      <td>412317</td>\n",
              "      <td>11</td>\n",
              "    </tr>\n",
              "    <tr>\n",
              "      <th>300250</th>\n",
              "      <td>412318</td>\n",
              "      <td>9</td>\n",
              "    </tr>\n",
              "    <tr>\n",
              "      <th>300251</th>\n",
              "      <td>412319</td>\n",
              "      <td>13</td>\n",
              "    </tr>\n",
              "  </tbody>\n",
              "</table>\n",
              "<p>300252 rows × 2 columns</p>\n",
              "</div>"
            ],
            "text/plain": [
              "        movie_id  count(*)\n",
              "0              0         2\n",
              "1              2        20\n",
              "2              3         4\n",
              "3              4         4\n",
              "4              5         1\n",
              "...          ...       ...\n",
              "300247    412315         1\n",
              "300248    412316        15\n",
              "300249    412317        11\n",
              "300250    412318         9\n",
              "300251    412319        13\n",
              "\n",
              "[300252 rows x 2 columns]"
            ]
          },
          "metadata": {
            "tags": []
          },
          "execution_count": 41
        }
      ]
    },
    {
      "cell_type": "markdown",
      "metadata": {
        "id": "iDuSlGmhvLQy"
      },
      "source": [
        "#### Find the movies with more than 100 actors"
      ]
    },
    {
      "cell_type": "code",
      "metadata": {
        "id": "RFYeyNdnvLQz",
        "colab": {
          "base_uri": "https://localhost:8080/",
          "height": 442
        },
        "outputId": "283fea6f-d384-4ecd-8c25-677f73cf17f3"
      },
      "source": [
        "%%read_sql\n",
        "SELECT movie_id, count(*) \n",
        "FROM roles \n",
        "GROUP BY movie_id\n",
        "HAVING count(*) > 100;"
      ],
      "execution_count": 42,
      "outputs": [
        {
          "output_type": "stream",
          "text": [
            "Query started at 12:42:36 AM UTC; Query executed in 0.03 m"
          ],
          "name": "stdout"
        },
        {
          "output_type": "execute_result",
          "data": {
            "text/html": [
              "<div>\n",
              "<style scoped>\n",
              "    .dataframe tbody tr th:only-of-type {\n",
              "        vertical-align: middle;\n",
              "    }\n",
              "\n",
              "    .dataframe tbody tr th {\n",
              "        vertical-align: top;\n",
              "    }\n",
              "\n",
              "    .dataframe thead th {\n",
              "        text-align: right;\n",
              "    }\n",
              "</style>\n",
              "<table border=\"1\" class=\"dataframe\">\n",
              "  <thead>\n",
              "    <tr style=\"text-align: right;\">\n",
              "      <th></th>\n",
              "      <th>movie_id</th>\n",
              "      <th>count(*)</th>\n",
              "    </tr>\n",
              "  </thead>\n",
              "  <tbody>\n",
              "    <tr>\n",
              "      <th>0</th>\n",
              "      <td>687</td>\n",
              "      <td>153</td>\n",
              "    </tr>\n",
              "    <tr>\n",
              "      <th>1</th>\n",
              "      <td>846</td>\n",
              "      <td>174</td>\n",
              "    </tr>\n",
              "    <tr>\n",
              "      <th>2</th>\n",
              "      <td>1674</td>\n",
              "      <td>164</td>\n",
              "    </tr>\n",
              "    <tr>\n",
              "      <th>3</th>\n",
              "      <td>1703</td>\n",
              "      <td>114</td>\n",
              "    </tr>\n",
              "    <tr>\n",
              "      <th>4</th>\n",
              "      <td>2250</td>\n",
              "      <td>112</td>\n",
              "    </tr>\n",
              "    <tr>\n",
              "      <th>...</th>\n",
              "      <td>...</td>\n",
              "      <td>...</td>\n",
              "    </tr>\n",
              "    <tr>\n",
              "      <th>544</th>\n",
              "      <td>411545</td>\n",
              "      <td>188</td>\n",
              "    </tr>\n",
              "    <tr>\n",
              "      <th>545</th>\n",
              "      <td>411546</td>\n",
              "      <td>205</td>\n",
              "    </tr>\n",
              "    <tr>\n",
              "      <th>546</th>\n",
              "      <td>411585</td>\n",
              "      <td>108</td>\n",
              "    </tr>\n",
              "    <tr>\n",
              "      <th>547</th>\n",
              "      <td>411802</td>\n",
              "      <td>533</td>\n",
              "    </tr>\n",
              "    <tr>\n",
              "      <th>548</th>\n",
              "      <td>411809</td>\n",
              "      <td>129</td>\n",
              "    </tr>\n",
              "  </tbody>\n",
              "</table>\n",
              "<p>549 rows × 2 columns</p>\n",
              "</div>"
            ],
            "text/plain": [
              "     movie_id  count(*)\n",
              "0         687       153\n",
              "1         846       174\n",
              "2        1674       164\n",
              "3        1703       114\n",
              "4        2250       112\n",
              "..        ...       ...\n",
              "544    411545       188\n",
              "545    411546       205\n",
              "546    411585       108\n",
              "547    411802       533\n",
              "548    411809       129\n",
              "\n",
              "[549 rows x 2 columns]"
            ]
          },
          "metadata": {
            "tags": []
          },
          "execution_count": 42
        }
      ]
    },
    {
      "cell_type": "markdown",
      "metadata": {
        "id": "mXvfWrSuvLQz"
      },
      "source": [
        "#### Find the most popular genres (basd on the number of movies)"
      ]
    },
    {
      "cell_type": "code",
      "metadata": {
        "id": "TzC9TopovLQz",
        "colab": {
          "base_uri": "https://localhost:8080/",
          "height": 726
        },
        "outputId": "4f46413a-8109-4db0-d9bf-8209262f1cc3"
      },
      "source": [
        "%%read_sql\n",
        "SELECT genre, count(*) \n",
        "FROM movies_genres\n",
        "GROUP BY genre\n",
        "ORDER BY count(*) desc"
      ],
      "execution_count": 43,
      "outputs": [
        {
          "output_type": "stream",
          "text": [
            "Query started at 12:42:51 AM UTC; Query executed in 0.01 m"
          ],
          "name": "stdout"
        },
        {
          "output_type": "execute_result",
          "data": {
            "text/html": [
              "<div>\n",
              "<style scoped>\n",
              "    .dataframe tbody tr th:only-of-type {\n",
              "        vertical-align: middle;\n",
              "    }\n",
              "\n",
              "    .dataframe tbody tr th {\n",
              "        vertical-align: top;\n",
              "    }\n",
              "\n",
              "    .dataframe thead th {\n",
              "        text-align: right;\n",
              "    }\n",
              "</style>\n",
              "<table border=\"1\" class=\"dataframe\">\n",
              "  <thead>\n",
              "    <tr style=\"text-align: right;\">\n",
              "      <th></th>\n",
              "      <th>genre</th>\n",
              "      <th>count(*)</th>\n",
              "    </tr>\n",
              "  </thead>\n",
              "  <tbody>\n",
              "    <tr>\n",
              "      <th>0</th>\n",
              "      <td>Short</td>\n",
              "      <td>82597</td>\n",
              "    </tr>\n",
              "    <tr>\n",
              "      <th>1</th>\n",
              "      <td>Drama</td>\n",
              "      <td>74615</td>\n",
              "    </tr>\n",
              "    <tr>\n",
              "      <th>2</th>\n",
              "      <td>Comedy</td>\n",
              "      <td>57860</td>\n",
              "    </tr>\n",
              "    <tr>\n",
              "      <th>3</th>\n",
              "      <td>Documentary</td>\n",
              "      <td>42320</td>\n",
              "    </tr>\n",
              "    <tr>\n",
              "      <th>4</th>\n",
              "      <td>Adult</td>\n",
              "      <td>20667</td>\n",
              "    </tr>\n",
              "    <tr>\n",
              "      <th>5</th>\n",
              "      <td>Animation</td>\n",
              "      <td>17888</td>\n",
              "    </tr>\n",
              "    <tr>\n",
              "      <th>6</th>\n",
              "      <td>Action</td>\n",
              "      <td>14885</td>\n",
              "    </tr>\n",
              "    <tr>\n",
              "      <th>7</th>\n",
              "      <td>Romance</td>\n",
              "      <td>13873</td>\n",
              "    </tr>\n",
              "    <tr>\n",
              "      <th>8</th>\n",
              "      <td>Crime</td>\n",
              "      <td>12966</td>\n",
              "    </tr>\n",
              "    <tr>\n",
              "      <th>9</th>\n",
              "      <td>Family</td>\n",
              "      <td>11232</td>\n",
              "    </tr>\n",
              "    <tr>\n",
              "      <th>10</th>\n",
              "      <td>Thriller</td>\n",
              "      <td>10953</td>\n",
              "    </tr>\n",
              "    <tr>\n",
              "      <th>11</th>\n",
              "      <td>Adventure</td>\n",
              "      <td>8992</td>\n",
              "    </tr>\n",
              "    <tr>\n",
              "      <th>12</th>\n",
              "      <td>Western</td>\n",
              "      <td>8539</td>\n",
              "    </tr>\n",
              "    <tr>\n",
              "      <th>13</th>\n",
              "      <td>Horror</td>\n",
              "      <td>7520</td>\n",
              "    </tr>\n",
              "    <tr>\n",
              "      <th>14</th>\n",
              "      <td>Musical</td>\n",
              "      <td>7055</td>\n",
              "    </tr>\n",
              "    <tr>\n",
              "      <th>15</th>\n",
              "      <td>Music</td>\n",
              "      <td>5664</td>\n",
              "    </tr>\n",
              "    <tr>\n",
              "      <th>16</th>\n",
              "      <td>Fantasy</td>\n",
              "      <td>5223</td>\n",
              "    </tr>\n",
              "    <tr>\n",
              "      <th>17</th>\n",
              "      <td>Sci-Fi</td>\n",
              "      <td>5111</td>\n",
              "    </tr>\n",
              "    <tr>\n",
              "      <th>18</th>\n",
              "      <td>Mystery</td>\n",
              "      <td>4971</td>\n",
              "    </tr>\n",
              "    <tr>\n",
              "      <th>19</th>\n",
              "      <td>War</td>\n",
              "      <td>4436</td>\n",
              "    </tr>\n",
              "    <tr>\n",
              "      <th>20</th>\n",
              "      <td>Film-Noir</td>\n",
              "      <td>417</td>\n",
              "    </tr>\n",
              "  </tbody>\n",
              "</table>\n",
              "</div>"
            ],
            "text/plain": [
              "          genre  count(*)\n",
              "0         Short     82597\n",
              "1         Drama     74615\n",
              "2        Comedy     57860\n",
              "3   Documentary     42320\n",
              "4         Adult     20667\n",
              "5     Animation     17888\n",
              "6        Action     14885\n",
              "7       Romance     13873\n",
              "8         Crime     12966\n",
              "9        Family     11232\n",
              "10     Thriller     10953\n",
              "11    Adventure      8992\n",
              "12      Western      8539\n",
              "13       Horror      7520\n",
              "14      Musical      7055\n",
              "15        Music      5664\n",
              "16      Fantasy      5223\n",
              "17       Sci-Fi      5111\n",
              "18      Mystery      4971\n",
              "19          War      4436\n",
              "20    Film-Noir       417"
            ]
          },
          "metadata": {
            "tags": []
          },
          "execution_count": 43
        }
      ]
    },
    {
      "cell_type": "markdown",
      "metadata": {
        "id": "62NYA-0TvLQ0"
      },
      "source": [
        "#### Find the average rank of the movies in the database, per year of release"
      ]
    },
    {
      "cell_type": "code",
      "metadata": {
        "id": "cpKVWGT0vLQ0",
        "colab": {
          "base_uri": "https://localhost:8080/",
          "height": 442
        },
        "outputId": "5f28fb91-da84-4c26-aef2-e4a487f593cf"
      },
      "source": [
        "%%read_sql\n",
        "SELECT year, avg(rank) \n",
        "FROM movies\n",
        "GROUP BY year"
      ],
      "execution_count": 44,
      "outputs": [
        {
          "output_type": "stream",
          "text": [
            "Query started at 12:42:55 AM UTC; Query executed in 0.01 m"
          ],
          "name": "stdout"
        },
        {
          "output_type": "execute_result",
          "data": {
            "text/html": [
              "<div>\n",
              "<style scoped>\n",
              "    .dataframe tbody tr th:only-of-type {\n",
              "        vertical-align: middle;\n",
              "    }\n",
              "\n",
              "    .dataframe tbody tr th {\n",
              "        vertical-align: top;\n",
              "    }\n",
              "\n",
              "    .dataframe thead th {\n",
              "        text-align: right;\n",
              "    }\n",
              "</style>\n",
              "<table border=\"1\" class=\"dataframe\">\n",
              "  <thead>\n",
              "    <tr style=\"text-align: right;\">\n",
              "      <th></th>\n",
              "      <th>year</th>\n",
              "      <th>avg(rank)</th>\n",
              "    </tr>\n",
              "  </thead>\n",
              "  <tbody>\n",
              "    <tr>\n",
              "      <th>0</th>\n",
              "      <td>1888</td>\n",
              "      <td>NaN</td>\n",
              "    </tr>\n",
              "    <tr>\n",
              "      <th>1</th>\n",
              "      <td>1890</td>\n",
              "      <td>7.300000</td>\n",
              "    </tr>\n",
              "    <tr>\n",
              "      <th>2</th>\n",
              "      <td>1891</td>\n",
              "      <td>3.683333</td>\n",
              "    </tr>\n",
              "    <tr>\n",
              "      <th>3</th>\n",
              "      <td>1892</td>\n",
              "      <td>2.866667</td>\n",
              "    </tr>\n",
              "    <tr>\n",
              "      <th>4</th>\n",
              "      <td>1893</td>\n",
              "      <td>6.800000</td>\n",
              "    </tr>\n",
              "    <tr>\n",
              "      <th>...</th>\n",
              "      <td>...</td>\n",
              "      <td>...</td>\n",
              "    </tr>\n",
              "    <tr>\n",
              "      <th>115</th>\n",
              "      <td>2004</td>\n",
              "      <td>6.217399</td>\n",
              "    </tr>\n",
              "    <tr>\n",
              "      <th>116</th>\n",
              "      <td>2005</td>\n",
              "      <td>NaN</td>\n",
              "    </tr>\n",
              "    <tr>\n",
              "      <th>117</th>\n",
              "      <td>2006</td>\n",
              "      <td>NaN</td>\n",
              "    </tr>\n",
              "    <tr>\n",
              "      <th>118</th>\n",
              "      <td>2007</td>\n",
              "      <td>NaN</td>\n",
              "    </tr>\n",
              "    <tr>\n",
              "      <th>119</th>\n",
              "      <td>2008</td>\n",
              "      <td>NaN</td>\n",
              "    </tr>\n",
              "  </tbody>\n",
              "</table>\n",
              "<p>120 rows × 2 columns</p>\n",
              "</div>"
            ],
            "text/plain": [
              "     year  avg(rank)\n",
              "0    1888        NaN\n",
              "1    1890   7.300000\n",
              "2    1891   3.683333\n",
              "3    1892   2.866667\n",
              "4    1893   6.800000\n",
              "..    ...        ...\n",
              "115  2004   6.217399\n",
              "116  2005        NaN\n",
              "117  2006        NaN\n",
              "118  2007        NaN\n",
              "119  2008        NaN\n",
              "\n",
              "[120 rows x 2 columns]"
            ]
          },
          "metadata": {
            "tags": []
          },
          "execution_count": 44
        }
      ]
    },
    {
      "cell_type": "markdown",
      "metadata": {
        "id": "-Ebc4LdJvLQ0"
      },
      "source": [
        "### Aggregation Queries (Facebook database)"
      ]
    },
    {
      "cell_type": "code",
      "metadata": {
        "id": "sER7CV8yvLQ0",
        "colab": {
          "base_uri": "https://localhost:8080/"
        },
        "outputId": "fb52c100-dd7c-4221-9d67-a3aa49a81a12"
      },
      "source": [
        "%%read_sql\n",
        "USE facebook"
      ],
      "execution_count": 45,
      "outputs": [
        {
          "output_type": "stream",
          "text": [
            "Query started at 12:42:59 AM UTC; Query executed in 0.01 m"
          ],
          "name": "stdout"
        },
        {
          "output_type": "execute_result",
          "data": {
            "text/plain": [
              "<sql_magic.exceptions.EmptyResult at 0x7f5456f6d0d0>"
            ]
          },
          "metadata": {
            "tags": []
          },
          "execution_count": 45
        }
      ]
    },
    {
      "cell_type": "markdown",
      "metadata": {
        "id": "igULTBL7vLQ1"
      },
      "source": [
        "#### List the number of males and females"
      ]
    },
    {
      "cell_type": "code",
      "metadata": {
        "id": "DuLymE-0vLQ1",
        "colab": {
          "base_uri": "https://localhost:8080/",
          "height": 162
        },
        "outputId": "03671299-b0ec-40ac-a5bc-3c0eb109868f"
      },
      "source": [
        "%%read_sql\n",
        "SELECT sex, count(*) \n",
        "FROM Profiles \n",
        "GROUP BY sex"
      ],
      "execution_count": 46,
      "outputs": [
        {
          "output_type": "stream",
          "text": [
            "Query started at 12:43:05 AM UTC; Query executed in 0.01 m"
          ],
          "name": "stdout"
        },
        {
          "output_type": "execute_result",
          "data": {
            "text/html": [
              "<div>\n",
              "<style scoped>\n",
              "    .dataframe tbody tr th:only-of-type {\n",
              "        vertical-align: middle;\n",
              "    }\n",
              "\n",
              "    .dataframe tbody tr th {\n",
              "        vertical-align: top;\n",
              "    }\n",
              "\n",
              "    .dataframe thead th {\n",
              "        text-align: right;\n",
              "    }\n",
              "</style>\n",
              "<table border=\"1\" class=\"dataframe\">\n",
              "  <thead>\n",
              "    <tr style=\"text-align: right;\">\n",
              "      <th></th>\n",
              "      <th>sex</th>\n",
              "      <th>count(*)</th>\n",
              "    </tr>\n",
              "  </thead>\n",
              "  <tbody>\n",
              "    <tr>\n",
              "      <th>0</th>\n",
              "      <td>None</td>\n",
              "      <td>4498</td>\n",
              "    </tr>\n",
              "    <tr>\n",
              "      <th>1</th>\n",
              "      <td>Female</td>\n",
              "      <td>12311</td>\n",
              "    </tr>\n",
              "    <tr>\n",
              "      <th>2</th>\n",
              "      <td>Male</td>\n",
              "      <td>8975</td>\n",
              "    </tr>\n",
              "  </tbody>\n",
              "</table>\n",
              "</div>"
            ],
            "text/plain": [
              "      sex  count(*)\n",
              "0    None      4498\n",
              "1  Female     12311\n",
              "2    Male      8975"
            ]
          },
          "metadata": {
            "tags": []
          },
          "execution_count": 46
        }
      ]
    },
    {
      "cell_type": "markdown",
      "metadata": {
        "id": "KRze_-4UvLQ1"
      },
      "source": [
        "#### List the number of students for each political view"
      ]
    },
    {
      "cell_type": "code",
      "metadata": {
        "id": "5ParEFXVvLQ1",
        "colab": {
          "base_uri": "https://localhost:8080/",
          "height": 350
        },
        "outputId": "2e18d82f-c9f4-42b1-aa32-7a5153bc8645"
      },
      "source": [
        "%%read_sql\n",
        "SELECT PoliticalViews, count(*) \n",
        "FROM Profiles \n",
        "GROUP BY PoliticalViews"
      ],
      "execution_count": 47,
      "outputs": [
        {
          "output_type": "stream",
          "text": [
            "Query started at 12:43:09 AM UTC; Query executed in 0.01 m"
          ],
          "name": "stdout"
        },
        {
          "output_type": "execute_result",
          "data": {
            "text/html": [
              "<div>\n",
              "<style scoped>\n",
              "    .dataframe tbody tr th:only-of-type {\n",
              "        vertical-align: middle;\n",
              "    }\n",
              "\n",
              "    .dataframe tbody tr th {\n",
              "        vertical-align: top;\n",
              "    }\n",
              "\n",
              "    .dataframe thead th {\n",
              "        text-align: right;\n",
              "    }\n",
              "</style>\n",
              "<table border=\"1\" class=\"dataframe\">\n",
              "  <thead>\n",
              "    <tr style=\"text-align: right;\">\n",
              "      <th></th>\n",
              "      <th>PoliticalViews</th>\n",
              "      <th>count(*)</th>\n",
              "    </tr>\n",
              "  </thead>\n",
              "  <tbody>\n",
              "    <tr>\n",
              "      <th>0</th>\n",
              "      <td>None</td>\n",
              "      <td>11091</td>\n",
              "    </tr>\n",
              "    <tr>\n",
              "      <th>1</th>\n",
              "      <td>Apathetic</td>\n",
              "      <td>805</td>\n",
              "    </tr>\n",
              "    <tr>\n",
              "      <th>2</th>\n",
              "      <td>Conservative</td>\n",
              "      <td>936</td>\n",
              "    </tr>\n",
              "    <tr>\n",
              "      <th>3</th>\n",
              "      <td>Liberal</td>\n",
              "      <td>6461</td>\n",
              "    </tr>\n",
              "    <tr>\n",
              "      <th>4</th>\n",
              "      <td>Libertarian</td>\n",
              "      <td>325</td>\n",
              "    </tr>\n",
              "    <tr>\n",
              "      <th>5</th>\n",
              "      <td>Moderate</td>\n",
              "      <td>2898</td>\n",
              "    </tr>\n",
              "    <tr>\n",
              "      <th>6</th>\n",
              "      <td>Other</td>\n",
              "      <td>824</td>\n",
              "    </tr>\n",
              "    <tr>\n",
              "      <th>7</th>\n",
              "      <td>Very Conservative</td>\n",
              "      <td>167</td>\n",
              "    </tr>\n",
              "    <tr>\n",
              "      <th>8</th>\n",
              "      <td>Very Liberal</td>\n",
              "      <td>2277</td>\n",
              "    </tr>\n",
              "  </tbody>\n",
              "</table>\n",
              "</div>"
            ],
            "text/plain": [
              "      PoliticalViews  count(*)\n",
              "0               None     11091\n",
              "1          Apathetic       805\n",
              "2       Conservative       936\n",
              "3            Liberal      6461\n",
              "4        Libertarian       325\n",
              "5           Moderate      2898\n",
              "6              Other       824\n",
              "7  Very Conservative       167\n",
              "8       Very Liberal      2277"
            ]
          },
          "metadata": {
            "tags": []
          },
          "execution_count": 47
        }
      ]
    },
    {
      "cell_type": "markdown",
      "metadata": {
        "id": "-BvlJUcuvLQ2"
      },
      "source": [
        "#### List the number of males and female students for each political view"
      ]
    },
    {
      "cell_type": "code",
      "metadata": {
        "id": "NdSmTFLvvLQ2",
        "colab": {
          "base_uri": "https://localhost:8080/",
          "height": 570
        },
        "outputId": "c0590699-4168-4e67-db64-8b41bda02f78"
      },
      "source": [
        "%%read_sql\n",
        "SELECT Sex, PoliticalViews, count(*) \n",
        "FROM Profiles \n",
        "WHERE Sex is not null and PoliticalViews is not null\n",
        "GROUP BY Sex, PoliticalViews"
      ],
      "execution_count": 48,
      "outputs": [
        {
          "output_type": "stream",
          "text": [
            "Query started at 12:43:13 AM UTC; Query executed in 0.01 m"
          ],
          "name": "stdout"
        },
        {
          "output_type": "execute_result",
          "data": {
            "text/html": [
              "<div>\n",
              "<style scoped>\n",
              "    .dataframe tbody tr th:only-of-type {\n",
              "        vertical-align: middle;\n",
              "    }\n",
              "\n",
              "    .dataframe tbody tr th {\n",
              "        vertical-align: top;\n",
              "    }\n",
              "\n",
              "    .dataframe thead th {\n",
              "        text-align: right;\n",
              "    }\n",
              "</style>\n",
              "<table border=\"1\" class=\"dataframe\">\n",
              "  <thead>\n",
              "    <tr style=\"text-align: right;\">\n",
              "      <th></th>\n",
              "      <th>Sex</th>\n",
              "      <th>PoliticalViews</th>\n",
              "      <th>count(*)</th>\n",
              "    </tr>\n",
              "  </thead>\n",
              "  <tbody>\n",
              "    <tr>\n",
              "      <th>0</th>\n",
              "      <td>Female</td>\n",
              "      <td>Apathetic</td>\n",
              "      <td>309</td>\n",
              "    </tr>\n",
              "    <tr>\n",
              "      <th>1</th>\n",
              "      <td>Female</td>\n",
              "      <td>Conservative</td>\n",
              "      <td>428</td>\n",
              "    </tr>\n",
              "    <tr>\n",
              "      <th>2</th>\n",
              "      <td>Female</td>\n",
              "      <td>Liberal</td>\n",
              "      <td>4054</td>\n",
              "    </tr>\n",
              "    <tr>\n",
              "      <th>3</th>\n",
              "      <td>Female</td>\n",
              "      <td>Libertarian</td>\n",
              "      <td>113</td>\n",
              "    </tr>\n",
              "    <tr>\n",
              "      <th>4</th>\n",
              "      <td>Female</td>\n",
              "      <td>Moderate</td>\n",
              "      <td>1444</td>\n",
              "    </tr>\n",
              "    <tr>\n",
              "      <th>5</th>\n",
              "      <td>Female</td>\n",
              "      <td>Other</td>\n",
              "      <td>280</td>\n",
              "    </tr>\n",
              "    <tr>\n",
              "      <th>6</th>\n",
              "      <td>Female</td>\n",
              "      <td>Very Conservative</td>\n",
              "      <td>38</td>\n",
              "    </tr>\n",
              "    <tr>\n",
              "      <th>7</th>\n",
              "      <td>Female</td>\n",
              "      <td>Very Liberal</td>\n",
              "      <td>1362</td>\n",
              "    </tr>\n",
              "    <tr>\n",
              "      <th>8</th>\n",
              "      <td>Male</td>\n",
              "      <td>Apathetic</td>\n",
              "      <td>462</td>\n",
              "    </tr>\n",
              "    <tr>\n",
              "      <th>9</th>\n",
              "      <td>Male</td>\n",
              "      <td>Conservative</td>\n",
              "      <td>474</td>\n",
              "    </tr>\n",
              "    <tr>\n",
              "      <th>10</th>\n",
              "      <td>Male</td>\n",
              "      <td>Liberal</td>\n",
              "      <td>2196</td>\n",
              "    </tr>\n",
              "    <tr>\n",
              "      <th>11</th>\n",
              "      <td>Male</td>\n",
              "      <td>Libertarian</td>\n",
              "      <td>196</td>\n",
              "    </tr>\n",
              "    <tr>\n",
              "      <th>12</th>\n",
              "      <td>Male</td>\n",
              "      <td>Moderate</td>\n",
              "      <td>1379</td>\n",
              "    </tr>\n",
              "    <tr>\n",
              "      <th>13</th>\n",
              "      <td>Male</td>\n",
              "      <td>Other</td>\n",
              "      <td>482</td>\n",
              "    </tr>\n",
              "    <tr>\n",
              "      <th>14</th>\n",
              "      <td>Male</td>\n",
              "      <td>Very Conservative</td>\n",
              "      <td>107</td>\n",
              "    </tr>\n",
              "    <tr>\n",
              "      <th>15</th>\n",
              "      <td>Male</td>\n",
              "      <td>Very Liberal</td>\n",
              "      <td>813</td>\n",
              "    </tr>\n",
              "  </tbody>\n",
              "</table>\n",
              "</div>"
            ],
            "text/plain": [
              "       Sex     PoliticalViews  count(*)\n",
              "0   Female          Apathetic       309\n",
              "1   Female       Conservative       428\n",
              "2   Female            Liberal      4054\n",
              "3   Female        Libertarian       113\n",
              "4   Female           Moderate      1444\n",
              "5   Female              Other       280\n",
              "6   Female  Very Conservative        38\n",
              "7   Female       Very Liberal      1362\n",
              "8     Male          Apathetic       462\n",
              "9     Male       Conservative       474\n",
              "10    Male            Liberal      2196\n",
              "11    Male        Libertarian       196\n",
              "12    Male           Moderate      1379\n",
              "13    Male              Other       482\n",
              "14    Male  Very Conservative       107\n",
              "15    Male       Very Liberal       813"
            ]
          },
          "metadata": {
            "tags": []
          },
          "execution_count": 48
        }
      ]
    },
    {
      "cell_type": "markdown",
      "metadata": {
        "id": "hT96FpL-vLQ2"
      },
      "source": [
        "#### List the number of students per each birth year: Use the Year(date) function to get the year value FROM a dateime column List only years that have at least 10 students"
      ]
    },
    {
      "cell_type": "code",
      "metadata": {
        "id": "bNEPNwx6vLQ2",
        "colab": {
          "base_uri": "https://localhost:8080/",
          "height": 570
        },
        "outputId": "d57f6d77-e0ff-425a-e087-1fa0592f73cb"
      },
      "source": [
        "%%read_sql\n",
        "SELECT YEAR(birthday), count(*) \n",
        "FROM Profiles \n",
        "WHERE birthday is not null\n",
        "GROUP BY YEAR(birthday)\n",
        "HAVING count(*) > 10"
      ],
      "execution_count": 49,
      "outputs": [
        {
          "output_type": "stream",
          "text": [
            "Query started at 12:43:19 AM UTC; Query executed in 0.01 m"
          ],
          "name": "stdout"
        },
        {
          "output_type": "execute_result",
          "data": {
            "text/html": [
              "<div>\n",
              "<style scoped>\n",
              "    .dataframe tbody tr th:only-of-type {\n",
              "        vertical-align: middle;\n",
              "    }\n",
              "\n",
              "    .dataframe tbody tr th {\n",
              "        vertical-align: top;\n",
              "    }\n",
              "\n",
              "    .dataframe thead th {\n",
              "        text-align: right;\n",
              "    }\n",
              "</style>\n",
              "<table border=\"1\" class=\"dataframe\">\n",
              "  <thead>\n",
              "    <tr style=\"text-align: right;\">\n",
              "      <th></th>\n",
              "      <th>YEAR(birthday)</th>\n",
              "      <th>count(*)</th>\n",
              "    </tr>\n",
              "  </thead>\n",
              "  <tbody>\n",
              "    <tr>\n",
              "      <th>0</th>\n",
              "      <td>1905</td>\n",
              "      <td>34</td>\n",
              "    </tr>\n",
              "    <tr>\n",
              "      <th>1</th>\n",
              "      <td>1974</td>\n",
              "      <td>29</td>\n",
              "    </tr>\n",
              "    <tr>\n",
              "      <th>2</th>\n",
              "      <td>1975</td>\n",
              "      <td>28</td>\n",
              "    </tr>\n",
              "    <tr>\n",
              "      <th>3</th>\n",
              "      <td>1976</td>\n",
              "      <td>35</td>\n",
              "    </tr>\n",
              "    <tr>\n",
              "      <th>4</th>\n",
              "      <td>1977</td>\n",
              "      <td>61</td>\n",
              "    </tr>\n",
              "    <tr>\n",
              "      <th>5</th>\n",
              "      <td>1978</td>\n",
              "      <td>90</td>\n",
              "    </tr>\n",
              "    <tr>\n",
              "      <th>6</th>\n",
              "      <td>1979</td>\n",
              "      <td>159</td>\n",
              "    </tr>\n",
              "    <tr>\n",
              "      <th>7</th>\n",
              "      <td>1980</td>\n",
              "      <td>309</td>\n",
              "    </tr>\n",
              "    <tr>\n",
              "      <th>8</th>\n",
              "      <td>1981</td>\n",
              "      <td>585</td>\n",
              "    </tr>\n",
              "    <tr>\n",
              "      <th>9</th>\n",
              "      <td>1982</td>\n",
              "      <td>1387</td>\n",
              "    </tr>\n",
              "    <tr>\n",
              "      <th>10</th>\n",
              "      <td>1983</td>\n",
              "      <td>2601</td>\n",
              "    </tr>\n",
              "    <tr>\n",
              "      <th>11</th>\n",
              "      <td>1984</td>\n",
              "      <td>2985</td>\n",
              "    </tr>\n",
              "    <tr>\n",
              "      <th>12</th>\n",
              "      <td>1985</td>\n",
              "      <td>3525</td>\n",
              "    </tr>\n",
              "    <tr>\n",
              "      <th>13</th>\n",
              "      <td>1986</td>\n",
              "      <td>3735</td>\n",
              "    </tr>\n",
              "    <tr>\n",
              "      <th>14</th>\n",
              "      <td>1987</td>\n",
              "      <td>2870</td>\n",
              "    </tr>\n",
              "    <tr>\n",
              "      <th>15</th>\n",
              "      <td>1988</td>\n",
              "      <td>57</td>\n",
              "    </tr>\n",
              "  </tbody>\n",
              "</table>\n",
              "</div>"
            ],
            "text/plain": [
              "    YEAR(birthday)  count(*)\n",
              "0             1905        34\n",
              "1             1974        29\n",
              "2             1975        28\n",
              "3             1976        35\n",
              "4             1977        61\n",
              "5             1978        90\n",
              "6             1979       159\n",
              "7             1980       309\n",
              "8             1981       585\n",
              "9             1982      1387\n",
              "10            1983      2601\n",
              "11            1984      2985\n",
              "12            1985      3525\n",
              "13            1986      3735\n",
              "14            1987      2870\n",
              "15            1988        57"
            ]
          },
          "metadata": {
            "tags": []
          },
          "execution_count": 49
        }
      ]
    },
    {
      "cell_type": "markdown",
      "metadata": {
        "id": "HlKITbTtvLQ2"
      },
      "source": [
        "#### Find the most popular tv shows and books"
      ]
    },
    {
      "cell_type": "code",
      "metadata": {
        "id": "7R33hXdVvLQ3",
        "colab": {
          "base_uri": "https://localhost:8080/",
          "height": 442
        },
        "outputId": "6d719650-7a1c-4dba-87d8-010c09eae802"
      },
      "source": [
        "%%read_sql\n",
        "SELECT TVShow, count(*) \n",
        "FROM FavoriteTVShows \n",
        "WHERE TVShow is not null \n",
        "GROUP BY TVShow\n",
        "ORDER BY count(*) desc"
      ],
      "execution_count": 50,
      "outputs": [
        {
          "output_type": "stream",
          "text": [
            "Query started at 12:43:24 AM UTC; Query executed in 0.01 m"
          ],
          "name": "stdout"
        },
        {
          "output_type": "execute_result",
          "data": {
            "text/html": [
              "<div>\n",
              "<style scoped>\n",
              "    .dataframe tbody tr th:only-of-type {\n",
              "        vertical-align: middle;\n",
              "    }\n",
              "\n",
              "    .dataframe tbody tr th {\n",
              "        vertical-align: top;\n",
              "    }\n",
              "\n",
              "    .dataframe thead th {\n",
              "        text-align: right;\n",
              "    }\n",
              "</style>\n",
              "<table border=\"1\" class=\"dataframe\">\n",
              "  <thead>\n",
              "    <tr style=\"text-align: right;\">\n",
              "      <th></th>\n",
              "      <th>TVShow</th>\n",
              "      <th>count(*)</th>\n",
              "    </tr>\n",
              "  </thead>\n",
              "  <tbody>\n",
              "    <tr>\n",
              "      <th>0</th>\n",
              "      <td>Family Guy</td>\n",
              "      <td>1146</td>\n",
              "    </tr>\n",
              "    <tr>\n",
              "      <th>1</th>\n",
              "      <td>Sex And The City</td>\n",
              "      <td>649</td>\n",
              "    </tr>\n",
              "    <tr>\n",
              "      <th>2</th>\n",
              "      <td>Lost</td>\n",
              "      <td>640</td>\n",
              "    </tr>\n",
              "    <tr>\n",
              "      <th>3</th>\n",
              "      <td>Arrested Development</td>\n",
              "      <td>610</td>\n",
              "    </tr>\n",
              "    <tr>\n",
              "      <th>4</th>\n",
              "      <td>Grey s Anatomy</td>\n",
              "      <td>575</td>\n",
              "    </tr>\n",
              "    <tr>\n",
              "      <th>...</th>\n",
              "      <td>...</td>\n",
              "      <td>...</td>\n",
              "    </tr>\n",
              "    <tr>\n",
              "      <th>6482</th>\n",
              "      <td>The Office Bbc And Us</td>\n",
              "      <td>1</td>\n",
              "    </tr>\n",
              "    <tr>\n",
              "      <th>6483</th>\n",
              "      <td>Don t Watch Tv</td>\n",
              "      <td>1</td>\n",
              "    </tr>\n",
              "    <tr>\n",
              "      <th>6484</th>\n",
              "      <td>Teddy Ruxpin</td>\n",
              "      <td>1</td>\n",
              "    </tr>\n",
              "    <tr>\n",
              "      <th>6485</th>\n",
              "      <td>Stuff About Dinosaurs On The Discovery Channel</td>\n",
              "      <td>1</td>\n",
              "    </tr>\n",
              "    <tr>\n",
              "      <th>6486</th>\n",
              "      <td>Fear Factor Anything Fun</td>\n",
              "      <td>1</td>\n",
              "    </tr>\n",
              "  </tbody>\n",
              "</table>\n",
              "<p>6487 rows × 2 columns</p>\n",
              "</div>"
            ],
            "text/plain": [
              "                                              TVShow  count(*)\n",
              "0                                         Family Guy      1146\n",
              "1                                   Sex And The City       649\n",
              "2                                               Lost       640\n",
              "3                               Arrested Development       610\n",
              "4                                     Grey s Anatomy       575\n",
              "...                                              ...       ...\n",
              "6482                           The Office Bbc And Us         1\n",
              "6483                                  Don t Watch Tv         1\n",
              "6484                                    Teddy Ruxpin         1\n",
              "6485  Stuff About Dinosaurs On The Discovery Channel         1\n",
              "6486                        Fear Factor Anything Fun         1\n",
              "\n",
              "[6487 rows x 2 columns]"
            ]
          },
          "metadata": {
            "tags": []
          },
          "execution_count": 50
        }
      ]
    },
    {
      "cell_type": "code",
      "metadata": {
        "id": "VUlJyx6evLQ3",
        "colab": {
          "base_uri": "https://localhost:8080/",
          "height": 442
        },
        "outputId": "cff3712a-a4c5-40c0-e49a-68e6889afe8b"
      },
      "source": [
        "%%read_sql\n",
        "SELECT Book, count(*) \n",
        "FROM FavoriteBooks\n",
        "WHERE Book is not null \n",
        "GROUP BY Book\n",
        "ORDER BY count(*) desc"
      ],
      "execution_count": 51,
      "outputs": [
        {
          "output_type": "stream",
          "text": [
            "Query started at 12:43:39 AM UTC; Query executed in 0.02 m"
          ],
          "name": "stdout"
        },
        {
          "output_type": "execute_result",
          "data": {
            "text/html": [
              "<div>\n",
              "<style scoped>\n",
              "    .dataframe tbody tr th:only-of-type {\n",
              "        vertical-align: middle;\n",
              "    }\n",
              "\n",
              "    .dataframe tbody tr th {\n",
              "        vertical-align: top;\n",
              "    }\n",
              "\n",
              "    .dataframe thead th {\n",
              "        text-align: right;\n",
              "    }\n",
              "</style>\n",
              "<table border=\"1\" class=\"dataframe\">\n",
              "  <thead>\n",
              "    <tr style=\"text-align: right;\">\n",
              "      <th></th>\n",
              "      <th>Book</th>\n",
              "      <th>count(*)</th>\n",
              "    </tr>\n",
              "  </thead>\n",
              "  <tbody>\n",
              "    <tr>\n",
              "      <th>0</th>\n",
              "      <td>Harry Potter</td>\n",
              "      <td>1320</td>\n",
              "    </tr>\n",
              "    <tr>\n",
              "      <th>1</th>\n",
              "      <td>Catcher In The Rye</td>\n",
              "      <td>1079</td>\n",
              "    </tr>\n",
              "    <tr>\n",
              "      <th>2</th>\n",
              "      <td>The Great Gatsby</td>\n",
              "      <td>963</td>\n",
              "    </tr>\n",
              "    <tr>\n",
              "      <th>3</th>\n",
              "      <td>1984</td>\n",
              "      <td>725</td>\n",
              "    </tr>\n",
              "    <tr>\n",
              "      <th>4</th>\n",
              "      <td>Pride And Prejudice</td>\n",
              "      <td>602</td>\n",
              "    </tr>\n",
              "    <tr>\n",
              "      <th>...</th>\n",
              "      <td>...</td>\n",
              "      <td>...</td>\n",
              "    </tr>\n",
              "    <tr>\n",
              "      <th>28665</th>\n",
              "      <td>Fantasy Stuff Like Narnia And Madeline L Engle</td>\n",
              "      <td>1</td>\n",
              "    </tr>\n",
              "    <tr>\n",
              "      <th>28666</th>\n",
              "      <td>Fantasy Stuff Sword Of Truth And Exotic Car Ma...</td>\n",
              "      <td>1</td>\n",
              "    </tr>\n",
              "    <tr>\n",
              "      <th>28667</th>\n",
              "      <td>Far Away</td>\n",
              "      <td>1</td>\n",
              "    </tr>\n",
              "    <tr>\n",
              "      <th>28668</th>\n",
              "      <td>Far From The Maddening Croud</td>\n",
              "      <td>1</td>\n",
              "    </tr>\n",
              "    <tr>\n",
              "      <th>28669</th>\n",
              "      <td>Far From The Madding Crowd Hardy</td>\n",
              "      <td>1</td>\n",
              "    </tr>\n",
              "  </tbody>\n",
              "</table>\n",
              "<p>28670 rows × 2 columns</p>\n",
              "</div>"
            ],
            "text/plain": [
              "                                                    Book  count(*)\n",
              "0                                           Harry Potter      1320\n",
              "1                                     Catcher In The Rye      1079\n",
              "2                                       The Great Gatsby       963\n",
              "3                                                   1984       725\n",
              "4                                    Pride And Prejudice       602\n",
              "...                                                  ...       ...\n",
              "28665     Fantasy Stuff Like Narnia And Madeline L Engle         1\n",
              "28666  Fantasy Stuff Sword Of Truth And Exotic Car Ma...         1\n",
              "28667                                           Far Away         1\n",
              "28668                       Far From The Maddening Croud         1\n",
              "28669                   Far From The Madding Crowd Hardy         1\n",
              "\n",
              "[28670 rows x 2 columns]"
            ]
          },
          "metadata": {
            "tags": []
          },
          "execution_count": 51
        }
      ]
    },
    {
      "cell_type": "markdown",
      "metadata": {
        "id": "vSlEywtqvLQ4"
      },
      "source": [
        "#### Find the number of students in various relationship statuses"
      ]
    },
    {
      "cell_type": "code",
      "metadata": {
        "id": "26Tz8zyFvLQ4",
        "colab": {
          "base_uri": "https://localhost:8080/",
          "height": 256
        },
        "outputId": "1a211ada-d014-48d9-d53b-4bb1e99b259f"
      },
      "source": [
        "%%read_sql\n",
        "SELECT Status, count(*) \n",
        "FROM Relationship\n",
        "GROUP BY Status"
      ],
      "execution_count": 52,
      "outputs": [
        {
          "output_type": "stream",
          "text": [
            "Query started at 12:43:45 AM UTC; Query executed in 0.01 m"
          ],
          "name": "stdout"
        },
        {
          "output_type": "execute_result",
          "data": {
            "text/html": [
              "<div>\n",
              "<style scoped>\n",
              "    .dataframe tbody tr th:only-of-type {\n",
              "        vertical-align: middle;\n",
              "    }\n",
              "\n",
              "    .dataframe tbody tr th {\n",
              "        vertical-align: top;\n",
              "    }\n",
              "\n",
              "    .dataframe thead th {\n",
              "        text-align: right;\n",
              "    }\n",
              "</style>\n",
              "<table border=\"1\" class=\"dataframe\">\n",
              "  <thead>\n",
              "    <tr style=\"text-align: right;\">\n",
              "      <th></th>\n",
              "      <th>Status</th>\n",
              "      <th>count(*)</th>\n",
              "    </tr>\n",
              "  </thead>\n",
              "  <tbody>\n",
              "    <tr>\n",
              "      <th>0</th>\n",
              "      <td>Engaged</td>\n",
              "      <td>1</td>\n",
              "    </tr>\n",
              "    <tr>\n",
              "      <th>1</th>\n",
              "      <td>In a Relationship</td>\n",
              "      <td>4851</td>\n",
              "    </tr>\n",
              "    <tr>\n",
              "      <th>2</th>\n",
              "      <td>In an Open Relationship</td>\n",
              "      <td>565</td>\n",
              "    </tr>\n",
              "    <tr>\n",
              "      <th>3</th>\n",
              "      <td>It's complicated</td>\n",
              "      <td>17</td>\n",
              "    </tr>\n",
              "    <tr>\n",
              "      <th>4</th>\n",
              "      <td>Married</td>\n",
              "      <td>2337</td>\n",
              "    </tr>\n",
              "    <tr>\n",
              "      <th>5</th>\n",
              "      <td>Single</td>\n",
              "      <td>7872</td>\n",
              "    </tr>\n",
              "  </tbody>\n",
              "</table>\n",
              "</div>"
            ],
            "text/plain": [
              "                    Status  count(*)\n",
              "0                  Engaged         1\n",
              "1        In a Relationship      4851\n",
              "2  In an Open Relationship       565\n",
              "3         It's complicated        17\n",
              "4                  Married      2337\n",
              "5                   Single      7872"
            ]
          },
          "metadata": {
            "tags": []
          },
          "execution_count": 52
        }
      ]
    },
    {
      "cell_type": "markdown",
      "metadata": {
        "id": "sAvSdnHmvLQ4"
      },
      "source": [
        "#### Find the most popular majors (concentrations)"
      ]
    },
    {
      "cell_type": "code",
      "metadata": {
        "id": "nVHnTJaavLQ4",
        "colab": {
          "base_uri": "https://localhost:8080/",
          "height": 442
        },
        "outputId": "74653fd6-9b13-49d3-ce50-df850fbe2384"
      },
      "source": [
        "%%read_sql\n",
        "SELECT Concentration,count(*) FROM Concentration\n",
        "WHERE Concentration is not null\n",
        "GROUP BY Concentration\n",
        "ORDER BY count(*) desc;"
      ],
      "execution_count": 53,
      "outputs": [
        {
          "output_type": "stream",
          "text": [
            "Query started at 12:43:55 AM UTC; Query executed in 0.01 m"
          ],
          "name": "stdout"
        },
        {
          "output_type": "execute_result",
          "data": {
            "text/html": [
              "<div>\n",
              "<style scoped>\n",
              "    .dataframe tbody tr th:only-of-type {\n",
              "        vertical-align: middle;\n",
              "    }\n",
              "\n",
              "    .dataframe tbody tr th {\n",
              "        vertical-align: top;\n",
              "    }\n",
              "\n",
              "    .dataframe thead th {\n",
              "        text-align: right;\n",
              "    }\n",
              "</style>\n",
              "<table border=\"1\" class=\"dataframe\">\n",
              "  <thead>\n",
              "    <tr style=\"text-align: right;\">\n",
              "      <th></th>\n",
              "      <th>Concentration</th>\n",
              "      <th>count(*)</th>\n",
              "    </tr>\n",
              "  </thead>\n",
              "  <tbody>\n",
              "    <tr>\n",
              "      <th>0</th>\n",
              "      <td>Finance</td>\n",
              "      <td>1810</td>\n",
              "    </tr>\n",
              "    <tr>\n",
              "      <th>1</th>\n",
              "      <td>Psychology</td>\n",
              "      <td>1571</td>\n",
              "    </tr>\n",
              "    <tr>\n",
              "      <th>2</th>\n",
              "      <td>Economics</td>\n",
              "      <td>1533</td>\n",
              "    </tr>\n",
              "    <tr>\n",
              "      <th>3</th>\n",
              "      <td>Journalism and Mass Communication</td>\n",
              "      <td>1267</td>\n",
              "    </tr>\n",
              "    <tr>\n",
              "      <th>4</th>\n",
              "      <td>Politics</td>\n",
              "      <td>1196</td>\n",
              "    </tr>\n",
              "    <tr>\n",
              "      <th>...</th>\n",
              "      <td>...</td>\n",
              "      <td>...</td>\n",
              "    </tr>\n",
              "    <tr>\n",
              "      <th>134</th>\n",
              "      <td>Education (minor only; through School of Educa...</td>\n",
              "      <td>1</td>\n",
              "    </tr>\n",
              "    <tr>\n",
              "      <th>135</th>\n",
              "      <td>Slavic Studies</td>\n",
              "      <td>1</td>\n",
              "    </tr>\n",
              "    <tr>\n",
              "      <th>136</th>\n",
              "      <td>German and Linguistics (major only)</td>\n",
              "      <td>1</td>\n",
              "    </tr>\n",
              "    <tr>\n",
              "      <th>137</th>\n",
              "      <td>Ancient Studies (minor only)</td>\n",
              "      <td>1</td>\n",
              "    </tr>\n",
              "    <tr>\n",
              "      <th>138</th>\n",
              "      <td>Irish Studies (minor only)</td>\n",
              "      <td>1</td>\n",
              "    </tr>\n",
              "  </tbody>\n",
              "</table>\n",
              "<p>139 rows × 2 columns</p>\n",
              "</div>"
            ],
            "text/plain": [
              "                                         Concentration  count(*)\n",
              "0                                              Finance      1810\n",
              "1                                           Psychology      1571\n",
              "2                                            Economics      1533\n",
              "3                    Journalism and Mass Communication      1267\n",
              "4                                             Politics      1196\n",
              "..                                                 ...       ...\n",
              "134  Education (minor only; through School of Educa...         1\n",
              "135                                     Slavic Studies         1\n",
              "136                German and Linguistics (major only)         1\n",
              "137                       Ancient Studies (minor only)         1\n",
              "138                         Irish Studies (minor only)         1\n",
              "\n",
              "[139 rows x 2 columns]"
            ]
          },
          "metadata": {
            "tags": []
          },
          "execution_count": 53
        }
      ]
    },
    {
      "cell_type": "markdown",
      "metadata": {
        "id": "4jf7o3PfvLQ5"
      },
      "source": [
        "### JOINS"
      ]
    },
    {
      "cell_type": "code",
      "metadata": {
        "id": "OZIBtROgvLQ5",
        "colab": {
          "base_uri": "https://localhost:8080/"
        },
        "outputId": "dec750ff-f797-44eb-e9ad-929facb030a9"
      },
      "source": [
        "%%read_sql\n",
        "USE imdb"
      ],
      "execution_count": 54,
      "outputs": [
        {
          "output_type": "stream",
          "text": [
            "Query started at 12:44:03 AM UTC; Query executed in 0.01 m"
          ],
          "name": "stdout"
        },
        {
          "output_type": "execute_result",
          "data": {
            "text/plain": [
              "<sql_magic.exceptions.EmptyResult at 0x7f5456cb4a50>"
            ]
          },
          "metadata": {
            "tags": []
          },
          "execution_count": 54
        }
      ]
    },
    {
      "cell_type": "code",
      "metadata": {
        "id": "DejwKkQ1vLQ5",
        "colab": {
          "base_uri": "https://localhost:8080/",
          "height": 442
        },
        "outputId": "d37781ba-2450-42d5-9d50-73537d0ee1a3"
      },
      "source": [
        "%%read_sql\n",
        "# List all the movies from year 2000\n",
        "SELECT *\n",
        "FROM movies M\n",
        "WHERE M.year = 2000;"
      ],
      "execution_count": 55,
      "outputs": [
        {
          "output_type": "stream",
          "text": [
            "Query started at 12:44:08 AM UTC; Query executed in 0.01 m"
          ],
          "name": "stdout"
        },
        {
          "output_type": "execute_result",
          "data": {
            "text/html": [
              "<div>\n",
              "<style scoped>\n",
              "    .dataframe tbody tr th:only-of-type {\n",
              "        vertical-align: middle;\n",
              "    }\n",
              "\n",
              "    .dataframe tbody tr th {\n",
              "        vertical-align: top;\n",
              "    }\n",
              "\n",
              "    .dataframe thead th {\n",
              "        text-align: right;\n",
              "    }\n",
              "</style>\n",
              "<table border=\"1\" class=\"dataframe\">\n",
              "  <thead>\n",
              "    <tr style=\"text-align: right;\">\n",
              "      <th></th>\n",
              "      <th>id</th>\n",
              "      <th>name</th>\n",
              "      <th>year</th>\n",
              "      <th>rank</th>\n",
              "    </tr>\n",
              "  </thead>\n",
              "  <tbody>\n",
              "    <tr>\n",
              "      <th>0</th>\n",
              "      <td>1</td>\n",
              "      <td>#7 Train: An Immigrant Journey, The</td>\n",
              "      <td>2000</td>\n",
              "      <td>NaN</td>\n",
              "    </tr>\n",
              "    <tr>\n",
              "      <th>1</th>\n",
              "      <td>31</td>\n",
              "      <td>$pent</td>\n",
              "      <td>2000</td>\n",
              "      <td>4.3</td>\n",
              "    </tr>\n",
              "    <tr>\n",
              "      <th>2</th>\n",
              "      <td>34</td>\n",
              "      <td>&amp; frres</td>\n",
              "      <td>2000</td>\n",
              "      <td>NaN</td>\n",
              "    </tr>\n",
              "    <tr>\n",
              "      <th>3</th>\n",
              "      <td>46</td>\n",
              "      <td>'70s: The Decade That Changed Television, The</td>\n",
              "      <td>2000</td>\n",
              "      <td>NaN</td>\n",
              "    </tr>\n",
              "    <tr>\n",
              "      <th>4</th>\n",
              "      <td>176</td>\n",
              "      <td>'N Sync &amp; Britney Spears: Your #1 Video Reques...</td>\n",
              "      <td>2000</td>\n",
              "      <td>NaN</td>\n",
              "    </tr>\n",
              "    <tr>\n",
              "      <th>...</th>\n",
              "      <td>...</td>\n",
              "      <td>...</td>\n",
              "      <td>...</td>\n",
              "      <td>...</td>\n",
              "    </tr>\n",
              "    <tr>\n",
              "      <th>11638</th>\n",
              "      <td>412155</td>\n",
              "      <td>\"Quin dijo miedo?\"</td>\n",
              "      <td>2000</td>\n",
              "      <td>NaN</td>\n",
              "    </tr>\n",
              "    <tr>\n",
              "      <th>11639</th>\n",
              "      <td>412218</td>\n",
              "      <td>\"ndernes magt\"</td>\n",
              "      <td>2000</td>\n",
              "      <td>NaN</td>\n",
              "    </tr>\n",
              "    <tr>\n",
              "      <th>11640</th>\n",
              "      <td>412221</td>\n",
              "      <td>\"pent hus\"</td>\n",
              "      <td>2000</td>\n",
              "      <td>NaN</td>\n",
              "    </tr>\n",
              "    <tr>\n",
              "      <th>11641</th>\n",
              "      <td>412232</td>\n",
              "      <td>\"a s'en va et a revient\"</td>\n",
              "      <td>2000</td>\n",
              "      <td>NaN</td>\n",
              "    </tr>\n",
              "    <tr>\n",
              "      <th>11642</th>\n",
              "      <td>412267</td>\n",
              "      <td>\"v Hangja, Az\"</td>\n",
              "      <td>2000</td>\n",
              "      <td>NaN</td>\n",
              "    </tr>\n",
              "  </tbody>\n",
              "</table>\n",
              "<p>11643 rows × 4 columns</p>\n",
              "</div>"
            ],
            "text/plain": [
              "           id                                               name  year  rank\n",
              "0           1                #7 Train: An Immigrant Journey, The  2000   NaN\n",
              "1          31                                              $pent  2000   4.3\n",
              "2          34                                            & frres  2000   NaN\n",
              "3          46      '70s: The Decade That Changed Television, The  2000   NaN\n",
              "4         176  'N Sync & Britney Spears: Your #1 Video Reques...  2000   NaN\n",
              "...       ...                                                ...   ...   ...\n",
              "11638  412155                                 \"Quin dijo miedo?\"  2000   NaN\n",
              "11639  412218                                     \"ndernes magt\"  2000   NaN\n",
              "11640  412221                                         \"pent hus\"  2000   NaN\n",
              "11641  412232                           \"a s'en va et a revient\"  2000   NaN\n",
              "11642  412267                                     \"v Hangja, Az\"  2000   NaN\n",
              "\n",
              "[11643 rows x 4 columns]"
            ]
          },
          "metadata": {
            "tags": []
          },
          "execution_count": 55
        }
      ]
    },
    {
      "cell_type": "markdown",
      "metadata": {
        "id": "dblLDIeyvLQ5"
      },
      "source": [
        "#### List all the movies from year 2000 and their genres"
      ]
    },
    {
      "cell_type": "code",
      "metadata": {
        "id": "6CJ80f0uvLQ6",
        "colab": {
          "base_uri": "https://localhost:8080/",
          "height": 442
        },
        "outputId": "2871cb05-aab2-4652-e7fc-d5964a3a98c1"
      },
      "source": [
        "%%read_sql\n",
        "SELECT *\n",
        "FROM movies M INNER JOIN movies_genres MG ON M.id=MG.movie_id\n",
        "WHERE M.year = 2000;"
      ],
      "execution_count": 56,
      "outputs": [
        {
          "output_type": "stream",
          "text": [
            "Query started at 12:44:21 AM UTC; Query executed in 0.01 m"
          ],
          "name": "stdout"
        },
        {
          "output_type": "execute_result",
          "data": {
            "text/html": [
              "<div>\n",
              "<style scoped>\n",
              "    .dataframe tbody tr th:only-of-type {\n",
              "        vertical-align: middle;\n",
              "    }\n",
              "\n",
              "    .dataframe tbody tr th {\n",
              "        vertical-align: top;\n",
              "    }\n",
              "\n",
              "    .dataframe thead th {\n",
              "        text-align: right;\n",
              "    }\n",
              "</style>\n",
              "<table border=\"1\" class=\"dataframe\">\n",
              "  <thead>\n",
              "    <tr style=\"text-align: right;\">\n",
              "      <th></th>\n",
              "      <th>id</th>\n",
              "      <th>name</th>\n",
              "      <th>year</th>\n",
              "      <th>rank</th>\n",
              "      <th>movie_id</th>\n",
              "      <th>genre</th>\n",
              "    </tr>\n",
              "  </thead>\n",
              "  <tbody>\n",
              "    <tr>\n",
              "      <th>0</th>\n",
              "      <td>1</td>\n",
              "      <td>#7 Train: An Immigrant Journey, The</td>\n",
              "      <td>2000</td>\n",
              "      <td>NaN</td>\n",
              "      <td>1</td>\n",
              "      <td>Short</td>\n",
              "    </tr>\n",
              "    <tr>\n",
              "      <th>1</th>\n",
              "      <td>1</td>\n",
              "      <td>#7 Train: An Immigrant Journey, The</td>\n",
              "      <td>2000</td>\n",
              "      <td>NaN</td>\n",
              "      <td>1</td>\n",
              "      <td>Documentary</td>\n",
              "    </tr>\n",
              "    <tr>\n",
              "      <th>2</th>\n",
              "      <td>31</td>\n",
              "      <td>$pent</td>\n",
              "      <td>2000</td>\n",
              "      <td>4.3</td>\n",
              "      <td>31</td>\n",
              "      <td>Drama</td>\n",
              "    </tr>\n",
              "    <tr>\n",
              "      <th>3</th>\n",
              "      <td>34</td>\n",
              "      <td>&amp; frres</td>\n",
              "      <td>2000</td>\n",
              "      <td>NaN</td>\n",
              "      <td>34</td>\n",
              "      <td>Short</td>\n",
              "    </tr>\n",
              "    <tr>\n",
              "      <th>4</th>\n",
              "      <td>46</td>\n",
              "      <td>'70s: The Decade That Changed Television, The</td>\n",
              "      <td>2000</td>\n",
              "      <td>NaN</td>\n",
              "      <td>46</td>\n",
              "      <td>Documentary</td>\n",
              "    </tr>\n",
              "    <tr>\n",
              "      <th>...</th>\n",
              "      <td>...</td>\n",
              "      <td>...</td>\n",
              "      <td>...</td>\n",
              "      <td>...</td>\n",
              "      <td>...</td>\n",
              "      <td>...</td>\n",
              "    </tr>\n",
              "    <tr>\n",
              "      <th>12138</th>\n",
              "      <td>378537</td>\n",
              "      <td>ber die Montage</td>\n",
              "      <td>2000</td>\n",
              "      <td>NaN</td>\n",
              "      <td>378537</td>\n",
              "      <td>Short</td>\n",
              "    </tr>\n",
              "    <tr>\n",
              "      <th>12139</th>\n",
              "      <td>378550</td>\n",
              "      <td>berfall, Der</td>\n",
              "      <td>2000</td>\n",
              "      <td>7.0</td>\n",
              "      <td>378550</td>\n",
              "      <td>Comedy</td>\n",
              "    </tr>\n",
              "    <tr>\n",
              "      <th>12140</th>\n",
              "      <td>378550</td>\n",
              "      <td>berfall, Der</td>\n",
              "      <td>2000</td>\n",
              "      <td>7.0</td>\n",
              "      <td>378550</td>\n",
              "      <td>Crime</td>\n",
              "    </tr>\n",
              "    <tr>\n",
              "      <th>12141</th>\n",
              "      <td>378550</td>\n",
              "      <td>berfall, Der</td>\n",
              "      <td>2000</td>\n",
              "      <td>7.0</td>\n",
              "      <td>378550</td>\n",
              "      <td>Drama</td>\n",
              "    </tr>\n",
              "    <tr>\n",
              "      <th>12142</th>\n",
              "      <td>378557</td>\n",
              "      <td>berleben in Belfast</td>\n",
              "      <td>2000</td>\n",
              "      <td>NaN</td>\n",
              "      <td>378557</td>\n",
              "      <td>Documentary</td>\n",
              "    </tr>\n",
              "  </tbody>\n",
              "</table>\n",
              "<p>12143 rows × 6 columns</p>\n",
              "</div>"
            ],
            "text/plain": [
              "           id  ...        genre\n",
              "0           1  ...        Short\n",
              "1           1  ...  Documentary\n",
              "2          31  ...        Drama\n",
              "3          34  ...        Short\n",
              "4          46  ...  Documentary\n",
              "...       ...  ...          ...\n",
              "12138  378537  ...        Short\n",
              "12139  378550  ...       Comedy\n",
              "12140  378550  ...        Crime\n",
              "12141  378550  ...        Drama\n",
              "12142  378557  ...  Documentary\n",
              "\n",
              "[12143 rows x 6 columns]"
            ]
          },
          "metadata": {
            "tags": []
          },
          "execution_count": 56
        }
      ]
    },
    {
      "cell_type": "markdown",
      "metadata": {
        "id": "4RkPAYrBvLQ7"
      },
      "source": [
        "#### List all the Drama movies from year 2000"
      ]
    },
    {
      "cell_type": "code",
      "metadata": {
        "id": "zrJ-z4F8vLQ7",
        "colab": {
          "base_uri": "https://localhost:8080/",
          "height": 442
        },
        "outputId": "f1f052b4-2d2e-4629-c1de-4bd26d05d59c"
      },
      "source": [
        "%%read_sql\n",
        "\n",
        "SELECT *\n",
        "FROM movies M INNER JOIN movies_genres MG ON M.id=MG.movie_id\n",
        "WHERE M.year = 2000 AND MG.genre = 'Drama';"
      ],
      "execution_count": 57,
      "outputs": [
        {
          "output_type": "stream",
          "text": [
            "Query started at 12:45:21 AM UTC; Query executed in 0.01 m"
          ],
          "name": "stdout"
        },
        {
          "output_type": "execute_result",
          "data": {
            "text/html": [
              "<div>\n",
              "<style scoped>\n",
              "    .dataframe tbody tr th:only-of-type {\n",
              "        vertical-align: middle;\n",
              "    }\n",
              "\n",
              "    .dataframe tbody tr th {\n",
              "        vertical-align: top;\n",
              "    }\n",
              "\n",
              "    .dataframe thead th {\n",
              "        text-align: right;\n",
              "    }\n",
              "</style>\n",
              "<table border=\"1\" class=\"dataframe\">\n",
              "  <thead>\n",
              "    <tr style=\"text-align: right;\">\n",
              "      <th></th>\n",
              "      <th>id</th>\n",
              "      <th>name</th>\n",
              "      <th>year</th>\n",
              "      <th>rank</th>\n",
              "      <th>movie_id</th>\n",
              "      <th>genre</th>\n",
              "    </tr>\n",
              "  </thead>\n",
              "  <tbody>\n",
              "    <tr>\n",
              "      <th>0</th>\n",
              "      <td>31</td>\n",
              "      <td>$pent</td>\n",
              "      <td>2000</td>\n",
              "      <td>4.3</td>\n",
              "      <td>31</td>\n",
              "      <td>Drama</td>\n",
              "    </tr>\n",
              "    <tr>\n",
              "      <th>1</th>\n",
              "      <td>428</td>\n",
              "      <td>...Or Forever Hold Your Peace</td>\n",
              "      <td>2000</td>\n",
              "      <td>6.9</td>\n",
              "      <td>428</td>\n",
              "      <td>Drama</td>\n",
              "    </tr>\n",
              "    <tr>\n",
              "      <th>2</th>\n",
              "      <td>598</td>\n",
              "      <td>1. de ei</td>\n",
              "      <td>2000</td>\n",
              "      <td>NaN</td>\n",
              "      <td>598</td>\n",
              "      <td>Drama</td>\n",
              "    </tr>\n",
              "    <tr>\n",
              "      <th>3</th>\n",
              "      <td>992</td>\n",
              "      <td>12 Rounds</td>\n",
              "      <td>2000</td>\n",
              "      <td>NaN</td>\n",
              "      <td>992</td>\n",
              "      <td>Drama</td>\n",
              "    </tr>\n",
              "    <tr>\n",
              "      <th>4</th>\n",
              "      <td>1023</td>\n",
              "      <td>12x12</td>\n",
              "      <td>2000</td>\n",
              "      <td>NaN</td>\n",
              "      <td>1023</td>\n",
              "      <td>Drama</td>\n",
              "    </tr>\n",
              "    <tr>\n",
              "      <th>...</th>\n",
              "      <td>...</td>\n",
              "      <td>...</td>\n",
              "      <td>...</td>\n",
              "      <td>...</td>\n",
              "      <td>...</td>\n",
              "      <td>...</td>\n",
              "    </tr>\n",
              "    <tr>\n",
              "      <th>1864</th>\n",
              "      <td>377490</td>\n",
              "      <td>a, c'est vraiment toi</td>\n",
              "      <td>2000</td>\n",
              "      <td>NaN</td>\n",
              "      <td>377490</td>\n",
              "      <td>Drama</td>\n",
              "    </tr>\n",
              "    <tr>\n",
              "      <th>1865</th>\n",
              "      <td>378026</td>\n",
              "      <td>tre chair, L'</td>\n",
              "      <td>2000</td>\n",
              "      <td>NaN</td>\n",
              "      <td>378026</td>\n",
              "      <td>Drama</td>\n",
              "    </tr>\n",
              "    <tr>\n",
              "      <th>1866</th>\n",
              "      <td>378121</td>\n",
              "      <td>skabrn jarinnar</td>\n",
              "      <td>2000</td>\n",
              "      <td>4.2</td>\n",
              "      <td>378121</td>\n",
              "      <td>Drama</td>\n",
              "    </tr>\n",
              "    <tr>\n",
              "      <th>1867</th>\n",
              "      <td>378308</td>\n",
              "      <td>tztalmann und seine Welt. Das Jahr bevor er sc...</td>\n",
              "      <td>2000</td>\n",
              "      <td>6.3</td>\n",
              "      <td>378308</td>\n",
              "      <td>Drama</td>\n",
              "    </tr>\n",
              "    <tr>\n",
              "      <th>1868</th>\n",
              "      <td>378550</td>\n",
              "      <td>berfall, Der</td>\n",
              "      <td>2000</td>\n",
              "      <td>7.0</td>\n",
              "      <td>378550</td>\n",
              "      <td>Drama</td>\n",
              "    </tr>\n",
              "  </tbody>\n",
              "</table>\n",
              "<p>1869 rows × 6 columns</p>\n",
              "</div>"
            ],
            "text/plain": [
              "          id  ...  genre\n",
              "0         31  ...  Drama\n",
              "1        428  ...  Drama\n",
              "2        598  ...  Drama\n",
              "3        992  ...  Drama\n",
              "4       1023  ...  Drama\n",
              "...      ...  ...    ...\n",
              "1864  377490  ...  Drama\n",
              "1865  378026  ...  Drama\n",
              "1866  378121  ...  Drama\n",
              "1867  378308  ...  Drama\n",
              "1868  378550  ...  Drama\n",
              "\n",
              "[1869 rows x 6 columns]"
            ]
          },
          "metadata": {
            "tags": []
          },
          "execution_count": 57
        }
      ]
    },
    {
      "cell_type": "markdown",
      "metadata": {
        "id": "PJRWbMHTvLQ7"
      },
      "source": [
        "#### List all the movies from year 2000 and their average rating broken down by genre"
      ]
    },
    {
      "cell_type": "code",
      "metadata": {
        "id": "yxUTOysdvLQ7",
        "colab": {
          "base_uri": "https://localhost:8080/",
          "height": 695
        },
        "outputId": "0edecc13-59be-43f3-9071-4563ebc4d9ea"
      },
      "source": [
        "%%read_sql\n",
        "SELECT AVG(M.rank), MG.genre\n",
        "FROM movies M INNER JOIN movies_genres MG ON M.id=MG.movie_id\n",
        "WHERE M.year = 2000\n",
        "GROUP BY MG.genre;"
      ],
      "execution_count": 58,
      "outputs": [
        {
          "output_type": "stream",
          "text": [
            "Query started at 12:45:41 AM UTC; Query executed in 0.01 m"
          ],
          "name": "stdout"
        },
        {
          "output_type": "execute_result",
          "data": {
            "text/html": [
              "<div>\n",
              "<style scoped>\n",
              "    .dataframe tbody tr th:only-of-type {\n",
              "        vertical-align: middle;\n",
              "    }\n",
              "\n",
              "    .dataframe tbody tr th {\n",
              "        vertical-align: top;\n",
              "    }\n",
              "\n",
              "    .dataframe thead th {\n",
              "        text-align: right;\n",
              "    }\n",
              "</style>\n",
              "<table border=\"1\" class=\"dataframe\">\n",
              "  <thead>\n",
              "    <tr style=\"text-align: right;\">\n",
              "      <th></th>\n",
              "      <th>AVG(M.rank)</th>\n",
              "      <th>genre</th>\n",
              "    </tr>\n",
              "  </thead>\n",
              "  <tbody>\n",
              "    <tr>\n",
              "      <th>0</th>\n",
              "      <td>5.454639</td>\n",
              "      <td>Action</td>\n",
              "    </tr>\n",
              "    <tr>\n",
              "      <th>1</th>\n",
              "      <td>NaN</td>\n",
              "      <td>Adult</td>\n",
              "    </tr>\n",
              "    <tr>\n",
              "      <th>2</th>\n",
              "      <td>5.782759</td>\n",
              "      <td>Adventure</td>\n",
              "    </tr>\n",
              "    <tr>\n",
              "      <th>3</th>\n",
              "      <td>6.505882</td>\n",
              "      <td>Animation</td>\n",
              "    </tr>\n",
              "    <tr>\n",
              "      <th>4</th>\n",
              "      <td>5.899568</td>\n",
              "      <td>Comedy</td>\n",
              "    </tr>\n",
              "    <tr>\n",
              "      <th>5</th>\n",
              "      <td>5.908228</td>\n",
              "      <td>Crime</td>\n",
              "    </tr>\n",
              "    <tr>\n",
              "      <th>6</th>\n",
              "      <td>6.913761</td>\n",
              "      <td>Documentary</td>\n",
              "    </tr>\n",
              "    <tr>\n",
              "      <th>7</th>\n",
              "      <td>6.087035</td>\n",
              "      <td>Drama</td>\n",
              "    </tr>\n",
              "    <tr>\n",
              "      <th>8</th>\n",
              "      <td>5.787879</td>\n",
              "      <td>Family</td>\n",
              "    </tr>\n",
              "    <tr>\n",
              "      <th>9</th>\n",
              "      <td>5.938158</td>\n",
              "      <td>Fantasy</td>\n",
              "    </tr>\n",
              "    <tr>\n",
              "      <th>10</th>\n",
              "      <td>4.973913</td>\n",
              "      <td>Horror</td>\n",
              "    </tr>\n",
              "    <tr>\n",
              "      <th>11</th>\n",
              "      <td>6.512500</td>\n",
              "      <td>Music</td>\n",
              "    </tr>\n",
              "    <tr>\n",
              "      <th>12</th>\n",
              "      <td>6.070732</td>\n",
              "      <td>Musical</td>\n",
              "    </tr>\n",
              "    <tr>\n",
              "      <th>13</th>\n",
              "      <td>5.956897</td>\n",
              "      <td>Mystery</td>\n",
              "    </tr>\n",
              "    <tr>\n",
              "      <th>14</th>\n",
              "      <td>6.199571</td>\n",
              "      <td>Romance</td>\n",
              "    </tr>\n",
              "    <tr>\n",
              "      <th>15</th>\n",
              "      <td>5.398592</td>\n",
              "      <td>Sci-Fi</td>\n",
              "    </tr>\n",
              "    <tr>\n",
              "      <th>16</th>\n",
              "      <td>6.560808</td>\n",
              "      <td>Short</td>\n",
              "    </tr>\n",
              "    <tr>\n",
              "      <th>17</th>\n",
              "      <td>5.281185</td>\n",
              "      <td>Thriller</td>\n",
              "    </tr>\n",
              "    <tr>\n",
              "      <th>18</th>\n",
              "      <td>6.440741</td>\n",
              "      <td>War</td>\n",
              "    </tr>\n",
              "    <tr>\n",
              "      <th>19</th>\n",
              "      <td>5.290909</td>\n",
              "      <td>Western</td>\n",
              "    </tr>\n",
              "  </tbody>\n",
              "</table>\n",
              "</div>"
            ],
            "text/plain": [
              "    AVG(M.rank)        genre\n",
              "0      5.454639       Action\n",
              "1           NaN        Adult\n",
              "2      5.782759    Adventure\n",
              "3      6.505882    Animation\n",
              "4      5.899568       Comedy\n",
              "5      5.908228        Crime\n",
              "6      6.913761  Documentary\n",
              "7      6.087035        Drama\n",
              "8      5.787879       Family\n",
              "9      5.938158      Fantasy\n",
              "10     4.973913       Horror\n",
              "11     6.512500        Music\n",
              "12     6.070732      Musical\n",
              "13     5.956897      Mystery\n",
              "14     6.199571      Romance\n",
              "15     5.398592       Sci-Fi\n",
              "16     6.560808        Short\n",
              "17     5.281185     Thriller\n",
              "18     6.440741          War\n",
              "19     5.290909      Western"
            ]
          },
          "metadata": {
            "tags": []
          },
          "execution_count": 58
        }
      ]
    },
    {
      "cell_type": "code",
      "metadata": {
        "id": "nBu6HsSnvLQ7"
      },
      "source": [
        "%%read_sql\n",
        "# List the average ratings for the movies broken down by genre\n",
        "SELECT AVG(M.rank) AS avg_rating, MG.genre\n",
        "FROM movies M INNER JOIN movies_genres MG ON M.id=MG.movie_id\n",
        "GROUP BY MG.genre\n",
        "ORDER BY avg_rating DESC"
      ],
      "execution_count": null,
      "outputs": []
    },
    {
      "cell_type": "markdown",
      "metadata": {
        "id": "BcqZ5tDatHom"
      },
      "source": [
        "### What does this cell do?"
      ]
    },
    {
      "cell_type": "code",
      "metadata": {
        "id": "B2DGGEuvvLQ9"
      },
      "source": [
        "%%read_sql\n",
        "SELECT distinct a.first_name, a.last_name \n",
        "FROM actors a INNER JOIN roles r ON a.id = r.actor_id\n",
        "    INNER JOIN movies_directors md ON r.movie_id = md.movie_id\n",
        "    INNER JOIN directors d ON d.id = md.director_id\n",
        "WHERE d.first_name = 'Steven' and d.last_name='Spielberg'; "
      ],
      "execution_count": null,
      "outputs": []
    },
    {
      "cell_type": "markdown",
      "metadata": {
        "id": "G4Z2T9fxthe0"
      },
      "source": [
        "#and this one?"
      ]
    },
    {
      "cell_type": "code",
      "metadata": {
        "id": "2quMKT5DvLQ9",
        "colab": {
          "base_uri": "https://localhost:8080/",
          "height": 99
        },
        "outputId": "54c92da5-82f0-441c-c408-d3f3ccf7a2d5"
      },
      "source": [
        "%%read_sql\n",
        "SELECT avg(rank) \n",
        "FROM movies m \n",
        "    INNER JOIN movies_directors md ON m.id = md.movie_id\n",
        "    INNER JOIN directors d ON d.id = md.director_id\n",
        "WHERE d.first_name = 'Steven' and d.last_name='Spielberg'; \n"
      ],
      "execution_count": 59,
      "outputs": [
        {
          "output_type": "stream",
          "text": [
            "Query started at 12:47:06 AM UTC; Query executed in 0.01 m"
          ],
          "name": "stdout"
        },
        {
          "output_type": "execute_result",
          "data": {
            "text/html": [
              "<div>\n",
              "<style scoped>\n",
              "    .dataframe tbody tr th:only-of-type {\n",
              "        vertical-align: middle;\n",
              "    }\n",
              "\n",
              "    .dataframe tbody tr th {\n",
              "        vertical-align: top;\n",
              "    }\n",
              "\n",
              "    .dataframe thead th {\n",
              "        text-align: right;\n",
              "    }\n",
              "</style>\n",
              "<table border=\"1\" class=\"dataframe\">\n",
              "  <thead>\n",
              "    <tr style=\"text-align: right;\">\n",
              "      <th></th>\n",
              "      <th>avg(rank)</th>\n",
              "    </tr>\n",
              "  </thead>\n",
              "  <tbody>\n",
              "    <tr>\n",
              "      <th>0</th>\n",
              "      <td>7.546429</td>\n",
              "    </tr>\n",
              "  </tbody>\n",
              "</table>\n",
              "</div>"
            ],
            "text/plain": [
              "   avg(rank)\n",
              "0   7.546429"
            ]
          },
          "metadata": {
            "tags": []
          },
          "execution_count": 59
        }
      ]
    },
    {
      "cell_type": "markdown",
      "metadata": {
        "id": "DI5sB9YCvLQ9"
      },
      "source": [
        "#### List the movies of Brad Pitt - exclude those that he plays himself"
      ]
    },
    {
      "cell_type": "code",
      "metadata": {
        "id": "Yn5Z5BZZvLQ9"
      },
      "source": [
        "%%read_sql\n",
        "SELECT m.name \n",
        "FROM movies m \n",
        "    INNER JOIN roles r on m.id = r.movie_id \n",
        "    INNER JOIN actors a on r.actor_id = a.id\n",
        "WHERE r.role not like '%%Himself%%' and a.first_name = 'Brad' and a.last_name = 'Pitt' "
      ],
      "execution_count": null,
      "outputs": []
    },
    {
      "cell_type": "markdown",
      "metadata": {
        "id": "iOZUpI4nvLQ-"
      },
      "source": [
        "#### Average rank of Brad Pitt's movies"
      ]
    },
    {
      "cell_type": "code",
      "metadata": {
        "id": "yWc0TiP3vLQ-"
      },
      "source": [
        "%%read_sql\n",
        "SELECT avg(rank) \n",
        "FROM movies m \n",
        "    INNER JOIN roles r on m.id = r.movie_id \n",
        "    INNER JOIN actors a on r.actor_id = a.id\n",
        "WHERE r.role not like '%%Himself%%' and a.first_name = 'Brad' and a.last_name = 'Pitt' \n",
        "\n"
      ],
      "execution_count": null,
      "outputs": []
    },
    {
      "cell_type": "markdown",
      "metadata": {
        "id": "fd___NIyvLQ-"
      },
      "source": [
        "#### List the genre of the movies where Sean Connery appears, and rank them in descending order by count"
      ]
    },
    {
      "cell_type": "code",
      "metadata": {
        "id": "rVP4IDm7vLQ_"
      },
      "source": [
        "%%read_sql\n",
        "SELECT mg.genre, count(*) \n",
        "FROM movies_genres mg \n",
        "    INNER JOIN movies m ON m.id =mg.movie_id\n",
        "    INNER JOIN roles r ON m.id = r.movie_id \n",
        "    INNER JOIN actors a ON r.actor_id = a.id\n",
        "WHERE r.role not like '%%Himself%%' and a.first_name = 'Sean' and a.last_name = 'Connery'\n",
        "GROUP BY genre\n",
        "ORDER BY count(*) desc\n",
        "\n"
      ],
      "execution_count": null,
      "outputs": []
    },
    {
      "cell_type": "markdown",
      "metadata": {
        "id": "suqUIAAovLQ_"
      },
      "source": [
        "#### Compute the average rank for the movies of each actor and rank the actors in descending order based on that rank. List only actors with at least 20 rated movies."
      ]
    },
    {
      "cell_type": "code",
      "metadata": {
        "id": "d55MWlTgvLQ_"
      },
      "source": [
        "%%read_sql\n",
        "SELECT a.*, avg(rank) as avg_rating, count(m.id) as num_movies, count(m.rank) as rated_movies\n",
        "FROM movies m \n",
        "    INNER JOIN roles r on m.id = r.movie_id \n",
        "    INNER JOIN actors a ON a.id = r.actor_id\n",
        "GROUP BY a.id\n",
        "HAVING count(m.rank)>=20\n",
        "ORDER BY avg(rank) desc"
      ],
      "execution_count": null,
      "outputs": []
    },
    {
      "cell_type": "markdown",
      "metadata": {
        "id": "iNfYjX9FvLQ_"
      },
      "source": [
        "### Subqueries"
      ]
    },
    {
      "cell_type": "markdown",
      "metadata": {
        "id": "b2D-vGmMvLQ_"
      },
      "source": [
        "#### List all the actors that have not worked with Francis Ford Coppola. "
      ]
    },
    {
      "cell_type": "code",
      "metadata": {
        "id": "ARGsla0fvLQ_"
      },
      "source": [
        "%%read_sql \n",
        "SELECT * \n",
        "FROM actors \n",
        "WHERE id NOT IN (\n",
        "    SELECT DISTINCT R.actor_id\n",
        "    FROM roles R \n",
        "        INNER JOIN movies_directors MD ON R.movie_id=MD.movie_id\n",
        "        INNER JOIN directors D ON MD.director_id=D.id \n",
        "    WHERE D.first_name = 'Francis Ford' and D.last_name = 'Coppola'\n",
        ")"
      ],
      "execution_count": null,
      "outputs": []
    },
    {
      "cell_type": "markdown",
      "metadata": {
        "id": "RUZANUGbvLQ_"
      },
      "source": [
        "#### Find the average number of movies directed by each director "
      ]
    },
    {
      "cell_type": "code",
      "metadata": {
        "id": "9YMzcbGRvLRA"
      },
      "source": [
        "%%read_sql\n",
        "SELECT avg(noMovies)\n",
        "FROM \n",
        "    (\n",
        "    SELECT director_id, count(*) as noMovies \n",
        "    FROM movies_directors dm \n",
        "    GROUP BY director_id\n",
        "    ) r;"
      ],
      "execution_count": null,
      "outputs": []
    },
    {
      "cell_type": "markdown",
      "metadata": {
        "id": "ISv7_m5DvLRA"
      },
      "source": [
        "#### Report how many directors have directed one movie, two movies, three movies, etc. (in other words, create a the distribution for the variable \"number of movies directed by a given director\")"
      ]
    },
    {
      "cell_type": "code",
      "metadata": {
        "id": "C8xP0yNDvLRA"
      },
      "source": [
        "%%read_sql\n",
        "SELECT NumMovies, COUNT(director_id) as NumDirectors\n",
        "FROM \n",
        "    (\n",
        "    SELECT director_id, count(*) as NumMovies \n",
        "    FROM movies_directors dm \n",
        "    GROUP BY director_id\n",
        "    ) r\n",
        "GROUP BY NumMovies\n",
        "ORDER BY NumMovies;"
      ],
      "execution_count": null,
      "outputs": []
    },
    {
      "cell_type": "markdown",
      "metadata": {
        "id": "o4IyCKP1vLRA"
      },
      "source": [
        "#### Find the average number of movies played by each actor"
      ]
    },
    {
      "cell_type": "code",
      "metadata": {
        "id": "kb-Ulm3FvLRA"
      },
      "source": [
        "%%read_sql\n",
        "SELECT avg(noMovies) \n",
        "FROM\n",
        "(\n",
        "SELECT actor_id, count(distinct movie_id) as noMovies \n",
        "FROM roles \n",
        "GROUP BY actor_id\n",
        ") r;"
      ],
      "execution_count": null,
      "outputs": []
    },
    {
      "cell_type": "code",
      "metadata": {
        "id": "S7p0L8hfvLRA"
      },
      "source": [
        "%%read_sql\n",
        "SELECT NumMovies, COUNT(actor_id) as NumActors\n",
        "FROM \n",
        "    (\n",
        "    SELECT actor_id, count(*) as NumMovies \n",
        "    FROM roles r \n",
        "    GROUP BY actor_id\n",
        "    ) r\n",
        "GROUP BY NumMovies\n",
        "ORDER BY NumMovies;"
      ],
      "execution_count": null,
      "outputs": []
    },
    {
      "cell_type": "markdown",
      "metadata": {
        "id": "VJLsLnpOvLRA"
      },
      "source": [
        "#### Find the maximum number of genres associated with a movie"
      ]
    },
    {
      "cell_type": "code",
      "metadata": {
        "id": "HENfZ9ZwvLRA"
      },
      "source": [
        "%%read_sql\n",
        "SELECT max(noGenres) FROM (\n",
        "SELECT count(*) as noGenres\n",
        "FROM movies_genres\n",
        "GROUP BY movie_id) r;"
      ],
      "execution_count": null,
      "outputs": []
    },
    {
      "cell_type": "code",
      "metadata": {
        "id": "rC55WJ3dvLRB"
      },
      "source": [
        "%%read_sql\n",
        "SELECT max(noMovies)FROM (\n",
        "SELECT count(*) as noMovies, director_id as director\n",
        "FROM movies_directors\n",
        "GROUP BY director_id\n",
        ") r;"
      ],
      "execution_count": null,
      "outputs": []
    },
    {
      "cell_type": "code",
      "metadata": {
        "id": "eWioafU_vLRB"
      },
      "source": [
        "%%read_sql\n",
        "SELECT count(*) as noMovies, director_id as director\n",
        "FROM movies_directors\n",
        "GROUP BY director_id\n",
        ";"
      ],
      "execution_count": null,
      "outputs": []
    },
    {
      "cell_type": "markdown",
      "metadata": {
        "id": "qtZp9Y9ivLRB"
      },
      "source": [
        "#### Compare the favorite books of liberal and conservative students"
      ]
    },
    {
      "cell_type": "code",
      "metadata": {
        "id": "93j0qr8uvLRB"
      },
      "source": [
        "%%read_sql\n",
        "\n",
        "USE facebook;\n",
        "\n",
        "SELECT BC.Book, \n",
        "    BC.C AS cons,\n",
        "    BL.L AS libs,\n",
        "    BC.C/C.NC AS perc_cons, \n",
        "    BL.L/L.NL AS perc_libs,\n",
        "    (BC.C/C.NC)/(BL.L/L.NL) AS lift_cons,\n",
        "    (BL.L/L.NL)/(BC.C/C.NC) AS lift_libs\n",
        "FROM \n",
        "    (\n",
        "    SELECT B.Book, COUNT(P.ProfileID) AS C\n",
        "    FROM Profiles AS P \n",
        "        INNER JOIN FavoriteBooks AS B ON P.ProfileID = B.ProfileId\n",
        "    WHERE PoliticalViews = 'Conservative'\n",
        "    GROUP BY B.Book\n",
        "    ) BC \n",
        "JOIN \n",
        "    (\n",
        "    SELECT B.Book, COUNT(P.ProfileID) AS L\n",
        "    FROM Profiles AS P \n",
        "        INNER JOIN FavoriteBooks AS B ON P.ProfileID = B.ProfileId\n",
        "    WHERE PoliticalViews = 'Liberal'\n",
        "    GROUP BY B.Book\n",
        "    ) BL ON BC.Book = BL.Book \n",
        "JOIN\n",
        "    (\n",
        "    SELECT COUNT(*) AS NC \n",
        "    FROM Profiles \n",
        "    WHERE PoliticalViews = 'Conservative'\n",
        "    ) C \n",
        "JOIN \n",
        "    (\n",
        "    SELECT COUNT(*) AS NL\n",
        "    FROM Profiles \n",
        "    WHERE PoliticalViews = 'Liberal'\n",
        "    ) L\n",
        "WHERE BC.C > 5 AND BL.L > 5\n",
        "ORDER BY lift_cons DESC\n",
        "\n"
      ],
      "execution_count": null,
      "outputs": []
    },
    {
      "cell_type": "code",
      "metadata": {
        "id": "9IHjW4JIvLRC"
      },
      "source": [
        ""
      ],
      "execution_count": null,
      "outputs": []
    },
    {
      "cell_type": "code",
      "metadata": {
        "id": "hszQm_eDvLRC"
      },
      "source": [
        ""
      ],
      "execution_count": null,
      "outputs": []
    },
    {
      "cell_type": "code",
      "metadata": {
        "id": "_5GSSXpGvLRC"
      },
      "source": [
        ""
      ],
      "execution_count": null,
      "outputs": []
    },
    {
      "cell_type": "code",
      "metadata": {
        "id": "HPdWQo7NvLRC"
      },
      "source": [
        ""
      ],
      "execution_count": null,
      "outputs": []
    }
  ]
}