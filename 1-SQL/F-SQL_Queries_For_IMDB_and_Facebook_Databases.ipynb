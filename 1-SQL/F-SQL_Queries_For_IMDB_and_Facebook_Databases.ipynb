{
  "nbformat": 4,
  "nbformat_minor": 0,
  "metadata": {
    "kernelspec": {
      "display_name": "Python 3",
      "language": "python",
      "name": "python3"
    },
    "language_info": {
      "codemirror_mode": {
        "name": "ipython",
        "version": 3
      },
      "file_extension": ".py",
      "mimetype": "text/x-python",
      "name": "python",
      "nbconvert_exporter": "python",
      "pygments_lexer": "ipython3",
      "version": "3.6.8"
    },
    "colab": {
      "name": "F-SQL_Queries_For_IMDB_and_Facebook_Databases.ipynb",
      "provenance": [],
      "collapsed_sections": [
        "pwDv_V5ivLQj",
        "PvXf5x8ivLQk",
        "uDrMP9pavLQl",
        "AuOTb32IvLQl",
        "gp9pMWq3vLQm",
        "ACaLgcSvvLQm",
        "vAxTDbUpvLQn",
        "tGlNX4sOvLQo",
        "clOP1qF6vLQo",
        "0xAFjxLAvLQp",
        "-PMcchqyvLQp",
        "_rcUiGNwvLQp",
        "eHK-1g7dvLQq",
        "FMsBPnP5vLQr",
        "wc25pUijvLQr",
        "r7DyZOLwvLQr",
        "vAlENk9UvLQr",
        "Cpu91gepvLQs",
        "-1DSitVpvLQt",
        "4ghM9qdUvLQv",
        "hnG_TxO1vLQv",
        "KlhXUsC-vLQv",
        "G8HYMk_KvLQx",
        "Mc8Ej1_svLQx",
        "hp4ageUJvLQy",
        "N7ydwGGsvLQy",
        "iDuSlGmhvLQy",
        "mXvfWrSuvLQz",
        "62NYA-0TvLQ0",
        "-Ebc4LdJvLQ0",
        "igULTBL7vLQ1",
        "KRze_-4UvLQ1",
        "-BvlJUcuvLQ2",
        "hT96FpL-vLQ2",
        "HlKITbTtvLQ2",
        "vSlEywtqvLQ4",
        "sAvSdnHmvLQ4",
        "4jf7o3PfvLQ5",
        "dblLDIeyvLQ5",
        "4RkPAYrBvLQ7",
        "PJRWbMHTvLQ7",
        "BcqZ5tDatHom",
        "DI5sB9YCvLQ9",
        "iOZUpI4nvLQ-",
        "fd___NIyvLQ-",
        "suqUIAAovLQ_",
        "iNfYjX9FvLQ_",
        "b2D-vGmMvLQ_",
        "RUZANUGbvLQ_",
        "ISv7_m5DvLRA",
        "o4IyCKP1vLRA",
        "VJLsLnpOvLRA",
        "qtZp9Y9ivLRB"
      ],
      "include_colab_link": true
    }
  },
  "cells": [
    {
      "cell_type": "markdown",
      "metadata": {
        "id": "view-in-github",
        "colab_type": "text"
      },
      "source": [
        "<a href=\"https://colab.research.google.com/github/nhwhite212/DealingwithDataSpring2021/blob/colab/1-SQL/F-SQL_Queries_For_IMDB_and_Facebook_Databases.ipynb\" target=\"_parent\"><img src=\"https://colab.research.google.com/assets/colab-badge.svg\" alt=\"Open In Colab\"/></a>"
      ]
    },
    {
      "cell_type": "markdown",
      "metadata": {
        "id": "kZLDbS9QvLQZ"
      },
      "source": [
        "## SQL Queries\n",
        "\n",
        "To be able to execute SQL queries from within a Jupyter notebook, we will use the `sql_magic` extension (https://github.com/pivotal/sql_magic)\n",
        "\n",
        "    sudo pip3 install -U sql_magic"
      ]
    },
    {
      "cell_type": "code",
      "metadata": {
        "id": "SuisppUrvLQa"
      },
      "source": [
        "pip install -U sql_magic\n"
      ],
      "execution_count": null,
      "outputs": []
    },
    {
      "cell_type": "code",
      "metadata": {
        "id": "TAmpqb3TxEhp"
      },
      "source": [
        "pip install mysqlclient"
      ],
      "execution_count": null,
      "outputs": []
    },
    {
      "cell_type": "code",
      "metadata": {
        "id": "P6CnZKnovLQc"
      },
      "source": [
        "from sqlalchemy import create_engine"
      ],
      "execution_count": null,
      "outputs": []
    },
    {
      "cell_type": "code",
      "metadata": {
        "id": "d7HdrmBivLQd"
      },
      "source": [
        "conn_string = 'mysql://{user}:{password}@{host}/?charset=utf8'.format(\n",
        "    host = 'db.ipeirotis.org', \n",
        "    user = 'student',\n",
        "    password = 'dwdstudent2015',\n",
        "    encoding = 'utf-8')\n",
        "engine = create_engine(conn_string)"
      ],
      "execution_count": null,
      "outputs": []
    },
    {
      "cell_type": "code",
      "metadata": {
        "id": "A7ZHv-iivLQd"
      },
      "source": [
        "%reload_ext sql_magic"
      ],
      "execution_count": null,
      "outputs": []
    },
    {
      "cell_type": "code",
      "metadata": {
        "id": "Jh3OX2PrvLQe"
      },
      "source": [
        "%config SQL.conn_name = 'engine'"
      ],
      "execution_count": null,
      "outputs": []
    },
    {
      "cell_type": "code",
      "metadata": {
        "id": "fexQ5YCgvLQe"
      },
      "source": [
        "%%read_sql\n",
        "show databases"
      ],
      "execution_count": null,
      "outputs": []
    },
    {
      "cell_type": "code",
      "metadata": {
        "id": "N5bZvGOuvLQf"
      },
      "source": [
        "%%read_sql\n",
        "use imdb"
      ],
      "execution_count": null,
      "outputs": []
    },
    {
      "cell_type": "code",
      "metadata": {
        "id": "MAWFXC-nvLQg"
      },
      "source": [
        "%%read_sql\n",
        "show tables"
      ],
      "execution_count": null,
      "outputs": []
    },
    {
      "cell_type": "code",
      "metadata": {
        "id": "oNaZQkcwvLQg"
      },
      "source": [
        "%%read_sql\n",
        "describe actors"
      ],
      "execution_count": null,
      "outputs": []
    },
    {
      "cell_type": "code",
      "metadata": {
        "id": "1p0raqv6vLQh"
      },
      "source": [
        "%%read_sql\n",
        "describe roles"
      ],
      "execution_count": null,
      "outputs": []
    },
    {
      "cell_type": "markdown",
      "metadata": {
        "id": "fBFuNeb4vLQj"
      },
      "source": [
        "### SELECT Queries (IMDB database)"
      ]
    },
    {
      "cell_type": "code",
      "metadata": {
        "id": "BBaXzapqvLQj"
      },
      "source": [
        ""
      ],
      "execution_count": null,
      "outputs": []
    },
    {
      "cell_type": "code",
      "metadata": {
        "id": "YjW2We6zvLQj"
      },
      "source": [
        "%%read_sql\n",
        "USE imdb"
      ],
      "execution_count": null,
      "outputs": []
    },
    {
      "cell_type": "markdown",
      "metadata": {
        "id": "pwDv_V5ivLQj"
      },
      "source": [
        "#### Find all movie titles with id less than 100."
      ]
    },
    {
      "cell_type": "code",
      "metadata": {
        "scrolled": true,
        "id": "nNWeS71PvLQj"
      },
      "source": [
        "%%read_sql\n",
        "SELECT * \n",
        "FROM movies \n",
        "WHERE id<100"
      ],
      "execution_count": null,
      "outputs": []
    },
    {
      "cell_type": "markdown",
      "metadata": {
        "id": "PvXf5x8ivLQk"
      },
      "source": [
        "#### Find all information about movies that were released before 1895 (excl)"
      ]
    },
    {
      "cell_type": "code",
      "metadata": {
        "id": "LpjQFdgFvLQk"
      },
      "source": [
        "%%read_sql\n",
        "SELECT *\n",
        "FROM movies \n",
        "WHERE year<1895"
      ],
      "execution_count": null,
      "outputs": []
    },
    {
      "cell_type": "markdown",
      "metadata": {
        "id": "uDrMP9pavLQl"
      },
      "source": [
        "#### Find all information about movies that were released before 1895 and after 2006 (inclusive)"
      ]
    },
    {
      "cell_type": "code",
      "metadata": {
        "id": "eQlX5hoyvLQl"
      },
      "source": [
        "%%read_sql\n",
        "SELECT *\n",
        "FROM movies \n",
        "WHERE year<=1895 OR year>=2006"
      ],
      "execution_count": null,
      "outputs": []
    },
    {
      "cell_type": "markdown",
      "metadata": {
        "id": "AuOTb32IvLQl"
      },
      "source": [
        "#### Find all information about movies released between 1895 and 1898 (excl)"
      ]
    },
    {
      "cell_type": "code",
      "metadata": {
        "id": "nMeMUpH-vLQl"
      },
      "source": [
        "%%read_sql\n",
        "SELECT *\n",
        "FROM movies \n",
        "WHERE year>1895 AND year<1898"
      ],
      "execution_count": null,
      "outputs": []
    },
    {
      "cell_type": "markdown",
      "metadata": {
        "id": "gp9pMWq3vLQm"
      },
      "source": [
        "#### Find all information about *actresses* who are have first name Skyler"
      ]
    },
    {
      "cell_type": "code",
      "metadata": {
        "id": "eYzvuHRmvLQm"
      },
      "source": [
        "%%read_sql\n",
        "SELECT *\n",
        "FROM actors\n",
        "WHERE first_name = 'Skyler' AND gender = 'F';"
      ],
      "execution_count": null,
      "outputs": []
    },
    {
      "cell_type": "code",
      "metadata": {
        "id": "xjtKmHAEvLQm"
      },
      "source": [
        "%%read_sql\n",
        "select director_id,count(*) as number_of_movies from movies_directors group by director_id having number_of_movies >100;\n"
      ],
      "execution_count": null,
      "outputs": []
    },
    {
      "cell_type": "markdown",
      "metadata": {
        "id": "ACaLgcSvvLQm"
      },
      "source": [
        "#### Find the director ID of Steven Spielberg"
      ]
    },
    {
      "cell_type": "code",
      "metadata": {
        "id": "Ozd0CCh7vLQm"
      },
      "source": [
        "%%read_sql\n",
        "SELECT id\n",
        "FROM directors\n",
        "WHERE first_name = 'Steven' AND last_name = 'Spielberg';"
      ],
      "execution_count": null,
      "outputs": []
    },
    {
      "cell_type": "markdown",
      "metadata": {
        "id": "vAxTDbUpvLQn"
      },
      "source": [
        "#### Find the director IDs and the first and last names of directors with the last name Spielberg and Hitchcock"
      ]
    },
    {
      "cell_type": "code",
      "metadata": {
        "id": "2NPf1Sl5vLQn"
      },
      "source": [
        "%%read_sql\n",
        "SELECT id, first_name, last_name\n",
        "FROM directors\n",
        "WHERE last_name = 'Spielberg' OR last_name = 'Hitchcock';"
      ],
      "execution_count": null,
      "outputs": []
    },
    {
      "cell_type": "markdown",
      "metadata": {
        "id": "tGlNX4sOvLQo"
      },
      "source": [
        "#### Find all genres of films and the corresponding probabilities for the director ID that corresponds to Steven Spielberg. Sort the results by probability."
      ]
    },
    {
      "cell_type": "code",
      "metadata": {
        "id": "jVNuaDxzvLQo"
      },
      "source": [
        "%%read_sql\n",
        "SELECT genre, prob\n",
        "FROM directors_genres\n",
        "WHERE director_id = '75380' # the id of Spielberg FROM above\n",
        "ORDER BY prob DESC"
      ],
      "execution_count": null,
      "outputs": []
    },
    {
      "cell_type": "markdown",
      "metadata": {
        "id": "clOP1qF6vLQo"
      },
      "source": [
        "#### Find the id of the movie Schindler's List."
      ]
    },
    {
      "cell_type": "code",
      "metadata": {
        "id": "QymafZtRvLQo"
      },
      "source": [
        "%%read_sql\n",
        "SELECT *\n",
        "FROM movies\n",
        "WHERE name = \"Schindler's List\""
      ],
      "execution_count": null,
      "outputs": []
    },
    {
      "cell_type": "markdown",
      "metadata": {
        "id": "0xAFjxLAvLQp"
      },
      "source": [
        "#### List all the roles for the movie with id 290070. Sort them alphabetically"
      ]
    },
    {
      "cell_type": "code",
      "metadata": {
        "id": "F3MNWb18vLQp"
      },
      "source": [
        "%%read_sql\n",
        "SELECT *\n",
        "FROM roles\n",
        "WHERE movie_id = '290070' order by role"
      ],
      "execution_count": null,
      "outputs": []
    },
    {
      "cell_type": "markdown",
      "metadata": {
        "id": "-PMcchqyvLQp"
      },
      "source": [
        "### SELECT Queries (Facebook database)"
      ]
    },
    {
      "cell_type": "code",
      "metadata": {
        "id": "2kpXTjXtvLQp"
      },
      "source": [
        "%%read_sql\n",
        "USE facebook"
      ],
      "execution_count": null,
      "outputs": []
    },
    {
      "cell_type": "markdown",
      "metadata": {
        "id": "_rcUiGNwvLQp"
      },
      "source": [
        "#### Find all names of students FROM the Profiles table"
      ]
    },
    {
      "cell_type": "code",
      "metadata": {
        "id": "ZOdpYMfRvLQq"
      },
      "source": [
        "%%read_sql\n",
        "SELECT name\n",
        "FROM Profiles"
      ],
      "execution_count": null,
      "outputs": []
    },
    {
      "cell_type": "markdown",
      "metadata": {
        "id": "eHK-1g7dvLQq"
      },
      "source": [
        "#### Get the names and sex of all liberal students"
      ]
    },
    {
      "cell_type": "code",
      "metadata": {
        "id": "f7lAII9gvLQr"
      },
      "source": [
        "%%read_sql\n",
        "SELECT name, sex\n",
        "FROM Profiles\n",
        "WHERE PoliticalViews ='Liberal'"
      ],
      "execution_count": null,
      "outputs": []
    },
    {
      "cell_type": "markdown",
      "metadata": {
        "id": "FMsBPnP5vLQr"
      },
      "source": [
        "#### Get the High Schools of the students in the database"
      ]
    },
    {
      "cell_type": "code",
      "metadata": {
        "id": "Wf9j2b7DvLQr"
      },
      "source": [
        "%%read_sql\n",
        "SELECT HighSchool\n",
        "FROM Profiles"
      ],
      "execution_count": null,
      "outputs": []
    },
    {
      "cell_type": "markdown",
      "metadata": {
        "id": "wc25pUijvLQr"
      },
      "source": [
        "#### Find all the possible political views, eliminating duplicate entries"
      ]
    },
    {
      "cell_type": "code",
      "metadata": {
        "id": "iP8083m4vLQr"
      },
      "source": [
        "%%read_sql\n",
        "SELECT DISTINCT PoliticalViews\n",
        "FROM Profiles"
      ],
      "execution_count": null,
      "outputs": []
    },
    {
      "cell_type": "markdown",
      "metadata": {
        "id": "r7DyZOLwvLQr"
      },
      "source": [
        "#### Find all possible relationship statuses"
      ]
    },
    {
      "cell_type": "code",
      "metadata": {
        "id": "3_gAXDKbvLQr"
      },
      "source": [
        "%%read_sql\n",
        "SELECT DISTINCT Status\n",
        "FROM Relationship"
      ],
      "execution_count": null,
      "outputs": []
    },
    {
      "cell_type": "markdown",
      "metadata": {
        "id": "vAlENk9UvLQr"
      },
      "source": [
        "#### Find all possible values for the “status” attribute in Profiles "
      ]
    },
    {
      "cell_type": "code",
      "metadata": {
        "id": "0YsX1TJyvLQs"
      },
      "source": [
        "%%read_sql\n",
        "SELECT DISTINCT Status\n",
        "FROM Profiles"
      ],
      "execution_count": null,
      "outputs": []
    },
    {
      "cell_type": "markdown",
      "metadata": {
        "id": "Cpu91gepvLQs"
      },
      "source": [
        "#### Find all possible values for the “Residence” attribute in Profiles, eliminating duplicates"
      ]
    },
    {
      "cell_type": "code",
      "metadata": {
        "id": "lne9sDJjvLQt"
      },
      "source": [
        "%%read_sql\n",
        "SELECT DISTINCT Residence\n",
        "FROM Profiles"
      ],
      "execution_count": null,
      "outputs": []
    },
    {
      "cell_type": "markdown",
      "metadata": {
        "id": "-1DSitVpvLQt"
      },
      "source": [
        "#### Find all students living in Palladium"
      ]
    },
    {
      "cell_type": "code",
      "metadata": {
        "id": "8_6Cb1N9vLQu"
      },
      "source": [
        "%%read_sql\n",
        "SELECT Name, Residence\n",
        "FROM Profiles\n",
        "WHERE Residence LIKE 'Palladium%%'"
      ],
      "execution_count": null,
      "outputs": []
    },
    {
      "cell_type": "markdown",
      "metadata": {
        "id": "4ghM9qdUvLQv"
      },
      "source": [
        "#### Find all students who attended Stuyvesant"
      ]
    },
    {
      "cell_type": "code",
      "metadata": {
        "id": "iWRq7MatvLQv"
      },
      "source": [
        "%%read_sql\n",
        "SELECT *\n",
        "FROM Profiles\n",
        "WHERE HighSchool LIKE 'Stuyvesant%%'"
      ],
      "execution_count": null,
      "outputs": []
    },
    {
      "cell_type": "markdown",
      "metadata": {
        "id": "hnG_TxO1vLQv"
      },
      "source": [
        "#### Find all names that contain a digit"
      ]
    },
    {
      "cell_type": "code",
      "metadata": {
        "id": "6TBS1cPzvLQv"
      },
      "source": [
        "%%read_sql\n",
        "SELECT * \n",
        "FROM Profiles \n",
        "WHERE name REGEXP '[0-9]+'"
      ],
      "execution_count": null,
      "outputs": []
    },
    {
      "cell_type": "markdown",
      "metadata": {
        "id": "KlhXUsC-vLQv"
      },
      "source": [
        "#### Find all students with a name that contains a non-letter character, other than \\- and \\."
      ]
    },
    {
      "cell_type": "code",
      "metadata": {
        "id": "yJoibKijvLQw"
      },
      "source": [
        "%%read_sql\n",
        "SELECT * \n",
        "FROM Profiles \n",
        "WHERE name NOT REGEXP '^[A-z \\-\\.]+$'"
      ],
      "execution_count": null,
      "outputs": []
    },
    {
      "cell_type": "markdown",
      "metadata": {
        "id": "G8HYMk_KvLQx"
      },
      "source": [
        "### Aggregation Queries (IMDB Database)"
      ]
    },
    {
      "cell_type": "code",
      "metadata": {
        "id": "ur6rCV-NvLQx"
      },
      "source": [
        "%%read_sql\n",
        "USE imdb;"
      ],
      "execution_count": null,
      "outputs": []
    },
    {
      "cell_type": "markdown",
      "metadata": {
        "id": "Mc8Ej1_svLQx"
      },
      "source": [
        "#### Number of movies for each director"
      ]
    },
    {
      "cell_type": "code",
      "metadata": {
        "id": "2G22YSJ5vLQx"
      },
      "source": [
        "%%read_sql\n",
        "SELECT director_id, count(*) AS NumberOfMovies\n",
        "FROM movies_directors \n",
        "GROUP BY director_id\n",
        "LIMIT 100;"
      ],
      "execution_count": null,
      "outputs": []
    },
    {
      "cell_type": "markdown",
      "metadata": {
        "id": "hp4ageUJvLQy"
      },
      "source": [
        "#### Rank directors by the number of movies they directed"
      ]
    },
    {
      "cell_type": "code",
      "metadata": {
        "id": "6eZM0X_SvLQy"
      },
      "source": [
        "%%read_sql\n",
        "SELECT director_id, count(*) AS NumberOfMovies\n",
        "FROM movies_directors \n",
        "GROUP BY director_id\n",
        "ORDER BY count(*) desc"
      ],
      "execution_count": null,
      "outputs": []
    },
    {
      "cell_type": "markdown",
      "metadata": {
        "id": "N7ydwGGsvLQy"
      },
      "source": [
        "#### Find the number of actors in each movie"
      ]
    },
    {
      "cell_type": "code",
      "metadata": {
        "id": "_jm0A_MKvLQy"
      },
      "source": [
        "%%read_sql\n",
        "SELECT movie_id, count(*) \n",
        "FROM roles \n",
        "GROUP BY movie_id"
      ],
      "execution_count": null,
      "outputs": []
    },
    {
      "cell_type": "markdown",
      "metadata": {
        "id": "iDuSlGmhvLQy"
      },
      "source": [
        "#### Find the movies with more than 100 actors"
      ]
    },
    {
      "cell_type": "code",
      "metadata": {
        "id": "RFYeyNdnvLQz"
      },
      "source": [
        "%%read_sql\n",
        "SELECT movie_id, count(*) \n",
        "FROM roles \n",
        "GROUP BY movie_id\n",
        "HAVING count(*) > 100;"
      ],
      "execution_count": null,
      "outputs": []
    },
    {
      "cell_type": "markdown",
      "metadata": {
        "id": "mXvfWrSuvLQz"
      },
      "source": [
        "#### Find the most popular genres (basd on the number of movies)"
      ]
    },
    {
      "cell_type": "code",
      "metadata": {
        "id": "TzC9TopovLQz"
      },
      "source": [
        "%%read_sql\n",
        "SELECT genre, count(*) \n",
        "FROM movies_genres\n",
        "GROUP BY genre\n",
        "ORDER BY count(*) desc"
      ],
      "execution_count": null,
      "outputs": []
    },
    {
      "cell_type": "markdown",
      "metadata": {
        "id": "62NYA-0TvLQ0"
      },
      "source": [
        "#### Find the average rank of the movies in the database, per year of release"
      ]
    },
    {
      "cell_type": "code",
      "metadata": {
        "id": "cpKVWGT0vLQ0"
      },
      "source": [
        "%%read_sql\n",
        "SELECT year, avg(rank) \n",
        "FROM movies\n",
        "GROUP BY year"
      ],
      "execution_count": null,
      "outputs": []
    },
    {
      "cell_type": "markdown",
      "metadata": {
        "id": "-Ebc4LdJvLQ0"
      },
      "source": [
        "### Aggregation Queries (Facebook database)"
      ]
    },
    {
      "cell_type": "code",
      "metadata": {
        "id": "sER7CV8yvLQ0"
      },
      "source": [
        "%%read_sql\n",
        "USE facebook"
      ],
      "execution_count": null,
      "outputs": []
    },
    {
      "cell_type": "markdown",
      "metadata": {
        "id": "igULTBL7vLQ1"
      },
      "source": [
        "#### List the number of males and females"
      ]
    },
    {
      "cell_type": "code",
      "metadata": {
        "id": "DuLymE-0vLQ1"
      },
      "source": [
        "%%read_sql\n",
        "SELECT sex, count(*) \n",
        "FROM Profiles \n",
        "GROUP BY sex"
      ],
      "execution_count": null,
      "outputs": []
    },
    {
      "cell_type": "markdown",
      "metadata": {
        "id": "KRze_-4UvLQ1"
      },
      "source": [
        "#### List the number of students for each political view"
      ]
    },
    {
      "cell_type": "code",
      "metadata": {
        "id": "5ParEFXVvLQ1"
      },
      "source": [
        "%%read_sql\n",
        "SELECT PoliticalViews, count(*) \n",
        "FROM Profiles \n",
        "GROUP BY PoliticalViews"
      ],
      "execution_count": null,
      "outputs": []
    },
    {
      "cell_type": "markdown",
      "metadata": {
        "id": "-BvlJUcuvLQ2"
      },
      "source": [
        "#### List the number of males and female students for each political view"
      ]
    },
    {
      "cell_type": "code",
      "metadata": {
        "id": "NdSmTFLvvLQ2"
      },
      "source": [
        "%%read_sql\n",
        "SELECT Sex, PoliticalViews, count(*) \n",
        "FROM Profiles \n",
        "WHERE Sex is not null and PoliticalViews is not null\n",
        "GROUP BY Sex, PoliticalViews"
      ],
      "execution_count": null,
      "outputs": []
    },
    {
      "cell_type": "markdown",
      "metadata": {
        "id": "hT96FpL-vLQ2"
      },
      "source": [
        "#### List the number of students per each birth year: Use the Year(date) function to get the year value FROM a dateime column List only years that have at least 10 students"
      ]
    },
    {
      "cell_type": "code",
      "metadata": {
        "id": "bNEPNwx6vLQ2"
      },
      "source": [
        "%%read_sql\n",
        "SELECT YEAR(birthday), count(*) \n",
        "FROM Profiles \n",
        "WHERE birthday is not null\n",
        "GROUP BY YEAR(birthday)\n",
        "HAVING count(*) > 10"
      ],
      "execution_count": null,
      "outputs": []
    },
    {
      "cell_type": "markdown",
      "metadata": {
        "id": "HlKITbTtvLQ2"
      },
      "source": [
        "#### Find the most popular tv shows and books"
      ]
    },
    {
      "cell_type": "code",
      "metadata": {
        "id": "7R33hXdVvLQ3"
      },
      "source": [
        "%%read_sql\n",
        "SELECT TVShow, count(*) \n",
        "FROM FavoriteTVShows \n",
        "WHERE TVShow is not null \n",
        "GROUP BY TVShow\n",
        "ORDER BY count(*) desc"
      ],
      "execution_count": null,
      "outputs": []
    },
    {
      "cell_type": "code",
      "metadata": {
        "id": "VUlJyx6evLQ3"
      },
      "source": [
        "%%read_sql\n",
        "SELECT Book, count(*) \n",
        "FROM FavoriteBooks\n",
        "WHERE Book is not null \n",
        "GROUP BY Book\n",
        "ORDER BY count(*) desc"
      ],
      "execution_count": null,
      "outputs": []
    },
    {
      "cell_type": "markdown",
      "metadata": {
        "id": "vSlEywtqvLQ4"
      },
      "source": [
        "#### Find the number of students in various relationship statuses"
      ]
    },
    {
      "cell_type": "code",
      "metadata": {
        "id": "26Tz8zyFvLQ4"
      },
      "source": [
        "%%read_sql\n",
        "SELECT Status, count(*) \n",
        "FROM Relationship\n",
        "GROUP BY Status"
      ],
      "execution_count": null,
      "outputs": []
    },
    {
      "cell_type": "markdown",
      "metadata": {
        "id": "sAvSdnHmvLQ4"
      },
      "source": [
        "#### Find the most popular majors (concentrations)"
      ]
    },
    {
      "cell_type": "code",
      "metadata": {
        "id": "nVHnTJaavLQ4"
      },
      "source": [
        "%%read_sql\n",
        "SELECT Concentration,count(*) FROM Concentration\n",
        "WHERE Concentration is not null\n",
        "GROUP BY Concentration\n",
        "ORDER BY count(*) desc;"
      ],
      "execution_count": null,
      "outputs": []
    },
    {
      "cell_type": "markdown",
      "metadata": {
        "id": "4jf7o3PfvLQ5"
      },
      "source": [
        "### JOINS"
      ]
    },
    {
      "cell_type": "code",
      "metadata": {
        "id": "OZIBtROgvLQ5"
      },
      "source": [
        "%%read_sql\n",
        "USE imdb"
      ],
      "execution_count": null,
      "outputs": []
    },
    {
      "cell_type": "code",
      "metadata": {
        "id": "DejwKkQ1vLQ5"
      },
      "source": [
        "%%read_sql\n",
        "# List all the movies from year 2000\n",
        "SELECT *\n",
        "FROM movies M\n",
        "WHERE M.year = 2000;"
      ],
      "execution_count": null,
      "outputs": []
    },
    {
      "cell_type": "markdown",
      "metadata": {
        "id": "dblLDIeyvLQ5"
      },
      "source": [
        "#### List all the movies from year 2000 and their genres"
      ]
    },
    {
      "cell_type": "code",
      "metadata": {
        "id": "6CJ80f0uvLQ6"
      },
      "source": [
        "%%read_sql\n",
        "SELECT *\n",
        "FROM movies M INNER JOIN movies_genres MG ON M.id=MG.movie_id\n",
        "WHERE M.year = 2000;"
      ],
      "execution_count": null,
      "outputs": []
    },
    {
      "cell_type": "markdown",
      "metadata": {
        "id": "4RkPAYrBvLQ7"
      },
      "source": [
        "#### List all the Drama movies from year 2000"
      ]
    },
    {
      "cell_type": "code",
      "metadata": {
        "id": "zrJ-z4F8vLQ7"
      },
      "source": [
        "%%read_sql\n",
        "\n",
        "SELECT *\n",
        "FROM movies M INNER JOIN movies_genres MG ON M.id=MG.movie_id\n",
        "WHERE M.year = 2000 AND MG.genre = 'Drama';"
      ],
      "execution_count": null,
      "outputs": []
    },
    {
      "cell_type": "markdown",
      "metadata": {
        "id": "PJRWbMHTvLQ7"
      },
      "source": [
        "#### List all the movies from year 2000 and their average rating broken down by genre"
      ]
    },
    {
      "cell_type": "code",
      "metadata": {
        "id": "yxUTOysdvLQ7"
      },
      "source": [
        "%%read_sql\n",
        "SELECT AVG(M.rank), MG.genre\n",
        "FROM movies M INNER JOIN movies_genres MG ON M.id=MG.movie_id\n",
        "WHERE M.year = 2000\n",
        "GROUP BY MG.genre;"
      ],
      "execution_count": null,
      "outputs": []
    },
    {
      "cell_type": "code",
      "metadata": {
        "id": "nBu6HsSnvLQ7"
      },
      "source": [
        "%%read_sql\n",
        "# List the average ratings for the movies broken down by genre\n",
        "SELECT AVG(M.rank) AS avg_rating, MG.genre\n",
        "FROM movies M INNER JOIN movies_genres MG ON M.id=MG.movie_id\n",
        "GROUP BY MG.genre\n",
        "ORDER BY avg_rating DESC"
      ],
      "execution_count": null,
      "outputs": []
    },
    {
      "cell_type": "markdown",
      "metadata": {
        "id": "BcqZ5tDatHom"
      },
      "source": [
        "### What does this cell do?"
      ]
    },
    {
      "cell_type": "code",
      "metadata": {
        "id": "B2DGGEuvvLQ9"
      },
      "source": [
        "%%read_sql\n",
        "SELECT distinct a.first_name, a.last_name \n",
        "FROM actors a INNER JOIN roles r ON a.id = r.actor_id\n",
        "    INNER JOIN movies_directors md ON r.movie_id = md.movie_id\n",
        "    INNER JOIN directors d ON d.id = md.director_id\n",
        "WHERE d.first_name = 'Steven' and d.last_name='Spielberg'; "
      ],
      "execution_count": null,
      "outputs": []
    },
    {
      "cell_type": "markdown",
      "metadata": {
        "id": "G4Z2T9fxthe0"
      },
      "source": [
        "#and this one?"
      ]
    },
    {
      "cell_type": "code",
      "metadata": {
        "id": "2quMKT5DvLQ9"
      },
      "source": [
        "%%read_sql\n",
        "SELECT avg(rank) \n",
        "FROM movies m \n",
        "    INNER JOIN movies_directors md ON m.id = md.movie_id\n",
        "    INNER JOIN directors d ON d.id = md.director_id\n",
        "WHERE d.first_name = 'Steven' and d.last_name='Spielberg'; \n"
      ],
      "execution_count": null,
      "outputs": []
    },
    {
      "cell_type": "markdown",
      "metadata": {
        "id": "DI5sB9YCvLQ9"
      },
      "source": [
        "#### List the movies of Brad Pitt - exclude those that he plays himself"
      ]
    },
    {
      "cell_type": "code",
      "metadata": {
        "id": "Yn5Z5BZZvLQ9"
      },
      "source": [
        "%%read_sql\n",
        "SELECT m.name \n",
        "FROM movies m \n",
        "    INNER JOIN roles r on m.id = r.movie_id \n",
        "    INNER JOIN actors a on r.actor_id = a.id\n",
        "WHERE r.role not like '%%Himself%%' and a.first_name = 'Brad' and a.last_name = 'Pitt' "
      ],
      "execution_count": null,
      "outputs": []
    },
    {
      "cell_type": "markdown",
      "metadata": {
        "id": "iOZUpI4nvLQ-"
      },
      "source": [
        "#### Average rank of Brad Pitt's movies"
      ]
    },
    {
      "cell_type": "code",
      "metadata": {
        "id": "yWc0TiP3vLQ-"
      },
      "source": [
        "%%read_sql\n",
        "SELECT avg(rank) \n",
        "FROM movies m \n",
        "    INNER JOIN roles r on m.id = r.movie_id \n",
        "    INNER JOIN actors a on r.actor_id = a.id\n",
        "WHERE r.role not like '%%Himself%%' and a.first_name = 'Brad' and a.last_name = 'Pitt' \n",
        "\n"
      ],
      "execution_count": null,
      "outputs": []
    },
    {
      "cell_type": "markdown",
      "metadata": {
        "id": "fd___NIyvLQ-"
      },
      "source": [
        "#### List the genre of the movies where Sean Connery appears, and rank them in descending order by count"
      ]
    },
    {
      "cell_type": "code",
      "metadata": {
        "id": "rVP4IDm7vLQ_"
      },
      "source": [
        "%%read_sql\n",
        "SELECT mg.genre, count(*) \n",
        "FROM movies_genres mg \n",
        "    INNER JOIN movies m ON m.id =mg.movie_id\n",
        "    INNER JOIN roles r ON m.id = r.movie_id \n",
        "    INNER JOIN actors a ON r.actor_id = a.id\n",
        "WHERE r.role not like '%%Himself%%' and a.first_name = 'Sean' and a.last_name = 'Connery'\n",
        "GROUP BY genre\n",
        "ORDER BY count(*) desc\n",
        "\n"
      ],
      "execution_count": null,
      "outputs": []
    },
    {
      "cell_type": "markdown",
      "metadata": {
        "id": "suqUIAAovLQ_"
      },
      "source": [
        "#### Compute the average rank for the movies of each actor and rank the actors in descending order based on that rank. List only actors with at least 20 rated movies."
      ]
    },
    {
      "cell_type": "code",
      "metadata": {
        "id": "d55MWlTgvLQ_"
      },
      "source": [
        "%%read_sql\n",
        "SELECT a.*, avg(rank) as avg_rating, count(m.id) as num_movies, count(m.rank) as rated_movies\n",
        "FROM movies m \n",
        "    INNER JOIN roles r on m.id = r.movie_id \n",
        "    INNER JOIN actors a ON a.id = r.actor_id\n",
        "GROUP BY a.id\n",
        "HAVING count(m.rank)>=20\n",
        "ORDER BY avg(rank) desc"
      ],
      "execution_count": null,
      "outputs": []
    },
    {
      "cell_type": "markdown",
      "metadata": {
        "id": "iNfYjX9FvLQ_"
      },
      "source": [
        "### Subqueries"
      ]
    },
    {
      "cell_type": "markdown",
      "metadata": {
        "id": "b2D-vGmMvLQ_"
      },
      "source": [
        "#### List all the actors that have not worked with Francis Ford Coppola. "
      ]
    },
    {
      "cell_type": "code",
      "metadata": {
        "id": "ARGsla0fvLQ_"
      },
      "source": [
        "%%read_sql \n",
        "SELECT * \n",
        "FROM actors \n",
        "WHERE id NOT IN (\n",
        "    SELECT DISTINCT R.actor_id\n",
        "    FROM roles R \n",
        "        INNER JOIN movies_directors MD ON R.movie_id=MD.movie_id\n",
        "        INNER JOIN directors D ON MD.director_id=D.id \n",
        "    WHERE D.first_name = 'Francis Ford' and D.last_name = 'Coppola'\n",
        ")"
      ],
      "execution_count": null,
      "outputs": []
    },
    {
      "cell_type": "markdown",
      "metadata": {
        "id": "RUZANUGbvLQ_"
      },
      "source": [
        "#### Find the average number of movies directed by each director "
      ]
    },
    {
      "cell_type": "code",
      "metadata": {
        "id": "9YMzcbGRvLRA"
      },
      "source": [
        "%%read_sql\n",
        "SELECT avg(noMovies)\n",
        "FROM \n",
        "    (\n",
        "    SELECT director_id, count(*) as noMovies \n",
        "    FROM movies_directors dm \n",
        "    GROUP BY director_id\n",
        "    ) r;"
      ],
      "execution_count": null,
      "outputs": []
    },
    {
      "cell_type": "markdown",
      "metadata": {
        "id": "ISv7_m5DvLRA"
      },
      "source": [
        "#### Report how many directors have directed one movie, two movies, three movies, etc. (in other words, create a the distribution for the variable \"number of movies directed by a given director\")"
      ]
    },
    {
      "cell_type": "code",
      "metadata": {
        "id": "C8xP0yNDvLRA"
      },
      "source": [
        "%%read_sql\n",
        "SELECT NumMovies, COUNT(director_id) as NumDirectors\n",
        "FROM \n",
        "    (\n",
        "    SELECT director_id, count(*) as NumMovies \n",
        "    FROM movies_directors dm \n",
        "    GROUP BY director_id\n",
        "    ) r\n",
        "GROUP BY NumMovies\n",
        "ORDER BY NumMovies;"
      ],
      "execution_count": null,
      "outputs": []
    },
    {
      "cell_type": "markdown",
      "metadata": {
        "id": "o4IyCKP1vLRA"
      },
      "source": [
        "#### Find the average number of movies played by each actor"
      ]
    },
    {
      "cell_type": "code",
      "metadata": {
        "id": "kb-Ulm3FvLRA"
      },
      "source": [
        "%%read_sql\n",
        "SELECT avg(noMovies) \n",
        "FROM\n",
        "(\n",
        "SELECT actor_id, count(distinct movie_id) as noMovies \n",
        "FROM roles \n",
        "GROUP BY actor_id\n",
        ") r;"
      ],
      "execution_count": null,
      "outputs": []
    },
    {
      "cell_type": "code",
      "metadata": {
        "id": "S7p0L8hfvLRA"
      },
      "source": [
        "%%read_sql\n",
        "SELECT NumMovies, COUNT(actor_id) as NumActors\n",
        "FROM \n",
        "    (\n",
        "    SELECT actor_id, count(*) as NumMovies \n",
        "    FROM roles r \n",
        "    GROUP BY actor_id\n",
        "    ) r\n",
        "GROUP BY NumMovies\n",
        "ORDER BY NumMovies;"
      ],
      "execution_count": null,
      "outputs": []
    },
    {
      "cell_type": "markdown",
      "metadata": {
        "id": "VJLsLnpOvLRA"
      },
      "source": [
        "#### Find the maximum number of genres associated with a movie"
      ]
    },
    {
      "cell_type": "code",
      "metadata": {
        "id": "HENfZ9ZwvLRA"
      },
      "source": [
        "%%read_sql\n",
        "SELECT max(noGenres) FROM (\n",
        "SELECT count(*) as noGenres\n",
        "FROM movies_genres\n",
        "GROUP BY movie_id) r;"
      ],
      "execution_count": null,
      "outputs": []
    },
    {
      "cell_type": "code",
      "metadata": {
        "id": "rC55WJ3dvLRB"
      },
      "source": [
        "%%read_sql\n",
        "SELECT max(noMovies)FROM (\n",
        "SELECT count(*) as noMovies, director_id as director\n",
        "FROM movies_directors\n",
        "GROUP BY director_id\n",
        ") r;"
      ],
      "execution_count": null,
      "outputs": []
    },
    {
      "cell_type": "code",
      "metadata": {
        "id": "eWioafU_vLRB"
      },
      "source": [
        "%%read_sql\n",
        "SELECT count(*) as noMovies, director_id as director\n",
        "FROM movies_directors\n",
        "GROUP BY director_id\n",
        ";"
      ],
      "execution_count": null,
      "outputs": []
    },
    {
      "cell_type": "markdown",
      "metadata": {
        "id": "qtZp9Y9ivLRB"
      },
      "source": [
        "#### Compare the favorite books of liberal and conservative students"
      ]
    },
    {
      "cell_type": "code",
      "metadata": {
        "id": "93j0qr8uvLRB"
      },
      "source": [
        "%%read_sql\n",
        "\n",
        "USE facebook;\n",
        "\n",
        "SELECT BC.Book, \n",
        "    BC.C AS cons,\n",
        "    BL.L AS libs,\n",
        "    BC.C/C.NC AS perc_cons, \n",
        "    BL.L/L.NL AS perc_libs,\n",
        "    (BC.C/C.NC)/(BL.L/L.NL) AS lift_cons,\n",
        "    (BL.L/L.NL)/(BC.C/C.NC) AS lift_libs\n",
        "FROM \n",
        "    (\n",
        "    SELECT B.Book, COUNT(P.ProfileID) AS C\n",
        "    FROM Profiles AS P \n",
        "        INNER JOIN FavoriteBooks AS B ON P.ProfileID = B.ProfileId\n",
        "    WHERE PoliticalViews = 'Conservative'\n",
        "    GROUP BY B.Book\n",
        "    ) BC \n",
        "JOIN \n",
        "    (\n",
        "    SELECT B.Book, COUNT(P.ProfileID) AS L\n",
        "    FROM Profiles AS P \n",
        "        INNER JOIN FavoriteBooks AS B ON P.ProfileID = B.ProfileId\n",
        "    WHERE PoliticalViews = 'Liberal'\n",
        "    GROUP BY B.Book\n",
        "    ) BL ON BC.Book = BL.Book \n",
        "JOIN\n",
        "    (\n",
        "    SELECT COUNT(*) AS NC \n",
        "    FROM Profiles \n",
        "    WHERE PoliticalViews = 'Conservative'\n",
        "    ) C \n",
        "JOIN \n",
        "    (\n",
        "    SELECT COUNT(*) AS NL\n",
        "    FROM Profiles \n",
        "    WHERE PoliticalViews = 'Liberal'\n",
        "    ) L\n",
        "WHERE BC.C > 5 AND BL.L > 5\n",
        "ORDER BY lift_cons DESC\n",
        "\n"
      ],
      "execution_count": null,
      "outputs": []
    },
    {
      "cell_type": "code",
      "metadata": {
        "id": "9IHjW4JIvLRC"
      },
      "source": [
        ""
      ],
      "execution_count": null,
      "outputs": []
    },
    {
      "cell_type": "code",
      "metadata": {
        "id": "hszQm_eDvLRC"
      },
      "source": [
        ""
      ],
      "execution_count": null,
      "outputs": []
    },
    {
      "cell_type": "code",
      "metadata": {
        "id": "_5GSSXpGvLRC"
      },
      "source": [
        ""
      ],
      "execution_count": null,
      "outputs": []
    },
    {
      "cell_type": "code",
      "metadata": {
        "id": "HPdWQo7NvLRC"
      },
      "source": [
        ""
      ],
      "execution_count": null,
      "outputs": []
    }
  ]
}