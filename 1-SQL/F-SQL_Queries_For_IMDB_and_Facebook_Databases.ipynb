{
  "nbformat": 4,
  "nbformat_minor": 0,
  "metadata": {
    "kernelspec": {
      "display_name": "Python 3",
      "language": "python",
      "name": "python3"
    },
    "language_info": {
      "codemirror_mode": {
        "name": "ipython",
        "version": 3
      },
      "file_extension": ".py",
      "mimetype": "text/x-python",
      "name": "python",
      "nbconvert_exporter": "python",
      "pygments_lexer": "ipython3",
      "version": "3.6.8"
    },
    "colab": {
      "name": "F-SQL_Queries_For_IMDB_and_Facebook_Databases-checkpoint.ipynb",
      "provenance": []
    }
  },
  "cells": [
    {
      "cell_type": "markdown",
      "metadata": {
        "id": "kZLDbS9QvLQZ"
      },
      "source": [
        "## SQL Queries\n",
        "\n",
        "To be able to execute SQL queries from within a Jupyter notebook, we will use the `sql_magic` extension (https://github.com/pivotal/sql_magic)\n",
        "\n",
        "    sudo pip3 install -U sql_magic"
      ]
    },
    {
      "cell_type": "code",
      "metadata": {
        "colab": {
          "base_uri": "https://localhost:8080/"
        },
        "id": "SuisppUrvLQa",
        "outputId": "555d687e-289f-4662-ee12-f4e2ff37d067"
      },
      "source": [
        "pip install -U sql_magic\n"
      ],
      "execution_count": 5,
      "outputs": [
        {
          "output_type": "stream",
          "text": [
            "Collecting sql_magic\n",
            "  Downloading https://files.pythonhosted.org/packages/a6/a7/ccdc67278de3f34db5d484f9b6c59ad9a536beda4a5acad5ecb3b0932246/sql_magic-0.0.4-py3-none-any.whl\n",
            "Requirement already satisfied, skipping upgrade: traitlets in /usr/local/lib/python3.7/dist-packages (from sql_magic) (5.0.5)\n",
            "Collecting findspark\n",
            "  Downloading https://files.pythonhosted.org/packages/fc/2d/2e39f9a023479ea798eed4351cd66f163ce61e00c717e03c37109f00c0f2/findspark-1.4.2-py2.py3-none-any.whl\n",
            "Requirement already satisfied, skipping upgrade: pandas in /usr/local/lib/python3.7/dist-packages (from sql_magic) (1.1.5)\n",
            "Requirement already satisfied, skipping upgrade: sqlparse in /usr/local/lib/python3.7/dist-packages (from sql_magic) (0.4.1)\n",
            "Requirement already satisfied, skipping upgrade: ipython in /usr/local/lib/python3.7/dist-packages (from sql_magic) (5.5.0)\n",
            "Requirement already satisfied, skipping upgrade: jupyter in /usr/local/lib/python3.7/dist-packages (from sql_magic) (1.0.0)\n",
            "Requirement already satisfied, skipping upgrade: ipython-genutils in /usr/local/lib/python3.7/dist-packages (from traitlets->sql_magic) (0.2.0)\n",
            "Requirement already satisfied, skipping upgrade: python-dateutil>=2.7.3 in /usr/local/lib/python3.7/dist-packages (from pandas->sql_magic) (2.8.1)\n",
            "Requirement already satisfied, skipping upgrade: numpy>=1.15.4 in /usr/local/lib/python3.7/dist-packages (from pandas->sql_magic) (1.19.5)\n",
            "Requirement already satisfied, skipping upgrade: pytz>=2017.2 in /usr/local/lib/python3.7/dist-packages (from pandas->sql_magic) (2018.9)\n",
            "Requirement already satisfied, skipping upgrade: prompt-toolkit<2.0.0,>=1.0.4 in /usr/local/lib/python3.7/dist-packages (from ipython->sql_magic) (1.0.18)\n",
            "Requirement already satisfied, skipping upgrade: pickleshare in /usr/local/lib/python3.7/dist-packages (from ipython->sql_magic) (0.7.5)\n",
            "Requirement already satisfied, skipping upgrade: decorator in /usr/local/lib/python3.7/dist-packages (from ipython->sql_magic) (4.4.2)\n",
            "Requirement already satisfied, skipping upgrade: simplegeneric>0.8 in /usr/local/lib/python3.7/dist-packages (from ipython->sql_magic) (0.8.1)\n",
            "Requirement already satisfied, skipping upgrade: setuptools>=18.5 in /usr/local/lib/python3.7/dist-packages (from ipython->sql_magic) (53.0.0)\n",
            "Requirement already satisfied, skipping upgrade: pygments in /usr/local/lib/python3.7/dist-packages (from ipython->sql_magic) (2.6.1)\n",
            "Requirement already satisfied, skipping upgrade: pexpect; sys_platform != \"win32\" in /usr/local/lib/python3.7/dist-packages (from ipython->sql_magic) (4.8.0)\n",
            "Requirement already satisfied, skipping upgrade: jupyter-console in /usr/local/lib/python3.7/dist-packages (from jupyter->sql_magic) (5.2.0)\n",
            "Requirement already satisfied, skipping upgrade: ipywidgets in /usr/local/lib/python3.7/dist-packages (from jupyter->sql_magic) (7.6.3)\n",
            "Requirement already satisfied, skipping upgrade: qtconsole in /usr/local/lib/python3.7/dist-packages (from jupyter->sql_magic) (5.0.2)\n",
            "Requirement already satisfied, skipping upgrade: ipykernel in /usr/local/lib/python3.7/dist-packages (from jupyter->sql_magic) (4.10.1)\n",
            "Requirement already satisfied, skipping upgrade: notebook in /usr/local/lib/python3.7/dist-packages (from jupyter->sql_magic) (5.3.1)\n",
            "Requirement already satisfied, skipping upgrade: nbconvert in /usr/local/lib/python3.7/dist-packages (from jupyter->sql_magic) (5.6.1)\n",
            "Requirement already satisfied, skipping upgrade: six>=1.5 in /usr/local/lib/python3.7/dist-packages (from python-dateutil>=2.7.3->pandas->sql_magic) (1.15.0)\n",
            "Requirement already satisfied, skipping upgrade: wcwidth in /usr/local/lib/python3.7/dist-packages (from prompt-toolkit<2.0.0,>=1.0.4->ipython->sql_magic) (0.2.5)\n",
            "Requirement already satisfied, skipping upgrade: ptyprocess>=0.5 in /usr/local/lib/python3.7/dist-packages (from pexpect; sys_platform != \"win32\"->ipython->sql_magic) (0.7.0)\n",
            "Requirement already satisfied, skipping upgrade: jupyter-client in /usr/local/lib/python3.7/dist-packages (from jupyter-console->jupyter->sql_magic) (5.3.5)\n",
            "Requirement already satisfied, skipping upgrade: nbformat>=4.2.0 in /usr/local/lib/python3.7/dist-packages (from ipywidgets->jupyter->sql_magic) (5.1.2)\n",
            "Requirement already satisfied, skipping upgrade: jupyterlab-widgets>=1.0.0; python_version >= \"3.6\" in /usr/local/lib/python3.7/dist-packages (from ipywidgets->jupyter->sql_magic) (1.0.0)\n",
            "Requirement already satisfied, skipping upgrade: widgetsnbextension~=3.5.0 in /usr/local/lib/python3.7/dist-packages (from ipywidgets->jupyter->sql_magic) (3.5.1)\n",
            "Requirement already satisfied, skipping upgrade: qtpy in /usr/local/lib/python3.7/dist-packages (from qtconsole->jupyter->sql_magic) (1.9.0)\n",
            "Requirement already satisfied, skipping upgrade: pyzmq>=17.1 in /usr/local/lib/python3.7/dist-packages (from qtconsole->jupyter->sql_magic) (22.0.3)\n",
            "Requirement already satisfied, skipping upgrade: jupyter-core in /usr/local/lib/python3.7/dist-packages (from qtconsole->jupyter->sql_magic) (4.7.1)\n",
            "Requirement already satisfied, skipping upgrade: tornado>=4.0 in /usr/local/lib/python3.7/dist-packages (from ipykernel->jupyter->sql_magic) (5.1.1)\n",
            "Requirement already satisfied, skipping upgrade: Send2Trash in /usr/local/lib/python3.7/dist-packages (from notebook->jupyter->sql_magic) (1.5.0)\n",
            "Requirement already satisfied, skipping upgrade: terminado>=0.8.1 in /usr/local/lib/python3.7/dist-packages (from notebook->jupyter->sql_magic) (0.9.2)\n",
            "Requirement already satisfied, skipping upgrade: jinja2 in /usr/local/lib/python3.7/dist-packages (from notebook->jupyter->sql_magic) (2.11.3)\n",
            "Requirement already satisfied, skipping upgrade: mistune<2,>=0.8.1 in /usr/local/lib/python3.7/dist-packages (from nbconvert->jupyter->sql_magic) (0.8.4)\n",
            "Requirement already satisfied, skipping upgrade: pandocfilters>=1.4.1 in /usr/local/lib/python3.7/dist-packages (from nbconvert->jupyter->sql_magic) (1.4.3)\n",
            "Requirement already satisfied, skipping upgrade: bleach in /usr/local/lib/python3.7/dist-packages (from nbconvert->jupyter->sql_magic) (3.3.0)\n",
            "Requirement already satisfied, skipping upgrade: entrypoints>=0.2.2 in /usr/local/lib/python3.7/dist-packages (from nbconvert->jupyter->sql_magic) (0.3)\n",
            "Requirement already satisfied, skipping upgrade: testpath in /usr/local/lib/python3.7/dist-packages (from nbconvert->jupyter->sql_magic) (0.4.4)\n",
            "Requirement already satisfied, skipping upgrade: defusedxml in /usr/local/lib/python3.7/dist-packages (from nbconvert->jupyter->sql_magic) (0.6.0)\n",
            "Requirement already satisfied, skipping upgrade: jsonschema!=2.5.0,>=2.4 in /usr/local/lib/python3.7/dist-packages (from nbformat>=4.2.0->ipywidgets->jupyter->sql_magic) (2.6.0)\n",
            "Requirement already satisfied, skipping upgrade: MarkupSafe>=0.23 in /usr/local/lib/python3.7/dist-packages (from jinja2->notebook->jupyter->sql_magic) (1.1.1)\n",
            "Requirement already satisfied, skipping upgrade: packaging in /usr/local/lib/python3.7/dist-packages (from bleach->nbconvert->jupyter->sql_magic) (20.9)\n",
            "Requirement already satisfied, skipping upgrade: webencodings in /usr/local/lib/python3.7/dist-packages (from bleach->nbconvert->jupyter->sql_magic) (0.5.1)\n",
            "Requirement already satisfied, skipping upgrade: pyparsing>=2.0.2 in /usr/local/lib/python3.7/dist-packages (from packaging->bleach->nbconvert->jupyter->sql_magic) (2.4.7)\n",
            "Installing collected packages: findspark, sql-magic\n",
            "Successfully installed findspark-1.4.2 sql-magic-0.0.4\n"
          ],
          "name": "stdout"
        }
      ]
    },
    {
      "cell_type": "code",
      "metadata": {
        "id": "TAmpqb3TxEhp",
        "outputId": "57972ea2-4622-4288-9589-60cc7716814d",
        "colab": {
          "base_uri": "https://localhost:8080/"
        }
      },
      "source": [
        "pip install mysqlclient"
      ],
      "execution_count": 6,
      "outputs": [
        {
          "output_type": "stream",
          "text": [
            "Requirement already satisfied: mysqlclient in /usr/local/lib/python3.7/dist-packages (2.0.3)\n"
          ],
          "name": "stdout"
        }
      ]
    },
    {
      "cell_type": "code",
      "metadata": {
        "id": "P6CnZKnovLQc"
      },
      "source": [
        "from sqlalchemy import create_engine"
      ],
      "execution_count": 7,
      "outputs": []
    },
    {
      "cell_type": "code",
      "metadata": {
        "id": "d7HdrmBivLQd"
      },
      "source": [
        "conn_string = 'mysql://{user}:{password}@{host}/?charset=utf8'.format(\n",
        "    host = 'db.ipeirotis.org', \n",
        "    user = 'student',\n",
        "    password = 'dwdstudent2015',\n",
        "    encoding = 'utf-8')\n",
        "engine = create_engine(conn_string)"
      ],
      "execution_count": 8,
      "outputs": []
    },
    {
      "cell_type": "code",
      "metadata": {
        "colab": {
          "base_uri": "https://localhost:8080/",
          "height": 74
        },
        "id": "A7ZHv-iivLQd",
        "outputId": "b6fdbe36-b6c0-4911-d3e4-c615cf3ca028"
      },
      "source": [
        "%reload_ext sql_magic"
      ],
      "execution_count": 9,
      "outputs": [
        {
          "output_type": "stream",
          "text": [
            "/usr/local/lib/python3.7/dist-packages/psycopg2/__init__.py:144: UserWarning: The psycopg2 wheel package will be renamed from release 2.8; in order to keep installing from binary please use \"pip install psycopg2-binary\" instead. For details see: <http://initd.org/psycopg/docs/install.html#binary-install-from-pypi>.\n",
            "  \"\"\")\n"
          ],
          "name": "stderr"
        },
        {
          "output_type": "display_data",
          "data": {
            "application/javascript": [
              "\n",
              "    require(['notebook/js/codecell'], function(codecell) {\n",
              "      // https://github.com/jupyter/notebook/issues/2453\n",
              "      codecell.CodeCell.options_default.highlight_modes['magic_text/x-sql'] = {'reg':[/^%read_sql/, /.*=\\s*%read_sql/,\n",
              "                                                                                      /^%%read_sql/]};\n",
              "      Jupyter.notebook.events.one('kernel_ready.Kernel', function(){\n",
              "          console.log('BBBBB');\n",
              "          Jupyter.notebook.get_cells().map(function(cell){\n",
              "              if (cell.cell_type == 'code'){ cell.auto_highlight(); } }) ;\n",
              "      });\n",
              "    });\n",
              "    "
            ]
          },
          "metadata": {
            "tags": []
          }
        }
      ]
    },
    {
      "cell_type": "code",
      "metadata": {
        "id": "Jh3OX2PrvLQe"
      },
      "source": [
        "%config SQL.conn_name = 'engine'"
      ],
      "execution_count": 10,
      "outputs": []
    },
    {
      "cell_type": "code",
      "metadata": {
        "colab": {
          "base_uri": "https://localhost:8080/",
          "height": 381
        },
        "id": "fexQ5YCgvLQe",
        "outputId": "2ee6b523-5d4f-4f48-8913-725475f649ea"
      },
      "source": [
        "%%read_sql\n",
        "show databases"
      ],
      "execution_count": 11,
      "outputs": [
        {
          "output_type": "stream",
          "text": [
            "Query started at 11:56:18 PM UTC; Query executed in 0.03 m"
          ],
          "name": "stdout"
        },
        {
          "output_type": "execute_result",
          "data": {
            "text/html": [
              "<div>\n",
              "<style scoped>\n",
              "    .dataframe tbody tr th:only-of-type {\n",
              "        vertical-align: middle;\n",
              "    }\n",
              "\n",
              "    .dataframe tbody tr th {\n",
              "        vertical-align: top;\n",
              "    }\n",
              "\n",
              "    .dataframe thead th {\n",
              "        text-align: right;\n",
              "    }\n",
              "</style>\n",
              "<table border=\"1\" class=\"dataframe\">\n",
              "  <thead>\n",
              "    <tr style=\"text-align: right;\">\n",
              "      <th></th>\n",
              "      <th>Database</th>\n",
              "    </tr>\n",
              "  </thead>\n",
              "  <tbody>\n",
              "    <tr>\n",
              "      <th>0</th>\n",
              "      <td>information_schema</td>\n",
              "    </tr>\n",
              "    <tr>\n",
              "      <th>1</th>\n",
              "      <td>bike_sharing</td>\n",
              "    </tr>\n",
              "    <tr>\n",
              "      <th>2</th>\n",
              "      <td>citibike</td>\n",
              "    </tr>\n",
              "    <tr>\n",
              "      <th>3</th>\n",
              "      <td>citibike_fall2017</td>\n",
              "    </tr>\n",
              "    <tr>\n",
              "      <th>4</th>\n",
              "      <td>facebook</td>\n",
              "    </tr>\n",
              "    <tr>\n",
              "      <th>5</th>\n",
              "      <td>imdb</td>\n",
              "    </tr>\n",
              "    <tr>\n",
              "      <th>6</th>\n",
              "      <td>music</td>\n",
              "    </tr>\n",
              "    <tr>\n",
              "      <th>7</th>\n",
              "      <td>nypd_complaints</td>\n",
              "    </tr>\n",
              "    <tr>\n",
              "      <th>8</th>\n",
              "      <td>public</td>\n",
              "    </tr>\n",
              "    <tr>\n",
              "      <th>9</th>\n",
              "      <td>restaurants</td>\n",
              "    </tr>\n",
              "  </tbody>\n",
              "</table>\n",
              "</div>"
            ],
            "text/plain": [
              "             Database\n",
              "0  information_schema\n",
              "1        bike_sharing\n",
              "2            citibike\n",
              "3   citibike_fall2017\n",
              "4            facebook\n",
              "5                imdb\n",
              "6               music\n",
              "7     nypd_complaints\n",
              "8              public\n",
              "9         restaurants"
            ]
          },
          "metadata": {
            "tags": []
          },
          "execution_count": 11
        }
      ]
    },
    {
      "cell_type": "code",
      "metadata": {
        "colab": {
          "base_uri": "https://localhost:8080/"
        },
        "id": "N5bZvGOuvLQf",
        "outputId": "ae87d659-946b-493f-e178-7e35bd87716d"
      },
      "source": [
        "%%read_sql\n",
        "use imdb"
      ],
      "execution_count": 12,
      "outputs": [
        {
          "output_type": "stream",
          "text": [
            "Query started at 11:56:26 PM UTC; Query executed in 0.01 m"
          ],
          "name": "stdout"
        },
        {
          "output_type": "execute_result",
          "data": {
            "text/plain": [
              "<sql_magic.exceptions.EmptyResult at 0x7f5022ddd9d0>"
            ]
          },
          "metadata": {
            "tags": []
          },
          "execution_count": 12
        }
      ]
    },
    {
      "cell_type": "code",
      "metadata": {
        "colab": {
          "base_uri": "https://localhost:8080/",
          "height": 287
        },
        "id": "MAWFXC-nvLQg",
        "outputId": "e6c8ce75-ffb4-4f43-a880-9ff03fd446ae"
      },
      "source": [
        "%%read_sql\n",
        "show tables"
      ],
      "execution_count": 13,
      "outputs": [
        {
          "output_type": "stream",
          "text": [
            "Query started at 11:56:29 PM UTC; Query executed in 0.01 m"
          ],
          "name": "stdout"
        },
        {
          "output_type": "execute_result",
          "data": {
            "text/html": [
              "<div>\n",
              "<style scoped>\n",
              "    .dataframe tbody tr th:only-of-type {\n",
              "        vertical-align: middle;\n",
              "    }\n",
              "\n",
              "    .dataframe tbody tr th {\n",
              "        vertical-align: top;\n",
              "    }\n",
              "\n",
              "    .dataframe thead th {\n",
              "        text-align: right;\n",
              "    }\n",
              "</style>\n",
              "<table border=\"1\" class=\"dataframe\">\n",
              "  <thead>\n",
              "    <tr style=\"text-align: right;\">\n",
              "      <th></th>\n",
              "      <th>Tables_in_imdb</th>\n",
              "    </tr>\n",
              "  </thead>\n",
              "  <tbody>\n",
              "    <tr>\n",
              "      <th>0</th>\n",
              "      <td>actors</td>\n",
              "    </tr>\n",
              "    <tr>\n",
              "      <th>1</th>\n",
              "      <td>directors</td>\n",
              "    </tr>\n",
              "    <tr>\n",
              "      <th>2</th>\n",
              "      <td>directors_genres</td>\n",
              "    </tr>\n",
              "    <tr>\n",
              "      <th>3</th>\n",
              "      <td>movies</td>\n",
              "    </tr>\n",
              "    <tr>\n",
              "      <th>4</th>\n",
              "      <td>movies_directors</td>\n",
              "    </tr>\n",
              "    <tr>\n",
              "      <th>5</th>\n",
              "      <td>movies_genres</td>\n",
              "    </tr>\n",
              "    <tr>\n",
              "      <th>6</th>\n",
              "      <td>roles</td>\n",
              "    </tr>\n",
              "  </tbody>\n",
              "</table>\n",
              "</div>"
            ],
            "text/plain": [
              "     Tables_in_imdb\n",
              "0            actors\n",
              "1         directors\n",
              "2  directors_genres\n",
              "3            movies\n",
              "4  movies_directors\n",
              "5     movies_genres\n",
              "6             roles"
            ]
          },
          "metadata": {
            "tags": []
          },
          "execution_count": 13
        }
      ]
    },
    {
      "cell_type": "code",
      "metadata": {
        "colab": {
          "base_uri": "https://localhost:8080/",
          "height": 193
        },
        "id": "oNaZQkcwvLQg",
        "outputId": "bb0e8ec8-aa2a-45d1-c127-f35fef4294dc"
      },
      "source": [
        "%%read_sql\n",
        "describe actors"
      ],
      "execution_count": 14,
      "outputs": [
        {
          "output_type": "stream",
          "text": [
            "Query started at 11:56:32 PM UTC; Query executed in 0.01 m"
          ],
          "name": "stdout"
        },
        {
          "output_type": "execute_result",
          "data": {
            "text/html": [
              "<div>\n",
              "<style scoped>\n",
              "    .dataframe tbody tr th:only-of-type {\n",
              "        vertical-align: middle;\n",
              "    }\n",
              "\n",
              "    .dataframe tbody tr th {\n",
              "        vertical-align: top;\n",
              "    }\n",
              "\n",
              "    .dataframe thead th {\n",
              "        text-align: right;\n",
              "    }\n",
              "</style>\n",
              "<table border=\"1\" class=\"dataframe\">\n",
              "  <thead>\n",
              "    <tr style=\"text-align: right;\">\n",
              "      <th></th>\n",
              "      <th>Field</th>\n",
              "      <th>Type</th>\n",
              "      <th>Null</th>\n",
              "      <th>Key</th>\n",
              "      <th>Default</th>\n",
              "      <th>Extra</th>\n",
              "    </tr>\n",
              "  </thead>\n",
              "  <tbody>\n",
              "    <tr>\n",
              "      <th>0</th>\n",
              "      <td>id</td>\n",
              "      <td>int(11)</td>\n",
              "      <td>NO</td>\n",
              "      <td>PRI</td>\n",
              "      <td>0</td>\n",
              "      <td></td>\n",
              "    </tr>\n",
              "    <tr>\n",
              "      <th>1</th>\n",
              "      <td>first_name</td>\n",
              "      <td>varchar(100)</td>\n",
              "      <td>YES</td>\n",
              "      <td>MUL</td>\n",
              "      <td>None</td>\n",
              "      <td></td>\n",
              "    </tr>\n",
              "    <tr>\n",
              "      <th>2</th>\n",
              "      <td>last_name</td>\n",
              "      <td>varchar(100)</td>\n",
              "      <td>YES</td>\n",
              "      <td>MUL</td>\n",
              "      <td>None</td>\n",
              "      <td></td>\n",
              "    </tr>\n",
              "    <tr>\n",
              "      <th>3</th>\n",
              "      <td>gender</td>\n",
              "      <td>char(1)</td>\n",
              "      <td>YES</td>\n",
              "      <td></td>\n",
              "      <td>None</td>\n",
              "      <td></td>\n",
              "    </tr>\n",
              "  </tbody>\n",
              "</table>\n",
              "</div>"
            ],
            "text/plain": [
              "        Field          Type Null  Key Default Extra\n",
              "0          id       int(11)   NO  PRI       0      \n",
              "1  first_name  varchar(100)  YES  MUL    None      \n",
              "2   last_name  varchar(100)  YES  MUL    None      \n",
              "3      gender       char(1)  YES         None      "
            ]
          },
          "metadata": {
            "tags": []
          },
          "execution_count": 14
        }
      ]
    },
    {
      "cell_type": "code",
      "metadata": {
        "colab": {
          "base_uri": "https://localhost:8080/",
          "height": 162
        },
        "id": "1p0raqv6vLQh",
        "outputId": "a8ebad12-e324-4f71-930b-2c979ee57c75"
      },
      "source": [
        "%%read_sql\n",
        "describe roles"
      ],
      "execution_count": 15,
      "outputs": [
        {
          "output_type": "stream",
          "text": [
            "Query started at 11:56:34 PM UTC; Query executed in 0.01 m"
          ],
          "name": "stdout"
        },
        {
          "output_type": "execute_result",
          "data": {
            "text/html": [
              "<div>\n",
              "<style scoped>\n",
              "    .dataframe tbody tr th:only-of-type {\n",
              "        vertical-align: middle;\n",
              "    }\n",
              "\n",
              "    .dataframe tbody tr th {\n",
              "        vertical-align: top;\n",
              "    }\n",
              "\n",
              "    .dataframe thead th {\n",
              "        text-align: right;\n",
              "    }\n",
              "</style>\n",
              "<table border=\"1\" class=\"dataframe\">\n",
              "  <thead>\n",
              "    <tr style=\"text-align: right;\">\n",
              "      <th></th>\n",
              "      <th>Field</th>\n",
              "      <th>Type</th>\n",
              "      <th>Null</th>\n",
              "      <th>Key</th>\n",
              "      <th>Default</th>\n",
              "      <th>Extra</th>\n",
              "    </tr>\n",
              "  </thead>\n",
              "  <tbody>\n",
              "    <tr>\n",
              "      <th>0</th>\n",
              "      <td>actor_id</td>\n",
              "      <td>int(11)</td>\n",
              "      <td>YES</td>\n",
              "      <td>MUL</td>\n",
              "      <td>None</td>\n",
              "      <td></td>\n",
              "    </tr>\n",
              "    <tr>\n",
              "      <th>1</th>\n",
              "      <td>movie_id</td>\n",
              "      <td>int(11)</td>\n",
              "      <td>YES</td>\n",
              "      <td>MUL</td>\n",
              "      <td>None</td>\n",
              "      <td></td>\n",
              "    </tr>\n",
              "    <tr>\n",
              "      <th>2</th>\n",
              "      <td>role</td>\n",
              "      <td>varchar(100)</td>\n",
              "      <td>YES</td>\n",
              "      <td>MUL</td>\n",
              "      <td>None</td>\n",
              "      <td></td>\n",
              "    </tr>\n",
              "  </tbody>\n",
              "</table>\n",
              "</div>"
            ],
            "text/plain": [
              "      Field          Type Null  Key Default Extra\n",
              "0  actor_id       int(11)  YES  MUL    None      \n",
              "1  movie_id       int(11)  YES  MUL    None      \n",
              "2      role  varchar(100)  YES  MUL    None      "
            ]
          },
          "metadata": {
            "tags": []
          },
          "execution_count": 15
        }
      ]
    },
    {
      "cell_type": "markdown",
      "metadata": {
        "id": "fBFuNeb4vLQj"
      },
      "source": [
        "### SELECT Queries (IMDB database)"
      ]
    },
    {
      "cell_type": "code",
      "metadata": {
        "id": "BBaXzapqvLQj"
      },
      "source": [
        ""
      ],
      "execution_count": 15,
      "outputs": []
    },
    {
      "cell_type": "code",
      "metadata": {
        "colab": {
          "base_uri": "https://localhost:8080/"
        },
        "id": "YjW2We6zvLQj",
        "outputId": "dda13c4f-1d15-4922-f254-f35e911205d2"
      },
      "source": [
        "%%read_sql\n",
        "USE imdb"
      ],
      "execution_count": 16,
      "outputs": [
        {
          "output_type": "stream",
          "text": [
            "Query started at 11:56:41 PM UTC; Query executed in 0.01 m"
          ],
          "name": "stdout"
        },
        {
          "output_type": "execute_result",
          "data": {
            "text/plain": [
              "<sql_magic.exceptions.EmptyResult at 0x7f5022de3f10>"
            ]
          },
          "metadata": {
            "tags": []
          },
          "execution_count": 16
        }
      ]
    },
    {
      "cell_type": "markdown",
      "metadata": {
        "id": "pwDv_V5ivLQj"
      },
      "source": [
        "#### Find all movie titles with id less than 100."
      ]
    },
    {
      "cell_type": "code",
      "metadata": {
        "scrolled": true,
        "colab": {
          "base_uri": "https://localhost:8080/",
          "height": 442
        },
        "id": "nNWeS71PvLQj",
        "outputId": "5c399483-9c00-4183-a3ee-c56e0ae07cc1"
      },
      "source": [
        "%%read_sql\n",
        "SELECT * \n",
        "FROM movies \n",
        "WHERE id<100"
      ],
      "execution_count": 17,
      "outputs": [
        {
          "output_type": "stream",
          "text": [
            "Query started at 11:56:47 PM UTC; Query executed in 0.01 m"
          ],
          "name": "stdout"
        },
        {
          "output_type": "execute_result",
          "data": {
            "text/html": [
              "<div>\n",
              "<style scoped>\n",
              "    .dataframe tbody tr th:only-of-type {\n",
              "        vertical-align: middle;\n",
              "    }\n",
              "\n",
              "    .dataframe tbody tr th {\n",
              "        vertical-align: top;\n",
              "    }\n",
              "\n",
              "    .dataframe thead th {\n",
              "        text-align: right;\n",
              "    }\n",
              "</style>\n",
              "<table border=\"1\" class=\"dataframe\">\n",
              "  <thead>\n",
              "    <tr style=\"text-align: right;\">\n",
              "      <th></th>\n",
              "      <th>id</th>\n",
              "      <th>name</th>\n",
              "      <th>year</th>\n",
              "      <th>rank</th>\n",
              "    </tr>\n",
              "  </thead>\n",
              "  <tbody>\n",
              "    <tr>\n",
              "      <th>0</th>\n",
              "      <td>0</td>\n",
              "      <td>#28</td>\n",
              "      <td>2002</td>\n",
              "      <td>NaN</td>\n",
              "    </tr>\n",
              "    <tr>\n",
              "      <th>1</th>\n",
              "      <td>1</td>\n",
              "      <td>#7 Train: An Immigrant Journey, The</td>\n",
              "      <td>2000</td>\n",
              "      <td>NaN</td>\n",
              "    </tr>\n",
              "    <tr>\n",
              "      <th>2</th>\n",
              "      <td>2</td>\n",
              "      <td>$</td>\n",
              "      <td>1971</td>\n",
              "      <td>6.4</td>\n",
              "    </tr>\n",
              "    <tr>\n",
              "      <th>3</th>\n",
              "      <td>3</td>\n",
              "      <td>$1,000 Reward</td>\n",
              "      <td>1913</td>\n",
              "      <td>NaN</td>\n",
              "    </tr>\n",
              "    <tr>\n",
              "      <th>4</th>\n",
              "      <td>4</td>\n",
              "      <td>$1,000 Reward</td>\n",
              "      <td>1915</td>\n",
              "      <td>NaN</td>\n",
              "    </tr>\n",
              "    <tr>\n",
              "      <th>...</th>\n",
              "      <td>...</td>\n",
              "      <td>...</td>\n",
              "      <td>...</td>\n",
              "      <td>...</td>\n",
              "    </tr>\n",
              "    <tr>\n",
              "      <th>91</th>\n",
              "      <td>95</td>\n",
              "      <td>'Cross the Mexican Line</td>\n",
              "      <td>1914</td>\n",
              "      <td>NaN</td>\n",
              "    </tr>\n",
              "    <tr>\n",
              "      <th>92</th>\n",
              "      <td>96</td>\n",
              "      <td>'Den vide verden's billedbog nr. 1</td>\n",
              "      <td>1938</td>\n",
              "      <td>NaN</td>\n",
              "    </tr>\n",
              "    <tr>\n",
              "      <th>93</th>\n",
              "      <td>97</td>\n",
              "      <td>'Deutschland' Leaving New York at Full Speed (...</td>\n",
              "      <td>1902</td>\n",
              "      <td>NaN</td>\n",
              "    </tr>\n",
              "    <tr>\n",
              "      <th>94</th>\n",
              "      <td>98</td>\n",
              "      <td>'Diamond S' Ranch, The</td>\n",
              "      <td>1912</td>\n",
              "      <td>NaN</td>\n",
              "    </tr>\n",
              "    <tr>\n",
              "      <th>95</th>\n",
              "      <td>99</td>\n",
              "      <td>'Dikke Bertha' op doortocht in Brussel</td>\n",
              "      <td>1919</td>\n",
              "      <td>NaN</td>\n",
              "    </tr>\n",
              "  </tbody>\n",
              "</table>\n",
              "<p>96 rows × 4 columns</p>\n",
              "</div>"
            ],
            "text/plain": [
              "    id                                               name  year  rank\n",
              "0    0                                                #28  2002   NaN\n",
              "1    1                #7 Train: An Immigrant Journey, The  2000   NaN\n",
              "2    2                                                  $  1971   6.4\n",
              "3    3                                      $1,000 Reward  1913   NaN\n",
              "4    4                                      $1,000 Reward  1915   NaN\n",
              "..  ..                                                ...   ...   ...\n",
              "91  95                            'Cross the Mexican Line  1914   NaN\n",
              "92  96                 'Den vide verden's billedbog nr. 1  1938   NaN\n",
              "93  97  'Deutschland' Leaving New York at Full Speed (...  1902   NaN\n",
              "94  98                             'Diamond S' Ranch, The  1912   NaN\n",
              "95  99             'Dikke Bertha' op doortocht in Brussel  1919   NaN\n",
              "\n",
              "[96 rows x 4 columns]"
            ]
          },
          "metadata": {
            "tags": []
          },
          "execution_count": 17
        }
      ]
    },
    {
      "cell_type": "markdown",
      "metadata": {
        "id": "PvXf5x8ivLQk"
      },
      "source": [
        "#### Find all information about movies that were released before 1895 (excl)"
      ]
    },
    {
      "cell_type": "code",
      "metadata": {
        "colab": {
          "base_uri": "https://localhost:8080/",
          "height": 442
        },
        "id": "LpjQFdgFvLQk",
        "outputId": "a14d98ce-2c64-42f4-a5a4-2e6e45c3a281"
      },
      "source": [
        "%%read_sql\n",
        "SELECT *\n",
        "FROM movies \n",
        "WHERE year<1895"
      ],
      "execution_count": 18,
      "outputs": [
        {
          "output_type": "stream",
          "text": [
            "Query started at 11:56:51 PM UTC; Query executed in 0.01 m"
          ],
          "name": "stdout"
        },
        {
          "output_type": "execute_result",
          "data": {
            "text/html": [
              "<div>\n",
              "<style scoped>\n",
              "    .dataframe tbody tr th:only-of-type {\n",
              "        vertical-align: middle;\n",
              "    }\n",
              "\n",
              "    .dataframe tbody tr th {\n",
              "        vertical-align: top;\n",
              "    }\n",
              "\n",
              "    .dataframe thead th {\n",
              "        text-align: right;\n",
              "    }\n",
              "</style>\n",
              "<table border=\"1\" class=\"dataframe\">\n",
              "  <thead>\n",
              "    <tr style=\"text-align: right;\">\n",
              "      <th></th>\n",
              "      <th>id</th>\n",
              "      <th>name</th>\n",
              "      <th>year</th>\n",
              "      <th>rank</th>\n",
              "    </tr>\n",
              "  </thead>\n",
              "  <tbody>\n",
              "    <tr>\n",
              "      <th>0</th>\n",
              "      <td>13261</td>\n",
              "      <td>Amateur Gymnast, No. 2</td>\n",
              "      <td>1894</td>\n",
              "      <td>NaN</td>\n",
              "    </tr>\n",
              "    <tr>\n",
              "      <th>1</th>\n",
              "      <td>17623</td>\n",
              "      <td>Annabelle Butterfly Dance</td>\n",
              "      <td>1894</td>\n",
              "      <td>5.3</td>\n",
              "    </tr>\n",
              "    <tr>\n",
              "      <th>2</th>\n",
              "      <td>17627</td>\n",
              "      <td>Annabelle Serpentine Dance</td>\n",
              "      <td>1894</td>\n",
              "      <td>6.1</td>\n",
              "    </tr>\n",
              "    <tr>\n",
              "      <th>3</th>\n",
              "      <td>17628</td>\n",
              "      <td>Annabelle Sun Dance</td>\n",
              "      <td>1894</td>\n",
              "      <td>NaN</td>\n",
              "    </tr>\n",
              "    <tr>\n",
              "      <th>4</th>\n",
              "      <td>17770</td>\n",
              "      <td>Annie Oakley</td>\n",
              "      <td>1894</td>\n",
              "      <td>4.9</td>\n",
              "    </tr>\n",
              "    <tr>\n",
              "      <th>...</th>\n",
              "      <td>...</td>\n",
              "      <td>...</td>\n",
              "      <td>...</td>\n",
              "      <td>...</td>\n",
              "    </tr>\n",
              "    <tr>\n",
              "      <th>76</th>\n",
              "      <td>363640</td>\n",
              "      <td>Whirlwind Gun Spinning</td>\n",
              "      <td>1894</td>\n",
              "      <td>NaN</td>\n",
              "    </tr>\n",
              "    <tr>\n",
              "      <th>77</th>\n",
              "      <td>364791</td>\n",
              "      <td>Widder, The</td>\n",
              "      <td>1894</td>\n",
              "      <td>NaN</td>\n",
              "    </tr>\n",
              "    <tr>\n",
              "      <th>78</th>\n",
              "      <td>368839</td>\n",
              "      <td>Wrestling</td>\n",
              "      <td>1892</td>\n",
              "      <td>2.0</td>\n",
              "    </tr>\n",
              "    <tr>\n",
              "      <th>79</th>\n",
              "      <td>368852</td>\n",
              "      <td>Wrestling Dog, The</td>\n",
              "      <td>1894</td>\n",
              "      <td>NaN</td>\n",
              "    </tr>\n",
              "    <tr>\n",
              "      <th>80</th>\n",
              "      <td>368854</td>\n",
              "      <td>Wrestling Match</td>\n",
              "      <td>1894</td>\n",
              "      <td>NaN</td>\n",
              "    </tr>\n",
              "  </tbody>\n",
              "</table>\n",
              "<p>81 rows × 4 columns</p>\n",
              "</div>"
            ],
            "text/plain": [
              "        id                        name  year  rank\n",
              "0    13261      Amateur Gymnast, No. 2  1894   NaN\n",
              "1    17623   Annabelle Butterfly Dance  1894   5.3\n",
              "2    17627  Annabelle Serpentine Dance  1894   6.1\n",
              "3    17628         Annabelle Sun Dance  1894   NaN\n",
              "4    17770                Annie Oakley  1894   4.9\n",
              "..     ...                         ...   ...   ...\n",
              "76  363640      Whirlwind Gun Spinning  1894   NaN\n",
              "77  364791                 Widder, The  1894   NaN\n",
              "78  368839                   Wrestling  1892   2.0\n",
              "79  368852          Wrestling Dog, The  1894   NaN\n",
              "80  368854             Wrestling Match  1894   NaN\n",
              "\n",
              "[81 rows x 4 columns]"
            ]
          },
          "metadata": {
            "tags": []
          },
          "execution_count": 18
        }
      ]
    },
    {
      "cell_type": "markdown",
      "metadata": {
        "id": "uDrMP9pavLQl"
      },
      "source": [
        "#### Find all information about movies that were released before 1895 and after 2006 (inclusive)"
      ]
    },
    {
      "cell_type": "code",
      "metadata": {
        "id": "eQlX5hoyvLQl"
      },
      "source": [
        "%%read_sql\n",
        "SELECT *\n",
        "FROM movies \n",
        "WHERE year<=1895 OR year>=2006"
      ],
      "execution_count": null,
      "outputs": []
    },
    {
      "cell_type": "markdown",
      "metadata": {
        "id": "AuOTb32IvLQl"
      },
      "source": [
        "#### Find all information about movies released between 1895 and 1898 (excl)"
      ]
    },
    {
      "cell_type": "code",
      "metadata": {
        "id": "nMeMUpH-vLQl"
      },
      "source": [
        "%%read_sql\n",
        "SELECT *\n",
        "FROM movies \n",
        "WHERE year>1895 AND year<1898"
      ],
      "execution_count": null,
      "outputs": []
    },
    {
      "cell_type": "markdown",
      "metadata": {
        "id": "gp9pMWq3vLQm"
      },
      "source": [
        "#### Find all information about *actresses* who are have first name Skyler"
      ]
    },
    {
      "cell_type": "code",
      "metadata": {
        "id": "eYzvuHRmvLQm"
      },
      "source": [
        "%%read_sql\n",
        "SELECT *\n",
        "FROM actors\n",
        "WHERE first_name = 'Skyler' AND gender = 'F';"
      ],
      "execution_count": null,
      "outputs": []
    },
    {
      "cell_type": "code",
      "metadata": {
        "id": "xjtKmHAEvLQm"
      },
      "source": [
        "%%read_sql\n",
        "select director_id,count(*) as number_of_movies from movies_directors group by director_id having number_of_movies >100;\n"
      ],
      "execution_count": null,
      "outputs": []
    },
    {
      "cell_type": "markdown",
      "metadata": {
        "id": "ACaLgcSvvLQm"
      },
      "source": [
        "#### Find the director ID of Steven Spielberg"
      ]
    },
    {
      "cell_type": "code",
      "metadata": {
        "id": "Ozd0CCh7vLQm"
      },
      "source": [
        "%%read_sql\n",
        "SELECT id\n",
        "FROM directors\n",
        "WHERE first_name = 'Steven' AND last_name = 'Spielberg';"
      ],
      "execution_count": null,
      "outputs": []
    },
    {
      "cell_type": "markdown",
      "metadata": {
        "id": "vAxTDbUpvLQn"
      },
      "source": [
        "#### Find the director IDs and the first and last names of directors with the last name Spielberg and Hitchcock"
      ]
    },
    {
      "cell_type": "code",
      "metadata": {
        "id": "2NPf1Sl5vLQn"
      },
      "source": [
        "%%read_sql\n",
        "SELECT id, first_name, last_name\n",
        "FROM directors\n",
        "WHERE last_name = 'Spielberg' OR last_name = 'Hitchcock';"
      ],
      "execution_count": null,
      "outputs": []
    },
    {
      "cell_type": "markdown",
      "metadata": {
        "id": "tGlNX4sOvLQo"
      },
      "source": [
        "#### Find all genres of films and the corresponding probabilities for the director ID that corresponds to Steven Spielberg. Sort the results by probability."
      ]
    },
    {
      "cell_type": "code",
      "metadata": {
        "id": "jVNuaDxzvLQo"
      },
      "source": [
        "%%read_sql\n",
        "SELECT genre, prob\n",
        "FROM directors_genres\n",
        "WHERE director_id = '75380' # the id of Spielberg FROM above\n",
        "ORDER BY prob DESC"
      ],
      "execution_count": null,
      "outputs": []
    },
    {
      "cell_type": "markdown",
      "metadata": {
        "id": "clOP1qF6vLQo"
      },
      "source": [
        "#### Find the id of the movie Schindler's List."
      ]
    },
    {
      "cell_type": "code",
      "metadata": {
        "id": "QymafZtRvLQo"
      },
      "source": [
        "%%read_sql\n",
        "SELECT *\n",
        "FROM movies\n",
        "WHERE name = \"Schindler's List\""
      ],
      "execution_count": null,
      "outputs": []
    },
    {
      "cell_type": "markdown",
      "metadata": {
        "id": "0xAFjxLAvLQp"
      },
      "source": [
        "#### List all the roles for the movie with id 290070. Sort them alphabetically"
      ]
    },
    {
      "cell_type": "code",
      "metadata": {
        "id": "F3MNWb18vLQp"
      },
      "source": [
        "%%read_sql\n",
        "SELECT *\n",
        "FROM roles\n",
        "WHERE movie_id = '290070'"
      ],
      "execution_count": null,
      "outputs": []
    },
    {
      "cell_type": "markdown",
      "metadata": {
        "id": "-PMcchqyvLQp"
      },
      "source": [
        "### SELECT Queries (Facebook database)"
      ]
    },
    {
      "cell_type": "code",
      "metadata": {
        "id": "2kpXTjXtvLQp"
      },
      "source": [
        "%%read_sql\n",
        "USE facebook"
      ],
      "execution_count": null,
      "outputs": []
    },
    {
      "cell_type": "markdown",
      "metadata": {
        "id": "_rcUiGNwvLQp"
      },
      "source": [
        "#### Find all names of students FROM the Profiles table"
      ]
    },
    {
      "cell_type": "code",
      "metadata": {
        "id": "ZOdpYMfRvLQq"
      },
      "source": [
        "%%read_sql\n",
        "SELECT name\n",
        "FROM Profiles"
      ],
      "execution_count": null,
      "outputs": []
    },
    {
      "cell_type": "markdown",
      "metadata": {
        "id": "eHK-1g7dvLQq"
      },
      "source": [
        "#### Get the names and sex of all liberal students"
      ]
    },
    {
      "cell_type": "code",
      "metadata": {
        "id": "f7lAII9gvLQr"
      },
      "source": [
        "%%read_sql\n",
        "SELECT name, sex\n",
        "FROM Profiles\n",
        "WHERE PoliticalViews ='Liberal'"
      ],
      "execution_count": null,
      "outputs": []
    },
    {
      "cell_type": "markdown",
      "metadata": {
        "id": "FMsBPnP5vLQr"
      },
      "source": [
        "#### Get the High Schools of the students in the database"
      ]
    },
    {
      "cell_type": "code",
      "metadata": {
        "id": "Wf9j2b7DvLQr"
      },
      "source": [
        "%%read_sql\n",
        "SELECT HighSchool\n",
        "FROM Profiles"
      ],
      "execution_count": null,
      "outputs": []
    },
    {
      "cell_type": "markdown",
      "metadata": {
        "id": "wc25pUijvLQr"
      },
      "source": [
        "#### Find all the possible political views, eliminating duplicate entries"
      ]
    },
    {
      "cell_type": "code",
      "metadata": {
        "id": "iP8083m4vLQr"
      },
      "source": [
        "%%read_sql\n",
        "SELECT DISTINCT PoliticalViews\n",
        "FROM Profiles"
      ],
      "execution_count": null,
      "outputs": []
    },
    {
      "cell_type": "markdown",
      "metadata": {
        "id": "r7DyZOLwvLQr"
      },
      "source": [
        "#### Find all possible relationship statuses"
      ]
    },
    {
      "cell_type": "code",
      "metadata": {
        "id": "3_gAXDKbvLQr"
      },
      "source": [
        "%%read_sql\n",
        "SELECT DISTINCT Status\n",
        "FROM Relationship"
      ],
      "execution_count": null,
      "outputs": []
    },
    {
      "cell_type": "markdown",
      "metadata": {
        "id": "vAlENk9UvLQr"
      },
      "source": [
        "#### Find all possible values for the “status” attribute in Profiles "
      ]
    },
    {
      "cell_type": "code",
      "metadata": {
        "id": "0YsX1TJyvLQs"
      },
      "source": [
        "%%read_sql\n",
        "SELECT DISTINCT Status\n",
        "FROM Profiles"
      ],
      "execution_count": null,
      "outputs": []
    },
    {
      "cell_type": "markdown",
      "metadata": {
        "id": "Cpu91gepvLQs"
      },
      "source": [
        "#### Find all possible values for the “Residence” attribute in Profiles, eliminating duplicates"
      ]
    },
    {
      "cell_type": "code",
      "metadata": {
        "id": "lne9sDJjvLQt"
      },
      "source": [
        "%%read_sql\n",
        "SELECT DISTINCT Residence\n",
        "FROM Profiles"
      ],
      "execution_count": null,
      "outputs": []
    },
    {
      "cell_type": "markdown",
      "metadata": {
        "id": "-1DSitVpvLQt"
      },
      "source": [
        "#### Find all students living in Palladium"
      ]
    },
    {
      "cell_type": "code",
      "metadata": {
        "id": "8_6Cb1N9vLQu"
      },
      "source": [
        "%%read_sql\n",
        "SELECT Name, Residence\n",
        "FROM Profiles\n",
        "WHERE Residence LIKE 'Palladium%%'"
      ],
      "execution_count": null,
      "outputs": []
    },
    {
      "cell_type": "markdown",
      "metadata": {
        "id": "4ghM9qdUvLQv"
      },
      "source": [
        "#### Find all students who attended Stuyvesant"
      ]
    },
    {
      "cell_type": "code",
      "metadata": {
        "id": "iWRq7MatvLQv"
      },
      "source": [
        "%%read_sql\n",
        "SELECT *\n",
        "FROM Profiles\n",
        "WHERE HighSchool LIKE 'Stuyvesant%%'"
      ],
      "execution_count": null,
      "outputs": []
    },
    {
      "cell_type": "markdown",
      "metadata": {
        "id": "hnG_TxO1vLQv"
      },
      "source": [
        "#### Find all names that contain a digit"
      ]
    },
    {
      "cell_type": "code",
      "metadata": {
        "id": "6TBS1cPzvLQv"
      },
      "source": [
        "%%read_sql\n",
        "SELECT * \n",
        "FROM Profiles \n",
        "WHERE name REGEXP '[0-9]+'"
      ],
      "execution_count": null,
      "outputs": []
    },
    {
      "cell_type": "markdown",
      "metadata": {
        "id": "KlhXUsC-vLQv"
      },
      "source": [
        "#### Find all students with a name that contains a non-letter character, other than \\- and \\."
      ]
    },
    {
      "cell_type": "code",
      "metadata": {
        "id": "yJoibKijvLQw"
      },
      "source": [
        "%%read_sql\n",
        "SELECT * \n",
        "FROM Profiles \n",
        "WHERE name NOT REGEXP '^[A-z \\-\\.]+$'"
      ],
      "execution_count": null,
      "outputs": []
    },
    {
      "cell_type": "markdown",
      "metadata": {
        "id": "G8HYMk_KvLQx"
      },
      "source": [
        "### Aggregation Queries (IMDB Database)"
      ]
    },
    {
      "cell_type": "code",
      "metadata": {
        "id": "ur6rCV-NvLQx"
      },
      "source": [
        "%%read_sql\n",
        "USE imdb;"
      ],
      "execution_count": null,
      "outputs": []
    },
    {
      "cell_type": "markdown",
      "metadata": {
        "id": "Mc8Ej1_svLQx"
      },
      "source": [
        "#### Number of movies for each director"
      ]
    },
    {
      "cell_type": "code",
      "metadata": {
        "id": "2G22YSJ5vLQx"
      },
      "source": [
        "%%read_sql\n",
        "SELECT director_id, count(*) AS NumberOfMovies\n",
        "FROM movies_directors \n",
        "GROUP BY director_id\n",
        "LIMIT 100;"
      ],
      "execution_count": null,
      "outputs": []
    },
    {
      "cell_type": "markdown",
      "metadata": {
        "id": "hp4ageUJvLQy"
      },
      "source": [
        "#### Rank directors by the number of movies they directed"
      ]
    },
    {
      "cell_type": "code",
      "metadata": {
        "id": "6eZM0X_SvLQy"
      },
      "source": [
        "%%read_sql\n",
        "SELECT director_id, count(*) AS NumberOfMovies\n",
        "FROM movies_directors \n",
        "GROUP BY director_id\n",
        "ORDER BY count(*) desc"
      ],
      "execution_count": null,
      "outputs": []
    },
    {
      "cell_type": "markdown",
      "metadata": {
        "id": "N7ydwGGsvLQy"
      },
      "source": [
        "#### Find the number of actors in each movie"
      ]
    },
    {
      "cell_type": "code",
      "metadata": {
        "id": "_jm0A_MKvLQy"
      },
      "source": [
        "%%read_sql\n",
        "SELECT movie_id, count(*) \n",
        "FROM roles \n",
        "GROUP BY movie_id"
      ],
      "execution_count": null,
      "outputs": []
    },
    {
      "cell_type": "markdown",
      "metadata": {
        "id": "iDuSlGmhvLQy"
      },
      "source": [
        "#### Find the movies with more than 100 actors"
      ]
    },
    {
      "cell_type": "code",
      "metadata": {
        "id": "RFYeyNdnvLQz"
      },
      "source": [
        "%%read_sql\n",
        "SELECT movie_id, count(*) \n",
        "FROM roles \n",
        "GROUP BY movie_id\n",
        "HAVING count(*) > 100;"
      ],
      "execution_count": null,
      "outputs": []
    },
    {
      "cell_type": "markdown",
      "metadata": {
        "id": "mXvfWrSuvLQz"
      },
      "source": [
        "#### Find the most popular genres (basd on the number of movies)"
      ]
    },
    {
      "cell_type": "code",
      "metadata": {
        "id": "TzC9TopovLQz"
      },
      "source": [
        "%%read_sql\n",
        "SELECT genre, count(*) \n",
        "FROM movies_genres\n",
        "GROUP BY genre\n",
        "ORDER BY count(*) desc"
      ],
      "execution_count": null,
      "outputs": []
    },
    {
      "cell_type": "markdown",
      "metadata": {
        "id": "62NYA-0TvLQ0"
      },
      "source": [
        "#### Find the average rank of the movies in the database, per year of release"
      ]
    },
    {
      "cell_type": "code",
      "metadata": {
        "id": "cpKVWGT0vLQ0"
      },
      "source": [
        "%%read_sql\n",
        "SELECT year, avg(rank) \n",
        "FROM movies\n",
        "GROUP BY year"
      ],
      "execution_count": null,
      "outputs": []
    },
    {
      "cell_type": "markdown",
      "metadata": {
        "id": "-Ebc4LdJvLQ0"
      },
      "source": [
        "### Aggregation Queries (Facebook database)"
      ]
    },
    {
      "cell_type": "code",
      "metadata": {
        "id": "sER7CV8yvLQ0"
      },
      "source": [
        "%%read_sql\n",
        "USE facebook"
      ],
      "execution_count": null,
      "outputs": []
    },
    {
      "cell_type": "markdown",
      "metadata": {
        "id": "igULTBL7vLQ1"
      },
      "source": [
        "#### List the number of males and females"
      ]
    },
    {
      "cell_type": "code",
      "metadata": {
        "id": "DuLymE-0vLQ1"
      },
      "source": [
        "%%read_sql\n",
        "SELECT sex, count(*) \n",
        "FROM Profiles \n",
        "GROUP BY sex"
      ],
      "execution_count": null,
      "outputs": []
    },
    {
      "cell_type": "markdown",
      "metadata": {
        "id": "KRze_-4UvLQ1"
      },
      "source": [
        "#### List the number of students for each political view"
      ]
    },
    {
      "cell_type": "code",
      "metadata": {
        "id": "5ParEFXVvLQ1"
      },
      "source": [
        "%%read_sql\n",
        "SELECT PoliticalViews, count(*) \n",
        "FROM Profiles \n",
        "GROUP BY PoliticalViews"
      ],
      "execution_count": null,
      "outputs": []
    },
    {
      "cell_type": "markdown",
      "metadata": {
        "id": "-BvlJUcuvLQ2"
      },
      "source": [
        "#### List the number of males and female students for each political view"
      ]
    },
    {
      "cell_type": "code",
      "metadata": {
        "id": "NdSmTFLvvLQ2"
      },
      "source": [
        "%%read_sql\n",
        "SELECT Sex, PoliticalViews, count(*) \n",
        "FROM Profiles \n",
        "WHERE Sex is not null and PoliticalViews is not null\n",
        "GROUP BY Sex, PoliticalViews"
      ],
      "execution_count": null,
      "outputs": []
    },
    {
      "cell_type": "markdown",
      "metadata": {
        "id": "hT96FpL-vLQ2"
      },
      "source": [
        "#### List the number of students per each birth year: Use the Year(date) function to get the year value FROM a dateime column List only years that have at least 10 students"
      ]
    },
    {
      "cell_type": "code",
      "metadata": {
        "id": "bNEPNwx6vLQ2"
      },
      "source": [
        "%%read_sql\n",
        "SELECT YEAR(birthday), count(*) \n",
        "FROM Profiles \n",
        "WHERE birthday is not null\n",
        "GROUP BY YEAR(birthday)\n",
        "HAVING count(*) > 10"
      ],
      "execution_count": null,
      "outputs": []
    },
    {
      "cell_type": "markdown",
      "metadata": {
        "id": "HlKITbTtvLQ2"
      },
      "source": [
        "#### Find the most popular tv shows and books"
      ]
    },
    {
      "cell_type": "code",
      "metadata": {
        "id": "7R33hXdVvLQ3"
      },
      "source": [
        "%%read_sql\n",
        "SELECT TVShow, count(*) \n",
        "FROM FavoriteTVShows \n",
        "WHERE TVShow is not null \n",
        "GROUP BY TVShow\n",
        "ORDER BY count(*) desc"
      ],
      "execution_count": null,
      "outputs": []
    },
    {
      "cell_type": "code",
      "metadata": {
        "id": "VUlJyx6evLQ3"
      },
      "source": [
        "%%read_sql\n",
        "SELECT Book, count(*) \n",
        "FROM FavoriteBooks\n",
        "WHERE Book is not null \n",
        "GROUP BY Book\n",
        "ORDER BY count(*) desc"
      ],
      "execution_count": null,
      "outputs": []
    },
    {
      "cell_type": "markdown",
      "metadata": {
        "id": "vSlEywtqvLQ4"
      },
      "source": [
        "#### Find the number of students in various relationship statuses"
      ]
    },
    {
      "cell_type": "code",
      "metadata": {
        "id": "26Tz8zyFvLQ4"
      },
      "source": [
        "%%read_sql\n",
        "SELECT Status, count(*) \n",
        "FROM Relationship\n",
        "GROUP BY Status"
      ],
      "execution_count": null,
      "outputs": []
    },
    {
      "cell_type": "markdown",
      "metadata": {
        "id": "sAvSdnHmvLQ4"
      },
      "source": [
        "#### Find the most popular majors (concentrations)"
      ]
    },
    {
      "cell_type": "code",
      "metadata": {
        "id": "nVHnTJaavLQ4"
      },
      "source": [
        "%%read_sql\n",
        "SELECT Concentration,count(*) FROM Concentration\n",
        "WHERE Concentration is not null\n",
        "GROUP BY Concentration\n",
        "ORDER BY count(*) desc;"
      ],
      "execution_count": null,
      "outputs": []
    },
    {
      "cell_type": "markdown",
      "metadata": {
        "id": "4jf7o3PfvLQ5"
      },
      "source": [
        "### JOINS"
      ]
    },
    {
      "cell_type": "code",
      "metadata": {
        "id": "OZIBtROgvLQ5"
      },
      "source": [
        "%%read_sql\n",
        "USE imdb"
      ],
      "execution_count": null,
      "outputs": []
    },
    {
      "cell_type": "code",
      "metadata": {
        "id": "DejwKkQ1vLQ5"
      },
      "source": [
        "%%read_sql\n",
        "# List all the movies from year 2000\n",
        "SELECT *\n",
        "FROM movies M\n",
        "WHERE M.year = 2000;"
      ],
      "execution_count": null,
      "outputs": []
    },
    {
      "cell_type": "markdown",
      "metadata": {
        "id": "dblLDIeyvLQ5"
      },
      "source": [
        "#### List all the movies from year 2000 and their genres"
      ]
    },
    {
      "cell_type": "code",
      "metadata": {
        "id": "6CJ80f0uvLQ6"
      },
      "source": [
        "%%read_sql\n",
        "SELECT *\n",
        "FROM movies M INNER JOIN movies_genres MG ON M.id=MG.movie_id\n",
        "WHERE M.year = 2000;"
      ],
      "execution_count": null,
      "outputs": []
    },
    {
      "cell_type": "markdown",
      "metadata": {
        "id": "4RkPAYrBvLQ7"
      },
      "source": [
        "#### List all the Drama movies from year 2000"
      ]
    },
    {
      "cell_type": "code",
      "metadata": {
        "id": "zrJ-z4F8vLQ7"
      },
      "source": [
        "%%read_sql\n",
        "\n",
        "SELECT *\n",
        "FROM movies M INNER JOIN movies_genres MG ON M.id=MG.movie_id\n",
        "WHERE M.year = 2000 AND MG.genre = 'Drama';"
      ],
      "execution_count": null,
      "outputs": []
    },
    {
      "cell_type": "markdown",
      "metadata": {
        "id": "PJRWbMHTvLQ7"
      },
      "source": [
        "#### List all the movies from year 2000 and their average rating broken down by genre"
      ]
    },
    {
      "cell_type": "code",
      "metadata": {
        "id": "yxUTOysdvLQ7"
      },
      "source": [
        "%%read_sql\n",
        "SELECT AVG(M.rank), MG.genre\n",
        "FROM movies M INNER JOIN movies_genres MG ON M.id=MG.movie_id\n",
        "WHERE M.year = 2000\n",
        "GROUP BY MG.genre;"
      ],
      "execution_count": null,
      "outputs": []
    },
    {
      "cell_type": "code",
      "metadata": {
        "id": "nBu6HsSnvLQ7"
      },
      "source": [
        "%%read_sql\n",
        "# List the average ratings for the movies broken down by genre\n",
        "SELECT AVG(M.rank) AS avg_rating, MG.genre\n",
        "FROM movies M INNER JOIN movies_genres MG ON M.id=MG.movie_id\n",
        "GROUP BY MG.genre\n",
        "ORDER BY avg_rating DESC"
      ],
      "execution_count": null,
      "outputs": []
    },
    {
      "cell_type": "code",
      "metadata": {
        "id": "B2DGGEuvvLQ9"
      },
      "source": [
        "%%read_sql\n",
        "SELECT distinct a.first_name, a.last_name \n",
        "FROM actors a INNER JOIN roles r ON a.id = r.actor_id\n",
        "    INNER JOIN movies_directors md ON r.movie_id = md.movie_id\n",
        "    INNER JOIN directors d ON d.id = md.director_id\n",
        "WHERE d.first_name = 'Steven' and d.last_name='Spielberg'; "
      ],
      "execution_count": null,
      "outputs": []
    },
    {
      "cell_type": "markdown",
      "metadata": {
        "id": "22fV66M3vLQ9"
      },
      "source": [
        "#### List all the actors that worked with Steven Spielberg"
      ]
    },
    {
      "cell_type": "markdown",
      "metadata": {
        "id": "KyvVk1VOvLQ9"
      },
      "source": [
        "#### Compute the average rank for the movies direcred by steven spielberg"
      ]
    },
    {
      "cell_type": "code",
      "metadata": {
        "id": "2quMKT5DvLQ9"
      },
      "source": [
        "%%read_sql\n",
        "SELECT avg(rank) \n",
        "FROM movies m \n",
        "    INNER JOIN movies_directors md ON m.id = md.movie_id\n",
        "    INNER JOIN directors d ON d.id = md.director_id\n",
        "WHERE d.first_name = 'Steven' and d.last_name='Spielberg'; \n"
      ],
      "execution_count": null,
      "outputs": []
    },
    {
      "cell_type": "markdown",
      "metadata": {
        "id": "DI5sB9YCvLQ9"
      },
      "source": [
        "#### List the movies of Brad Pitt - exclude those that he plays himself"
      ]
    },
    {
      "cell_type": "code",
      "metadata": {
        "id": "Yn5Z5BZZvLQ9"
      },
      "source": [
        "%%read_sql\n",
        "SELECT m.name \n",
        "FROM movies m \n",
        "    INNER JOIN roles r on m.id = r.movie_id \n",
        "    INNER JOIN actors a on r.actor_id = a.id\n",
        "WHERE r.role not like '%%Himself%%' and a.first_name = 'Brad' and a.last_name = 'Pitt' "
      ],
      "execution_count": null,
      "outputs": []
    },
    {
      "cell_type": "markdown",
      "metadata": {
        "id": "iOZUpI4nvLQ-"
      },
      "source": [
        "#### Average rank of Brad Pitt's movies"
      ]
    },
    {
      "cell_type": "code",
      "metadata": {
        "id": "yWc0TiP3vLQ-"
      },
      "source": [
        "%%read_sql\n",
        "SELECT avg(rank) \n",
        "FROM movies m \n",
        "    INNER JOIN roles r on m.id = r.movie_id \n",
        "    INNER JOIN actors a on r.actor_id = a.id\n",
        "WHERE r.role not like '%%Himself%%' and a.first_name = 'Brad' and a.last_name = 'Pitt' \n",
        "\n"
      ],
      "execution_count": null,
      "outputs": []
    },
    {
      "cell_type": "markdown",
      "metadata": {
        "id": "fd___NIyvLQ-"
      },
      "source": [
        "#### List the genre of the movies where Sean Connery appears, and rank them in descending order by count"
      ]
    },
    {
      "cell_type": "code",
      "metadata": {
        "id": "rVP4IDm7vLQ_"
      },
      "source": [
        "%%read_sql\n",
        "SELECT mg.genre, count(*) \n",
        "FROM movies_genres mg \n",
        "    INNER JOIN movies m ON m.id =mg.movie_id\n",
        "    INNER JOIN roles r ON m.id = r.movie_id \n",
        "    INNER JOIN actors a ON r.actor_id = a.id\n",
        "WHERE r.role not like '%%Himself%%' and a.first_name = 'Sean' and a.last_name = 'Connery'\n",
        "GROUP BY genre\n",
        "ORDER BY count(*) desc\n",
        "\n"
      ],
      "execution_count": null,
      "outputs": []
    },
    {
      "cell_type": "markdown",
      "metadata": {
        "id": "suqUIAAovLQ_"
      },
      "source": [
        "#### Compute the average rank for the movies of each actor and rank the actors in descending order based on that rank. List only actors with at least 20 rated movies."
      ]
    },
    {
      "cell_type": "code",
      "metadata": {
        "id": "d55MWlTgvLQ_"
      },
      "source": [
        "%%read_sql\n",
        "SELECT a.*, avg(rank) as avg_rating, count(m.id) as num_movies, count(m.rank) as rated_movies\n",
        "FROM movies m \n",
        "    INNER JOIN roles r on m.id = r.movie_id \n",
        "    INNER JOIN actors a ON a.id = r.actor_id\n",
        "GROUP BY a.id\n",
        "HAVING count(m.rank)>=20\n",
        "ORDER BY avg(rank) desc"
      ],
      "execution_count": null,
      "outputs": []
    },
    {
      "cell_type": "markdown",
      "metadata": {
        "id": "iNfYjX9FvLQ_"
      },
      "source": [
        "### Subqueries"
      ]
    },
    {
      "cell_type": "markdown",
      "metadata": {
        "id": "b2D-vGmMvLQ_"
      },
      "source": [
        "#### List all the actors that have not worked with Francis Ford Coppola. "
      ]
    },
    {
      "cell_type": "code",
      "metadata": {
        "id": "ARGsla0fvLQ_"
      },
      "source": [
        "%%read_sql \n",
        "SELECT * \n",
        "FROM actors \n",
        "WHERE id NOT IN (\n",
        "    SELECT DISTINCT R.actor_id\n",
        "    FROM roles R \n",
        "        INNER JOIN movies_directors MD ON R.movie_id=MD.movie_id\n",
        "        INNER JOIN directors D ON MD.director_id=D.id \n",
        "    WHERE D.first_name = 'Francis Ford' and D.last_name = 'Coppola'\n",
        ")"
      ],
      "execution_count": null,
      "outputs": []
    },
    {
      "cell_type": "markdown",
      "metadata": {
        "id": "RUZANUGbvLQ_"
      },
      "source": [
        "#### Find the average number of movies directed by each director "
      ]
    },
    {
      "cell_type": "code",
      "metadata": {
        "id": "9YMzcbGRvLRA"
      },
      "source": [
        "%%read_sql\n",
        "SELECT avg(noMovies)\n",
        "FROM \n",
        "    (\n",
        "    SELECT director_id, count(*) as noMovies \n",
        "    FROM movies_directors dm \n",
        "    GROUP BY director_id\n",
        "    ) r;"
      ],
      "execution_count": null,
      "outputs": []
    },
    {
      "cell_type": "markdown",
      "metadata": {
        "id": "ISv7_m5DvLRA"
      },
      "source": [
        "#### Report how many directors have directed one movie, two movies, three movies, etc. (in other words, create a the distribution for the variable \"number of movies directed by a given director\")"
      ]
    },
    {
      "cell_type": "code",
      "metadata": {
        "id": "C8xP0yNDvLRA"
      },
      "source": [
        "%%read_sql\n",
        "SELECT NumMovies, COUNT(director_id) as NumDirectors\n",
        "FROM \n",
        "    (\n",
        "    SELECT director_id, count(*) as NumMovies \n",
        "    FROM movies_directors dm \n",
        "    GROUP BY director_id\n",
        "    ) r\n",
        "GROUP BY NumMovies\n",
        "ORDER BY NumMovies;"
      ],
      "execution_count": null,
      "outputs": []
    },
    {
      "cell_type": "markdown",
      "metadata": {
        "id": "o4IyCKP1vLRA"
      },
      "source": [
        "#### Find the average number of movies played by each actor"
      ]
    },
    {
      "cell_type": "code",
      "metadata": {
        "id": "kb-Ulm3FvLRA"
      },
      "source": [
        "%%read_sql\n",
        "SELECT avg(noMovies) \n",
        "FROM\n",
        "(\n",
        "SELECT actor_id, count(distinct movie_id) as noMovies \n",
        "FROM roles \n",
        "GROUP BY actor_id\n",
        ") r;"
      ],
      "execution_count": null,
      "outputs": []
    },
    {
      "cell_type": "code",
      "metadata": {
        "id": "S7p0L8hfvLRA"
      },
      "source": [
        "%%read_sql\n",
        "SELECT NumMovies, COUNT(actor_id) as NumActors\n",
        "FROM \n",
        "    (\n",
        "    SELECT actor_id, count(*) as NumMovies \n",
        "    FROM roles r \n",
        "    GROUP BY actor_id\n",
        "    ) r\n",
        "GROUP BY NumMovies\n",
        "ORDER BY NumMovies;"
      ],
      "execution_count": null,
      "outputs": []
    },
    {
      "cell_type": "markdown",
      "metadata": {
        "id": "VJLsLnpOvLRA"
      },
      "source": [
        "#### Find the maximum number of genres associated with a movie"
      ]
    },
    {
      "cell_type": "code",
      "metadata": {
        "id": "HENfZ9ZwvLRA"
      },
      "source": [
        "%%read_sql\n",
        "SELECT max(noGenres) FROM (\n",
        "SELECT count(*) as noGenres\n",
        "FROM movies_genres\n",
        "GROUP BY movie_id) r;"
      ],
      "execution_count": null,
      "outputs": []
    },
    {
      "cell_type": "code",
      "metadata": {
        "id": "rC55WJ3dvLRB"
      },
      "source": [
        "%%read_sql\n",
        "SELECT max(noMovies)FROM (\n",
        "SELECT count(*) as noMovies, director_id as director\n",
        "FROM movies_directors\n",
        "GROUP BY director_id\n",
        ") r;"
      ],
      "execution_count": null,
      "outputs": []
    },
    {
      "cell_type": "code",
      "metadata": {
        "id": "eWioafU_vLRB"
      },
      "source": [
        "%%read_sql\n",
        "SELECT count(*) as noMovies, director_id as director\n",
        "FROM movies_directors\n",
        "GROUP BY director_id\n",
        ";"
      ],
      "execution_count": null,
      "outputs": []
    },
    {
      "cell_type": "markdown",
      "metadata": {
        "id": "qtZp9Y9ivLRB"
      },
      "source": [
        "#### Compare the favorite books of liberal and conservative students"
      ]
    },
    {
      "cell_type": "code",
      "metadata": {
        "id": "93j0qr8uvLRB"
      },
      "source": [
        "%%read_sql\n",
        "\n",
        "USE facebook;\n",
        "\n",
        "SELECT BC.Book, \n",
        "    BC.C AS cons,\n",
        "    BL.L AS libs,\n",
        "    BC.C/C.NC AS perc_cons, \n",
        "    BL.L/L.NL AS perc_libs,\n",
        "    (BC.C/C.NC)/(BL.L/L.NL) AS lift_cons,\n",
        "    (BL.L/L.NL)/(BC.C/C.NC) AS lift_libs\n",
        "FROM \n",
        "    (\n",
        "    SELECT B.Book, COUNT(P.ProfileID) AS C\n",
        "    FROM Profiles AS P \n",
        "        INNER JOIN FavoriteBooks AS B ON P.ProfileID = B.ProfileId\n",
        "    WHERE PoliticalViews = 'Conservative'\n",
        "    GROUP BY B.Book\n",
        "    ) BC \n",
        "JOIN \n",
        "    (\n",
        "    SELECT B.Book, COUNT(P.ProfileID) AS L\n",
        "    FROM Profiles AS P \n",
        "        INNER JOIN FavoriteBooks AS B ON P.ProfileID = B.ProfileId\n",
        "    WHERE PoliticalViews = 'Liberal'\n",
        "    GROUP BY B.Book\n",
        "    ) BL ON BC.Book = BL.Book \n",
        "JOIN\n",
        "    (\n",
        "    SELECT COUNT(*) AS NC \n",
        "    FROM Profiles \n",
        "    WHERE PoliticalViews = 'Conservative'\n",
        "    ) C \n",
        "JOIN \n",
        "    (\n",
        "    SELECT COUNT(*) AS NL\n",
        "    FROM Profiles \n",
        "    WHERE PoliticalViews = 'Liberal'\n",
        "    ) L\n",
        "WHERE BC.C > 5 AND BL.L > 5\n",
        "ORDER BY lift_cons DESC\n",
        "\n"
      ],
      "execution_count": null,
      "outputs": []
    },
    {
      "cell_type": "code",
      "metadata": {
        "id": "9IHjW4JIvLRC"
      },
      "source": [
        ""
      ],
      "execution_count": null,
      "outputs": []
    },
    {
      "cell_type": "code",
      "metadata": {
        "id": "hszQm_eDvLRC"
      },
      "source": [
        ""
      ],
      "execution_count": null,
      "outputs": []
    },
    {
      "cell_type": "code",
      "metadata": {
        "id": "_5GSSXpGvLRC"
      },
      "source": [
        ""
      ],
      "execution_count": null,
      "outputs": []
    },
    {
      "cell_type": "code",
      "metadata": {
        "id": "HPdWQo7NvLRC"
      },
      "source": [
        ""
      ],
      "execution_count": null,
      "outputs": []
    }
  ]
}